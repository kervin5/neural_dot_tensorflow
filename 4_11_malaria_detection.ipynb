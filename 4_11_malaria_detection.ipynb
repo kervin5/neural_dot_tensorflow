{
 "cells": [
  {
   "cell_type": "code",
   "execution_count": 1,
   "metadata": {},
   "outputs": [
    {
     "name": "stderr",
     "output_type": "stream",
     "text": [
      "2024-04-14 03:27:37.685446: I tensorflow/core/platform/cpu_feature_guard.cc:182] This TensorFlow binary is optimized to use available CPU instructions in performance-critical operations.\n",
      "To enable the following instructions: SSE4.1 SSE4.2 AVX AVX2 AVX512F AVX512_VNNI AVX512_BF16 FMA, in other operations, rebuild TensorFlow with the appropriate compiler flags.\n"
     ]
    }
   ],
   "source": [
    "import tensorflow as tf\n",
    "import numpy as np\n",
    "import matplotlib.pyplot as plt\n",
    "import tensorflow_datasets as tfds\n",
    "from keras.layers import InputLayer, Dense, Conv2D, MaxPool2D, Flatten, BatchNormalization, Input, Layer, RandomFlip, RandomRotation, Dropout\n",
    "from keras.models import Model\n",
    "from keras.metrics import BinaryAccuracy, FalsePositives, FalseNegatives, TruePositives, TrueNegatives, Precision, Recall, AUC\n",
    "from sklearn.metrics import confusion_matrix, roc_curve\n",
    "from keras.callbacks import Callback, CSVLogger, EarlyStopping, LearningRateScheduler, ModelCheckpoint, ReduceLROnPlateau\n",
    "from keras.regularizers  import L2\n",
    "import seaborn as sns\n",
    "import wandb \n",
    "from wandb.keras import WandbCallback\n",
    "import os"
   ]
  },
  {
   "cell_type": "code",
   "execution_count": 2,
   "metadata": {},
   "outputs": [
    {
     "name": "stdout",
     "output_type": "stream",
     "text": [
      "4_11_malaria_detection.ipynb\n"
     ]
    }
   ],
   "source": [
    "os.environ['WANDB_NOTEBOOK_NAME'] = \"4_11_malaria_detection.ipynb\"\n",
    "print(os.environ['WANDB_NOTEBOOK_NAME'])"
   ]
  },
  {
   "cell_type": "markdown",
   "metadata": {},
   "source": [
    "## Wandb install and login"
   ]
  },
  {
   "cell_type": "code",
   "execution_count": 3,
   "metadata": {},
   "outputs": [
    {
     "name": "stderr",
     "output_type": "stream",
     "text": [
      "wandb: Appending key for api.wandb.ai to your netrc file: /home/kervin/.netrc\n"
     ]
    }
   ],
   "source": [
    "%%bash\n",
    "# pip install wandb\n",
    "wandb login 8f3b38be2bb218efc0dae18a776cae17e897a2d5\n"
   ]
  },
  {
   "cell_type": "code",
   "execution_count": 4,
   "metadata": {},
   "outputs": [
    {
     "name": "stderr",
     "output_type": "stream",
     "text": [
      "wandb: Currently logged in as: kervin5. Use `wandb login --relogin` to force relogin\n"
     ]
    }
   ],
   "source": [
    "%%bash\n",
    "\n",
    "wandb login"
   ]
  },
  {
   "cell_type": "code",
   "execution_count": 5,
   "metadata": {},
   "outputs": [],
   "source": [
    "%%bash\n",
    "BROWSER=google-chrome-stable"
   ]
  },
  {
   "cell_type": "code",
   "execution_count": 6,
   "metadata": {},
   "outputs": [],
   "source": [
    "# wandb.init(project=\"Malaria-Detection\", entity=\"kervin5\")\n",
    "WANDB_CONFIG = {\n",
    "    \"learning_rate\": 0.001,\n",
    "    \"epochs\": 3,\n",
    "    \"batch_size\": 128,\n",
    "    \"dropout\": 0.0,\n",
    "    \"im_size\": 224,\n",
    "    \"regularization_rate\": 0.0,\n",
    "    \"n_filters\": 6,\n",
    "    \"kernel_size\": 3,\n",
    "    \"n_strides\": 1,\n",
    "    \"pool_size\": 2,\n",
    "    \"n_dense_1\": 128,\n",
    "    \"n_dense_2\": 64,\n",
    "}"
   ]
  },
  {
   "cell_type": "code",
   "execution_count": 7,
   "metadata": {},
   "outputs": [],
   "source": [
    "wandb.config = WANDB_CONFIG"
   ]
  },
  {
   "cell_type": "markdown",
   "metadata": {},
   "source": [
    "## Data Preparation"
   ]
  },
  {
   "cell_type": "markdown",
   "metadata": {},
   "source": [
    "### Dataset versioning"
   ]
  },
  {
   "cell_type": "code",
   "execution_count": 8,
   "metadata": {},
   "outputs": [
    {
     "name": "stderr",
     "output_type": "stream",
     "text": [
      "2024-04-14 03:27:44.331837: W tensorflow/tsl/platform/cloud/google_auth_provider.cc:184] All attempts to get a Google authentication bearer token failed, returning an empty token. Retrieving token from files failed with \"NOT_FOUND: Could not locate the credentials file.\". Retrieving token from GCE failed with \"FAILED_PRECONDITION: Error executing an HTTP request: libcurl code 6 meaning 'Couldn't resolve host name', error details: Could not resolve host: metadata.google.internal\".\n"
     ]
    },
    {
     "name": "stdout",
     "output_type": "stream",
     "text": [
      "\u001b[1mDownloading and preparing dataset 337.08 MiB (download: 337.08 MiB, generated: Unknown size, total: 337.08 MiB) to /home/kervin/tensorflow_datasets/malaria/1.0.0...\u001b[0m\n"
     ]
    },
    {
     "data": {
      "application/vnd.jupyter.widget-view+json": {
       "model_id": "e3886279b6954321a4f855cec58da3be",
       "version_major": 2,
       "version_minor": 0
      },
      "text/plain": [
       "Dl Completed...: 0 url [00:00, ? url/s]"
      ]
     },
     "metadata": {},
     "output_type": "display_data"
    },
    {
     "data": {
      "application/vnd.jupyter.widget-view+json": {
       "model_id": "bc3d011bb0b44895b2e59be2418f4f1e",
       "version_major": 2,
       "version_minor": 0
      },
      "text/plain": [
       "Dl Size...: 0 MiB [00:00, ? MiB/s]"
      ]
     },
     "metadata": {},
     "output_type": "display_data"
    },
    {
     "data": {
      "application/vnd.jupyter.widget-view+json": {
       "model_id": "48fd704fdc3746778091ce79a759d6b7",
       "version_major": 2,
       "version_minor": 0
      },
      "text/plain": [
       "Extraction completed...: 0 file [00:00, ? file/s]"
      ]
     },
     "metadata": {},
     "output_type": "display_data"
    },
    {
     "data": {
      "application/vnd.jupyter.widget-view+json": {
       "model_id": "eb4f1aa7087d4de395a5149c7922fb1e",
       "version_major": 2,
       "version_minor": 0
      },
      "text/plain": [
       "Generating splits...:   0%|          | 0/1 [00:00<?, ? splits/s]"
      ]
     },
     "metadata": {},
     "output_type": "display_data"
    },
    {
     "data": {
      "application/vnd.jupyter.widget-view+json": {
       "model_id": "3bb94e5d6d5f48398c0d585c95b7c9a7",
       "version_major": 2,
       "version_minor": 0
      },
      "text/plain": [
       "Generating train examples...:   0%|          | 0/27558 [00:00<?, ? examples/s]"
      ]
     },
     "metadata": {},
     "output_type": "display_data"
    },
    {
     "data": {
      "application/vnd.jupyter.widget-view+json": {
       "model_id": "a1d4dc0d673d420fbe4d17c66a1bdd60",
       "version_major": 2,
       "version_minor": 0
      },
      "text/plain": [
       "Shuffling /home/kervin/tensorflow_datasets/malaria/1.0.0.incompleteQRG6C9/malaria-train.tfrecord*...:   0%|   …"
      ]
     },
     "metadata": {},
     "output_type": "display_data"
    },
    {
     "name": "stdout",
     "output_type": "stream",
     "text": [
      "\u001b[1mDataset malaria downloaded and prepared to /home/kervin/tensorflow_datasets/malaria/1.0.0. Subsequent calls will reuse this data.\u001b[0m\n"
     ]
    },
    {
     "name": "stderr",
     "output_type": "stream",
     "text": [
      "2024-04-14 03:28:19.152320: I tensorflow/compiler/xla/stream_executor/cuda/cuda_gpu_executor.cc:995] successful NUMA node read from SysFS had negative value (-1), but there must be at least one NUMA node, so returning NUMA node zero. See more at https://github.com/torvalds/linux/blob/v6.0/Documentation/ABI/testing/sysfs-bus-pci#L344-L355\n",
      "2024-04-14 03:28:19.169284: I tensorflow/compiler/xla/stream_executor/cuda/cuda_gpu_executor.cc:995] successful NUMA node read from SysFS had negative value (-1), but there must be at least one NUMA node, so returning NUMA node zero. See more at https://github.com/torvalds/linux/blob/v6.0/Documentation/ABI/testing/sysfs-bus-pci#L344-L355\n",
      "2024-04-14 03:28:19.169458: I tensorflow/compiler/xla/stream_executor/cuda/cuda_gpu_executor.cc:995] successful NUMA node read from SysFS had negative value (-1), but there must be at least one NUMA node, so returning NUMA node zero. See more at https://github.com/torvalds/linux/blob/v6.0/Documentation/ABI/testing/sysfs-bus-pci#L344-L355\n",
      "2024-04-14 03:28:19.170520: I tensorflow/compiler/xla/stream_executor/cuda/cuda_gpu_executor.cc:995] successful NUMA node read from SysFS had negative value (-1), but there must be at least one NUMA node, so returning NUMA node zero. See more at https://github.com/torvalds/linux/blob/v6.0/Documentation/ABI/testing/sysfs-bus-pci#L344-L355\n",
      "2024-04-14 03:28:19.170640: I tensorflow/compiler/xla/stream_executor/cuda/cuda_gpu_executor.cc:995] successful NUMA node read from SysFS had negative value (-1), but there must be at least one NUMA node, so returning NUMA node zero. See more at https://github.com/torvalds/linux/blob/v6.0/Documentation/ABI/testing/sysfs-bus-pci#L344-L355\n",
      "2024-04-14 03:28:19.170737: I tensorflow/compiler/xla/stream_executor/cuda/cuda_gpu_executor.cc:995] successful NUMA node read from SysFS had negative value (-1), but there must be at least one NUMA node, so returning NUMA node zero. See more at https://github.com/torvalds/linux/blob/v6.0/Documentation/ABI/testing/sysfs-bus-pci#L344-L355\n",
      "2024-04-14 03:28:19.213703: I tensorflow/compiler/xla/stream_executor/cuda/cuda_gpu_executor.cc:995] successful NUMA node read from SysFS had negative value (-1), but there must be at least one NUMA node, so returning NUMA node zero. See more at https://github.com/torvalds/linux/blob/v6.0/Documentation/ABI/testing/sysfs-bus-pci#L344-L355\n",
      "2024-04-14 03:28:19.213939: I tensorflow/compiler/xla/stream_executor/cuda/cuda_gpu_executor.cc:995] successful NUMA node read from SysFS had negative value (-1), but there must be at least one NUMA node, so returning NUMA node zero. See more at https://github.com/torvalds/linux/blob/v6.0/Documentation/ABI/testing/sysfs-bus-pci#L344-L355\n",
      "2024-04-14 03:28:19.214050: I tensorflow/compiler/xla/stream_executor/cuda/cuda_gpu_executor.cc:995] successful NUMA node read from SysFS had negative value (-1), but there must be at least one NUMA node, so returning NUMA node zero. See more at https://github.com/torvalds/linux/blob/v6.0/Documentation/ABI/testing/sysfs-bus-pci#L344-L355\n",
      "2024-04-14 03:28:19.214174: I tensorflow/core/common_runtime/gpu/gpu_device.cc:1639] Created device /job:localhost/replica:0/task:0/device:GPU:0 with 722 MB memory:  -> device: 0, name: NVIDIA GeForce RTX 4080 SUPER, pci bus id: 0000:01:00.0, compute capability: 8.9\n"
     ]
    }
   ],
   "source": [
    "dataset, dataset_info = tfds.load('malaria', with_info=True, as_supervised=True, shuffle_files=True, split=['train'])"
   ]
  },
  {
   "cell_type": "code",
   "execution_count": 9,
   "metadata": {},
   "outputs": [
    {
     "name": "stdout",
     "output_type": "stream",
     "text": [
      "[<_PrefetchDataset element_spec=(TensorSpec(shape=(None, None, 3), dtype=tf.uint8, name=None), TensorSpec(shape=(), dtype=tf.int64, name=None))>]\n"
     ]
    }
   ],
   "source": [
    "print(dataset)"
   ]
  },
  {
   "cell_type": "code",
   "execution_count": 10,
   "metadata": {},
   "outputs": [
    {
     "name": "stdout",
     "output_type": "stream",
     "text": [
      "tfds.core.DatasetInfo(\n",
      "    name='malaria',\n",
      "    full_name='malaria/1.0.0',\n",
      "    description=\"\"\"\n",
      "    The Malaria dataset contains a total of 27,558 cell images with equal instances\n",
      "    of parasitized and uninfected cells from the thin blood smear slide images of\n",
      "    segmented cells.\n",
      "    \"\"\",\n",
      "    homepage='https://lhncbc.nlm.nih.gov/publication/pub9932',\n",
      "    data_dir=PosixGPath('/tmp/tmppydc0qk1tfds'),\n",
      "    file_format=tfrecord,\n",
      "    download_size=337.08 MiB,\n",
      "    dataset_size=317.62 MiB,\n",
      "    features=FeaturesDict({\n",
      "        'image': Image(shape=(None, None, 3), dtype=uint8),\n",
      "        'label': ClassLabel(shape=(), dtype=int64, num_classes=2),\n",
      "    }),\n",
      "    supervised_keys=('image', 'label'),\n",
      "    disable_shuffling=False,\n",
      "    splits={\n",
      "        'train': <SplitInfo num_examples=27558, num_shards=4>,\n",
      "    },\n",
      "    citation=\"\"\"@article{rajaraman2018pre,\n",
      "      title={Pre-trained convolutional neural networks as feature extractors toward\n",
      "      improved malaria parasite detection in thin blood smear images},\n",
      "      author={Rajaraman, Sivaramakrishnan and Antani, Sameer K and Poostchi, Mahdieh\n",
      "      and Silamut, Kamolrat and Hossain, Md A and Maude, Richard J and Jaeger,\n",
      "      Stefan and Thoma, George R},\n",
      "      journal={PeerJ},\n",
      "      volume={6},\n",
      "      pages={e4568},\n",
      "      year={2018},\n",
      "      publisher={PeerJ Inc.}\n",
      "    }\"\"\",\n",
      ")\n"
     ]
    }
   ],
   "source": [
    "print(dataset_info)"
   ]
  },
  {
   "cell_type": "code",
   "execution_count": 12,
   "metadata": {},
   "outputs": [],
   "source": [
    "k = 0\n",
    "\n",
    "\n",
    "# Saving the dataset to generate the npz files for weigths and biases\n",
    "for data in dataset[0]:\n",
    "    with open('dataset/malaria_' + str(k) + '.npz', mode='wb') as file:\n",
    "        np.savez_compressed(file, data[0].numpy(), data[1].numpy())\n",
    "        \n",
    "\n",
    "    k += 1"
   ]
  },
  {
   "cell_type": "code",
   "execution_count": 13,
   "metadata": {},
   "outputs": [],
   "source": [
    "def load_original_data():\n",
    "    with wandb.init(project=\"Malaria-Detection\", entity=\"kervin5\") as run:\n",
    "        original_data = wandb.Artifact(name=\"new_dataset\", \n",
    "                                       \n",
    "                                    type=\"raw_data\",\n",
    "                                    description=\"The Malaria dataset contains a total of 27,558 cell images with equal instances of parasitized and uninfected cells. The images are RGB with a size of 224x224 pixels.\",\n",
    "                                    metadata={\n",
    "                                        \"source\": \"TFDS\",\n",
    "                                        \"homepage\": \"https://lhncbc.nlm.nih.gove/publication/pub9932\",\n",
    "                                        \"version\": \"1.0.0\",\n",
    "                                        \"dowload_size\": \"337.08 MB\"\n",
    "                                    })\n",
    "        original_data.add_dir('dataset')\n",
    "\n",
    "        run.log_artifact(original_data)"
   ]
  },
  {
   "cell_type": "code",
   "execution_count": 14,
   "metadata": {},
   "outputs": [],
   "source": [
    "# load_original_data() # This creates a new artifact in the project using the original dataset"
   ]
  },
  {
   "cell_type": "code",
   "execution_count": 15,
   "metadata": {},
   "outputs": [
    {
     "name": "stderr",
     "output_type": "stream",
     "text": [
      "\u001b[34m\u001b[1mwandb\u001b[0m: Currently logged in as: \u001b[33mkervin5\u001b[0m. Use \u001b[1m`wandb login --relogin`\u001b[0m to force relogin\n"
     ]
    },
    {
     "data": {
      "text/html": [
       "Tracking run with wandb version 0.16.6"
      ],
      "text/plain": [
       "<IPython.core.display.HTML object>"
      ]
     },
     "metadata": {},
     "output_type": "display_data"
    },
    {
     "data": {
      "text/html": [
       "Run data is saved locally in <code>/home/kervin/Coding/machine_learning/20_tensorflow_projects/wandb/run-20240414_033010-soah01n5</code>"
      ],
      "text/plain": [
       "<IPython.core.display.HTML object>"
      ]
     },
     "metadata": {},
     "output_type": "display_data"
    },
    {
     "data": {
      "text/html": [
       "Syncing run <strong><a href='https://wandb.ai/kervin5/Malaria-Detection/runs/soah01n5' target=\"_blank\">drawn-water-74</a></strong> to <a href='https://wandb.ai/kervin5/Malaria-Detection' target=\"_blank\">Weights & Biases</a> (<a href='https://wandb.me/run' target=\"_blank\">docs</a>)<br/>"
      ],
      "text/plain": [
       "<IPython.core.display.HTML object>"
      ]
     },
     "metadata": {},
     "output_type": "display_data"
    },
    {
     "data": {
      "text/html": [
       " View project at <a href='https://wandb.ai/kervin5/Malaria-Detection' target=\"_blank\">https://wandb.ai/kervin5/Malaria-Detection</a>"
      ],
      "text/plain": [
       "<IPython.core.display.HTML object>"
      ]
     },
     "metadata": {},
     "output_type": "display_data"
    },
    {
     "data": {
      "text/html": [
       " View run at <a href='https://wandb.ai/kervin5/Malaria-Detection/runs/soah01n5' target=\"_blank\">https://wandb.ai/kervin5/Malaria-Detection/runs/soah01n5</a>"
      ],
      "text/plain": [
       "<IPython.core.display.HTML object>"
      ]
     },
     "metadata": {},
     "output_type": "display_data"
    },
    {
     "name": "stderr",
     "output_type": "stream",
     "text": [
      "\u001b[34m\u001b[1mwandb\u001b[0m: Downloading large artifact new_dataset:v0, 388.82MB. 27559 files... \n",
      "\u001b[34m\u001b[1mwandb\u001b[0m:   27559 of 27559 files downloaded.  \n",
      "Done. 0:0:54.8\n"
     ]
    },
    {
     "name": "stdout",
     "output_type": "stream",
     "text": [
      "/home/kervin/Coding/machine_learning/20_tensorflow_projects/artifacts/new_dataset:v0\n"
     ]
    },
    {
     "data": {
      "application/vnd.jupyter.widget-view+json": {
       "model_id": "e658f955887f4a8195d3437e88b8dcc1",
       "version_major": 2,
       "version_minor": 0
      },
      "text/plain": [
       "VBox(children=(Label(value='0.003 MB of 0.003 MB uploaded\\r'), FloatProgress(value=1.0, max=1.0)))"
      ]
     },
     "metadata": {},
     "output_type": "display_data"
    },
    {
     "data": {
      "text/html": [
       " View run <strong style=\"color:#cdcd00\">drawn-water-74</strong> at: <a href='https://wandb.ai/kervin5/Malaria-Detection/runs/soah01n5' target=\"_blank\">https://wandb.ai/kervin5/Malaria-Detection/runs/soah01n5</a><br/> View project at: <a href='https://wandb.ai/kervin5/Malaria-Detection' target=\"_blank\">https://wandb.ai/kervin5/Malaria-Detection</a><br/>Synced 6 W&B file(s), 0 media file(s), 0 artifact file(s) and 0 other file(s)"
      ],
      "text/plain": [
       "<IPython.core.display.HTML object>"
      ]
     },
     "metadata": {},
     "output_type": "display_data"
    },
    {
     "data": {
      "text/html": [
       "Find logs at: <code>./wandb/run-20240414_033010-soah01n5/logs</code>"
      ],
      "text/plain": [
       "<IPython.core.display.HTML object>"
      ]
     },
     "metadata": {},
     "output_type": "display_data"
    }
   ],
   "source": [
    "with wandb.init(project=\"Malaria-Detection\", entity=\"kervin5\") as run:\n",
    "    # When using file versioning with weight and biases, we can use the artifact to download the dataset instead of using tfds\n",
    "    artifact = run.use_artifact('kervin5/Malaria-Detection/new_dataset:v0', type='raw_data')\n",
    "    artifact_dir = artifact.download()\n",
    "    print(artifact_dir)"
   ]
  },
  {
   "cell_type": "code",
   "execution_count": 16,
   "metadata": {},
   "outputs": [],
   "source": [
    "# for data in dataset['train'].take(2):\n",
    "#     image = data[0]\n",
    "#     label = data[1]\n",
    "#     plt.imshow(image)"
   ]
  },
  {
   "cell_type": "code",
   "execution_count": 17,
   "metadata": {},
   "outputs": [],
   "source": [
    "def splits(dataset, TRAIN_RATIO, VAL_RATIO, TEST_RATIO):\n",
    "    DATASET_SIZE = len(dataset)\n",
    "\n",
    "    train_dataset = dataset.take(int(TRAIN_RATIO * DATASET_SIZE))\n",
    "\n",
    "    val_test_dataset = dataset.skip(int(TRAIN_RATIO * DATASET_SIZE))\n",
    "    val_dataset = val_test_dataset.take(int(VAL_RATIO * DATASET_SIZE))\n",
    "\n",
    "    test_dataset = val_test_dataset.skip(int(VAL_RATIO * DATASET_SIZE)).take(int(TEST_RATIO * DATASET_SIZE))\n",
    "    return train_dataset, val_dataset, test_dataset"
   ]
  },
  {
   "cell_type": "code",
   "execution_count": 18,
   "metadata": {},
   "outputs": [],
   "source": [
    "TRAIN_RATIO = 0.8\n",
    "VAL_RATIO = 0.1\n",
    "TEST_RATIO = 0.1\n",
    "\n",
    "train_dataset, val_dataset, test_dataset = splits(dataset[0], TRAIN_RATIO, VAL_RATIO, TEST_RATIO)"
   ]
  },
  {
   "cell_type": "code",
   "execution_count": 19,
   "metadata": {},
   "outputs": [],
   "source": [
    "# print(list(train_dataset.take(1).as_numpy_iterator()),\n",
    "#         list(val_dataset.take(1).as_numpy_iterator()),\n",
    "#         list(test_dataset.take(1).as_numpy_iterator()), sep='\\n')"
   ]
  },
  {
   "cell_type": "markdown",
   "metadata": {},
   "source": [
    "## Dataset Visualization"
   ]
  },
  {
   "cell_type": "code",
   "execution_count": 20,
   "metadata": {},
   "outputs": [
    {
     "data": {
      "image/png": "[encoded data removed]",
      "text/plain": [
       "<Figure size 640x480 with 16 Axes>"
      ]
     },
     "metadata": {},
     "output_type": "display_data"
    }
   ],
   "source": [
    "for i, (image, label) in enumerate(train_dataset.take(16)):\n",
    "    plt.subplot(4, 4, i + 1)\n",
    "    plt.imshow(image)\n",
    "    plt.title(dataset_info.features['label'].names[label])\n",
    "    # Same as plt.title(dataset_info.features['label'].int2str(label))\n",
    "    plt.axis('off')"
   ]
  },
  {
   "cell_type": "markdown",
   "metadata": {},
   "source": [
    "## Data Preprocessing"
   ]
  },
  {
   "cell_type": "code",
   "execution_count": 21,
   "metadata": {},
   "outputs": [
    {
     "data": {
      "application/vnd.jupyter.widget-view+json": {
       "model_id": "0f5f80db344d41609713a5e439364de9",
       "version_major": 2,
       "version_minor": 0
      },
      "text/plain": [
       "VBox(children=(Label(value='Waiting for wandb.init()...\\r'), FloatProgress(value=0.01111214721111335, max=1.0)…"
      ]
     },
     "metadata": {},
     "output_type": "display_data"
    },
    {
     "data": {
      "text/html": [
       "Tracking run with wandb version 0.16.6"
      ],
      "text/plain": [
       "<IPython.core.display.HTML object>"
      ]
     },
     "metadata": {},
     "output_type": "display_data"
    },
    {
     "data": {
      "text/html": [
       "Run data is saved locally in <code>/home/kervin/Coding/machine_learning/20_tensorflow_projects/wandb/run-20240414_033122-vur0mwk4</code>"
      ],
      "text/plain": [
       "<IPython.core.display.HTML object>"
      ]
     },
     "metadata": {},
     "output_type": "display_data"
    },
    {
     "data": {
      "text/html": [
       "Syncing run <strong><a href='https://wandb.ai/kervin5/Malaria-Detection/runs/vur0mwk4' target=\"_blank\">lucky-glade-75</a></strong> to <a href='https://wandb.ai/kervin5/Malaria-Detection' target=\"_blank\">Weights & Biases</a> (<a href='https://wandb.me/run' target=\"_blank\">docs</a>)<br/>"
      ],
      "text/plain": [
       "<IPython.core.display.HTML object>"
      ]
     },
     "metadata": {},
     "output_type": "display_data"
    },
    {
     "data": {
      "text/html": [
       " View project at <a href='https://wandb.ai/kervin5/Malaria-Detection' target=\"_blank\">https://wandb.ai/kervin5/Malaria-Detection</a>"
      ],
      "text/plain": [
       "<IPython.core.display.HTML object>"
      ]
     },
     "metadata": {},
     "output_type": "display_data"
    },
    {
     "data": {
      "text/html": [
       " View run at <a href='https://wandb.ai/kervin5/Malaria-Detection/runs/vur0mwk4' target=\"_blank\">https://wandb.ai/kervin5/Malaria-Detection/runs/vur0mwk4</a>"
      ],
      "text/plain": [
       "<IPython.core.display.HTML object>"
      ]
     },
     "metadata": {},
     "output_type": "display_data"
    }
   ],
   "source": [
    "wandb.init(project=\"Malaria-Detection\", entity=\"kervin5\")\n",
    "wandb.config = WANDB_CONFIG\n",
    "CONFIGURATION = wandb.config\n",
    "IM_SIZE = CONFIGURATION['im_size']\n"
   ]
  },
  {
   "cell_type": "code",
   "execution_count": 22,
   "metadata": {},
   "outputs": [],
   "source": [
    "def resize_rescale(image, label, IM_SIZE=IM_SIZE):\n",
    "    image = tf.image.resize(image, (IM_SIZE, IM_SIZE)) / 255.0\n",
    "    return image, label"
   ]
  },
  {
   "cell_type": "code",
   "execution_count": 23,
   "metadata": {},
   "outputs": [],
   "source": [
    "def preprocess_data():\n",
    "    with wandb.init(project=\"Malaria-Detection\", entity=\"kervin5\") as run:\n",
    "        artifact = run.use_artifact('kervin5/Malaria-Detection/new_dataset:v0', type='raw_data')\n",
    "        artifact_directory = artifact.download()\n",
    "\n",
    "        preprocess_data = wandb.Artifact(name=\"preprocessed_dataset\", \n",
    "                                       \n",
    "                                    type=\"preprocessed_data\",\n",
    "                                    description=\"A preprocessed version of the Malaria dataset. The images are resized to 224x224 pixels and normalized.\",\n",
    "                                    )\n",
    "        \n",
    "\n",
    "        dataset_x = []\n",
    "        dataset_y = []\n",
    "\n",
    "        for f in os.listdir(artifact_directory)[:100]:\n",
    "            with open(os.path.join(artifact_directory, f), 'rb') as file:\n",
    "                data = np.load(file)\n",
    "                item_data = resize_rescale(data['arr_0'], data['arr_1'])\n",
    "                dataset_x.append(item_data[0])\n",
    "                dataset_y.append(item_data[1])\n",
    "\n",
    "        \n",
    "\n",
    "        with preprocess_data.new_file(\"prep_dataset.npz\", mode=\"wb\") as file:\n",
    "            np.savez_compressed(file, dataset_x, dataset_y)\n",
    "\n",
    "        run.log_artifact(preprocess_data)"
   ]
  },
  {
   "cell_type": "code",
   "execution_count": 24,
   "metadata": {},
   "outputs": [
    {
     "data": {
      "text/html": [
       "Finishing last run (ID:vur0mwk4) before initializing another..."
      ],
      "text/plain": [
       "<IPython.core.display.HTML object>"
      ]
     },
     "metadata": {},
     "output_type": "display_data"
    },
    {
     "data": {
      "application/vnd.jupyter.widget-view+json": {
       "model_id": "76d3184eaad34342ae99a03d6a537ba1",
       "version_major": 2,
       "version_minor": 0
      },
      "text/plain": [
       "VBox(children=(Label(value='0.003 MB of 0.007 MB uploaded\\r'), FloatProgress(value=0.4745315386645553, max=1.0…"
      ]
     },
     "metadata": {},
     "output_type": "display_data"
    },
    {
     "data": {
      "text/html": [
       " View run <strong style=\"color:#cdcd00\">lucky-glade-75</strong> at: <a href='https://wandb.ai/kervin5/Malaria-Detection/runs/vur0mwk4' target=\"_blank\">https://wandb.ai/kervin5/Malaria-Detection/runs/vur0mwk4</a><br/> View project at: <a href='https://wandb.ai/kervin5/Malaria-Detection' target=\"_blank\">https://wandb.ai/kervin5/Malaria-Detection</a><br/>Synced 5 W&B file(s), 0 media file(s), 0 artifact file(s) and 0 other file(s)"
      ],
      "text/plain": [
       "<IPython.core.display.HTML object>"
      ]
     },
     "metadata": {},
     "output_type": "display_data"
    },
    {
     "data": {
      "text/html": [
       "Find logs at: <code>./wandb/run-20240414_033122-vur0mwk4/logs</code>"
      ],
      "text/plain": [
       "<IPython.core.display.HTML object>"
      ]
     },
     "metadata": {},
     "output_type": "display_data"
    },
    {
     "data": {
      "text/html": [
       "Successfully finished last run (ID:vur0mwk4). Initializing new run:<br/>"
      ],
      "text/plain": [
       "<IPython.core.display.HTML object>"
      ]
     },
     "metadata": {},
     "output_type": "display_data"
    },
    {
     "data": {
      "text/html": [
       "Tracking run with wandb version 0.16.6"
      ],
      "text/plain": [
       "<IPython.core.display.HTML object>"
      ]
     },
     "metadata": {},
     "output_type": "display_data"
    },
    {
     "data": {
      "text/html": [
       "Run data is saved locally in <code>/home/kervin/Coding/machine_learning/20_tensorflow_projects/wandb/run-20240414_033126-tqz0qwl9</code>"
      ],
      "text/plain": [
       "<IPython.core.display.HTML object>"
      ]
     },
     "metadata": {},
     "output_type": "display_data"
    },
    {
     "data": {
      "text/html": [
       "Syncing run <strong><a href='https://wandb.ai/kervin5/Malaria-Detection/runs/tqz0qwl9' target=\"_blank\">colorful-sea-76</a></strong> to <a href='https://wandb.ai/kervin5/Malaria-Detection' target=\"_blank\">Weights & Biases</a> (<a href='https://wandb.me/run' target=\"_blank\">docs</a>)<br/>"
      ],
      "text/plain": [
       "<IPython.core.display.HTML object>"
      ]
     },
     "metadata": {},
     "output_type": "display_data"
    },
    {
     "data": {
      "text/html": [
       " View project at <a href='https://wandb.ai/kervin5/Malaria-Detection' target=\"_blank\">https://wandb.ai/kervin5/Malaria-Detection</a>"
      ],
      "text/plain": [
       "<IPython.core.display.HTML object>"
      ]
     },
     "metadata": {},
     "output_type": "display_data"
    },
    {
     "data": {
      "text/html": [
       " View run at <a href='https://wandb.ai/kervin5/Malaria-Detection/runs/tqz0qwl9' target=\"_blank\">https://wandb.ai/kervin5/Malaria-Detection/runs/tqz0qwl9</a>"
      ],
      "text/plain": [
       "<IPython.core.display.HTML object>"
      ]
     },
     "metadata": {},
     "output_type": "display_data"
    },
    {
     "name": "stderr",
     "output_type": "stream",
     "text": [
      "\u001b[34m\u001b[1mwandb\u001b[0m: Downloading large artifact new_dataset:v0, 388.82MB. 27559 files... \n",
      "\u001b[34m\u001b[1mwandb\u001b[0m:   27559 of 27559 files downloaded.  \n",
      "Done. 0:0:55.9\n"
     ]
    },
    {
     "data": {
      "application/vnd.jupyter.widget-view+json": {
       "model_id": "c467dfe2bfea499991e5a3af7847ac1e",
       "version_major": 2,
       "version_minor": 0
      },
      "text/plain": [
       "VBox(children=(Label(value='31.159 MB of 31.159 MB uploaded\\r'), FloatProgress(value=1.0, max=1.0)))"
      ]
     },
     "metadata": {},
     "output_type": "display_data"
    },
    {
     "data": {
      "text/html": [
       " View run <strong style=\"color:#cdcd00\">colorful-sea-76</strong> at: <a href='https://wandb.ai/kervin5/Malaria-Detection/runs/tqz0qwl9' target=\"_blank\">https://wandb.ai/kervin5/Malaria-Detection/runs/tqz0qwl9</a><br/> View project at: <a href='https://wandb.ai/kervin5/Malaria-Detection' target=\"_blank\">https://wandb.ai/kervin5/Malaria-Detection</a><br/>Synced 6 W&B file(s), 0 media file(s), 1 artifact file(s) and 0 other file(s)"
      ],
      "text/plain": [
       "<IPython.core.display.HTML object>"
      ]
     },
     "metadata": {},
     "output_type": "display_data"
    },
    {
     "data": {
      "text/html": [
       "Find logs at: <code>./wandb/run-20240414_033126-tqz0qwl9/logs</code>"
      ],
      "text/plain": [
       "<IPython.core.display.HTML object>"
      ]
     },
     "metadata": {},
     "output_type": "display_data"
    }
   ],
   "source": [
    "preprocess_data()"
   ]
  },
  {
   "cell_type": "markdown",
   "metadata": {},
   "source": [
    "### Data splitting"
   ]
  },
  {
   "cell_type": "code",
   "execution_count": 25,
   "metadata": {},
   "outputs": [],
   "source": [
    "def split_data():\n",
    "    with wandb.init(project=\"Malaria-Detection\", entity=\"kervin5\") as run:\n",
    "        artifact = run.use_artifact('kervin5/Malaria-Detection/preprocessed_dataset:v0', type='preprocessed_data')\n",
    "        artifact_directory = artifact.download()\n",
    "\n",
    "        train_data = wandb.Artifact(name=\"train_dataset\", \n",
    "                                    type=\"preprocessed_data\",\n",
    "                                    description=\"The training dataset for the Malaria detection model. The images are resized to 224x224 pixels and normalized.\",\n",
    "                                    )\n",
    "        \n",
    "        val_data = wandb.Artifact(name=\"val_dataset\",\n",
    "                                      type=\"preprocessed_data\",\n",
    "                                        description=\"The validation dataset for the Malaria detection model. The images are resized to 224x224 pixels and normalized.\",\n",
    "                                        )\n",
    "\n",
    "        test_data = wandb.Artifact(name=\"test_dataset\",\n",
    "                                       type=\"preprocessed_data\",\n",
    "                                         description=\"The test dataset for the Malaria detection model. The images are resized to 224x224 pixels and normalized.\",\n",
    "                                         )\n",
    "        \n",
    "        with open(os.path.join(artifact_directory, 'prep_dataset.npz'), 'rb') as file:\n",
    "            data = np.load(file, allow_pickle=True)\n",
    "            \n",
    "            train_split = 0.8\n",
    "            val_split = 0.1\n",
    "            test_split = 0.1\n",
    "\n",
    "            data_len = len(data['arr_0'])\n",
    "\n",
    "            train_arr = data['arr_0'][:int(train_split * data_len)]\n",
    "            val_arr = data['arr_0'][int(train_split * data_len):int((train_split + val_split) * data_len)]\n",
    "            test_arr = data['arr_0'][int((train_split + test_split) * data_len):]\n",
    "\n",
    "            with train_data.new_file(\"train_dataset.npz\", mode=\"wb\") as file:\n",
    "                np.savez_compressed(file, train_arr)\n",
    "\n",
    "            with val_data.new_file(\"val_dataset.npz\", mode=\"wb\") as file:\n",
    "                np.savez_compressed(file, val_arr)\n",
    "\n",
    "            with test_data.new_file(\"test_dataset.npz\", mode=\"wb\") as file:\n",
    "                np.savez_compressed(file, test_arr)\n",
    "\n",
    "        run.log_artifact(train_data)\n",
    "        run.log_artifact(val_data)\n",
    "        run.log_artifact(test_data)\n",
    "\n"
   ]
  },
  {
   "cell_type": "code",
   "execution_count": 26,
   "metadata": {},
   "outputs": [
    {
     "data": {
      "application/vnd.jupyter.widget-view+json": {
       "model_id": "2704b4e996914fadba3d12d8b7dff9f5",
       "version_major": 2,
       "version_minor": 0
      },
      "text/plain": [
       "VBox(children=(Label(value='Waiting for wandb.init()...\\r'), FloatProgress(value=0.011112080322224454, max=1.0…"
      ]
     },
     "metadata": {},
     "output_type": "display_data"
    },
    {
     "data": {
      "text/html": [
       "Tracking run with wandb version 0.16.6"
      ],
      "text/plain": [
       "<IPython.core.display.HTML object>"
      ]
     },
     "metadata": {},
     "output_type": "display_data"
    },
    {
     "data": {
      "text/html": [
       "Run data is saved locally in <code>/home/kervin/Coding/machine_learning/20_tensorflow_projects/wandb/run-20240414_033308-1c3bh0cz</code>"
      ],
      "text/plain": [
       "<IPython.core.display.HTML object>"
      ]
     },
     "metadata": {},
     "output_type": "display_data"
    },
    {
     "data": {
      "text/html": [
       "Syncing run <strong><a href='https://wandb.ai/kervin5/Malaria-Detection/runs/1c3bh0cz' target=\"_blank\">colorful-star-77</a></strong> to <a href='https://wandb.ai/kervin5/Malaria-Detection' target=\"_blank\">Weights & Biases</a> (<a href='https://wandb.me/run' target=\"_blank\">docs</a>)<br/>"
      ],
      "text/plain": [
       "<IPython.core.display.HTML object>"
      ]
     },
     "metadata": {},
     "output_type": "display_data"
    },
    {
     "data": {
      "text/html": [
       " View project at <a href='https://wandb.ai/kervin5/Malaria-Detection' target=\"_blank\">https://wandb.ai/kervin5/Malaria-Detection</a>"
      ],
      "text/plain": [
       "<IPython.core.display.HTML object>"
      ]
     },
     "metadata": {},
     "output_type": "display_data"
    },
    {
     "data": {
      "text/html": [
       " View run at <a href='https://wandb.ai/kervin5/Malaria-Detection/runs/1c3bh0cz' target=\"_blank\">https://wandb.ai/kervin5/Malaria-Detection/runs/1c3bh0cz</a>"
      ],
      "text/plain": [
       "<IPython.core.display.HTML object>"
      ]
     },
     "metadata": {},
     "output_type": "display_data"
    },
    {
     "name": "stderr",
     "output_type": "stream",
     "text": [
      "\u001b[34m\u001b[1mwandb\u001b[0m:   1 of 1 files downloaded.  \n"
     ]
    },
    {
     "data": {
      "application/vnd.jupyter.widget-view+json": {
       "model_id": "9ba3be95da304fabae81dc4914adc5a5",
       "version_major": 2,
       "version_minor": 0
      },
      "text/plain": [
       "VBox(children=(Label(value='0.003 MB of 0.003 MB uploaded\\r'), FloatProgress(value=1.0, max=1.0)))"
      ]
     },
     "metadata": {},
     "output_type": "display_data"
    },
    {
     "data": {
      "text/html": [
       " View run <strong style=\"color:#cdcd00\">colorful-star-77</strong> at: <a href='https://wandb.ai/kervin5/Malaria-Detection/runs/1c3bh0cz' target=\"_blank\">https://wandb.ai/kervin5/Malaria-Detection/runs/1c3bh0cz</a><br/> View project at: <a href='https://wandb.ai/kervin5/Malaria-Detection' target=\"_blank\">https://wandb.ai/kervin5/Malaria-Detection</a><br/>Synced 6 W&B file(s), 0 media file(s), 0 artifact file(s) and 0 other file(s)"
      ],
      "text/plain": [
       "<IPython.core.display.HTML object>"
      ]
     },
     "metadata": {},
     "output_type": "display_data"
    },
    {
     "data": {
      "text/html": [
       "Find logs at: <code>./wandb/run-20240414_033308-1c3bh0cz/logs</code>"
      ],
      "text/plain": [
       "<IPython.core.display.HTML object>"
      ]
     },
     "metadata": {},
     "output_type": "display_data"
    }
   ],
   "source": [
    "split_data()"
   ]
  },
  {
   "cell_type": "markdown",
   "metadata": {},
   "source": [
    "### Data Augmentation"
   ]
  },
  {
   "cell_type": "code",
   "execution_count": 27,
   "metadata": {},
   "outputs": [],
   "source": [
    "# Augmentations using tf.image augment\n",
    "\n",
    "def augment(image, label):\n",
    "    image, label = resize_rescale(image, label)\n",
    "    image = tf.image.rot90(image)\n",
    "    # image = tf.image.adjust_saturation(image, saturation_factor=0.3)\n",
    "    image = tf.image.flip_left_right(image)\n",
    "\n",
    "    return image, label\n",
    "    \n",
    "# Augmentations using tf.keras.layers\n",
    "# augment_layers = tf.keras.Sequential(["
   ]
  },
  {
   "cell_type": "code",
   "execution_count": 28,
   "metadata": {},
   "outputs": [],
   "source": [
    "def augment_data():\n",
    "    with wandb.init(project=\"Malaria-Detection\", entity=\"kervin5\") as run:\n",
    "        artifact = run.use_artifact('kervin5/Malaria-Detection/train_dataset:v0', type='preprocessed_data')\n",
    "        artifact_directory = artifact.download()\n",
    "\n",
    "        augmented_data = wandb.Artifact(name=\"augmented_dataset\",\n",
    "                                       \n",
    "                                    type=\"preprocessed_data\",\n",
    "                                    description=\"An augmented version of the Malaria dataset. The images are resized to 224x224 pixels and normalized.\",\n",
    "                                    )\n",
    "        \n",
    "        dataset_x = []\n",
    "        dataset_y = []\n",
    "        \n",
    "        # This is missing the labels due to a possible bug in the previous step\n",
    "        with open(os.path.join(artifact_directory, 'train_dataset.npz'), 'rb') as file:\n",
    "            npz_arrays = np.load(file, allow_pickle=True)\n",
    "            for i in range(len(npz_arrays['arr_0'])):\n",
    "                augmented_image = tf.image.rot90(npz_arrays['arr_0'][i])\n",
    "                augmented_image = tf.image.flip_left_right(augmented_image)\n",
    "                dataset_x.append(augmented_image)\n",
    "\n",
    "        with augmented_data.new_file(\"augmented_dataset.npz\", mode=\"wb\") as file:\n",
    "            np.savez_compressed(file, dataset_x)\n",
    "\n",
    "\n",
    "        run.log_artifact(augmented_data)\n"
   ]
  },
  {
   "cell_type": "code",
   "execution_count": 29,
   "metadata": {},
   "outputs": [
    {
     "data": {
      "application/vnd.jupyter.widget-view+json": {
       "model_id": "5cc0ac16d09b4d27ae3c1e0546f1b75d",
       "version_major": 2,
       "version_minor": 0
      },
      "text/plain": [
       "VBox(children=(Label(value='Waiting for wandb.init()...\\r'), FloatProgress(value=0.011112270788887851, max=1.0…"
      ]
     },
     "metadata": {},
     "output_type": "display_data"
    },
    {
     "data": {
      "text/html": [
       "Tracking run with wandb version 0.16.6"
      ],
      "text/plain": [
       "<IPython.core.display.HTML object>"
      ]
     },
     "metadata": {},
     "output_type": "display_data"
    },
    {
     "data": {
      "text/html": [
       "Run data is saved locally in <code>/home/kervin/Coding/machine_learning/20_tensorflow_projects/wandb/run-20240414_033329-8h2621ix</code>"
      ],
      "text/plain": [
       "<IPython.core.display.HTML object>"
      ]
     },
     "metadata": {},
     "output_type": "display_data"
    },
    {
     "data": {
      "text/html": [
       "Syncing run <strong><a href='https://wandb.ai/kervin5/Malaria-Detection/runs/8h2621ix' target=\"_blank\">winter-music-78</a></strong> to <a href='https://wandb.ai/kervin5/Malaria-Detection' target=\"_blank\">Weights & Biases</a> (<a href='https://wandb.me/run' target=\"_blank\">docs</a>)<br/>"
      ],
      "text/plain": [
       "<IPython.core.display.HTML object>"
      ]
     },
     "metadata": {},
     "output_type": "display_data"
    },
    {
     "data": {
      "text/html": [
       " View project at <a href='https://wandb.ai/kervin5/Malaria-Detection' target=\"_blank\">https://wandb.ai/kervin5/Malaria-Detection</a>"
      ],
      "text/plain": [
       "<IPython.core.display.HTML object>"
      ]
     },
     "metadata": {},
     "output_type": "display_data"
    },
    {
     "data": {
      "text/html": [
       " View run at <a href='https://wandb.ai/kervin5/Malaria-Detection/runs/8h2621ix' target=\"_blank\">https://wandb.ai/kervin5/Malaria-Detection/runs/8h2621ix</a>"
      ],
      "text/plain": [
       "<IPython.core.display.HTML object>"
      ]
     },
     "metadata": {},
     "output_type": "display_data"
    },
    {
     "name": "stderr",
     "output_type": "stream",
     "text": [
      "\u001b[34m\u001b[1mwandb\u001b[0m:   1 of 1 files downloaded.  \n"
     ]
    },
    {
     "data": {
      "application/vnd.jupyter.widget-view+json": {
       "model_id": "b0ff160147e148698985926d9f2763e6",
       "version_major": 2,
       "version_minor": 0
      },
      "text/plain": [
       "VBox(children=(Label(value='0.003 MB of 0.003 MB uploaded\\r'), FloatProgress(value=1.0, max=1.0)))"
      ]
     },
     "metadata": {},
     "output_type": "display_data"
    },
    {
     "data": {
      "text/html": [
       " View run <strong style=\"color:#cdcd00\">winter-music-78</strong> at: <a href='https://wandb.ai/kervin5/Malaria-Detection/runs/8h2621ix' target=\"_blank\">https://wandb.ai/kervin5/Malaria-Detection/runs/8h2621ix</a><br/> View project at: <a href='https://wandb.ai/kervin5/Malaria-Detection' target=\"_blank\">https://wandb.ai/kervin5/Malaria-Detection</a><br/>Synced 6 W&B file(s), 0 media file(s), 0 artifact file(s) and 0 other file(s)"
      ],
      "text/plain": [
       "<IPython.core.display.HTML object>"
      ]
     },
     "metadata": {},
     "output_type": "display_data"
    },
    {
     "data": {
      "text/html": [
       "Find logs at: <code>./wandb/run-20240414_033329-8h2621ix/logs</code>"
      ],
      "text/plain": [
       "<IPython.core.display.HTML object>"
      ]
     },
     "metadata": {},
     "output_type": "display_data"
    }
   ],
   "source": [
    "augment_data()"
   ]
  },
  {
   "cell_type": "code",
   "execution_count": 30,
   "metadata": {},
   "outputs": [],
   "source": [
    "def visualize(original, augmented):\n",
    "    plt.subplot(1, 2, 1)\n",
    "    plt.imshow(original)\n",
    "\n",
    "    plt.subplot(1, 2, 2)\n",
    "    plt.imshow(augmented)"
   ]
  },
  {
   "cell_type": "code",
   "execution_count": 31,
   "metadata": {},
   "outputs": [],
   "source": [
    "original_image, label = next(iter(train_dataset))"
   ]
  },
  {
   "cell_type": "code",
   "execution_count": 32,
   "metadata": {},
   "outputs": [],
   "source": [
    "augmented_image = tf.image.flip_left_right(original_image)\n",
    "augmented_image = tf.image.flip_up_down(augmented_image)\n",
    "augmented_image = tf.image.rot90(augmented_image)\n",
    "augmented_image = tf.image.random_brightness(augmented_image, max_delta=0.5)\n",
    "# augmented_image = tf.image.random_contrast(augmented_image, lower=0.2, upper=1.8)\n",
    "# augmented_image = tf.image.random_saturation(augmented_image, lower=0.2, upper=1.8)\n",
    "# augmented_image = tf.image.random_hue(augmented_image, max_delta=0.3)\n",
    "# augmented_image = tf.image.central_crop(augmented_image, central_fraction=0.8)\n",
    "augmented_image = tf.image.adjust_saturation(augmented_image, 3)"
   ]
  },
  {
   "cell_type": "code",
   "execution_count": 33,
   "metadata": {},
   "outputs": [
    {
     "data": {
      "image/png": "[encoded data removed]",
      "text/plain": [
       "<Figure size 640x480 with 2 Axes>"
      ]
     },
     "metadata": {},
     "output_type": "display_data"
    }
   ],
   "source": [
    "visualize(original_image, augmented_image)"
   ]
  },
  {
   "cell_type": "code",
   "execution_count": 34,
   "metadata": {},
   "outputs": [],
   "source": [
    "test_dataset = test_dataset.map(resize_rescale)"
   ]
  },
  {
   "cell_type": "code",
   "execution_count": 35,
   "metadata": {},
   "outputs": [
    {
     "name": "stdout",
     "output_type": "stream",
     "text": [
      "tf.Tensor(\n",
      "[[[0 0 0]\n",
      "  [0 0 0]\n",
      "  [0 0 0]\n",
      "  ...\n",
      "  [0 0 0]\n",
      "  [0 0 0]\n",
      "  [0 0 0]]\n",
      "\n",
      " [[0 0 0]\n",
      "  [0 0 0]\n",
      "  [0 0 0]\n",
      "  ...\n",
      "  [0 0 0]\n",
      "  [0 0 0]\n",
      "  [0 0 0]]\n",
      "\n",
      " [[0 0 0]\n",
      "  [0 0 0]\n",
      "  [0 0 0]\n",
      "  ...\n",
      "  [0 0 0]\n",
      "  [0 0 0]\n",
      "  [0 0 0]]\n",
      "\n",
      " ...\n",
      "\n",
      " [[0 0 0]\n",
      "  [0 0 0]\n",
      "  [0 0 0]\n",
      "  ...\n",
      "  [0 0 0]\n",
      "  [0 0 0]\n",
      "  [0 0 0]]\n",
      "\n",
      " [[0 0 0]\n",
      "  [0 0 0]\n",
      "  [0 0 0]\n",
      "  ...\n",
      "  [0 0 0]\n",
      "  [0 0 0]\n",
      "  [0 0 0]]\n",
      "\n",
      " [[0 0 0]\n",
      "  [0 0 0]\n",
      "  [0 0 0]\n",
      "  ...\n",
      "  [0 0 0]\n",
      "  [0 0 0]\n",
      "  [0 0 0]]], shape=(151, 115, 3), dtype=uint8) tf.Tensor(1, shape=(), dtype=int64)\n"
     ]
    }
   ],
   "source": [
    "for image, label in train_dataset.take(1):\n",
    "    print(image, label)"
   ]
  },
  {
   "cell_type": "code",
   "execution_count": 36,
   "metadata": {},
   "outputs": [],
   "source": [
    "BATCH_SIZE = CONFIGURATION['batch_size']\n",
    "REGULARIZATION_RATE = CONFIGURATION['regularization_rate']\n",
    "DROPOUT_RATE = CONFIGURATION['dropout']\n",
    "N_FILTERS = CONFIGURATION['n_filters']\n",
    "KERNEL_SIZE = CONFIGURATION['kernel_size']\n",
    "POOL_SIZE = CONFIGURATION['pool_size']\n",
    "N_STRIDES = CONFIGURATION['n_strides']\n",
    "\n",
    "train_dataset = train_dataset.shuffle(buffer_size=8, reshuffle_each_iteration=True).map(augment).batch(BATCH_SIZE).prefetch(tf.data.AUTOTUNE)\n",
    "\n",
    "val_dataset = val_dataset.shuffle(buffer_size=8, reshuffle_each_iteration=True).map(resize_rescale).batch(BATCH_SIZE).prefetch(tf.data.AUTOTUNE)\n"
   ]
  },
  {
   "cell_type": "markdown",
   "metadata": {},
   "source": [
    "## Model Creation"
   ]
  },
  {
   "cell_type": "markdown",
   "metadata": {},
   "source": [
    "### Sequential API"
   ]
  },
  {
   "cell_type": "code",
   "execution_count": 37,
   "metadata": {},
   "outputs": [],
   "source": [
    "\n",
    "\n",
    "\n",
    "# model = tf.keras.Sequential([\n",
    "#     InputLayer(input_shape=(IM_SIZE, IM_SIZE, 3)),\n",
    "#     Conv2D(filters=6, kernel_size=3, strides=1, padding='valid', activation='relu'),\n",
    "#     BatchNormalization(),\n",
    "#     MaxPool2D(pool_size=2, strides=2),\n",
    "\n",
    "#     Conv2D(filters=16, kernel_size=3, strides=1, padding='valid', activation='relu'),\n",
    "#     BatchNormalization(),\n",
    "#     MaxPool2D(pool_size=2, strides=2),\n",
    "\n",
    "#     Flatten(),\n",
    "\n",
    "#     Dense(1000, activation='relu'),\n",
    "#     BatchNormalization(),\n",
    "#     Dense(100, activation='relu'),\n",
    "#     BatchNormalization(),\n",
    "#     Dense(1, activation='sigmoid')\n",
    "# ])\n",
    "\n",
    "# model.summary()\n",
    "\n"
   ]
  },
  {
   "cell_type": "markdown",
   "metadata": {},
   "source": [
    "### Functional API"
   ]
  },
  {
   "cell_type": "code",
   "execution_count": 38,
   "metadata": {},
   "outputs": [
    {
     "name": "stdout",
     "output_type": "stream",
     "text": [
      "Model: \"feature_extractor\"\n",
      "_________________________________________________________________\n",
      " Layer (type)                Output Shape              Param #   \n",
      "=================================================================\n",
      " input_1 (InputLayer)        [(None, 224, 224, 3)]     0         \n",
      "                                                                 \n",
      " conv2d (Conv2D)             (None, 222, 222, 6)       168       \n",
      "                                                                 \n",
      " batch_normalization (Batch  (None, 222, 222, 6)       24        \n",
      " Normalization)                                                  \n",
      "                                                                 \n",
      " max_pooling2d (MaxPooling2  (None, 111, 111, 6)       0         \n",
      " D)                                                              \n",
      "                                                                 \n",
      " dropout (Dropout)           (None, 111, 111, 6)       0         \n",
      "                                                                 \n",
      " conv2d_1 (Conv2D)           (None, 109, 109, 16)      880       \n",
      "                                                                 \n",
      " batch_normalization_1 (Bat  (None, 109, 109, 16)      64        \n",
      " chNormalization)                                                \n",
      "                                                                 \n",
      " max_pooling2d_1 (MaxPoolin  (None, 108, 108, 16)      0         \n",
      " g2D)                                                            \n",
      "                                                                 \n",
      "=================================================================\n",
      "Total params: 1136 (4.44 KB)\n",
      "Trainable params: 1092 (4.27 KB)\n",
      "Non-trainable params: 44 (176.00 Byte)\n",
      "_________________________________________________________________\n"
     ]
    }
   ],
   "source": [
    "func_input = Input(shape=(IM_SIZE, IM_SIZE, 3))\n",
    "\n",
    "x = Conv2D(filters=N_FILTERS, kernel_size=KERNEL_SIZE, strides=N_STRIDES, padding='valid', activation='relu', kernel_regularizer=tf.keras.regularizers.l2(REGULARIZATION_RATE))(func_input)\n",
    "x = BatchNormalization()(x)\n",
    "x = MaxPool2D(pool_size=POOL_SIZE, strides=N_STRIDES*2)(x)\n",
    "x = tf.keras.layers.Dropout(DROPOUT_RATE)(x)\n",
    "\n",
    "x = Conv2D(filters=N_FILTERS * 2 + 4, kernel_size=KERNEL_SIZE, strides=N_STRIDES, padding='valid', activation='relu', kernel_regularizer=tf.keras.regularizers.l2(REGULARIZATION_RATE))(x)\n",
    "x = BatchNormalization()(x)\n",
    "output = MaxPool2D(pool_size=POOL_SIZE, strides=N_STRIDES)(x)\n",
    "\n",
    "feature_extractor_model = Model(inputs=func_input, outputs=output, name='feature_extractor')\n",
    "feature_extractor_model.summary()"
   ]
  },
  {
   "cell_type": "code",
   "execution_count": 39,
   "metadata": {},
   "outputs": [],
   "source": [
    "# func_input = Input(shape=(IM_SIZE, IM_SIZE, 3))\n",
    "\n",
    "# x = feature_extractor_model(func_input)\n",
    "# x = Flatten()(x)\n",
    "\n",
    "# x = Dense(1000, activation='relu')(x)\n",
    "# x = BatchNormalization()(x)\n",
    "\n",
    "# x = Dense(100, activation='relu')(x)\n",
    "# x = BatchNormalization()(x)\n",
    "\n",
    "# func_output = Dense(1, activation='sigmoid')(x)\n",
    "\n",
    "# model = Model(inputs=func_input, outputs=func_output, name='malaria_detection')\n",
    "# model.summary()\n",
    "\n"
   ]
  },
  {
   "cell_type": "markdown",
   "metadata": {},
   "source": [
    "## Model Subclassing"
   ]
  },
  {
   "cell_type": "code",
   "execution_count": 40,
   "metadata": {},
   "outputs": [],
   "source": [
    "class FeatureExtractor(Layer):\n",
    "    def __init__(self, filters, kernel_size, strides, padding, activation, pool_size):\n",
    "        super(FeatureExtractor, self).__init__()\n",
    "\n",
    "        self.conv1 = Conv2D(filters=filters, kernel_size=kernel_size, strides=strides, padding=padding, activation=activation)\n",
    "        self.batch_1 = BatchNormalization()\n",
    "        self.pool_1 = MaxPool2D(pool_size=pool_size, strides=2*strides)\n",
    "\n",
    "        self.conv2 = Conv2D(filters=2*filters, kernel_size=kernel_size, strides=strides, padding=padding, activation=activation)\n",
    "        self.batch_2 = BatchNormalization()\n",
    "        self.pool_2 = MaxPool2D(pool_size=pool_size, strides=2*strides)\n",
    "\n",
    "\n",
    "    def call(self, x, training):\n",
    "        x = self.conv1(x)\n",
    "        x = self.batch_1(x)\n",
    "        x = self.pool_1(x)\n",
    "\n",
    "        x = self.conv2(x)\n",
    "        x = self.batch_2(x)\n",
    "        x = self.pool_2(x)\n",
    "\n",
    "        return x\n",
    "\n",
    "\n",
    "feature_sub_classed = FeatureExtractor(8, 3, 1, 'valid', 'relu', 2)"
   ]
  },
  {
   "cell_type": "code",
   "execution_count": 41,
   "metadata": {},
   "outputs": [],
   "source": [
    "# func_input = Input(shape=(IM_SIZE, IM_SIZE, 3))\n",
    "\n",
    "# x = feature_sub_classed(func_input)\n",
    "# x = Flatten()(x)\n",
    "\n",
    "# x = Dense(1000, activation='relu')(x)\n",
    "# x = BatchNormalization()(x)\n",
    "\n",
    "# x = Dense(100, activation='relu')(x)\n",
    "# x = BatchNormalization()(x)\n",
    "\n",
    "# func_output = Dense(1, activation='sigmoid')(x)\n",
    "\n",
    "# model = Model(inputs=func_input, outputs=func_output, name='malaria_detection')\n",
    "# model.summary()"
   ]
  },
  {
   "cell_type": "code",
   "execution_count": 42,
   "metadata": {},
   "outputs": [
    {
     "name": "stdout",
     "output_type": "stream",
     "text": [
      "Model: \"lenet_model\"\n",
      "_________________________________________________________________\n",
      " Layer (type)                Output Shape              Param #   \n",
      "=================================================================\n",
      " feature_extractor_1 (Featu  multiple                  1488      \n",
      " reExtractor)                                                    \n",
      "                                                                 \n",
      " flatten (Flatten)           multiple                  0         \n",
      "                                                                 \n",
      " dense (Dense)               multiple                  46657000  \n",
      "                                                                 \n",
      " batch_normalization_6 (Bat  multiple                  4000      \n",
      " chNormalization)                                                \n",
      "                                                                 \n",
      " dense_1 (Dense)             multiple                  100100    \n",
      "                                                                 \n",
      " batch_normalization_7 (Bat  multiple                  400       \n",
      " chNormalization)                                                \n",
      "                                                                 \n",
      " dense_2 (Dense)             multiple                  101       \n",
      "                                                                 \n",
      "=================================================================\n",
      "Total params: 46763089 (178.39 MB)\n",
      "Trainable params: 46760841 (178.38 MB)\n",
      "Non-trainable params: 2248 (8.78 KB)\n",
      "_________________________________________________________________\n"
     ]
    },
    {
     "name": "stderr",
     "output_type": "stream",
     "text": [
      "2024-04-14 03:33:59.095353: I tensorflow/compiler/xla/stream_executor/cuda/cuda_dnn.cc:432] Loaded cuDNN version 8907\n",
      "2024-04-14 03:33:59.125208: I tensorflow/tsl/platform/default/subprocess.cc:304] Start cannot spawn child process: No such file or directory\n",
      "2024-04-14 03:33:59.125484: I tensorflow/tsl/platform/default/subprocess.cc:304] Start cannot spawn child process: No such file or directory\n",
      "2024-04-14 03:33:59.125500: W tensorflow/compiler/xla/stream_executor/gpu/asm_compiler.cc:109] Couldn't get ptxas version : FAILED_PRECONDITION: Couldn't get ptxas/nvlink version string: INTERNAL: Couldn't invoke ptxas --version\n",
      "2024-04-14 03:33:59.125884: I tensorflow/tsl/platform/default/subprocess.cc:304] Start cannot spawn child process: No such file or directory\n",
      "2024-04-14 03:33:59.125926: W tensorflow/compiler/xla/stream_executor/gpu/redzone_allocator.cc:318] INTERNAL: Failed to launch ptxas\n",
      "Relying on driver to perform ptx compilation. \n",
      "Modify $PATH to customize ptxas location.\n",
      "This message will be only logged once.\n",
      "2024-04-14 03:33:59.226538: I tensorflow/compiler/xla/stream_executor/cuda/cuda_blas.cc:606] TensorFloat-32 will be used for the matrix multiplication. This will only be logged once.\n"
     ]
    }
   ],
   "source": [
    "class LenetModel(Model):\n",
    "    def __init__(self):\n",
    "        super(LenetModel, self).__init__()\n",
    "\n",
    "        self.feature_extractor = FeatureExtractor(8, 3, 1, 'valid', 'relu', 2)\n",
    "        self.flatten = Flatten()\n",
    "        self.dense_1 = Dense(1000, activation='relu')\n",
    "        self.batch_1 = BatchNormalization()\n",
    "\n",
    "        self.dense_2 = Dense(100, activation='relu')\n",
    "        self.batch_2 = BatchNormalization()\n",
    "\n",
    "        self.dense_3 = Dense(1, activation='sigmoid')\n",
    "\n",
    "    def call(self, x, training):\n",
    "        x = self.feature_extractor(x, training)\n",
    "        x = self.flatten(x)\n",
    "\n",
    "        x = self.dense_1(x)\n",
    "        x = self.batch_1(x)\n",
    "\n",
    "        x = self.dense_2(x)\n",
    "        x = self.batch_2(x)\n",
    "\n",
    "        return self.dense_3(x)\n",
    "\n",
    "\n",
    "lenet_sub_classed_model = LenetModel()\n",
    "lenet_sub_classed_model(tf.ones((1, IM_SIZE, IM_SIZE, 3)))\n",
    "lenet_sub_classed_model.summary()"
   ]
  },
  {
   "cell_type": "code",
   "execution_count": 43,
   "metadata": {},
   "outputs": [],
   "source": [
    "model = LenetModel()\n",
    "\n",
    "metrics = [\n",
    "    BinaryAccuracy(name='accuracy'),\n",
    "    FalsePositives(name='fp'),\n",
    "    FalseNegatives(name='fn'),\n",
    "    TruePositives(name='tp'),\n",
    "    TrueNegatives(name='tn'),\n",
    "    Precision(name='precision'),\n",
    "    Recall(name='recall'),\n",
    "    AUC(name='auc')\n",
    "]\n",
    "\n",
    "\n",
    "LABELS = ['Uninfected','Parasitized']\n",
    "\n",
    "model.compile(optimizer=tf.optimizers.legacy.Adam(learning_rate=CONFIGURATION['learning_rate']),\n",
    "              loss=tf.keras.losses.binary_crossentropy,\n",
    "              metrics=metrics)\n",
    "              "
   ]
  },
  {
   "cell_type": "code",
   "execution_count": 44,
   "metadata": {},
   "outputs": [],
   "source": [
    "# We can use this custom layer in place of Dense layer\n",
    "# It's an example of how to create custom layers\n",
    "class NeuralearnDense(Layer):\n",
    "    def __init__(self, output_units, activation=None):\n",
    "        super(NeuralearnDense, self).__init__()\n",
    "        self.output_units = output_units\n",
    "        self.activation = activation\n",
    "\n",
    "\n",
    "    def build(self, input_features_shape):\n",
    "        self.w = self.add_weight(shape=(input_features_shape[-1], self.output_units), trainable=True, initializer='random_normal')\n",
    "        self.w = self.add_weight(shape=(self.output_units,), trainable=True, initializer='random_normal')\n",
    "\n",
    "    def call(self, input_features):\n",
    "        pre_output = tf.matmul(input_features, self.w) + self.b\n",
    "\n",
    "        if self.activation == 'relu':\n",
    "            return tf.math.maximum(pre_output, 0)\n",
    "        elif self.activation == 'sigmoid':\n",
    "            return tf.math.sigmoid(pre_output)\n",
    "        else:\n",
    "            return pre_output\n",
    "        \n"
   ]
  },
  {
   "cell_type": "markdown",
   "metadata": {},
   "source": [
    "## Callbacks"
   ]
  },
  {
   "cell_type": "code",
   "execution_count": 45,
   "metadata": {},
   "outputs": [],
   "source": [
    "class LossCallback(Callback):\n",
    "    def on_epoch_end(self, epoch, logs=None):\n",
    "        print('\\nFor Epoch Number {} the model has a loss of {}'.format(epoch, logs['loss'])) \n",
    "    def on_batch_end(self, batch, logs=None):\n",
    "        print('\\nFor Batch Number {} the model has a loss of {}'.format(batch, logs['loss']))\n"
   ]
  },
  {
   "cell_type": "markdown",
   "metadata": {},
   "source": [
    "### CSV Logger"
   ]
  },
  {
   "cell_type": "code",
   "execution_count": 46,
   "metadata": {},
   "outputs": [],
   "source": [
    "csv_callback = CSVLogger('logs.csv', separator=',', append=False)"
   ]
  },
  {
   "cell_type": "markdown",
   "metadata": {},
   "source": [
    "### Early Stopping"
   ]
  },
  {
   "cell_type": "code",
   "execution_count": 47,
   "metadata": {},
   "outputs": [],
   "source": [
    "early_stopping_callback = EarlyStopping(monitor='val_loss',min_delta=0, patience=0, verbose=0, mode='auto', baseline=None, restore_best_weights=False)"
   ]
  },
  {
   "cell_type": "markdown",
   "metadata": {},
   "source": [
    "### Learning Rate Scheduler"
   ]
  },
  {
   "cell_type": "code",
   "execution_count": 48,
   "metadata": {},
   "outputs": [],
   "source": [
    "def scheduler(epoch, lr):\n",
    "    if epoch <= 3:\n",
    "        return lr\n",
    "    else:\n",
    "        return lr * tf.math.exp(-0.1)\n",
    "    \n",
    "lr_scheduler_callback = LearningRateScheduler(scheduler, verbose=1)"
   ]
  },
  {
   "cell_type": "markdown",
   "metadata": {},
   "source": [
    "### Model Checkpoint"
   ]
  },
  {
   "cell_type": "code",
   "execution_count": 49,
   "metadata": {},
   "outputs": [],
   "source": [
    "checkpoint_callback = ModelCheckpoint('checkpoints/', monitor='val_loss', verbose=0, save_best_only=False, save_weights_only=False, mode='auto', save_freq=3)"
   ]
  },
  {
   "cell_type": "markdown",
   "metadata": {},
   "source": [
    "### Reduece Learning Rate on Plateau"
   ]
  },
  {
   "cell_type": "code",
   "execution_count": 50,
   "metadata": {},
   "outputs": [],
   "source": [
    "plateau_callback = ReduceLROnPlateau(monitor='val_accuracy', factor=0.1, patience=2, verbose=1)"
   ]
  },
  {
   "cell_type": "code",
   "execution_count": 51,
   "metadata": {},
   "outputs": [
    {
     "name": "stdout",
     "output_type": "stream",
     "text": [
      "<_PrefetchDataset element_spec=(TensorSpec(shape=(None, 224, 224, 3), dtype=tf.float32, name=None), TensorSpec(shape=(None,), dtype=tf.int64, name=None))>\n"
     ]
    }
   ],
   "source": [
    "print(val_dataset)"
   ]
  },
  {
   "cell_type": "code",
   "execution_count": 52,
   "metadata": {},
   "outputs": [],
   "source": [
    "def generator(dataset):\n",
    "    for x, y in dataset:\n",
    "        yield x, y"
   ]
  },
  {
   "cell_type": "markdown",
   "metadata": {},
   "source": [
    "## Model Training"
   ]
  },
  {
   "cell_type": "markdown",
   "metadata": {},
   "source": [
    "### Hyperparameter Tuning"
   ]
  },
  {
   "cell_type": "code",
   "execution_count": 53,
   "metadata": {},
   "outputs": [
    {
     "data": {
      "application/vnd.jupyter.widget-view+json": {
       "model_id": "1837f16674a44e3e8937d30c2617db24",
       "version_major": 2,
       "version_minor": 0
      },
      "text/plain": [
       "VBox(children=(Label(value='Waiting for wandb.init()...\\r'), FloatProgress(value=0.011112114933328282, max=1.0…"
      ]
     },
     "metadata": {},
     "output_type": "display_data"
    },
    {
     "data": {
      "text/html": [
       "Tracking run with wandb version 0.16.6"
      ],
      "text/plain": [
       "<IPython.core.display.HTML object>"
      ]
     },
     "metadata": {},
     "output_type": "display_data"
    },
    {
     "data": {
      "text/html": [
       "Run data is saved locally in <code>/home/kervin/Coding/machine_learning/20_tensorflow_projects/wandb/run-20240414_033359-evr3xejo</code>"
      ],
      "text/plain": [
       "<IPython.core.display.HTML object>"
      ]
     },
     "metadata": {},
     "output_type": "display_data"
    },
    {
     "data": {
      "text/html": [
       "Syncing run <strong><a href='https://wandb.ai/kervin5/Malaria-Detection/runs/evr3xejo' target=\"_blank\">dutiful-field-79</a></strong> to <a href='https://wandb.ai/kervin5/Malaria-Detection' target=\"_blank\">Weights & Biases</a> (<a href='https://wandb.me/run' target=\"_blank\">docs</a>)<br/>"
      ],
      "text/plain": [
       "<IPython.core.display.HTML object>"
      ]
     },
     "metadata": {},
     "output_type": "display_data"
    },
    {
     "data": {
      "text/html": [
       " View project at <a href='https://wandb.ai/kervin5/Malaria-Detection' target=\"_blank\">https://wandb.ai/kervin5/Malaria-Detection</a>"
      ],
      "text/plain": [
       "<IPython.core.display.HTML object>"
      ]
     },
     "metadata": {},
     "output_type": "display_data"
    },
    {
     "data": {
      "text/html": [
       " View run at <a href='https://wandb.ai/kervin5/Malaria-Detection/runs/evr3xejo' target=\"_blank\">https://wandb.ai/kervin5/Malaria-Detection/runs/evr3xejo</a>"
      ],
      "text/plain": [
       "<IPython.core.display.HTML object>"
      ]
     },
     "metadata": {},
     "output_type": "display_data"
    },
    {
     "data": {
      "text/html": [
       "<button onClick=\"this.nextSibling.style.display='block';this.style.display='none';\">Display W&B run</button><iframe src='https://wandb.ai/kervin5/Malaria-Detection/runs/evr3xejo?jupyter=true' style='border:none;width:100%;height:420px;display:none;'></iframe>"
      ],
      "text/plain": [
       "<wandb.sdk.wandb_run.Run at 0x78e044a9c070>"
      ]
     },
     "execution_count": 53,
     "metadata": {},
     "output_type": "execute_result"
    }
   ],
   "source": [
    "wandb.init(project=\"Malaria-Detection\", entity=\"kervin5\")"
   ]
  },
  {
   "cell_type": "code",
   "execution_count": 54,
   "metadata": {},
   "outputs": [
    {
     "name": "stdout",
     "output_type": "stream",
     "text": [
      "Create sweep with ID: do7b6bjx\n",
      "Sweep URL: https://wandb.ai/kervin5/Malaria-Detection/sweeps/do7b6bjx\n"
     ]
    },
    {
     "data": {
      "application/vnd.jupyter.widget-view+json": {
       "model_id": "1eac1c0b57be4f899f9ab966deefb337",
       "version_major": 2,
       "version_minor": 0
      },
      "text/plain": [
       "VBox(children=(Label(value='0.003 MB of 0.003 MB uploaded\\r'), FloatProgress(value=1.0, max=1.0)))"
      ]
     },
     "metadata": {},
     "output_type": "display_data"
    },
    {
     "data": {
      "text/html": [
       " View run <strong style=\"color:#cdcd00\">dutiful-field-79</strong> at: <a href='https://wandb.ai/kervin5/Malaria-Detection/runs/evr3xejo' target=\"_blank\">https://wandb.ai/kervin5/Malaria-Detection/runs/evr3xejo</a><br/> View project at: <a href='https://wandb.ai/kervin5/Malaria-Detection' target=\"_blank\">https://wandb.ai/kervin5/Malaria-Detection</a><br/>Synced 6 W&B file(s), 0 media file(s), 0 artifact file(s) and 0 other file(s)"
      ],
      "text/plain": [
       "<IPython.core.display.HTML object>"
      ]
     },
     "metadata": {},
     "output_type": "display_data"
    },
    {
     "data": {
      "text/html": [
       "Find logs at: <code>./wandb/run-20240414_033359-evr3xejo/logs</code>"
      ],
      "text/plain": [
       "<IPython.core.display.HTML object>"
      ]
     },
     "metadata": {},
     "output_type": "display_data"
    }
   ],
   "source": [
    "sweep_config = {\n",
    "  \"name\" : \"Malaria-Prediction-Sweep\",\n",
    "  \"method\" : \"random\",\n",
    "  \"metric\": {\n",
    "      \"name\" : \"accuracy\",\n",
    "      \"goal\" : \"maximize\",\n",
    "  },\n",
    "  \"parameters\" : {\n",
    "    \n",
    "    \"im_size\": {\n",
    "        \"value\" : 224,\n",
    "    },\n",
    "\n",
    "    \"n_epochs\": {\n",
    "        \"value\" : 1,\n",
    "    },\n",
    "    \n",
    "    \"kernel_size\": {\n",
    "        \"value\" : 3,\n",
    "    },\n",
    "\n",
    "    \"n_strides\": {\n",
    "        \"value\" : 1,\n",
    "    },\n",
    "\n",
    "    \"pool_size\": {\n",
    "        \"value\" : 224,\n",
    "    },\n",
    "  \n",
    "    \"n_filters\" : {\n",
    "        \"value\" : 6,\n",
    "    },\n",
    "      \n",
    "    \"n_dense_1\" : {\n",
    "      \"values\" : [16, 32, 64, 128]\n",
    "    },\n",
    "\n",
    "    \"n_dense_2\" : {\n",
    "      \"values\" : [16, 32, 64, 128]\n",
    "    },\n",
    "\n",
    "    \"dropout\":{\n",
    "      \"min\": 0.1,\n",
    "      \"max\": 0.4\n",
    "    },\n",
    "\n",
    "    \"regularization_rate\" :{\n",
    "      \"distribution\": \"uniform\",\n",
    "      \"min\": 0.001,\n",
    "      \"max\": 0.1\n",
    "    },\n",
    "\n",
    "    \"learning_rate\" :{\n",
    "      \"distribution\": \"uniform\",\n",
    "      \"min\": 1e-4,\n",
    "      \"max\": 1e-2\n",
    "    }\n",
    "  },\n",
    "}\n",
    "\n",
    "sweep_id = wandb.sweep(sweep_config, project=\"Malaria-Detection\", entity=\"kervin5\")\n",
    "wandb.finish()"
   ]
  },
  {
   "cell_type": "code",
   "execution_count": 55,
   "metadata": {},
   "outputs": [],
   "source": [
    "IM_SIZE = 224\n",
    "def model_tune(config):\n",
    "  lenet_model = tf.keras.Sequential([\n",
    "    InputLayer(input_shape = (224, 224, 3)),\n",
    "\n",
    "    Conv2D(filters = 6 , kernel_size = 3, strides = 1 , padding='valid',\n",
    "          activation = 'relu',kernel_regularizer = L2(config['regularization_rate'])),\n",
    "    BatchNormalization(),\n",
    "    MaxPool2D (pool_size = 1, strides= config['n_strides']*2),\n",
    "    Dropout(rate = config['dropout'] ),\n",
    "\n",
    "    Conv2D(filters = 16, kernel_size = 3, strides = 1, padding='valid',\n",
    "          activation = 'relu', kernel_regularizer = L2(config['regularization_rate'])),\n",
    "    BatchNormalization(),\n",
    "    MaxPool2D (pool_size = 1, strides= 2),\n",
    "\n",
    "    Flatten(),\n",
    "    \n",
    "    Dense( config['n_dense_1'], activation = \"relu\", kernel_regularizer = L2(config['regularization_rate'])),\n",
    "    BatchNormalization(),\n",
    "    Dropout(rate = config['dropout']),\n",
    "    \n",
    "    Dense( config['n_dense_2'], activation = \"relu\", kernel_regularizer = L2(config['regularization_rate'])),\n",
    "    BatchNormalization(),\n",
    "\n",
    "    Dense(1, activation = \"sigmoid\"),\n",
    "\n",
    "  ])\n",
    "\n",
    "\n",
    "  return lenet_model"
   ]
  },
  {
   "cell_type": "code",
   "execution_count": 56,
   "metadata": {},
   "outputs": [
    {
     "name": "stderr",
     "output_type": "stream",
     "text": [
      "\u001b[34m\u001b[1mwandb\u001b[0m: Agent Starting Run: vo218zg4 with config:\n",
      "\u001b[34m\u001b[1mwandb\u001b[0m: \tdropout: 0.1453197305018193\n",
      "\u001b[34m\u001b[1mwandb\u001b[0m: \tim_size: 224\n",
      "\u001b[34m\u001b[1mwandb\u001b[0m: \tkernel_size: 3\n",
      "\u001b[34m\u001b[1mwandb\u001b[0m: \tlearning_rate: 0.002060720111679581\n",
      "\u001b[34m\u001b[1mwandb\u001b[0m: \tn_dense_1: 32\n",
      "\u001b[34m\u001b[1mwandb\u001b[0m: \tn_dense_2: 128\n",
      "\u001b[34m\u001b[1mwandb\u001b[0m: \tn_epochs: 1\n",
      "\u001b[34m\u001b[1mwandb\u001b[0m: \tn_filters: 6\n",
      "\u001b[34m\u001b[1mwandb\u001b[0m: \tn_strides: 1\n",
      "\u001b[34m\u001b[1mwandb\u001b[0m: \tpool_size: 224\n",
      "\u001b[34m\u001b[1mwandb\u001b[0m: \tregularization_rate: 0.09166714087570672\n",
      "\u001b[34m\u001b[1mwandb\u001b[0m: \u001b[33mWARNING\u001b[0m Ignored wandb.init() arg project when running a sweep.\n",
      "\u001b[34m\u001b[1mwandb\u001b[0m: \u001b[33mWARNING\u001b[0m Ignored wandb.init() arg entity when running a sweep.\n"
     ]
    },
    {
     "data": {
      "application/vnd.jupyter.widget-view+json": {
       "model_id": "d54ff60f505943de84b534afa8718170",
       "version_major": 2,
       "version_minor": 0
      },
      "text/plain": [
       "VBox(children=(Label(value='Waiting for wandb.init()...\\r'), FloatProgress(value=0.011112248633334173, max=1.0…"
      ]
     },
     "metadata": {},
     "output_type": "display_data"
    },
    {
     "data": {
      "text/html": [
       "Tracking run with wandb version 0.16.6"
      ],
      "text/plain": [
       "<IPython.core.display.HTML object>"
      ]
     },
     "metadata": {},
     "output_type": "display_data"
    },
    {
     "data": {
      "text/html": [
       "Run data is saved locally in <code>/home/kervin/Coding/machine_learning/20_tensorflow_projects/wandb/run-20240414_033413-vo218zg4</code>"
      ],
      "text/plain": [
       "<IPython.core.display.HTML object>"
      ]
     },
     "metadata": {},
     "output_type": "display_data"
    },
    {
     "data": {
      "text/html": [
       "Syncing run <strong><a href='https://wandb.ai/kervin5/Malaria-Detection/runs/vo218zg4' target=\"_blank\">rosy-sweep-1</a></strong> to <a href='https://wandb.ai/kervin5/Malaria-Detection' target=\"_blank\">Weights & Biases</a> (<a href='https://wandb.me/run' target=\"_blank\">docs</a>)<br/>Sweep page: <a href='https://wandb.ai/kervin5/Malaria-Detection/sweeps/do7b6bjx' target=\"_blank\">https://wandb.ai/kervin5/Malaria-Detection/sweeps/do7b6bjx</a>"
      ],
      "text/plain": [
       "<IPython.core.display.HTML object>"
      ]
     },
     "metadata": {},
     "output_type": "display_data"
    },
    {
     "data": {
      "text/html": [
       " View project at <a href='https://wandb.ai/kervin5/Malaria-Detection' target=\"_blank\">https://wandb.ai/kervin5/Malaria-Detection</a>"
      ],
      "text/plain": [
       "<IPython.core.display.HTML object>"
      ]
     },
     "metadata": {},
     "output_type": "display_data"
    },
    {
     "data": {
      "text/html": [
       " View sweep at <a href='https://wandb.ai/kervin5/Malaria-Detection/sweeps/do7b6bjx' target=\"_blank\">https://wandb.ai/kervin5/Malaria-Detection/sweeps/do7b6bjx</a>"
      ],
      "text/plain": [
       "<IPython.core.display.HTML object>"
      ]
     },
     "metadata": {},
     "output_type": "display_data"
    },
    {
     "data": {
      "text/html": [
       " View run at <a href='https://wandb.ai/kervin5/Malaria-Detection/runs/vo218zg4' target=\"_blank\">https://wandb.ai/kervin5/Malaria-Detection/runs/vo218zg4</a>"
      ],
      "text/plain": [
       "<IPython.core.display.HTML object>"
      ]
     },
     "metadata": {},
     "output_type": "display_data"
    },
    {
     "name": "stderr",
     "output_type": "stream",
     "text": [
      "\u001b[34m\u001b[1mwandb\u001b[0m: \u001b[33mWARNING\u001b[0m The save_model argument by default saves the model in the HDF5 format that cannot save custom objects like subclassed models and custom layers. This behavior will be deprecated in a future release in favor of the SavedModel format. Meanwhile, the HDF5 model is saved as W&B files and the SavedModel as W&B Artifacts.\n",
      "2024-04-14 03:34:18.731414: E tensorflow/core/grappler/optimizers/meta_optimizer.cc:954] layout failed: INVALID_ARGUMENT: Size of values 0 does not match size of permutation 4 @ fanin shape insequential/dropout/dropout/SelectV2-2-TransposeNHWCToNCHW-LayoutOptimizer\n",
      "2024-04-14 03:34:19.317104: W tensorflow/tsl/framework/bfc_allocator.cc:296] Allocator (GPU_0_bfc) ran out of memory trying to allocate 160.39MiB with freed_by_count=0. The caller indicates that this is not a failure, but this may mean that there could be performance gains if more memory were available.\n",
      "2024-04-14 03:34:19.317142: W tensorflow/core/kernels/gpu_utils.cc:50] Failed to allocate memory for convolution redzone checking; skipping this check. This is benign and only means that we won't check cudnn for out-of-bounds reads and writes. This message will only be printed once.\n",
      "2024-04-14 03:34:19.431623: W tensorflow/tsl/framework/bfc_allocator.cc:296] Allocator (GPU_0_bfc) ran out of memory trying to allocate 16.28MiB with freed_by_count=0. The caller indicates that this is not a failure, but this may mean that there could be performance gains if more memory were available.\n",
      "2024-04-14 03:34:19.431676: W tensorflow/tsl/framework/bfc_allocator.cc:296] Allocator (GPU_0_bfc) ran out of memory trying to allocate 16.28MiB with freed_by_count=0. The caller indicates that this is not a failure, but this may mean that there could be performance gains if more memory were available.\n",
      "2024-04-14 03:34:19.431694: W tensorflow/tsl/framework/bfc_allocator.cc:296] Allocator (GPU_0_bfc) ran out of memory trying to allocate 16.28MiB with freed_by_count=0. The caller indicates that this is not a failure, but this may mean that there could be performance gains if more memory were available.\n",
      "2024-04-14 03:34:19.431708: W tensorflow/tsl/framework/bfc_allocator.cc:296] Allocator (GPU_0_bfc) ran out of memory trying to allocate 16.00MiB with freed_by_count=0. The caller indicates that this is not a failure, but this may mean that there could be performance gains if more memory were available.\n",
      "2024-04-14 03:34:19.431724: W tensorflow/tsl/framework/bfc_allocator.cc:296] Allocator (GPU_0_bfc) ran out of memory trying to allocate 16.00MiB with freed_by_count=0. The caller indicates that this is not a failure, but this may mean that there could be performance gains if more memory were available.\n",
      "2024-04-14 03:34:19.431739: W tensorflow/tsl/framework/bfc_allocator.cc:296] Allocator (GPU_0_bfc) ran out of memory trying to allocate 16.28MiB with freed_by_count=0. The caller indicates that this is not a failure, but this may mean that there could be performance gains if more memory were available.\n",
      "2024-04-14 03:34:19.431755: W tensorflow/tsl/framework/bfc_allocator.cc:296] Allocator (GPU_0_bfc) ran out of memory trying to allocate 16.28MiB with freed_by_count=0. The caller indicates that this is not a failure, but this may mean that there could be performance gains if more memory were available.\n",
      "2024-04-14 03:34:19.431772: W tensorflow/tsl/framework/bfc_allocator.cc:296] Allocator (GPU_0_bfc) ran out of memory trying to allocate 16.00MiB with freed_by_count=0. The caller indicates that this is not a failure, but this may mean that there could be performance gains if more memory were available.\n",
      "2024-04-14 03:34:19.431786: W tensorflow/tsl/framework/bfc_allocator.cc:296] Allocator (GPU_0_bfc) ran out of memory trying to allocate 233.89MiB with freed_by_count=0. The caller indicates that this is not a failure, but this may mean that there could be performance gains if more memory were available.\n",
      "2024-04-14 03:34:19.432470: W tensorflow/core/kernels/conv_ops_gpu.cc:144] None of the algorithms provided by cuDNN frontend heuristics worked; trying fallback algorithms.  Conv: batch: 128\n",
      "in_depths: 3\n",
      "out_depths: 6\n",
      "in: 224\n",
      "in: 224\n",
      "data_format: 1\n",
      "filter: 3\n",
      "filter: 3\n",
      "filter: 3\n",
      "dilation: 1\n",
      "dilation: 1\n",
      "stride: 1\n",
      "stride: 1\n",
      "padding: 0\n",
      "padding: 0\n",
      "dtype: DT_FLOAT\n",
      "group_count: 1\n",
      "device_identifier: \"sm_8.9 with 16835477504B RAM, 80 cores, 2595000KHz clock, 11501000KHz mem clock, 67108864B L2$\"\n",
      "fusion {\n",
      "  activation_mode: kRelu\n",
      "  conv_scale: 1\n",
      "}\n",
      "version: 3\n",
      "\n",
      "2024-04-14 03:34:19.433283: W tensorflow/core/framework/op_kernel.cc:1828] OP_REQUIRES failed at conv_ops_fused_impl.h:625 : NOT_FOUND: No algorithm worked!  Error messages:\n",
      "  Profiling failure on CUDNN engine eng11{}: RESOURCE_EXHAUSTED: Out of memory while trying to allocate 16777216 bytes.\n",
      "  Profiling failure on CUDNN engine eng0{}: RESOURCE_EXHAUSTED: Out of memory while trying to allocate 16777216 bytes.\n",
      "Traceback (most recent call last):\n",
      "  File \"/tmp/ipykernel_19536/3935950760.py\", line 9, in train\n",
      "    model.fit(val_dataset, epochs=config.n_epochs, callbacks=[WandbCallback()])\n",
      "  File \"/home/kervin/miniforge3/envs/tf/lib/python3.9/site-packages/keras/src/utils/traceback_utils.py\", line 70, in error_handler\n",
      "    raise e.with_traceback(filtered_tb) from None\n",
      "  File \"/home/kervin/miniforge3/envs/tf/lib/python3.9/site-packages/tensorflow/python/eager/execute.py\", line 53, in quick_execute\n",
      "    tensors = pywrap_tfe.TFE_Py_Execute(ctx._handle, device_name, op_name,\n",
      "tensorflow.python.framework.errors_impl.NotFoundError: Graph execution error:\n",
      "\n",
      "Detected at node 'sequential/conv2d/Relu' defined at (most recent call last):\n",
      "    File \"/home/kervin/miniforge3/envs/tf/lib/python3.9/threading.py\", line 937, in _bootstrap\n",
      "      self._bootstrap_inner()\n",
      "    File \"/home/kervin/miniforge3/envs/tf/lib/python3.9/threading.py\", line 980, in _bootstrap_inner\n",
      "      self.run()\n",
      "    File \"/home/kervin/miniforge3/envs/tf/lib/python3.9/site-packages/ipykernel/ipkernel.py\", line 761, in run_closure\n",
      "      _threading_Thread_run(self)\n",
      "    File \"/home/kervin/miniforge3/envs/tf/lib/python3.9/threading.py\", line 917, in run\n",
      "      self._target(*self._args, **self._kwargs)\n",
      "    File \"/home/kervin/miniforge3/envs/tf/lib/python3.9/site-packages/wandb/agents/pyagent.py\", line 308, in _run_job\n",
      "      self._function()\n",
      "    File \"/tmp/ipykernel_19536/3935950760.py\", line 9, in train\n",
      "      model.fit(val_dataset, epochs=config.n_epochs, callbacks=[WandbCallback()])\n",
      "    File \"/home/kervin/miniforge3/envs/tf/lib/python3.9/site-packages/keras/src/utils/traceback_utils.py\", line 65, in error_handler\n",
      "      return fn(*args, **kwargs)\n",
      "    File \"/home/kervin/miniforge3/envs/tf/lib/python3.9/site-packages/keras/src/engine/training.py\", line 1742, in fit\n",
      "      tmp_logs = self.train_function(iterator)\n",
      "    File \"/home/kervin/miniforge3/envs/tf/lib/python3.9/site-packages/keras/src/engine/training.py\", line 1338, in train_function\n",
      "      return step_function(self, iterator)\n",
      "    File \"/home/kervin/miniforge3/envs/tf/lib/python3.9/site-packages/keras/src/engine/training.py\", line 1322, in step_function\n",
      "      outputs = model.distribute_strategy.run(run_step, args=(data,))\n",
      "    File \"/home/kervin/miniforge3/envs/tf/lib/python3.9/site-packages/keras/src/engine/training.py\", line 1303, in run_step\n",
      "      outputs = model.train_step(data)\n",
      "    File \"/home/kervin/miniforge3/envs/tf/lib/python3.9/site-packages/keras/src/engine/training.py\", line 1080, in train_step\n",
      "      y_pred = self(x, training=True)\n",
      "    File \"/home/kervin/miniforge3/envs/tf/lib/python3.9/site-packages/keras/src/utils/traceback_utils.py\", line 65, in error_handler\n",
      "      return fn(*args, **kwargs)\n",
      "    File \"/home/kervin/miniforge3/envs/tf/lib/python3.9/site-packages/keras/src/engine/training.py\", line 569, in __call__\n",
      "      return super().__call__(*args, **kwargs)\n",
      "    File \"/home/kervin/miniforge3/envs/tf/lib/python3.9/site-packages/keras/src/utils/traceback_utils.py\", line 65, in error_handler\n",
      "      return fn(*args, **kwargs)\n",
      "    File \"/home/kervin/miniforge3/envs/tf/lib/python3.9/site-packages/keras/src/engine/base_layer.py\", line 1150, in __call__\n",
      "      outputs = call_fn(inputs, *args, **kwargs)\n",
      "    File \"/home/kervin/miniforge3/envs/tf/lib/python3.9/site-packages/keras/src/utils/traceback_utils.py\", line 96, in error_handler\n",
      "      return fn(*args, **kwargs)\n",
      "    File \"/home/kervin/miniforge3/envs/tf/lib/python3.9/site-packages/keras/src/engine/sequential.py\", line 405, in call\n",
      "      return super().call(inputs, training=training, mask=mask)\n",
      "    File \"/home/kervin/miniforge3/envs/tf/lib/python3.9/site-packages/keras/src/engine/functional.py\", line 512, in call\n",
      "      return self._run_internal_graph(inputs, training=training, mask=mask)\n",
      "    File \"/home/kervin/miniforge3/envs/tf/lib/python3.9/site-packages/keras/src/engine/functional.py\", line 669, in _run_internal_graph\n",
      "      outputs = node.layer(*args, **kwargs)\n",
      "    File \"/home/kervin/miniforge3/envs/tf/lib/python3.9/site-packages/keras/src/utils/traceback_utils.py\", line 65, in error_handler\n",
      "      return fn(*args, **kwargs)\n",
      "    File \"/home/kervin/miniforge3/envs/tf/lib/python3.9/site-packages/keras/src/engine/base_layer.py\", line 1150, in __call__\n",
      "      outputs = call_fn(inputs, *args, **kwargs)\n",
      "    File \"/home/kervin/miniforge3/envs/tf/lib/python3.9/site-packages/keras/src/utils/traceback_utils.py\", line 96, in error_handler\n",
      "      return fn(*args, **kwargs)\n",
      "    File \"/home/kervin/miniforge3/envs/tf/lib/python3.9/site-packages/keras/src/layers/convolutional/base_conv.py\", line 321, in call\n",
      "      return self.activation(outputs)\n",
      "    File \"/home/kervin/miniforge3/envs/tf/lib/python3.9/site-packages/keras/src/activations.py\", line 321, in relu\n",
      "      return backend.relu(\n",
      "    File \"/home/kervin/miniforge3/envs/tf/lib/python3.9/site-packages/keras/src/backend.py\", line 5397, in relu\n",
      "      x = tf.nn.relu(x)\n",
      "Node: 'sequential/conv2d/Relu'\n",
      "No algorithm worked!  Error messages:\n",
      "  Profiling failure on CUDNN engine eng11{}: RESOURCE_EXHAUSTED: Out of memory while trying to allocate 16777216 bytes.\n",
      "  Profiling failure on CUDNN engine eng0{}: RESOURCE_EXHAUSTED: Out of memory while trying to allocate 16777216 bytes.\n",
      "\t [[{{node sequential/conv2d/Relu}}]] [Op:__inference_train_function_61145]\n"
     ]
    },
    {
     "data": {
      "application/vnd.jupyter.widget-view+json": {
       "model_id": "0ce71256db024bd9b1ef5806f92f743d",
       "version_major": 2,
       "version_minor": 0
      },
      "text/plain": [
       "VBox(children=(Label(value='0.003 MB of 0.003 MB uploaded\\r'), FloatProgress(value=1.0, max=1.0)))"
      ]
     },
     "metadata": {},
     "output_type": "display_data"
    },
    {
     "data": {
      "text/html": [
       " View run <strong style=\"color:#cdcd00\">rosy-sweep-1</strong> at: <a href='https://wandb.ai/kervin5/Malaria-Detection/runs/vo218zg4' target=\"_blank\">https://wandb.ai/kervin5/Malaria-Detection/runs/vo218zg4</a><br/> View project at: <a href='https://wandb.ai/kervin5/Malaria-Detection' target=\"_blank\">https://wandb.ai/kervin5/Malaria-Detection</a><br/>Synced 6 W&B file(s), 0 media file(s), 0 artifact file(s) and 0 other file(s)"
      ],
      "text/plain": [
       "<IPython.core.display.HTML object>"
      ]
     },
     "metadata": {},
     "output_type": "display_data"
    },
    {
     "data": {
      "text/html": [
       "Find logs at: <code>./wandb/run-20240414_033413-vo218zg4/logs</code>"
      ],
      "text/plain": [
       "<IPython.core.display.HTML object>"
      ]
     },
     "metadata": {},
     "output_type": "display_data"
    },
    {
     "name": "stderr",
     "output_type": "stream",
     "text": [
      "Run vo218zg4 errored:\n",
      "Traceback (most recent call last):\n",
      "  File \"/home/kervin/miniforge3/envs/tf/lib/python3.9/site-packages/wandb/agents/pyagent.py\", line 308, in _run_job\n",
      "    self._function()\n",
      "  File \"/tmp/ipykernel_19536/3935950760.py\", line 9, in train\n",
      "    model.fit(val_dataset, epochs=config.n_epochs, callbacks=[WandbCallback()])\n",
      "  File \"/home/kervin/miniforge3/envs/tf/lib/python3.9/site-packages/keras/src/utils/traceback_utils.py\", line 70, in error_handler\n",
      "    raise e.with_traceback(filtered_tb) from None\n",
      "  File \"/home/kervin/miniforge3/envs/tf/lib/python3.9/site-packages/tensorflow/python/eager/execute.py\", line 53, in quick_execute\n",
      "    tensors = pywrap_tfe.TFE_Py_Execute(ctx._handle, device_name, op_name,\n",
      "tensorflow.python.framework.errors_impl.NotFoundError: Graph execution error:\n",
      "\n",
      "Detected at node 'sequential/conv2d/Relu' defined at (most recent call last):\n",
      "    File \"/home/kervin/miniforge3/envs/tf/lib/python3.9/threading.py\", line 937, in _bootstrap\n",
      "      self._bootstrap_inner()\n",
      "    File \"/home/kervin/miniforge3/envs/tf/lib/python3.9/threading.py\", line 980, in _bootstrap_inner\n",
      "      self.run()\n",
      "    File \"/home/kervin/miniforge3/envs/tf/lib/python3.9/site-packages/ipykernel/ipkernel.py\", line 761, in run_closure\n",
      "      _threading_Thread_run(self)\n",
      "    File \"/home/kervin/miniforge3/envs/tf/lib/python3.9/threading.py\", line 917, in run\n",
      "      self._target(*self._args, **self._kwargs)\n",
      "    File \"/home/kervin/miniforge3/envs/tf/lib/python3.9/site-packages/wandb/agents/pyagent.py\", line 308, in _run_job\n",
      "      self._function()\n",
      "    File \"/tmp/ipykernel_19536/3935950760.py\", line 9, in train\n",
      "      model.fit(val_dataset, epochs=config.n_epochs, callbacks=[WandbCallback()])\n",
      "    File \"/home/kervin/miniforge3/envs/tf/lib/python3.9/site-packages/keras/src/utils/traceback_utils.py\", line 65, in error_handler\n",
      "      return fn(*args, **kwargs)\n",
      "    File \"/home/kervin/miniforge3/envs/tf/lib/python3.9/site-packages/keras/src/engine/training.py\", line 1742, in fit\n",
      "      tmp_logs = self.train_function(iterator)\n",
      "    File \"/home/kervin/miniforge3/envs/tf/lib/python3.9/site-packages/keras/src/engine/training.py\", line 1338, in train_function\n",
      "      return step_function(self, iterator)\n",
      "    File \"/home/kervin/miniforge3/envs/tf/lib/python3.9/site-packages/keras/src/engine/training.py\", line 1322, in step_function\n",
      "      outputs = model.distribute_strategy.run(run_step, args=(data,))\n",
      "    File \"/home/kervin/miniforge3/envs/tf/lib/python3.9/site-packages/keras/src/engine/training.py\", line 1303, in run_step\n",
      "      outputs = model.train_step(data)\n",
      "    File \"/home/kervin/miniforge3/envs/tf/lib/python3.9/site-packages/keras/src/engine/training.py\", line 1080, in train_step\n",
      "      y_pred = self(x, training=True)\n",
      "    File \"/home/kervin/miniforge3/envs/tf/lib/python3.9/site-packages/keras/src/utils/traceback_utils.py\", line 65, in error_handler\n",
      "      return fn(*args, **kwargs)\n",
      "    File \"/home/kervin/miniforge3/envs/tf/lib/python3.9/site-packages/keras/src/engine/training.py\", line 569, in __call__\n",
      "      return super().__call__(*args, **kwargs)\n",
      "    File \"/home/kervin/miniforge3/envs/tf/lib/python3.9/site-packages/keras/src/utils/traceback_utils.py\", line 65, in error_handler\n",
      "      return fn(*args, **kwargs)\n",
      "    File \"/home/kervin/miniforge3/envs/tf/lib/python3.9/site-packages/keras/src/engine/base_layer.py\", line 1150, in __call__\n",
      "      outputs = call_fn(inputs, *args, **kwargs)\n",
      "    File \"/home/kervin/miniforge3/envs/tf/lib/python3.9/site-packages/keras/src/utils/traceback_utils.py\", line 96, in error_handler\n",
      "      return fn(*args, **kwargs)\n",
      "    File \"/home/kervin/miniforge3/envs/tf/lib/python3.9/site-packages/keras/src/engine/sequential.py\", line 405, in call\n",
      "      return super().call(inputs, training=training, mask=mask)\n",
      "    File \"/home/kervin/miniforge3/envs/tf/lib/python3.9/site-packages/keras/src/engine/functional.py\", line 512, in call\n",
      "      return self._run_internal_graph(inputs, training=training, mask=mask)\n",
      "    File \"/home/kervin/miniforge3/envs/tf/lib/python3.9/site-packages/keras/src/engine/functional.py\", line 669, in _run_internal_graph\n",
      "      outputs = node.layer(*args, **kwargs)\n",
      "    File \"/home/kervin/miniforge3/envs/tf/lib/python3.9/site-packages/keras/src/utils/traceback_utils.py\", line 65, in error_handler\n",
      "      return fn(*args, **kwargs)\n",
      "    File \"/home/kervin/miniforge3/envs/tf/lib/python3.9/site-packages/keras/src/engine/base_layer.py\", line 1150, in __call__\n",
      "      outputs = call_fn(inputs, *args, **kwargs)\n",
      "    File \"/home/kervin/miniforge3/envs/tf/lib/python3.9/site-packages/keras/src/utils/traceback_utils.py\", line 96, in error_handler\n",
      "      return fn(*args, **kwargs)\n",
      "    File \"/home/kervin/miniforge3/envs/tf/lib/python3.9/site-packages/keras/src/layers/convolutional/base_conv.py\", line 321, in call\n",
      "      return self.activation(outputs)\n",
      "    File \"/home/kervin/miniforge3/envs/tf/lib/python3.9/site-packages/keras/src/activations.py\", line 321, in relu\n",
      "      return backend.relu(\n",
      "    File \"/home/kervin/miniforge3/envs/tf/lib/python3.9/site-packages/keras/src/backend.py\", line 5397, in relu\n",
      "      x = tf.nn.relu(x)\n",
      "Node: 'sequential/conv2d/Relu'\n",
      "No algorithm worked!  Error messages:\n",
      "  Profiling failure on CUDNN engine eng11{}: RESOURCE_EXHAUSTED: Out of memory while trying to allocate 16777216 bytes.\n",
      "  Profiling failure on CUDNN engine eng0{}: RESOURCE_EXHAUSTED: Out of memory while trying to allocate 16777216 bytes.\n",
      "\t [[{{node sequential/conv2d/Relu}}]] [Op:__inference_train_function_61145]\n",
      "\n",
      "\u001b[34m\u001b[1mwandb\u001b[0m: \u001b[32m\u001b[41mERROR\u001b[0m Run vo218zg4 errored:\n",
      "\u001b[34m\u001b[1mwandb\u001b[0m: \u001b[32m\u001b[41mERROR\u001b[0m Traceback (most recent call last):\n",
      "\u001b[34m\u001b[1mwandb\u001b[0m: \u001b[32m\u001b[41mERROR\u001b[0m   File \"/home/kervin/miniforge3/envs/tf/lib/python3.9/site-packages/wandb/agents/pyagent.py\", line 308, in _run_job\n",
      "\u001b[34m\u001b[1mwandb\u001b[0m: \u001b[32m\u001b[41mERROR\u001b[0m     self._function()\n",
      "\u001b[34m\u001b[1mwandb\u001b[0m: \u001b[32m\u001b[41mERROR\u001b[0m   File \"/tmp/ipykernel_19536/3935950760.py\", line 9, in train\n",
      "\u001b[34m\u001b[1mwandb\u001b[0m: \u001b[32m\u001b[41mERROR\u001b[0m     model.fit(val_dataset, epochs=config.n_epochs, callbacks=[WandbCallback()])\n",
      "\u001b[34m\u001b[1mwandb\u001b[0m: \u001b[32m\u001b[41mERROR\u001b[0m   File \"/home/kervin/miniforge3/envs/tf/lib/python3.9/site-packages/keras/src/utils/traceback_utils.py\", line 70, in error_handler\n",
      "\u001b[34m\u001b[1mwandb\u001b[0m: \u001b[32m\u001b[41mERROR\u001b[0m     raise e.with_traceback(filtered_tb) from None\n",
      "\u001b[34m\u001b[1mwandb\u001b[0m: \u001b[32m\u001b[41mERROR\u001b[0m   File \"/home/kervin/miniforge3/envs/tf/lib/python3.9/site-packages/tensorflow/python/eager/execute.py\", line 53, in quick_execute\n",
      "\u001b[34m\u001b[1mwandb\u001b[0m: \u001b[32m\u001b[41mERROR\u001b[0m     tensors = pywrap_tfe.TFE_Py_Execute(ctx._handle, device_name, op_name,\n",
      "\u001b[34m\u001b[1mwandb\u001b[0m: \u001b[32m\u001b[41mERROR\u001b[0m tensorflow.python.framework.errors_impl.NotFoundError: Graph execution error:\n",
      "\u001b[34m\u001b[1mwandb\u001b[0m: \u001b[32m\u001b[41mERROR\u001b[0m \n",
      "\u001b[34m\u001b[1mwandb\u001b[0m: \u001b[32m\u001b[41mERROR\u001b[0m Detected at node 'sequential/conv2d/Relu' defined at (most recent call last):\n",
      "\u001b[34m\u001b[1mwandb\u001b[0m: \u001b[32m\u001b[41mERROR\u001b[0m     File \"/home/kervin/miniforge3/envs/tf/lib/python3.9/threading.py\", line 937, in _bootstrap\n",
      "\u001b[34m\u001b[1mwandb\u001b[0m: \u001b[32m\u001b[41mERROR\u001b[0m       self._bootstrap_inner()\n",
      "\u001b[34m\u001b[1mwandb\u001b[0m: \u001b[32m\u001b[41mERROR\u001b[0m     File \"/home/kervin/miniforge3/envs/tf/lib/python3.9/threading.py\", line 980, in _bootstrap_inner\n",
      "\u001b[34m\u001b[1mwandb\u001b[0m: \u001b[32m\u001b[41mERROR\u001b[0m       self.run()\n",
      "\u001b[34m\u001b[1mwandb\u001b[0m: \u001b[32m\u001b[41mERROR\u001b[0m     File \"/home/kervin/miniforge3/envs/tf/lib/python3.9/site-packages/ipykernel/ipkernel.py\", line 761, in run_closure\n",
      "\u001b[34m\u001b[1mwandb\u001b[0m: \u001b[32m\u001b[41mERROR\u001b[0m       _threading_Thread_run(self)\n",
      "\u001b[34m\u001b[1mwandb\u001b[0m: \u001b[32m\u001b[41mERROR\u001b[0m     File \"/home/kervin/miniforge3/envs/tf/lib/python3.9/threading.py\", line 917, in run\n",
      "\u001b[34m\u001b[1mwandb\u001b[0m: \u001b[32m\u001b[41mERROR\u001b[0m       self._target(*self._args, **self._kwargs)\n",
      "\u001b[34m\u001b[1mwandb\u001b[0m: \u001b[32m\u001b[41mERROR\u001b[0m     File \"/home/kervin/miniforge3/envs/tf/lib/python3.9/site-packages/wandb/agents/pyagent.py\", line 308, in _run_job\n",
      "\u001b[34m\u001b[1mwandb\u001b[0m: \u001b[32m\u001b[41mERROR\u001b[0m       self._function()\n",
      "\u001b[34m\u001b[1mwandb\u001b[0m: \u001b[32m\u001b[41mERROR\u001b[0m     File \"/tmp/ipykernel_19536/3935950760.py\", line 9, in train\n",
      "\u001b[34m\u001b[1mwandb\u001b[0m: \u001b[32m\u001b[41mERROR\u001b[0m       model.fit(val_dataset, epochs=config.n_epochs, callbacks=[WandbCallback()])\n",
      "\u001b[34m\u001b[1mwandb\u001b[0m: \u001b[32m\u001b[41mERROR\u001b[0m     File \"/home/kervin/miniforge3/envs/tf/lib/python3.9/site-packages/keras/src/utils/traceback_utils.py\", line 65, in error_handler\n",
      "\u001b[34m\u001b[1mwandb\u001b[0m: \u001b[32m\u001b[41mERROR\u001b[0m       return fn(*args, **kwargs)\n",
      "\u001b[34m\u001b[1mwandb\u001b[0m: \u001b[32m\u001b[41mERROR\u001b[0m     File \"/home/kervin/miniforge3/envs/tf/lib/python3.9/site-packages/keras/src/engine/training.py\", line 1742, in fit\n",
      "\u001b[34m\u001b[1mwandb\u001b[0m: \u001b[32m\u001b[41mERROR\u001b[0m       tmp_logs = self.train_function(iterator)\n",
      "\u001b[34m\u001b[1mwandb\u001b[0m: \u001b[32m\u001b[41mERROR\u001b[0m     File \"/home/kervin/miniforge3/envs/tf/lib/python3.9/site-packages/keras/src/engine/training.py\", line 1338, in train_function\n",
      "\u001b[34m\u001b[1mwandb\u001b[0m: \u001b[32m\u001b[41mERROR\u001b[0m       return step_function(self, iterator)\n",
      "\u001b[34m\u001b[1mwandb\u001b[0m: \u001b[32m\u001b[41mERROR\u001b[0m     File \"/home/kervin/miniforge3/envs/tf/lib/python3.9/site-packages/keras/src/engine/training.py\", line 1322, in step_function\n",
      "\u001b[34m\u001b[1mwandb\u001b[0m: \u001b[32m\u001b[41mERROR\u001b[0m       outputs = model.distribute_strategy.run(run_step, args=(data,))\n",
      "\u001b[34m\u001b[1mwandb\u001b[0m: \u001b[32m\u001b[41mERROR\u001b[0m     File \"/home/kervin/miniforge3/envs/tf/lib/python3.9/site-packages/keras/src/engine/training.py\", line 1303, in run_step\n",
      "\u001b[34m\u001b[1mwandb\u001b[0m: \u001b[32m\u001b[41mERROR\u001b[0m       outputs = model.train_step(data)\n",
      "\u001b[34m\u001b[1mwandb\u001b[0m: \u001b[32m\u001b[41mERROR\u001b[0m     File \"/home/kervin/miniforge3/envs/tf/lib/python3.9/site-packages/keras/src/engine/training.py\", line 1080, in train_step\n",
      "\u001b[34m\u001b[1mwandb\u001b[0m: \u001b[32m\u001b[41mERROR\u001b[0m       y_pred = self(x, training=True)\n",
      "\u001b[34m\u001b[1mwandb\u001b[0m: \u001b[32m\u001b[41mERROR\u001b[0m     File \"/home/kervin/miniforge3/envs/tf/lib/python3.9/site-packages/keras/src/utils/traceback_utils.py\", line 65, in error_handler\n",
      "\u001b[34m\u001b[1mwandb\u001b[0m: \u001b[32m\u001b[41mERROR\u001b[0m       return fn(*args, **kwargs)\n",
      "\u001b[34m\u001b[1mwandb\u001b[0m: \u001b[32m\u001b[41mERROR\u001b[0m     File \"/home/kervin/miniforge3/envs/tf/lib/python3.9/site-packages/keras/src/engine/training.py\", line 569, in __call__\n",
      "\u001b[34m\u001b[1mwandb\u001b[0m: \u001b[32m\u001b[41mERROR\u001b[0m       return super().__call__(*args, **kwargs)\n",
      "\u001b[34m\u001b[1mwandb\u001b[0m: \u001b[32m\u001b[41mERROR\u001b[0m     File \"/home/kervin/miniforge3/envs/tf/lib/python3.9/site-packages/keras/src/utils/traceback_utils.py\", line 65, in error_handler\n",
      "\u001b[34m\u001b[1mwandb\u001b[0m: \u001b[32m\u001b[41mERROR\u001b[0m       return fn(*args, **kwargs)\n",
      "\u001b[34m\u001b[1mwandb\u001b[0m: \u001b[32m\u001b[41mERROR\u001b[0m     File \"/home/kervin/miniforge3/envs/tf/lib/python3.9/site-packages/keras/src/engine/base_layer.py\", line 1150, in __call__\n",
      "\u001b[34m\u001b[1mwandb\u001b[0m: \u001b[32m\u001b[41mERROR\u001b[0m       outputs = call_fn(inputs, *args, **kwargs)\n",
      "\u001b[34m\u001b[1mwandb\u001b[0m: \u001b[32m\u001b[41mERROR\u001b[0m     File \"/home/kervin/miniforge3/envs/tf/lib/python3.9/site-packages/keras/src/utils/traceback_utils.py\", line 96, in error_handler\n",
      "\u001b[34m\u001b[1mwandb\u001b[0m: \u001b[32m\u001b[41mERROR\u001b[0m       return fn(*args, **kwargs)\n",
      "\u001b[34m\u001b[1mwandb\u001b[0m: \u001b[32m\u001b[41mERROR\u001b[0m     File \"/home/kervin/miniforge3/envs/tf/lib/python3.9/site-packages/keras/src/engine/sequential.py\", line 405, in call\n",
      "\u001b[34m\u001b[1mwandb\u001b[0m: \u001b[32m\u001b[41mERROR\u001b[0m       return super().call(inputs, training=training, mask=mask)\n",
      "\u001b[34m\u001b[1mwandb\u001b[0m: \u001b[32m\u001b[41mERROR\u001b[0m     File \"/home/kervin/miniforge3/envs/tf/lib/python3.9/site-packages/keras/src/engine/functional.py\", line 512, in call\n",
      "\u001b[34m\u001b[1mwandb\u001b[0m: \u001b[32m\u001b[41mERROR\u001b[0m       return self._run_internal_graph(inputs, training=training, mask=mask)\n",
      "\u001b[34m\u001b[1mwandb\u001b[0m: \u001b[32m\u001b[41mERROR\u001b[0m     File \"/home/kervin/miniforge3/envs/tf/lib/python3.9/site-packages/keras/src/engine/functional.py\", line 669, in _run_internal_graph\n",
      "\u001b[34m\u001b[1mwandb\u001b[0m: \u001b[32m\u001b[41mERROR\u001b[0m       outputs = node.layer(*args, **kwargs)\n",
      "\u001b[34m\u001b[1mwandb\u001b[0m: \u001b[32m\u001b[41mERROR\u001b[0m     File \"/home/kervin/miniforge3/envs/tf/lib/python3.9/site-packages/keras/src/utils/traceback_utils.py\", line 65, in error_handler\n",
      "\u001b[34m\u001b[1mwandb\u001b[0m: \u001b[32m\u001b[41mERROR\u001b[0m       return fn(*args, **kwargs)\n",
      "\u001b[34m\u001b[1mwandb\u001b[0m: \u001b[32m\u001b[41mERROR\u001b[0m     File \"/home/kervin/miniforge3/envs/tf/lib/python3.9/site-packages/keras/src/engine/base_layer.py\", line 1150, in __call__\n",
      "\u001b[34m\u001b[1mwandb\u001b[0m: \u001b[32m\u001b[41mERROR\u001b[0m       outputs = call_fn(inputs, *args, **kwargs)\n",
      "\u001b[34m\u001b[1mwandb\u001b[0m: \u001b[32m\u001b[41mERROR\u001b[0m     File \"/home/kervin/miniforge3/envs/tf/lib/python3.9/site-packages/keras/src/utils/traceback_utils.py\", line 96, in error_handler\n",
      "\u001b[34m\u001b[1mwandb\u001b[0m: \u001b[32m\u001b[41mERROR\u001b[0m       return fn(*args, **kwargs)\n",
      "\u001b[34m\u001b[1mwandb\u001b[0m: \u001b[32m\u001b[41mERROR\u001b[0m     File \"/home/kervin/miniforge3/envs/tf/lib/python3.9/site-packages/keras/src/layers/convolutional/base_conv.py\", line 321, in call\n",
      "\u001b[34m\u001b[1mwandb\u001b[0m: \u001b[32m\u001b[41mERROR\u001b[0m       return self.activation(outputs)\n",
      "\u001b[34m\u001b[1mwandb\u001b[0m: \u001b[32m\u001b[41mERROR\u001b[0m     File \"/home/kervin/miniforge3/envs/tf/lib/python3.9/site-packages/keras/src/activations.py\", line 321, in relu\n",
      "\u001b[34m\u001b[1mwandb\u001b[0m: \u001b[32m\u001b[41mERROR\u001b[0m       return backend.relu(\n",
      "\u001b[34m\u001b[1mwandb\u001b[0m: \u001b[32m\u001b[41mERROR\u001b[0m     File \"/home/kervin/miniforge3/envs/tf/lib/python3.9/site-packages/keras/src/backend.py\", line 5397, in relu\n",
      "\u001b[34m\u001b[1mwandb\u001b[0m: \u001b[32m\u001b[41mERROR\u001b[0m       x = tf.nn.relu(x)\n",
      "\u001b[34m\u001b[1mwandb\u001b[0m: \u001b[32m\u001b[41mERROR\u001b[0m Node: 'sequential/conv2d/Relu'\n",
      "\u001b[34m\u001b[1mwandb\u001b[0m: \u001b[32m\u001b[41mERROR\u001b[0m No algorithm worked!  Error messages:\n",
      "\u001b[34m\u001b[1mwandb\u001b[0m: \u001b[32m\u001b[41mERROR\u001b[0m   Profiling failure on CUDNN engine eng11{}: RESOURCE_EXHAUSTED: Out of memory while trying to allocate 16777216 bytes.\n",
      "\u001b[34m\u001b[1mwandb\u001b[0m: \u001b[32m\u001b[41mERROR\u001b[0m   Profiling failure on CUDNN engine eng0{}: RESOURCE_EXHAUSTED: Out of memory while trying to allocate 16777216 bytes.\n",
      "\u001b[34m\u001b[1mwandb\u001b[0m: \u001b[32m\u001b[41mERROR\u001b[0m \t [[{{node sequential/conv2d/Relu}}]] [Op:__inference_train_function_61145]\n",
      "\u001b[34m\u001b[1mwandb\u001b[0m: \u001b[32m\u001b[41mERROR\u001b[0m \n",
      "\u001b[34m\u001b[1mwandb\u001b[0m: Agent Starting Run: 5nzshm5m with config:\n",
      "\u001b[34m\u001b[1mwandb\u001b[0m: \tdropout: 0.3835234200509573\n",
      "\u001b[34m\u001b[1mwandb\u001b[0m: \tim_size: 224\n",
      "\u001b[34m\u001b[1mwandb\u001b[0m: \tkernel_size: 3\n",
      "\u001b[34m\u001b[1mwandb\u001b[0m: \tlearning_rate: 0.003958471888624729\n",
      "\u001b[34m\u001b[1mwandb\u001b[0m: \tn_dense_1: 128\n",
      "\u001b[34m\u001b[1mwandb\u001b[0m: \tn_dense_2: 32\n",
      "\u001b[34m\u001b[1mwandb\u001b[0m: \tn_epochs: 1\n",
      "\u001b[34m\u001b[1mwandb\u001b[0m: \tn_filters: 6\n",
      "\u001b[34m\u001b[1mwandb\u001b[0m: \tn_strides: 1\n",
      "\u001b[34m\u001b[1mwandb\u001b[0m: \tpool_size: 224\n",
      "\u001b[34m\u001b[1mwandb\u001b[0m: \tregularization_rate: 0.099384067596087\n",
      "\u001b[34m\u001b[1mwandb\u001b[0m: \u001b[33mWARNING\u001b[0m Ignored wandb.init() arg project when running a sweep.\n",
      "\u001b[34m\u001b[1mwandb\u001b[0m: \u001b[33mWARNING\u001b[0m Ignored wandb.init() arg entity when running a sweep.\n"
     ]
    },
    {
     "data": {
      "application/vnd.jupyter.widget-view+json": {
       "model_id": "e05b15b617fc4becb8765dc6870e84e5",
       "version_major": 2,
       "version_minor": 0
      },
      "text/plain": [
       "VBox(children=(Label(value='Waiting for wandb.init()...\\r'), FloatProgress(value=0.011114528644450021, max=1.0…"
      ]
     },
     "metadata": {},
     "output_type": "display_data"
    },
    {
     "data": {
      "text/html": [
       "Tracking run with wandb version 0.16.6"
      ],
      "text/plain": [
       "<IPython.core.display.HTML object>"
      ]
     },
     "metadata": {},
     "output_type": "display_data"
    },
    {
     "data": {
      "text/html": [
       "Run data is saved locally in <code>/home/kervin/Coding/machine_learning/20_tensorflow_projects/wandb/run-20240414_033430-5nzshm5m</code>"
      ],
      "text/plain": [
       "<IPython.core.display.HTML object>"
      ]
     },
     "metadata": {},
     "output_type": "display_data"
    },
    {
     "data": {
      "text/html": [
       "Syncing run <strong><a href='https://wandb.ai/kervin5/Malaria-Detection/runs/5nzshm5m' target=\"_blank\">dry-sweep-2</a></strong> to <a href='https://wandb.ai/kervin5/Malaria-Detection' target=\"_blank\">Weights & Biases</a> (<a href='https://wandb.me/run' target=\"_blank\">docs</a>)<br/>Sweep page: <a href='https://wandb.ai/kervin5/Malaria-Detection/sweeps/do7b6bjx' target=\"_blank\">https://wandb.ai/kervin5/Malaria-Detection/sweeps/do7b6bjx</a>"
      ],
      "text/plain": [
       "<IPython.core.display.HTML object>"
      ]
     },
     "metadata": {},
     "output_type": "display_data"
    },
    {
     "data": {
      "text/html": [
       " View project at <a href='https://wandb.ai/kervin5/Malaria-Detection' target=\"_blank\">https://wandb.ai/kervin5/Malaria-Detection</a>"
      ],
      "text/plain": [
       "<IPython.core.display.HTML object>"
      ]
     },
     "metadata": {},
     "output_type": "display_data"
    },
    {
     "data": {
      "text/html": [
       " View sweep at <a href='https://wandb.ai/kervin5/Malaria-Detection/sweeps/do7b6bjx' target=\"_blank\">https://wandb.ai/kervin5/Malaria-Detection/sweeps/do7b6bjx</a>"
      ],
      "text/plain": [
       "<IPython.core.display.HTML object>"
      ]
     },
     "metadata": {},
     "output_type": "display_data"
    },
    {
     "data": {
      "text/html": [
       " View run at <a href='https://wandb.ai/kervin5/Malaria-Detection/runs/5nzshm5m' target=\"_blank\">https://wandb.ai/kervin5/Malaria-Detection/runs/5nzshm5m</a>"
      ],
      "text/plain": [
       "<IPython.core.display.HTML object>"
      ]
     },
     "metadata": {},
     "output_type": "display_data"
    },
    {
     "name": "stderr",
     "output_type": "stream",
     "text": [
      "2024-04-14 03:34:34.661839: E tensorflow/core/grappler/optimizers/meta_optimizer.cc:954] layout failed: INVALID_ARGUMENT: Size of values 0 does not match size of permutation 4 @ fanin shape insequential/dropout/dropout/SelectV2-2-TransposeNHWCToNCHW-LayoutOptimizer\n",
      "2024-04-14 03:34:45.151130: W tensorflow/tsl/framework/bfc_allocator.cc:485] Allocator (GPU_0_bfc) ran out of memory trying to allocate 144.39MiB (rounded to 151400448)requested by op sequential/conv2d/Relu\n",
      "If the cause is memory fragmentation maybe the environment variable 'TF_GPU_ALLOCATOR=cuda_malloc_async' will improve the situation. \n",
      "Current allocation summary follows.\n",
      "Current allocation summary follows.\n",
      "2024-04-14 03:34:45.151162: I tensorflow/tsl/framework/bfc_allocator.cc:1039] BFCAllocator dump for GPU_0_bfc\n",
      "2024-04-14 03:34:45.151172: I tensorflow/tsl/framework/bfc_allocator.cc:1046] Bin (256): \tTotal Chunks: 213, Chunks in use: 212. 53.2KiB allocated for chunks. 53.0KiB in use in bin. 6.8KiB client-requested in use in bin.\n",
      "2024-04-14 03:34:45.151177: I tensorflow/tsl/framework/bfc_allocator.cc:1046] Bin (512): \tTotal Chunks: 43, Chunks in use: 43. 24.0KiB allocated for chunks. 24.0KiB in use in bin. 22.0KiB client-requested in use in bin.\n",
      "2024-04-14 03:34:45.151182: I tensorflow/tsl/framework/bfc_allocator.cc:1046] Bin (1024): \tTotal Chunks: 6, Chunks in use: 6. 6.2KiB allocated for chunks. 6.2KiB in use in bin. 5.0KiB client-requested in use in bin.\n",
      "2024-04-14 03:34:45.151187: I tensorflow/tsl/framework/bfc_allocator.cc:1046] Bin (2048): \tTotal Chunks: 8, Chunks in use: 8. 28.0KiB allocated for chunks. 28.0KiB in use in bin. 27.0KiB client-requested in use in bin.\n",
      "2024-04-14 03:34:45.151191: I tensorflow/tsl/framework/bfc_allocator.cc:1046] Bin (4096): \tTotal Chunks: 6, Chunks in use: 6. 24.5KiB allocated for chunks. 24.5KiB in use in bin. 24.0KiB client-requested in use in bin.\n",
      "2024-04-14 03:34:45.151196: I tensorflow/tsl/framework/bfc_allocator.cc:1046] Bin (8192): \tTotal Chunks: 0, Chunks in use: 0. 0B allocated for chunks. 0B in use in bin. 0B client-requested in use in bin.\n",
      "2024-04-14 03:34:45.151201: I tensorflow/tsl/framework/bfc_allocator.cc:1046] Bin (16384): \tTotal Chunks: 9, Chunks in use: 9. 199.5KiB allocated for chunks. 199.5KiB in use in bin. 174.2KiB client-requested in use in bin.\n",
      "2024-04-14 03:34:45.151206: I tensorflow/tsl/framework/bfc_allocator.cc:1046] Bin (32768): \tTotal Chunks: 0, Chunks in use: 0. 0B allocated for chunks. 0B in use in bin. 0B client-requested in use in bin.\n",
      "2024-04-14 03:34:45.151210: I tensorflow/tsl/framework/bfc_allocator.cc:1046] Bin (65536): \tTotal Chunks: 0, Chunks in use: 0. 0B allocated for chunks. 0B in use in bin. 0B client-requested in use in bin.\n",
      "2024-04-14 03:34:45.151214: I tensorflow/tsl/framework/bfc_allocator.cc:1046] Bin (131072): \tTotal Chunks: 1, Chunks in use: 0. 242.2KiB allocated for chunks. 0B in use in bin. 0B client-requested in use in bin.\n",
      "2024-04-14 03:34:45.151219: I tensorflow/tsl/framework/bfc_allocator.cc:1046] Bin (262144): \tTotal Chunks: 2, Chunks in use: 1. 795.5KiB allocated for chunks. 390.8KiB in use in bin. 390.6KiB client-requested in use in bin.\n",
      "2024-04-14 03:34:45.151223: I tensorflow/tsl/framework/bfc_allocator.cc:1046] Bin (524288): \tTotal Chunks: 0, Chunks in use: 0. 0B allocated for chunks. 0B in use in bin. 0B client-requested in use in bin.\n",
      "2024-04-14 03:34:45.151227: I tensorflow/tsl/framework/bfc_allocator.cc:1046] Bin (1048576): \tTotal Chunks: 0, Chunks in use: 0. 0B allocated for chunks. 0B in use in bin. 0B client-requested in use in bin.\n",
      "2024-04-14 03:34:45.151231: I tensorflow/tsl/framework/bfc_allocator.cc:1046] Bin (2097152): \tTotal Chunks: 0, Chunks in use: 0. 0B allocated for chunks. 0B in use in bin. 0B client-requested in use in bin.\n",
      "2024-04-14 03:34:45.151236: I tensorflow/tsl/framework/bfc_allocator.cc:1046] Bin (4194304): \tTotal Chunks: 3, Chunks in use: 3. 17.72MiB allocated for chunks. 17.72MiB in use in bin. 17.72MiB client-requested in use in bin.\n",
      "2024-04-14 03:34:45.151240: I tensorflow/tsl/framework/bfc_allocator.cc:1046] Bin (8388608): \tTotal Chunks: 0, Chunks in use: 0. 0B allocated for chunks. 0B in use in bin. 0B client-requested in use in bin.\n",
      "2024-04-14 03:34:45.151245: I tensorflow/tsl/framework/bfc_allocator.cc:1046] Bin (16777216): \tTotal Chunks: 4, Chunks in use: 4. 94.53MiB allocated for chunks. 94.53MiB in use in bin. 94.53MiB client-requested in use in bin.\n",
      "2024-04-14 03:34:45.151249: I tensorflow/tsl/framework/bfc_allocator.cc:1046] Bin (33554432): \tTotal Chunks: 0, Chunks in use: 0. 0B allocated for chunks. 0B in use in bin. 0B client-requested in use in bin.\n",
      "2024-04-14 03:34:45.151254: I tensorflow/tsl/framework/bfc_allocator.cc:1046] Bin (67108864): \tTotal Chunks: 2, Chunks in use: 2. 147.96MiB allocated for chunks. 147.96MiB in use in bin. 147.00MiB client-requested in use in bin.\n",
      "2024-04-14 03:34:45.151259: I tensorflow/tsl/framework/bfc_allocator.cc:1046] Bin (134217728): \tTotal Chunks: 3, Chunks in use: 2. 461.01MiB allocated for chunks. 322.37MiB in use in bin. 322.37MiB client-requested in use in bin.\n",
      "2024-04-14 03:34:45.151264: I tensorflow/tsl/framework/bfc_allocator.cc:1046] Bin (268435456): \tTotal Chunks: 0, Chunks in use: 0. 0B allocated for chunks. 0B in use in bin. 0B client-requested in use in bin.\n",
      "2024-04-14 03:34:45.151269: I tensorflow/tsl/framework/bfc_allocator.cc:1062] Bin for 144.39MiB was 128.00MiB, Chunk State: \n",
      "2024-04-14 03:34:45.151277: I tensorflow/tsl/framework/bfc_allocator.cc:1068]   Size: 138.64MiB | Requested Size: 0B | in_use: 0 | bin_num: 19, prev:   Size: 73.50MiB | Requested Size: 73.50MiB | in_use: 1 | bin_num: -1, next:   Size: 177.98MiB | Requested Size: 177.98MiB | in_use: 1 | bin_num: -1\n",
      "2024-04-14 03:34:45.151281: I tensorflow/tsl/framework/bfc_allocator.cc:1075] Next region of size 757661696\n",
      "2024-04-14 03:34:45.151286: I tensorflow/tsl/framework/bfc_allocator.cc:1095] InUse at 78dc18000000 of size 1280 next 1\n",
      "2024-04-14 03:34:45.151290: I tensorflow/tsl/framework/bfc_allocator.cc:1095] InUse at 78dc18000500 of size 256 next 2\n",
      "2024-04-14 03:34:45.151294: I tensorflow/tsl/framework/bfc_allocator.cc:1095] InUse at 78dc18000600 of size 256 next 3\n",
      "2024-04-14 03:34:45.151297: I tensorflow/tsl/framework/bfc_allocator.cc:1095] InUse at 78dc18000700 of size 256 next 4\n",
      "2024-04-14 03:34:45.151301: I tensorflow/tsl/framework/bfc_allocator.cc:1095] InUse at 78dc18000800 of size 256 next 5\n",
      "2024-04-14 03:34:45.151304: I tensorflow/tsl/framework/bfc_allocator.cc:1095] InUse at 78dc18000900 of size 256 next 6\n",
      "2024-04-14 03:34:45.151308: I tensorflow/tsl/framework/bfc_allocator.cc:1095] InUse at 78dc18000a00 of size 256 next 7\n",
      "2024-04-14 03:34:45.151312: I tensorflow/tsl/framework/bfc_allocator.cc:1095] InUse at 78dc18000b00 of size 256 next 8\n",
      "2024-04-14 03:34:45.151315: I tensorflow/tsl/framework/bfc_allocator.cc:1095] InUse at 78dc18000c00 of size 256 next 9\n",
      "2024-04-14 03:34:45.151319: I tensorflow/tsl/framework/bfc_allocator.cc:1095] InUse at 78dc18000d00 of size 256 next 10\n",
      "2024-04-14 03:34:45.151322: I tensorflow/tsl/framework/bfc_allocator.cc:1095] InUse at 78dc18000e00 of size 32000 next 88\n",
      "2024-04-14 03:34:45.151326: I tensorflow/tsl/framework/bfc_allocator.cc:1095] InUse at 78dc18008b00 of size 256 next 89\n",
      "2024-04-14 03:34:45.151330: I tensorflow/tsl/framework/bfc_allocator.cc:1095] InUse at 78dc18008c00 of size 256 next 14\n",
      "2024-04-14 03:34:45.151333: I tensorflow/tsl/framework/bfc_allocator.cc:1095] InUse at 78dc18008d00 of size 256 next 13\n",
      "2024-04-14 03:34:45.151337: I tensorflow/tsl/framework/bfc_allocator.cc:1095] InUse at 78dc18008e00 of size 256 next 112\n",
      "2024-04-14 03:34:45.151341: I tensorflow/tsl/framework/bfc_allocator.cc:1095] InUse at 78dc18008f00 of size 256 next 18\n",
      "2024-04-14 03:34:45.151344: I tensorflow/tsl/framework/bfc_allocator.cc:1095] Free  at 78dc18009000 of size 414464 next 111\n",
      "2024-04-14 03:34:45.151348: I tensorflow/tsl/framework/bfc_allocator.cc:1095] InUse at 78dc1806e300 of size 32000 next 17\n",
      "2024-04-14 03:34:45.151352: I tensorflow/tsl/framework/bfc_allocator.cc:1095] InUse at 78dc18076000 of size 256 next 19\n",
      "2024-04-14 03:34:45.151355: I tensorflow/tsl/framework/bfc_allocator.cc:1095] InUse at 78dc18076100 of size 256 next 15\n",
      "2024-04-14 03:34:45.151359: I tensorflow/tsl/framework/bfc_allocator.cc:1095] InUse at 78dc18076200 of size 256 next 16\n",
      "2024-04-14 03:34:45.151362: I tensorflow/tsl/framework/bfc_allocator.cc:1095] InUse at 78dc18076300 of size 256 next 21\n",
      "2024-04-14 03:34:45.151366: I tensorflow/tsl/framework/bfc_allocator.cc:1095] InUse at 78dc18076400 of size 256 next 20\n",
      "2024-04-14 03:34:45.151370: I tensorflow/tsl/framework/bfc_allocator.cc:1095] InUse at 78dc18076500 of size 256 next 22\n",
      "2024-04-14 03:34:45.151373: I tensorflow/tsl/framework/bfc_allocator.cc:1095] InUse at 78dc18076600 of size 256 next 24\n",
      "2024-04-14 03:34:45.151377: I tensorflow/tsl/framework/bfc_allocator.cc:1095] InUse at 78dc18076700 of size 256 next 25\n",
      "2024-04-14 03:34:45.151380: I tensorflow/tsl/framework/bfc_allocator.cc:1095] InUse at 78dc18076800 of size 256 next 23\n",
      "2024-04-14 03:34:45.151385: I tensorflow/tsl/framework/bfc_allocator.cc:1095] InUse at 78dc18076900 of size 256 next 26\n",
      "2024-04-14 03:34:45.151388: I tensorflow/tsl/framework/bfc_allocator.cc:1095] InUse at 78dc18076a00 of size 256 next 29\n",
      "2024-04-14 03:34:45.151392: I tensorflow/tsl/framework/bfc_allocator.cc:1095] InUse at 78dc18076b00 of size 256 next 30\n",
      "2024-04-14 03:34:45.151395: I tensorflow/tsl/framework/bfc_allocator.cc:1095] InUse at 78dc18076c00 of size 256 next 31\n",
      "2024-04-14 03:34:45.151399: I tensorflow/tsl/framework/bfc_allocator.cc:1095] InUse at 78dc18076d00 of size 256 next 32\n",
      "2024-04-14 03:34:45.151402: I tensorflow/tsl/framework/bfc_allocator.cc:1095] InUse at 78dc18076e00 of size 256 next 27\n",
      "2024-04-14 03:34:45.151406: I tensorflow/tsl/framework/bfc_allocator.cc:1095] InUse at 78dc18076f00 of size 768 next 28\n",
      "2024-04-14 03:34:45.151410: I tensorflow/tsl/framework/bfc_allocator.cc:1095] InUse at 78dc18077200 of size 256 next 34\n",
      "2024-04-14 03:34:45.151414: I tensorflow/tsl/framework/bfc_allocator.cc:1095] InUse at 78dc18077300 of size 256 next 35\n",
      "2024-04-14 03:34:45.151417: I tensorflow/tsl/framework/bfc_allocator.cc:1095] InUse at 78dc18077400 of size 256 next 33\n",
      "2024-04-14 03:34:45.151421: I tensorflow/tsl/framework/bfc_allocator.cc:1095] InUse at 78dc18077500 of size 256 next 36\n",
      "2024-04-14 03:34:45.151424: I tensorflow/tsl/framework/bfc_allocator.cc:1095] InUse at 78dc18077600 of size 256 next 39\n",
      "2024-04-14 03:34:45.151428: I tensorflow/tsl/framework/bfc_allocator.cc:1095] InUse at 78dc18077700 of size 256 next 41\n",
      "2024-04-14 03:34:45.151432: I tensorflow/tsl/framework/bfc_allocator.cc:1095] InUse at 78dc18077800 of size 256 next 42\n",
      "2024-04-14 03:34:45.151435: I tensorflow/tsl/framework/bfc_allocator.cc:1095] InUse at 78dc18077900 of size 256 next 56\n",
      "2024-04-14 03:34:45.151439: I tensorflow/tsl/framework/bfc_allocator.cc:1095] InUse at 78dc18077a00 of size 256 next 57\n",
      "2024-04-14 03:34:45.151442: I tensorflow/tsl/framework/bfc_allocator.cc:1095] InUse at 78dc18077b00 of size 256 next 58\n",
      "2024-04-14 03:34:45.151446: I tensorflow/tsl/framework/bfc_allocator.cc:1095] InUse at 78dc18077c00 of size 256 next 52\n",
      "2024-04-14 03:34:45.151449: I tensorflow/tsl/framework/bfc_allocator.cc:1095] InUse at 78dc18077d00 of size 256 next 59\n",
      "2024-04-14 03:34:45.151453: I tensorflow/tsl/framework/bfc_allocator.cc:1095] InUse at 78dc18077e00 of size 256 next 67\n",
      "2024-04-14 03:34:45.151457: I tensorflow/tsl/framework/bfc_allocator.cc:1095] InUse at 78dc18077f00 of size 256 next 68\n",
      "2024-04-14 03:34:45.151460: I tensorflow/tsl/framework/bfc_allocator.cc:1095] InUse at 78dc18078000 of size 256 next 71\n",
      "2024-04-14 03:34:45.151464: I tensorflow/tsl/framework/bfc_allocator.cc:1095] InUse at 78dc18078100 of size 768 next 47\n",
      "2024-04-14 03:34:45.151467: I tensorflow/tsl/framework/bfc_allocator.cc:1095] InUse at 78dc18078400 of size 1024 next 48\n",
      "2024-04-14 03:34:45.151471: I tensorflow/tsl/framework/bfc_allocator.cc:1095] InUse at 78dc18078800 of size 256 next 44\n",
      "2024-04-14 03:34:45.151475: I tensorflow/tsl/framework/bfc_allocator.cc:1095] InUse at 78dc18078900 of size 256 next 43\n",
      "2024-04-14 03:34:45.151478: I tensorflow/tsl/framework/bfc_allocator.cc:1095] InUse at 78dc18078a00 of size 256 next 46\n",
      "2024-04-14 03:34:45.151482: I tensorflow/tsl/framework/bfc_allocator.cc:1095] InUse at 78dc18078b00 of size 256 next 49\n",
      "2024-04-14 03:34:45.151486: I tensorflow/tsl/framework/bfc_allocator.cc:1095] InUse at 78dc18078c00 of size 256 next 50\n",
      "2024-04-14 03:34:45.151489: I tensorflow/tsl/framework/bfc_allocator.cc:1095] InUse at 78dc18078d00 of size 256 next 45\n",
      "2024-04-14 03:34:45.151493: I tensorflow/tsl/framework/bfc_allocator.cc:1095] InUse at 78dc18078e00 of size 256 next 51\n",
      "2024-04-14 03:34:45.151497: I tensorflow/tsl/framework/bfc_allocator.cc:1095] InUse at 78dc18078f00 of size 256 next 53\n",
      "2024-04-14 03:34:45.151500: I tensorflow/tsl/framework/bfc_allocator.cc:1095] InUse at 78dc18079000 of size 256 next 37\n",
      "2024-04-14 03:34:45.151504: I tensorflow/tsl/framework/bfc_allocator.cc:1095] InUse at 78dc18079100 of size 3584 next 38\n",
      "2024-04-14 03:34:45.151512: I tensorflow/tsl/framework/bfc_allocator.cc:1095] InUse at 78dc18079f00 of size 4096 next 64\n",
      "2024-04-14 03:34:45.151516: I tensorflow/tsl/framework/bfc_allocator.cc:1095] InUse at 78dc1807af00 of size 256 next 77\n",
      "2024-04-14 03:34:45.151520: I tensorflow/tsl/framework/bfc_allocator.cc:1095] InUse at 78dc1807b000 of size 256 next 72\n",
      "2024-04-14 03:34:45.151523: I tensorflow/tsl/framework/bfc_allocator.cc:1095] InUse at 78dc1807b100 of size 512 next 69\n",
      "2024-04-14 03:34:45.151527: I tensorflow/tsl/framework/bfc_allocator.cc:1095] InUse at 78dc1807b300 of size 512 next 70\n",
      "2024-04-14 03:34:45.151531: I tensorflow/tsl/framework/bfc_allocator.cc:1095] InUse at 78dc1807b500 of size 512 next 73\n",
      "2024-04-14 03:34:45.151534: I tensorflow/tsl/framework/bfc_allocator.cc:1095] InUse at 78dc1807b700 of size 512 next 76\n",
      "2024-04-14 03:34:45.151538: I tensorflow/tsl/framework/bfc_allocator.cc:1095] InUse at 78dc1807b900 of size 256 next 81\n",
      "2024-04-14 03:34:45.151541: I tensorflow/tsl/framework/bfc_allocator.cc:1095] InUse at 78dc1807ba00 of size 256 next 80\n",
      "2024-04-14 03:34:45.151545: I tensorflow/tsl/framework/bfc_allocator.cc:1095] InUse at 78dc1807bb00 of size 256 next 82\n",
      "2024-04-14 03:34:45.151549: I tensorflow/tsl/framework/bfc_allocator.cc:1095] InUse at 78dc1807bc00 of size 256 next 40\n",
      "2024-04-14 03:34:45.151552: I tensorflow/tsl/framework/bfc_allocator.cc:1095] InUse at 78dc1807bd00 of size 256 next 78\n",
      "2024-04-14 03:34:45.151556: I tensorflow/tsl/framework/bfc_allocator.cc:1095] InUse at 78dc1807be00 of size 256 next 79\n",
      "2024-04-14 03:34:45.151559: I tensorflow/tsl/framework/bfc_allocator.cc:1095] InUse at 78dc1807bf00 of size 256 next 84\n",
      "2024-04-14 03:34:45.151563: I tensorflow/tsl/framework/bfc_allocator.cc:1095] InUse at 78dc1807c000 of size 256 next 85\n",
      "2024-04-14 03:34:45.151567: I tensorflow/tsl/framework/bfc_allocator.cc:1095] InUse at 78dc1807c100 of size 256 next 86\n",
      "2024-04-14 03:34:45.151570: I tensorflow/tsl/framework/bfc_allocator.cc:1095] InUse at 78dc1807c200 of size 256 next 54\n",
      "2024-04-14 03:34:45.151574: I tensorflow/tsl/framework/bfc_allocator.cc:1095] InUse at 78dc1807c300 of size 4608 next 55\n",
      "2024-04-14 03:34:45.151578: I tensorflow/tsl/framework/bfc_allocator.cc:1095] InUse at 78dc1807d500 of size 4096 next 60\n",
      "2024-04-14 03:34:45.151581: I tensorflow/tsl/framework/bfc_allocator.cc:1095] InUse at 78dc1807e500 of size 4096 next 61\n",
      "2024-04-14 03:34:45.151585: I tensorflow/tsl/framework/bfc_allocator.cc:1095] InUse at 78dc1807f500 of size 4096 next 63\n",
      "2024-04-14 03:34:45.151588: I tensorflow/tsl/framework/bfc_allocator.cc:1095] InUse at 78dc18080500 of size 4096 next 66\n",
      "2024-04-14 03:34:45.151592: I tensorflow/tsl/framework/bfc_allocator.cc:1095] InUse at 78dc18081500 of size 512 next 83\n",
      "2024-04-14 03:34:45.151596: I tensorflow/tsl/framework/bfc_allocator.cc:1095] InUse at 78dc18081700 of size 256 next 87\n",
      "2024-04-14 03:34:45.151599: I tensorflow/tsl/framework/bfc_allocator.cc:1095] InUse at 78dc18081800 of size 1024 next 90\n",
      "2024-04-14 03:34:45.151603: I tensorflow/tsl/framework/bfc_allocator.cc:1095] InUse at 78dc18081c00 of size 1024 next 94\n",
      "2024-04-14 03:34:45.151606: I tensorflow/tsl/framework/bfc_allocator.cc:1095] InUse at 78dc18082000 of size 1024 next 93\n",
      "2024-04-14 03:34:45.151610: I tensorflow/tsl/framework/bfc_allocator.cc:1095] InUse at 78dc18082400 of size 1024 next 92\n",
      "2024-04-14 03:34:45.151614: I tensorflow/tsl/framework/bfc_allocator.cc:1095] InUse at 78dc18082800 of size 256 next 91\n",
      "2024-04-14 03:34:45.151617: I tensorflow/tsl/framework/bfc_allocator.cc:1095] InUse at 78dc18082900 of size 256 next 95\n",
      "2024-04-14 03:34:45.151621: I tensorflow/tsl/framework/bfc_allocator.cc:1095] InUse at 78dc18082a00 of size 256 next 97\n",
      "2024-04-14 03:34:45.151624: I tensorflow/tsl/framework/bfc_allocator.cc:1095] InUse at 78dc18082b00 of size 256 next 98\n",
      "2024-04-14 03:34:45.151628: I tensorflow/tsl/framework/bfc_allocator.cc:1095] InUse at 78dc18082c00 of size 256 next 96\n",
      "2024-04-14 03:34:45.151631: I tensorflow/tsl/framework/bfc_allocator.cc:1095] InUse at 78dc18082d00 of size 256 next 99\n",
      "2024-04-14 03:34:45.151636: I tensorflow/tsl/framework/bfc_allocator.cc:1095] InUse at 78dc18082e00 of size 256 next 102\n",
      "2024-04-14 03:34:45.151639: I tensorflow/tsl/framework/bfc_allocator.cc:1095] InUse at 78dc18082f00 of size 256 next 105\n",
      "2024-04-14 03:34:45.151643: I tensorflow/tsl/framework/bfc_allocator.cc:1095] InUse at 78dc18083000 of size 256 next 103\n",
      "2024-04-14 03:34:45.151647: I tensorflow/tsl/framework/bfc_allocator.cc:1095] InUse at 78dc18083100 of size 256 next 104\n",
      "2024-04-14 03:34:45.151650: I tensorflow/tsl/framework/bfc_allocator.cc:1095] InUse at 78dc18083200 of size 256 next 100\n",
      "2024-04-14 03:34:45.151654: I tensorflow/tsl/framework/bfc_allocator.cc:1095] InUse at 78dc18083300 of size 768 next 101\n",
      "2024-04-14 03:34:45.151657: I tensorflow/tsl/framework/bfc_allocator.cc:1095] InUse at 78dc18083600 of size 256 next 108\n",
      "2024-04-14 03:34:45.151661: I tensorflow/tsl/framework/bfc_allocator.cc:1095] InUse at 78dc18083700 of size 256 next 109\n",
      "2024-04-14 03:34:45.151665: I tensorflow/tsl/framework/bfc_allocator.cc:1095] InUse at 78dc18083800 of size 256 next 110\n",
      "2024-04-14 03:34:45.151668: I tensorflow/tsl/framework/bfc_allocator.cc:1095] InUse at 78dc18083900 of size 256 next 115\n",
      "2024-04-14 03:34:45.151672: I tensorflow/tsl/framework/bfc_allocator.cc:1095] InUse at 78dc18083a00 of size 256 next 113\n",
      "2024-04-14 03:34:45.151676: I tensorflow/tsl/framework/bfc_allocator.cc:1095] InUse at 78dc18083b00 of size 256 next 114\n",
      "2024-04-14 03:34:45.151682: I tensorflow/tsl/framework/bfc_allocator.cc:1095] InUse at 78dc18083c00 of size 256 next 118\n",
      "2024-04-14 03:34:45.151686: I tensorflow/tsl/framework/bfc_allocator.cc:1095] InUse at 78dc18083d00 of size 256 next 119\n",
      "2024-04-14 03:34:45.151690: I tensorflow/tsl/framework/bfc_allocator.cc:1095] InUse at 78dc18083e00 of size 256 next 120\n",
      "2024-04-14 03:34:45.151694: I tensorflow/tsl/framework/bfc_allocator.cc:1095] InUse at 78dc18083f00 of size 256 next 121\n",
      "2024-04-14 03:34:45.151698: I tensorflow/tsl/framework/bfc_allocator.cc:1095] InUse at 78dc18084000 of size 512 next 124\n",
      "2024-04-14 03:34:45.151702: I tensorflow/tsl/framework/bfc_allocator.cc:1095] InUse at 78dc18084200 of size 512 next 122\n",
      "2024-04-14 03:34:45.151705: I tensorflow/tsl/framework/bfc_allocator.cc:1095] InUse at 78dc18084400 of size 512 next 123\n",
      "2024-04-14 03:34:45.151709: I tensorflow/tsl/framework/bfc_allocator.cc:1095] InUse at 78dc18084600 of size 512 next 125\n",
      "2024-04-14 03:34:45.151712: I tensorflow/tsl/framework/bfc_allocator.cc:1095] InUse at 78dc18084800 of size 512 next 127\n",
      "2024-04-14 03:34:45.151716: I tensorflow/tsl/framework/bfc_allocator.cc:1095] InUse at 78dc18084a00 of size 256 next 128\n",
      "2024-04-14 03:34:45.151719: I tensorflow/tsl/framework/bfc_allocator.cc:1095] InUse at 78dc18084b00 of size 256 next 129\n",
      "2024-04-14 03:34:45.151723: I tensorflow/tsl/framework/bfc_allocator.cc:1095] InUse at 78dc18084c00 of size 256 next 131\n",
      "2024-04-14 03:34:45.151727: I tensorflow/tsl/framework/bfc_allocator.cc:1095] InUse at 78dc18084d00 of size 256 next 130\n",
      "2024-04-14 03:34:45.151730: I tensorflow/tsl/framework/bfc_allocator.cc:1095] InUse at 78dc18084e00 of size 256 next 134\n",
      "2024-04-14 03:34:45.151734: I tensorflow/tsl/framework/bfc_allocator.cc:1095] InUse at 78dc18084f00 of size 256 next 132\n",
      "2024-04-14 03:34:45.151737: I tensorflow/tsl/framework/bfc_allocator.cc:1095] InUse at 78dc18085000 of size 512 next 107\n",
      "2024-04-14 03:34:45.151741: I tensorflow/tsl/framework/bfc_allocator.cc:1095] InUse at 78dc18085200 of size 3584 next 106\n",
      "2024-04-14 03:34:45.151744: I tensorflow/tsl/framework/bfc_allocator.cc:1095] InUse at 78dc18086000 of size 256 next 133\n",
      "2024-04-14 03:34:45.151748: I tensorflow/tsl/framework/bfc_allocator.cc:1095] InUse at 78dc18086100 of size 256 next 135\n",
      "2024-04-14 03:34:45.151751: I tensorflow/tsl/framework/bfc_allocator.cc:1095] InUse at 78dc18086200 of size 256 next 136\n",
      "2024-04-14 03:34:45.151755: I tensorflow/tsl/framework/bfc_allocator.cc:1095] InUse at 78dc18086300 of size 256 next 137\n",
      "2024-04-14 03:34:45.151759: I tensorflow/tsl/framework/bfc_allocator.cc:1095] InUse at 78dc18086400 of size 256 next 138\n",
      "2024-04-14 03:34:45.151763: I tensorflow/tsl/framework/bfc_allocator.cc:1095] InUse at 78dc18086500 of size 768 next 139\n",
      "2024-04-14 03:34:45.151768: I tensorflow/tsl/framework/bfc_allocator.cc:1095] InUse at 78dc18086800 of size 256 next 140\n",
      "2024-04-14 03:34:45.151775: I tensorflow/tsl/framework/bfc_allocator.cc:1095] InUse at 78dc18086900 of size 256 next 141\n",
      "2024-04-14 03:34:45.151785: I tensorflow/tsl/framework/bfc_allocator.cc:1095] InUse at 78dc18086a00 of size 256 next 142\n",
      "2024-04-14 03:34:45.151791: I tensorflow/tsl/framework/bfc_allocator.cc:1095] InUse at 78dc18086b00 of size 3584 next 143\n",
      "2024-04-14 03:34:45.151796: I tensorflow/tsl/framework/bfc_allocator.cc:1095] InUse at 78dc18087900 of size 256 next 144\n",
      "2024-04-14 03:34:45.151800: I tensorflow/tsl/framework/bfc_allocator.cc:1095] InUse at 78dc18087a00 of size 256 next 145\n",
      "2024-04-14 03:34:45.151805: I tensorflow/tsl/framework/bfc_allocator.cc:1095] InUse at 78dc18087b00 of size 256 next 146\n",
      "2024-04-14 03:34:45.151810: I tensorflow/tsl/framework/bfc_allocator.cc:1095] InUse at 78dc18087c00 of size 256 next 148\n",
      "2024-04-14 03:34:45.151815: I tensorflow/tsl/framework/bfc_allocator.cc:1095] InUse at 78dc18087d00 of size 256 next 149\n",
      "2024-04-14 03:34:45.151819: I tensorflow/tsl/framework/bfc_allocator.cc:1095] InUse at 78dc18087e00 of size 256 next 150\n",
      "2024-04-14 03:34:45.151824: I tensorflow/tsl/framework/bfc_allocator.cc:1095] InUse at 78dc18087f00 of size 24832 next 126\n",
      "2024-04-14 03:34:45.151830: I tensorflow/tsl/framework/bfc_allocator.cc:1095] InUse at 78dc1808e000 of size 24064 next 11\n",
      "2024-04-14 03:34:45.151836: I tensorflow/tsl/framework/bfc_allocator.cc:1095] InUse at 78dc18093e00 of size 256 next 12\n",
      "2024-04-14 03:34:45.151842: I tensorflow/tsl/framework/bfc_allocator.cc:1095] InUse at 78dc18093f00 of size 151400448 next 296\n",
      "2024-04-14 03:34:45.151848: I tensorflow/tsl/framework/bfc_allocator.cc:1095] InUse at 78dc210f6f00 of size 77070336 next 297\n",
      "2024-04-14 03:34:45.151852: I tensorflow/tsl/framework/bfc_allocator.cc:1095] Free  at 78dc25a76f00 of size 145379328 next 65\n",
      "2024-04-14 03:34:45.151857: I tensorflow/tsl/framework/bfc_allocator.cc:1095] InUse at 78dc2e51bf00 of size 186624000 next 62\n",
      "2024-04-14 03:34:45.151862: I tensorflow/tsl/framework/bfc_allocator.cc:1095] InUse at 78dc39716700 of size 512 next 151\n",
      "2024-04-14 03:34:45.151866: I tensorflow/tsl/framework/bfc_allocator.cc:1095] InUse at 78dc39716900 of size 512 next 152\n",
      "2024-04-14 03:34:45.151871: I tensorflow/tsl/framework/bfc_allocator.cc:1095] InUse at 78dc39716b00 of size 512 next 153\n",
      "2024-04-14 03:34:45.151876: I tensorflow/tsl/framework/bfc_allocator.cc:1095] InUse at 78dc39716d00 of size 512 next 154\n",
      "2024-04-14 03:34:45.151881: I tensorflow/tsl/framework/bfc_allocator.cc:1095] InUse at 78dc39716f00 of size 256 next 155\n",
      "2024-04-14 03:34:45.151885: I tensorflow/tsl/framework/bfc_allocator.cc:1095] InUse at 78dc39717000 of size 768 next 156\n",
      "2024-04-14 03:34:45.151890: I tensorflow/tsl/framework/bfc_allocator.cc:1095] InUse at 78dc39717300 of size 256 next 157\n",
      "2024-04-14 03:34:45.151895: I tensorflow/tsl/framework/bfc_allocator.cc:1095] InUse at 78dc39717400 of size 256 next 158\n",
      "2024-04-14 03:34:45.151900: I tensorflow/tsl/framework/bfc_allocator.cc:1095] InUse at 78dc39717500 of size 256 next 159\n",
      "2024-04-14 03:34:45.151905: I tensorflow/tsl/framework/bfc_allocator.cc:1095] InUse at 78dc39717600 of size 3584 next 160\n",
      "2024-04-14 03:34:45.151911: I tensorflow/tsl/framework/bfc_allocator.cc:1095] InUse at 78dc39718400 of size 256 next 161\n",
      "2024-04-14 03:34:45.151916: I tensorflow/tsl/framework/bfc_allocator.cc:1095] InUse at 78dc39718500 of size 256 next 162\n",
      "2024-04-14 03:34:45.151922: I tensorflow/tsl/framework/bfc_allocator.cc:1095] InUse at 78dc39718600 of size 256 next 163\n",
      "2024-04-14 03:34:45.151926: I tensorflow/tsl/framework/bfc_allocator.cc:1095] InUse at 78dc39718700 of size 256 next 164\n",
      "2024-04-14 03:34:45.151934: I tensorflow/tsl/framework/bfc_allocator.cc:1095] InUse at 78dc39718800 of size 256 next 165\n",
      "2024-04-14 03:34:45.151939: I tensorflow/tsl/framework/bfc_allocator.cc:1095] InUse at 78dc39718900 of size 256 next 166\n",
      "2024-04-14 03:34:45.151945: I tensorflow/tsl/framework/bfc_allocator.cc:1095] InUse at 78dc39718a00 of size 16384 next 167\n",
      "2024-04-14 03:34:45.151950: I tensorflow/tsl/framework/bfc_allocator.cc:1095] InUse at 78dc3971ca00 of size 512 next 168\n",
      "2024-04-14 03:34:45.151955: I tensorflow/tsl/framework/bfc_allocator.cc:1095] InUse at 78dc3971cc00 of size 512 next 169\n",
      "2024-04-14 03:34:45.151961: I tensorflow/tsl/framework/bfc_allocator.cc:1095] InUse at 78dc3971ce00 of size 512 next 170\n",
      "2024-04-14 03:34:45.151967: I tensorflow/tsl/framework/bfc_allocator.cc:1095] InUse at 78dc3971d000 of size 512 next 171\n",
      "2024-04-14 03:34:45.151972: I tensorflow/tsl/framework/bfc_allocator.cc:1095] InUse at 78dc3971d200 of size 256 next 172\n",
      "2024-04-14 03:34:45.151976: I tensorflow/tsl/framework/bfc_allocator.cc:1095] InUse at 78dc3971d300 of size 256 next 173\n",
      "2024-04-14 03:34:45.151979: I tensorflow/tsl/framework/bfc_allocator.cc:1095] InUse at 78dc3971d400 of size 256 next 174\n",
      "2024-04-14 03:34:45.151983: I tensorflow/tsl/framework/bfc_allocator.cc:1095] InUse at 78dc3971d500 of size 256 next 175\n",
      "2024-04-14 03:34:45.151987: I tensorflow/tsl/framework/bfc_allocator.cc:1095] InUse at 78dc3971d600 of size 256 next 176\n",
      "2024-04-14 03:34:45.151992: I tensorflow/tsl/framework/bfc_allocator.cc:1095] InUse at 78dc3971d700 of size 256 next 177\n",
      "2024-04-14 03:34:45.151996: I tensorflow/tsl/framework/bfc_allocator.cc:1095] InUse at 78dc3971d800 of size 256 next 178\n",
      "2024-04-14 03:34:45.151999: I tensorflow/tsl/framework/bfc_allocator.cc:1095] InUse at 78dc3971d900 of size 256 next 179\n",
      "2024-04-14 03:34:45.152001: I tensorflow/tsl/framework/bfc_allocator.cc:1095] InUse at 78dc3971da00 of size 256 next 180\n",
      "2024-04-14 03:34:45.152004: I tensorflow/tsl/framework/bfc_allocator.cc:1095] InUse at 78dc3971db00 of size 256 next 181\n",
      "2024-04-14 03:34:45.152007: I tensorflow/tsl/framework/bfc_allocator.cc:1095] InUse at 78dc3971dc00 of size 256 next 182\n",
      "2024-04-14 03:34:45.152009: I tensorflow/tsl/framework/bfc_allocator.cc:1095] InUse at 78dc3971dd00 of size 256 next 183\n",
      "2024-04-14 03:34:45.152012: I tensorflow/tsl/framework/bfc_allocator.cc:1095] InUse at 78dc3971de00 of size 256 next 184\n",
      "2024-04-14 03:34:45.152014: I tensorflow/tsl/framework/bfc_allocator.cc:1095] InUse at 78dc3971df00 of size 256 next 185\n",
      "2024-04-14 03:34:45.152017: I tensorflow/tsl/framework/bfc_allocator.cc:1095] InUse at 78dc3971e000 of size 256 next 186\n",
      "2024-04-14 03:34:45.152021: I tensorflow/tsl/framework/bfc_allocator.cc:1095] InUse at 78dc3971e100 of size 256 next 187\n",
      "2024-04-14 03:34:45.152024: I tensorflow/tsl/framework/bfc_allocator.cc:1095] InUse at 78dc3971e200 of size 256 next 188\n",
      "2024-04-14 03:34:45.152027: I tensorflow/tsl/framework/bfc_allocator.cc:1095] InUse at 78dc3971e300 of size 256 next 189\n",
      "2024-04-14 03:34:45.152030: I tensorflow/tsl/framework/bfc_allocator.cc:1095] InUse at 78dc3971e400 of size 256 next 203\n",
      "2024-04-14 03:34:45.152033: I tensorflow/tsl/framework/bfc_allocator.cc:1095] InUse at 78dc3971e500 of size 256 next 190\n",
      "2024-04-14 03:34:45.152037: I tensorflow/tsl/framework/bfc_allocator.cc:1095] InUse at 78dc3971e600 of size 256 next 201\n",
      "2024-04-14 03:34:45.152041: I tensorflow/tsl/framework/bfc_allocator.cc:1095] InUse at 78dc3971e700 of size 256 next 205\n",
      "2024-04-14 03:34:45.152044: I tensorflow/tsl/framework/bfc_allocator.cc:1095] InUse at 78dc3971e800 of size 256 next 204\n",
      "2024-04-14 03:34:45.152048: I tensorflow/tsl/framework/bfc_allocator.cc:1095] InUse at 78dc3971e900 of size 256 next 191\n",
      "2024-04-14 03:34:45.152051: I tensorflow/tsl/framework/bfc_allocator.cc:1095] InUse at 78dc3971ea00 of size 256 next 207\n",
      "2024-04-14 03:34:45.152054: I tensorflow/tsl/framework/bfc_allocator.cc:1095] InUse at 78dc3971eb00 of size 256 next 208\n",
      "2024-04-14 03:34:45.152058: I tensorflow/tsl/framework/bfc_allocator.cc:1095] InUse at 78dc3971ec00 of size 256 next 206\n",
      "2024-04-14 03:34:45.152062: I tensorflow/tsl/framework/bfc_allocator.cc:1095] InUse at 78dc3971ed00 of size 768 next 200\n",
      "2024-04-14 03:34:45.152066: I tensorflow/tsl/framework/bfc_allocator.cc:1095] InUse at 78dc3971f000 of size 256 next 199\n",
      "2024-04-14 03:34:45.152069: I tensorflow/tsl/framework/bfc_allocator.cc:1095] InUse at 78dc3971f100 of size 256 next 195\n",
      "2024-04-14 03:34:45.152073: I tensorflow/tsl/framework/bfc_allocator.cc:1095] InUse at 78dc3971f200 of size 256 next 197\n",
      "2024-04-14 03:34:45.152077: I tensorflow/tsl/framework/bfc_allocator.cc:1095] InUse at 78dc3971f300 of size 512 next 210\n",
      "2024-04-14 03:34:45.152081: I tensorflow/tsl/framework/bfc_allocator.cc:1095] InUse at 78dc3971f500 of size 512 next 193\n",
      "2024-04-14 03:34:45.152085: I tensorflow/tsl/framework/bfc_allocator.cc:1095] InUse at 78dc3971f700 of size 512 next 194\n",
      "2024-04-14 03:34:45.152089: I tensorflow/tsl/framework/bfc_allocator.cc:1095] InUse at 78dc3971f900 of size 512 next 202\n",
      "2024-04-14 03:34:45.152092: I tensorflow/tsl/framework/bfc_allocator.cc:1095] InUse at 78dc3971fb00 of size 512 next 209\n",
      "2024-04-14 03:34:45.152096: I tensorflow/tsl/framework/bfc_allocator.cc:1095] InUse at 78dc3971fd00 of size 256 next 214\n",
      "2024-04-14 03:34:45.152101: I tensorflow/tsl/framework/bfc_allocator.cc:1095] InUse at 78dc3971fe00 of size 256 next 212\n",
      "2024-04-14 03:34:45.152105: I tensorflow/tsl/framework/bfc_allocator.cc:1095] InUse at 78dc3971ff00 of size 256 next 213\n",
      "2024-04-14 03:34:45.152108: I tensorflow/tsl/framework/bfc_allocator.cc:1095] InUse at 78dc39720000 of size 256 next 217\n",
      "2024-04-14 03:34:45.152112: I tensorflow/tsl/framework/bfc_allocator.cc:1095] InUse at 78dc39720100 of size 256 next 218\n",
      "2024-04-14 03:34:45.152116: I tensorflow/tsl/framework/bfc_allocator.cc:1095] InUse at 78dc39720200 of size 256 next 219\n",
      "2024-04-14 03:34:45.152119: I tensorflow/tsl/framework/bfc_allocator.cc:1095] InUse at 78dc39720300 of size 256 next 220\n",
      "2024-04-14 03:34:45.152122: I tensorflow/tsl/framework/bfc_allocator.cc:1095] InUse at 78dc39720400 of size 256 next 222\n",
      "2024-04-14 03:34:45.152125: I tensorflow/tsl/framework/bfc_allocator.cc:1095] InUse at 78dc39720500 of size 256 next 221\n",
      "2024-04-14 03:34:45.152128: I tensorflow/tsl/framework/bfc_allocator.cc:1095] InUse at 78dc39720600 of size 256 next 223\n",
      "2024-04-14 03:34:45.152130: I tensorflow/tsl/framework/bfc_allocator.cc:1095] InUse at 78dc39720700 of size 256 next 224\n",
      "2024-04-14 03:34:45.152133: I tensorflow/tsl/framework/bfc_allocator.cc:1095] InUse at 78dc39720800 of size 256 next 225\n",
      "2024-04-14 03:34:45.152135: I tensorflow/tsl/framework/bfc_allocator.cc:1095] InUse at 78dc39720900 of size 256 next 226\n",
      "2024-04-14 03:34:45.152138: I tensorflow/tsl/framework/bfc_allocator.cc:1095] InUse at 78dc39720a00 of size 256 next 228\n",
      "2024-04-14 03:34:45.152140: I tensorflow/tsl/framework/bfc_allocator.cc:1095] InUse at 78dc39720b00 of size 256 next 198\n",
      "2024-04-14 03:34:45.152143: I tensorflow/tsl/framework/bfc_allocator.cc:1095] InUse at 78dc39720c00 of size 3584 next 192\n",
      "2024-04-14 03:34:45.152145: I tensorflow/tsl/framework/bfc_allocator.cc:1095] InUse at 78dc39721a00 of size 768 next 227\n",
      "2024-04-14 03:34:45.152148: I tensorflow/tsl/framework/bfc_allocator.cc:1095] InUse at 78dc39721d00 of size 256 next 229\n",
      "2024-04-14 03:34:45.152151: I tensorflow/tsl/framework/bfc_allocator.cc:1095] InUse at 78dc39721e00 of size 3584 next 230\n",
      "2024-04-14 03:34:45.152153: I tensorflow/tsl/framework/bfc_allocator.cc:1095] InUse at 78dc39722c00 of size 256 next 231\n",
      "2024-04-14 03:34:45.152156: I tensorflow/tsl/framework/bfc_allocator.cc:1095] InUse at 78dc39722d00 of size 256 next 232\n",
      "2024-04-14 03:34:45.152158: I tensorflow/tsl/framework/bfc_allocator.cc:1095] InUse at 78dc39722e00 of size 256 next 233\n",
      "2024-04-14 03:34:45.152161: I tensorflow/tsl/framework/bfc_allocator.cc:1095] InUse at 78dc39722f00 of size 512 next 235\n",
      "2024-04-14 03:34:45.152163: I tensorflow/tsl/framework/bfc_allocator.cc:1095] InUse at 78dc39723100 of size 512 next 236\n",
      "2024-04-14 03:34:45.152166: I tensorflow/tsl/framework/bfc_allocator.cc:1095] InUse at 78dc39723300 of size 512 next 237\n",
      "2024-04-14 03:34:45.152169: I tensorflow/tsl/framework/bfc_allocator.cc:1095] InUse at 78dc39723500 of size 25856 next 216\n",
      "2024-04-14 03:34:45.152171: I tensorflow/tsl/framework/bfc_allocator.cc:1095] InUse at 78dc39729a00 of size 16384 next 215\n",
      "2024-04-14 03:34:45.152174: I tensorflow/tsl/framework/bfc_allocator.cc:1095] InUse at 78dc3972da00 of size 256 next 238\n",
      "2024-04-14 03:34:45.152177: I tensorflow/tsl/framework/bfc_allocator.cc:1095] InUse at 78dc3972db00 of size 256 next 239\n",
      "2024-04-14 03:34:45.152180: I tensorflow/tsl/framework/bfc_allocator.cc:1095] InUse at 78dc3972dc00 of size 256 next 240\n",
      "2024-04-14 03:34:45.152183: I tensorflow/tsl/framework/bfc_allocator.cc:1095] InUse at 78dc3972dd00 of size 256 next 241\n",
      "2024-04-14 03:34:45.152186: I tensorflow/tsl/framework/bfc_allocator.cc:1095] InUse at 78dc3972de00 of size 256 next 242\n",
      "2024-04-14 03:34:45.152189: I tensorflow/tsl/framework/bfc_allocator.cc:1095] InUse at 78dc3972df00 of size 768 next 243\n",
      "2024-04-14 03:34:45.152192: I tensorflow/tsl/framework/bfc_allocator.cc:1095] InUse at 78dc3972e200 of size 256 next 244\n",
      "2024-04-14 03:34:45.152194: I tensorflow/tsl/framework/bfc_allocator.cc:1095] InUse at 78dc3972e300 of size 256 next 245\n",
      "2024-04-14 03:34:45.152198: I tensorflow/tsl/framework/bfc_allocator.cc:109Traceback (most recent call last):\n",
      "5] InUse at 78dc3972e400 of size 256 next 246\n",
      "2024-04-14 03:34:45.152201: I tensorflow/tsl/framework/bfc_allocator.cc:1095] InUse at 78dc3972e500 of size 3584 next 247\n",
      "2024-04-14 03:34:45.152204: I tensorflow/tsl/framework/bfc_allocator.cc:1095] InUse at 78dc3972f300 of size 256 next 248\n",
      "2024-04-14 03:34:45.152207: I tensorflow/tsl/framework/bfc_allocator.cc:1095] InUse at 78dc3972f400 of size 256 next 249\n",
      "2024-04-14 03:34:45.152210: I tensorflow/tsl/framework/bfc_allocator.cc:1095] InUse at 78dc3972f500 of size 256 next 250\n",
      "2024-04-14 03:34:45.152213: I tensorflow/tsl/framework/bfc_allocator.cc:1095] InUse at 78dc3972f600 of size 512 next 251\n",
      "2024-04-14 03:34:45.152216: I tensorflow/tsl/framework/bfc_allocator.cc:1095] InUse at 78dc3972f800 of size 512 next 252\n",
      "2024-04-14 03:34:45.152219: I tensorflow/tsl/framework/bfc_allocator.cc:1095] InUse at 78dc3972fa00 of size 512 next 253\n",
      "2024-04-14 03:34:45.152222: I tensorflow/tsl/framework/bfc_allocator.cc:1095] InUse at 78dc3972fc00 of size 16384 next 254\n",
      "2024-04-14 03:34:45.152225: I tensorflow/tsl/framework/bfc_allocator.cc:1095] InUse at 78dc39733c00 of size 256 next 255\n",
      "2024-04-14 03:34:45.152228: I tensorflow/tsl/framework/bfc_allocator.cc:1095] InUse at 78dc39733d00 of size 256 next 256\n",
      "2024-04-14 03:34:45.152230: I tensorflow/tsl/framework/bfc_allocator.cc:1095] InUse at 78dc39733e00 of size 256 next 257\n",
      "2024-04-14 03:34:45.152233: I tensorflow/tsl/framework/bfc_allocator.cc:1095] InUse at 78dc39733f00 of size 256 next 258\n",
      "2024-04-14 03:34:45.152235: I tensorflow/tsl/framework/bfc_allocator.cc:1095] InUse at 78dc39734000 of size 256 next 259\n",
      "2024-04-14 03:34:45.152238: I tensorflow/tsl/framework/bfc_allocator.cc:1095] InUse at 78dc39734100 of size 256 next 260\n",
      "2024-04-14 03:34:45.152241: I tensorflow/tsl/framework/bfc_allocator.cc:1095] InUse at 78dc39734200 of size 256 next 261\n",
      "2024-04-14 03:34:45.152243: I tensorflow/tsl/framework/bfc_allocator.cc:1095] InUse at 78dc39734300 of size 256 next 262\n",
      "2024-04-14 03:3  File \"/tmp/ipykernel_19536/3935950760.py\", line 9, in train\n",
      "    model.fit(val_dataset, epochs=config.n_epochs, callbacks=[WandbCallback()])\n",
      "4:45.152246: I tensorflow/tsl/framework/bfc_allocator.cc:1095] InUse at 78dc39734400 of size 256 next 263\n",
      "2024-04-14 03:34:45.152248: I tensorflow/tsl/framework/bfc_allocator.cc:1095] InUse at 78dc39734500 of size 256 next 264\n",
      "2024-04-14 03:34:45.152251: I tensorflow/tsl/framework/bfc_allocator.cc:1095] InUse at 78dc39734600 of size 256 next 265\n",
      "2024-04-14 03:34:45.152253: I tensorflow/tsl/framework/bfc_allocator.cc:1095] InUse at 78dc39734700 of size 256 next 266\n",
      "2024-04-14 03:34:45.152257: I tensorflow/tsl/framework/bfc_allocator.cc:1095] InUse at 78dc39734800 of size 256 next 267\n",
      "2024-04-14 03:34:45.152260: I tensorflow/tsl/framework/bfc_allocator.cc:1095] InUse at 78dc39734900 of size 256 next 268\n",
      "2024-04-14 03:34:45.152263: I tensorflow/tsl/framework/bfc_allocator.cc:1095] InUse at 78dc39734a00 of size 256 next 269\n",
      "2024-04-14 03:34:45.152267: I tensorflow/tsl/framework/bfc_allocator.cc:1095] InUse at 78dc39734b00 of size 256 next 270\n",
      "2024-04-14 03:34:45.152269: I tensorflow/tsl/framework/bfc_allocator.cc:1095] InUse at 78dc39734c00 of size 256 next 271\n",
      "2024-04-14 03:34:45.152272: I tensorflow/tsl/framework/bfc_allocator.cc:1095] InUse at 78dc39734d00 of size 256 next 272\n",
      "2024-04-14 03:34:45.152275: I tensorflow/tsl/framework/bfc_allocator.cc:1095] InUse at 78dc39734e00 of size 256 next 273\n",
      "2024-04-14 03:34:45.152278: I tensorflow/tsl/framework/bfc_allocator.cc:1095] InUse at 78dc39734f00 of size 256 next 274\n",
      "2024-04-14 03:34:45.152280: I tensorflow/tsl/framework/bfc_allocator.cc:1095] InUse at 78dc39735000 of size 256 next 275\n",
      "2024-04-14 03:34:45.152283: I tensorflow/tsl/framework/bfc_allocator.cc:1095] InUse at 78dc39735100 of size 256 next 276\n",
      "2024-04-14 03:34:45.152285: I tensorflow/tsl/framework/bfc_allocator.cc:1095] InUse at 78dc39735200 of size 256 next 277\n",
      "2024-04-14 03:34:45.152288: I tensorflow/tsl/framework/bfc_allocator.cc:1095] InUse at 78dc39735300 of size 256 next 278\n",
      "2024-04-14 03:34:45.152290: I tensorflow/tsl/framework/bfc_allocator.cc:1095] I  File \"/home/kervin/miniforge3/envs/tf/lib/python3.9/site-packages/keras/src/utils/traceback_utils.py\", line 70, in error_handler\n",
      "    raise e.with_traceback(filtered_tb) from None\n",
      "nUse at 78dc39735400 of size 768 next 279\n",
      "2024-04-14 03:34:45.152293: I tensorflow/tsl/framework/bfc_allocator.cc:1095] InUse at 78dc39735700 of size 256 next 280\n",
      "2024-04-14 03:34:45.152296: I tensorflow/tsl/framework/bfc_allocator.cc:1095] InUse at 78dc39735800 of size 16384 next 281\n",
      "2024-04-14 03:34:45.152299: I tensorflow/tsl/framework/bfc_allocator.cc:1095] InUse at 78dc39739800 of size 256 next 282\n",
      "2024-04-14 03:34:45.152302: I tensorflow/tsl/framework/bfc_allocator.cc:1095] InUse at 78dc39739900 of size 256 next 284\n",
      "2024-04-14 03:34:45.152306: I tensorflow/tsl/framework/bfc_allocator.cc:1095] InUse at 78dc39739a00 of size 3584 next 285\n",
      "2024-04-14 03:34:45.152309: I tensorflow/tsl/framework/bfc_allocator.cc:1095] InUse at 78dc3973a800 of size 256 next 286\n",
      "2024-04-14 03:34:45.152312: I tensorflow/tsl/framework/bfc_allocator.cc:1095] InUse at 78dc3973a900 of size 256 next 287\n",
      "2024-04-14 03:34:45.152316: I tensorflow/tsl/framework/bfc_allocator.cc:1095] InUse at 78dc3973aa00 of size 256 next 291\n",
      "2024-04-14 03:34:45.152320: I tensorflow/tsl/framework/bfc_allocator.cc:1095] InUse at 78dc3973ab00 of size 256 next 292\n",
      "2024-04-14 03:34:45.152324: I tensorflow/tsl/framework/bfc_allocator.cc:1095] InUse at 78dc3973ac00 of size 512 next 288\n",
      "2024-04-14 03:34:45.152327: I tensorflow/tsl/framework/bfc_allocator.cc:1095] Free  at 78dc3973ae00 of size 256 next 289\n",
      "2024-04-14 03:34:45.152330: I tensorflow/tsl/framework/bfc_allocator.cc:1095] InUse at 78dc3973af00 of size 512 next 290\n",
      "2024-04-14 03:34:45.152334: I tensorflow/tsl/framework/bfc_allocator.cc:1095] InUse at 78dc3973b100 of size 512 next 293\n",
      "2024-04-14 03:34:45.152337: I tensorflow/tsl/framework/bfc_allocator.cc:1095] InUse at 78dc3973b300 of size 256 next 294\n",
      "2024-04-14 03:34:45.152340: I tensorflow/tsl/framework/bfc_allocator.cc:1095] InUse at 78dc3973b400 of size 256 next 295\n",
      "2024-04-14 03:34:45.152344: I tensorflow/tsl/framework/bfc_allocator.cc:1095] InUse at 78dc3973b500 of size 256 next 298\n",
      "2024-04-14 03:34:45  File \"/home/kervin/miniforge3/envs/tf/lib/python3.9/site-packages/tensorflow/python/eager/execute.py\", line 53, in quick_execute\n",
      "    tensors = pywrap_tfe.TFE_Py_Execute(ctx._handle, device_name, op_name,\n",
      ".152347: I tensorflow/tsl/framework/bfc_allocator.cc:1095] InUse at 78dc3973b600 of size 768 next 299\n",
      "2024-04-14 03:34:45.152350: I tensorflow/tsl/framework/bfc_allocator.cc:1095] Free  at 78dc3973b900 of size 248064 next 74\n",
      "2024-04-14 03:34:45.152354: I tensorflow/tsl/framework/bfc_allocator.cc:1095] InUse at 78dc39778200 of size 400128 next 75\n",
      "2024-04-14 03:34:45.152358: I tensorflow/tsl/framework/bfc_allocator.cc:1095] InUse at 78dc397d9d00 of size 6195200 next 147\n",
      "2024-04-14 03:34:45.152363: I tensorflow/tsl/framework/bfc_allocator.cc:1095] InUse at 78dc39dc2500 of size 6195200 next 117\n",
      "2024-04-14 03:34:45.152367: I tensorflow/tsl/framework/bfc_allocator.cc:1095] InUse at 78dc3a3aad00 of size 6195200 next 116\n",
      "2024-04-14 03:34:45.152370: I tensorflow/tsl/framework/bfc_allocator.cc:1095] InUse at 78dc3a993500 of size 24780800 next 234\n",
      "2024-04-14 03:34:45.152374: I tensorflow/tsl/framework/bfc_allocator.cc:1095] InUse at 78dc3c135500 of size 24780800 next 196\n",
      "2024-04-14 03:34:45.152377: I tensorflow/tsl/framework/bfc_allocator.cc:1095] InUse at 78dc3d8d7500 of size 24780800 next 211\n",
      "2024-04-14 03:34:45.152381: I tensorflow/tsl/framework/bfc_allocator.cc:1095] InUse at 78dc3f079500 of size 24780800 next 283\n",
      "2024-04-14 03:34:45.152385: I tensorflow/tsl/framework/bfc_allocator.cc:1095] InUse at 78dc4081b500 of size 78072576 next 18446744073709551615\n",
      "2024-04-14 03:34:45.152389: I tensorflow/tsl/framework/bfc_allocator.cc:1100]      Summary of in-use Chunks by size: \n",
      "2024-04-14 03:34:45.152395: I tensorflow/tsl/framework/bfc_allocator.cc:1103] 212 Chunks of size 256 totalling 53.0KiB\n",
      "2024-04-14 03:34:45.152400: I tensorflow/tsl/framework/bfc_allocator.cc:1103] 33 Chunks of size 512 totalling 16.5KiB\n",
      "2024-04-14 03:34:45.152404: I tensorflow/tsl/framework/bfc_allocator.cc:1103] 10 Chunks of size 768 totalling 7.5KiB\n",
      "2024-04-14 03:34:45.152409: I tensorflow/tsl/framework/bfc_allocator.cc:1103] 5 Chunks of size 1024 totalling 5.0KiB\n",
      "2024-04-14 03:34:45.152414: I tensorflow/tensorflow.python.framework.errors_impl.ResourceExhaustedError: Graph execution error:\n",
      "\n",
      "Detected at node 'sequential/conv2d/Relu' defined at (most recent call last):\n",
      "    File \"/home/kervin/miniforge3/envs/tf/lib/python3.9/threading.py\", line 937, in _bootstrap\n",
      "      self._bootstrap_inner()\n",
      "    File \"/home/kervin/miniforge3/envs/tf/lib/python3.9/threading.py\", line 980, in _bootstrap_inner\n",
      "      self.run()\n",
      "    File \"/home/kervin/miniforge3/envs/tf/lib/python3.9/site-packages/ipykernel/ipkernel.py\", line 761, in run_closure\n",
      "      _threading_Thread_run(self)\n",
      "    File \"/home/kervin/miniforge3/envs/tf/lib/python3.9/threading.py\", line 917, in run\n",
      "      self._target(*self._args, **self._kwargs)\n",
      "    File \"/home/kervin/miniforge3/envs/tf/lib/python3.9/site-packages/wandb/agents/pyagent.py\", line 308, in _run_job\n",
      "      self._function()\n",
      "    File \"/tmp/ipykernel_19536/3935950760.py\", line 9, in train\n",
      "      model.fit(val_dataset, epochs=config.n_epochs, callbacks=[WandbCallback()])\n",
      "    File \"/home/kervin/miniforge3/envs/tf/lib/python3.9/site-packages/keras/src/utils/traceback_utils.py\", line 65, in error_handler\n",
      "      return fn(*args, **kwargs)\n",
      "    File \"/home/kervin/miniforge3/envs/tf/lib/python3.9/site-packages/keras/src/engine/training.py\", line 1742, in fit\n",
      "      tmp_logs = self.train_function(iterator)\n",
      "    File \"/home/kervin/miniforge3/envs/tf/lib/python3.9/site-packages/keras/src/engine/training.py\", line 1338, in train_function\n",
      "      return step_function(self, iterator)\n",
      "    File \"/home/kervin/miniforge3/envs/tf/lib/python3.9/site-packages/keras/src/engine/training.py\", line 1322, in step_function\n",
      "      outputs = model.distribute_strategy.run(run_step, args=(data,))\n",
      "    File \"/home/kervin/miniforge3/envs/tf/lib/python3.9/site-packages/keras/src/engine/training.py\", line 1303, in run_step\n",
      "      outputs = model.train_step(data)\n",
      "    File \"/home/kervin/miniforge3/envs/tf/lib/python3.9/site-packages/keras/src/engine/training.py\", line 1080, in train_step\n",
      "      y_pred = self(x, training=True)\n",
      "    File \"/home/kervin/miniforge3/envs/tf/lib/python3.9/site-packages/keras/src/utils/traceback_utils.py\", line 65, in error_handler\n",
      "      return fn(*args, **kwargs)\n",
      "    File \"/home/kervin/miniforge3/envs/tf/lib/python3.9/site-packages/keras/src/engine/training.py\", line 569, in __call__\n",
      "      return super().__call__(*args, **kwargs)\n",
      "    File \"/home/kervin/miniforge3/envs/tf/lib/python3.9/site-packages/keras/src/utils/traceback_utils.py\", line 65, in error_handler\n",
      "      return fn(*args, **kwargs)\n",
      "    File \"/home/kervin/miniforge3/envs/tf/lib/python3.9/site-packages/keras/src/engine/base_layer.py\", line 1150, in __call__\n",
      "      outputs = call_fn(inputs, *args, **kwargs)\n",
      "    File \"/home/kervin/miniforge3/envs/tf/lib/python3.9/site-packages/keras/src/utils/traceback_utils.py\", line 96, in error_handler\n",
      "      return fn(*args, **kwargs)\n",
      "    File \"/home/kervin/miniforge3/envs/tf/lib/python3.9/site-packages/keras/src/engine/sequential.py\", line 405, in call\n",
      "      return super().call(inputs, training=training, mask=mask)\n",
      "    File \"/home/kervin/miniforge3/envs/tf/lib/python3.9/site-packages/keras/src/engine/functional.py\", line 512, in call\n",
      "      return self._run_internal_graph(inputs, training=training, mask=mask)\n",
      "    File \"/home/kervin/miniforge3/envs/tf/lib/python3.9/site-packages/keras/src/engine/functional.py\", line 669, in _run_internal_graph\n",
      "      outputs = node.layer(*args, **kwargs)\n",
      "    File \"/home/kervin/miniforge3/envs/tf/lib/python3.9/site-packages/keras/src/utils/traceback_utils.py\", line 65, in error_handler\n",
      "      return fn(*args, **kwargs)\n",
      "    File \"/home/kervin/miniforge3/envs/tf/lib/python3.9/site-packages/keras/src/engine/base_layer.py\", line 1150, in __call__\n",
      "      outputs = call_fn(inputs, *args, **kwargs)\n",
      "    File \"/home/kervin/miniforge3/envs/tf/lib/python3.9/site-packages/keras/src/utils/traceback_utils.py\", line 96, in error_handler\n",
      "      return fn(*args, **kwargs)\n",
      "    File \"/home/kervin/miniforge3/envs/tf/lib/python3.9/site-packages/keras/src/layers/convolutional/base_conv.py\", line 321, in call\n",
      "      return self.activation(outputs)\n",
      "    File \"/home/kervin/miniforge3/envs/tf/lib/python3.9/site-packages/keras/src/activations.py\", line 321, in relu\n",
      "      return backend.relu(\n",
      "    File \"/home/kervin/miniforge3/envs/tf/lib/python3.9/site-packages/keras/src/backend.py\", line 5397, in relu\n",
      "      x = tf.nn.relu(x)\n",
      "Node: 'sequential/conv2d/Relu'\n",
      "OOM when allocating tensor with shape[128,6,222,222] and type float on /job:localhost/replica:0/task:0/device:GPU:0 by allocator GPU_0_bfc\n",
      "\t [[{{node sequential/conv2d/Relu}}]]\n",
      "Hint: If you want to see a list of allocated tensors when OOM happens, add report_tensor_allocations_upon_oom to RunOptions for current allocation info. This isn't available when running in Eager mode.\n",
      " [Op:__inference_train_function_63803]\n",
      "tsl/framework/bfc_allocator.cc:1103] 1 Chunks of size 1280 totalling 1.2KiB\n",
      "2024-04-14 03:34:45.152418: I tensorflow/tsl/framework/bfc_allocator.cc:1103] 8 Chunks of size 3584 totalling 28.0KiB\n",
      "2024-04-14 03:34:45.152423: I tensorflow/tsl/framework/bfc_allocator.cc:1103] 5 Chunks of size 4096 totalling 20.0KiB\n",
      "2024-04-14 03:34:45.152427: I tensorflow/tsl/framework/bfc_allocator.cc:1103] 1 Chunks of size 4608 totalling 4.5KiB\n",
      "2024-04-14 03:34:45.152434: I tensorflow/tsl/framework/bfc_allocator.cc:1103] 4 Chunks of size 16384 totalling 64.0KiB\n",
      "2024-04-14 03:34:45.152438: I tensorflow/tsl/framework/bfc_allocator.cc:1103] 1 Chunks of size 24064 totalling 23.5KiB\n",
      "2024-04-14 03:34:45.152442: I tensorflow/tsl/framework/bfc_allocator.cc:1103] 1 Chunks of size 24832 totalling 24.2KiB\n",
      "2024-04-14 03:34:45.152447: I tensorflow/tsl/framework/bfc_allocator.cc:1103] 1 Chunks of size 25856 totalling 25.2KiB\n",
      "2024-04-14 03:34:45.152452: I tensorflow/tsl/framework/bfc_allocator.cc:1103] 2 Chunks of size 32000 totalling 62.5KiB\n",
      "2024-04-14 03:34:45.152456: I tensorflow/tsl/framework/bfc_allocator.cc:1103] 1 Chunks of size 400128 totalling 390.8KiB\n",
      "2024-04-14 03:34:45.152461: I tensorflow/tsl/framework/bfc_allocator.cc:1103] 3 Chunks of size 6195200 totalling 17.72MiB\n",
      "2024-04-14 03:34:45.152465: I tensorflow/tsl/framework/bfc_allocator.cc:1103] 4 Chunks of size 24780800 totalling 94.53MiB\n",
      "2024-04-14 03:34:45.152469: I tensorflow/tsl/framework/bfc_allocator.cc:1103] 1 Chunks of size 77070336 totalling 73.50MiB\n",
      "2024-04-14 03:34:45.152474: I tensorflow/tsl/framework/bfc_allocator.cc:1103] 1 Chunks of size 78072576 totalling 74.46MiB\n",
      "2024-04-14 03:34:45.152479: I tensorflow/tsl/framework/bfc_allocator.cc:1103] 1 Chunks of size 151400448 totalling 144.39MiB\n",
      "2024-04-14 03:34:45.152483: I tensorflow/tsl/framework/bfc_allocator.cc:1103] 1 Chunks of size 186624000 totalling 177.98MiB\n",
      "2024-04-14 03:34:45.152486: I tensorflow/tsl/framework/bfc_allocator.cc:1107] Sum Total of in-use chunks: 583.29MiB\n",
      "2024-04-14 03:34:45.152489: I tensorflow/tsl/framework/bfc_allocator.cc:1109] Total bytes in pool: 757661696 memory_limit_: 757661696 available bytes: 0 curr_region_allocation_bytes_: 1515323392\n",
      "2024-04-14 03:34:45.152499: I tensorflow/tsl/framework/bfc_allocator.cc:1114] Stats: \n",
      "Limit:                       757661696\n",
      "InUse:                       611619584\n",
      "MaxInUse:                    756905216\n",
      "NumAllocs:                        1653\n",
      "MaxAllocSize:                222449664\n",
      "Reserved:                            0\n",
      "PeakReserved:                        0\n",
      "LargestFreeBlock:                    0\n",
      "\n",
      "2024-04-14 03:34:45.152507: W tensorflow/tsl/framework/bfc_allocator.cc:497] *******************************__________________***************************************************\n",
      "2024-04-14 03:34:45.152524: W tensorflow/core/framework/op_kernel.cc:1828] OP_REQUIRES failed at conv_ops_fused_impl.h:568 : RESOURCE_EXHAUSTED: OOM when allocating tensor with shape[128,6,222,222] and type float on /job:localhost/replica:0/task:0/device:GPU:0 by allocator GPU_0_bfc\n"
     ]
    },
    {
     "data": {
      "application/vnd.jupyter.widget-view+json": {
       "model_id": "5d2b6c0f9603430bad0642e851931ceb",
       "version_major": 2,
       "version_minor": 0
      },
      "text/plain": [
       "VBox(children=(Label(value='0.003 MB of 0.003 MB uploaded\\r'), FloatProgress(value=1.0, max=1.0)))"
      ]
     },
     "metadata": {},
     "output_type": "display_data"
    },
    {
     "data": {
      "text/html": [
       " View run <strong style=\"color:#cdcd00\">dry-sweep-2</strong> at: <a href='https://wandb.ai/kervin5/Malaria-Detection/runs/5nzshm5m' target=\"_blank\">https://wandb.ai/kervin5/Malaria-Detection/runs/5nzshm5m</a><br/> View project at: <a href='https://wandb.ai/kervin5/Malaria-Detection' target=\"_blank\">https://wandb.ai/kervin5/Malaria-Detection</a><br/>Synced 6 W&B file(s), 0 media file(s), 0 artifact file(s) and 0 other file(s)"
      ],
      "text/plain": [
       "<IPython.core.display.HTML object>"
      ]
     },
     "metadata": {},
     "output_type": "display_data"
    },
    {
     "data": {
      "text/html": [
       "Find logs at: <code>./wandb/run-20240414_033430-5nzshm5m/logs</code>"
      ],
      "text/plain": [
       "<IPython.core.display.HTML object>"
      ]
     },
     "metadata": {},
     "output_type": "display_data"
    },
    {
     "name": "stderr",
     "output_type": "stream",
     "text": [
      "Run 5nzshm5m errored:\n",
      "Traceback (most recent call last):\n",
      "  File \"/home/kervin/miniforge3/envs/tf/lib/python3.9/site-packages/wandb/agents/pyagent.py\", line 308, in _run_job\n",
      "    self._function()\n",
      "  File \"/tmp/ipykernel_19536/3935950760.py\", line 9, in train\n",
      "    model.fit(val_dataset, epochs=config.n_epochs, callbacks=[WandbCallback()])\n",
      "  File \"/home/kervin/miniforge3/envs/tf/lib/python3.9/site-packages/keras/src/utils/traceback_utils.py\", line 70, in error_handler\n",
      "    raise e.with_traceback(filtered_tb) from None\n",
      "  File \"/home/kervin/miniforge3/envs/tf/lib/python3.9/site-packages/tensorflow/python/eager/execute.py\", line 53, in quick_execute\n",
      "    tensors = pywrap_tfe.TFE_Py_Execute(ctx._handle, device_name, op_name,\n",
      "tensorflow.python.framework.errors_impl.ResourceExhaustedError: Graph execution error:\n",
      "\n",
      "Detected at node 'sequential/conv2d/Relu' defined at (most recent call last):\n",
      "    File \"/home/kervin/miniforge3/envs/tf/lib/python3.9/threading.py\", line 937, in _bootstrap\n",
      "      self._bootstrap_inner()\n",
      "    File \"/home/kervin/miniforge3/envs/tf/lib/python3.9/threading.py\", line 980, in _bootstrap_inner\n",
      "      self.run()\n",
      "    File \"/home/kervin/miniforge3/envs/tf/lib/python3.9/site-packages/ipykernel/ipkernel.py\", line 761, in run_closure\n",
      "      _threading_Thread_run(self)\n",
      "    File \"/home/kervin/miniforge3/envs/tf/lib/python3.9/threading.py\", line 917, in run\n",
      "      self._target(*self._args, **self._kwargs)\n",
      "    File \"/home/kervin/miniforge3/envs/tf/lib/python3.9/site-packages/wandb/agents/pyagent.py\", line 308, in _run_job\n",
      "      self._function()\n",
      "    File \"/tmp/ipykernel_19536/3935950760.py\", line 9, in train\n",
      "      model.fit(val_dataset, epochs=config.n_epochs, callbacks=[WandbCallback()])\n",
      "    File \"/home/kervin/miniforge3/envs/tf/lib/python3.9/site-packages/keras/src/utils/traceback_utils.py\", line 65, in error_handler\n",
      "      return fn(*args, **kwargs)\n",
      "    File \"/home/kervin/miniforge3/envs/tf/lib/python3.9/site-packages/keras/src/engine/training.py\", line 1742, in fit\n",
      "      tmp_logs = self.train_function(iterator)\n",
      "    File \"/home/kervin/miniforge3/envs/tf/lib/python3.9/site-packages/keras/src/engine/training.py\", line 1338, in train_function\n",
      "      return step_function(self, iterator)\n",
      "    File \"/home/kervin/miniforge3/envs/tf/lib/python3.9/site-packages/keras/src/engine/training.py\", line 1322, in step_function\n",
      "      outputs = model.distribute_strategy.run(run_step, args=(data,))\n",
      "    File \"/home/kervin/miniforge3/envs/tf/lib/python3.9/site-packages/keras/src/engine/training.py\", line 1303, in run_step\n",
      "      outputs = model.train_step(data)\n",
      "    File \"/home/kervin/miniforge3/envs/tf/lib/python3.9/site-packages/keras/src/engine/training.py\", line 1080, in train_step\n",
      "      y_pred = self(x, training=True)\n",
      "    File \"/home/kervin/miniforge3/envs/tf/lib/python3.9/site-packages/keras/src/utils/traceback_utils.py\", line 65, in error_handler\n",
      "      return fn(*args, **kwargs)\n",
      "    File \"/home/kervin/miniforge3/envs/tf/lib/python3.9/site-packages/keras/src/engine/training.py\", line 569, in __call__\n",
      "      return super().__call__(*args, **kwargs)\n",
      "    File \"/home/kervin/miniforge3/envs/tf/lib/python3.9/site-packages/keras/src/utils/traceback_utils.py\", line 65, in error_handler\n",
      "      return fn(*args, **kwargs)\n",
      "    File \"/home/kervin/miniforge3/envs/tf/lib/python3.9/site-packages/keras/src/engine/base_layer.py\", line 1150, in __call__\n",
      "      outputs = call_fn(inputs, *args, **kwargs)\n",
      "    File \"/home/kervin/miniforge3/envs/tf/lib/python3.9/site-packages/keras/src/utils/traceback_utils.py\", line 96, in error_handler\n",
      "      return fn(*args, **kwargs)\n",
      "    File \"/home/kervin/miniforge3/envs/tf/lib/python3.9/site-packages/keras/src/engine/sequential.py\", line 405, in call\n",
      "      return super().call(inputs, training=training, mask=mask)\n",
      "    File \"/home/kervin/miniforge3/envs/tf/lib/python3.9/site-packages/keras/src/engine/functional.py\", line 512, in call\n",
      "      return self._run_internal_graph(inputs, training=training, mask=mask)\n",
      "    File \"/home/kervin/miniforge3/envs/tf/lib/python3.9/site-packages/keras/src/engine/functional.py\", line 669, in _run_internal_graph\n",
      "      outputs = node.layer(*args, **kwargs)\n",
      "    File \"/home/kervin/miniforge3/envs/tf/lib/python3.9/site-packages/keras/src/utils/traceback_utils.py\", line 65, in error_handler\n",
      "      return fn(*args, **kwargs)\n",
      "    File \"/home/kervin/miniforge3/envs/tf/lib/python3.9/site-packages/keras/src/engine/base_layer.py\", line 1150, in __call__\n",
      "      outputs = call_fn(inputs, *args, **kwargs)\n",
      "    File \"/home/kervin/miniforge3/envs/tf/lib/python3.9/site-packages/keras/src/utils/traceback_utils.py\", line 96, in error_handler\n",
      "      return fn(*args, **kwargs)\n",
      "    File \"/home/kervin/miniforge3/envs/tf/lib/python3.9/site-packages/keras/src/layers/convolutional/base_conv.py\", line 321, in call\n",
      "      return self.activation(outputs)\n",
      "    File \"/home/kervin/miniforge3/envs/tf/lib/python3.9/site-packages/keras/src/activations.py\", line 321, in relu\n",
      "      return backend.relu(\n",
      "    File \"/home/kervin/miniforge3/envs/tf/lib/python3.9/site-packages/keras/src/backend.py\", line 5397, in relu\n",
      "      x = tf.nn.relu(x)\n",
      "Node: 'sequential/conv2d/Relu'\n",
      "OOM when allocating tensor with shape[128,6,222,222] and type float on /job:localhost/replica:0/task:0/device:GPU:0 by allocator GPU_0_bfc\n",
      "\t [[{{node sequential/conv2d/Relu}}]]\n",
      "Hint: If you want to see a list of allocated tensors when OOM happens, add report_tensor_allocations_upon_oom to RunOptions for current allocation info. This isn't available when running in Eager mode.\n",
      " [Op:__inference_train_function_63803]\n",
      "\n",
      "\u001b[34m\u001b[1mwandb\u001b[0m: \u001b[32m\u001b[41mERROR\u001b[0m Run 5nzshm5m errored:\n",
      "\u001b[34m\u001b[1mwandb\u001b[0m: \u001b[32m\u001b[41mERROR\u001b[0m Traceback (most recent call last):\n",
      "\u001b[34m\u001b[1mwandb\u001b[0m: \u001b[32m\u001b[41mERROR\u001b[0m   File \"/home/kervin/miniforge3/envs/tf/lib/python3.9/site-packages/wandb/agents/pyagent.py\", line 308, in _run_job\n",
      "\u001b[34m\u001b[1mwandb\u001b[0m: \u001b[32m\u001b[41mERROR\u001b[0m     self._function()\n",
      "\u001b[34m\u001b[1mwandb\u001b[0m: \u001b[32m\u001b[41mERROR\u001b[0m   File \"/tmp/ipykernel_19536/3935950760.py\", line 9, in train\n",
      "\u001b[34m\u001b[1mwandb\u001b[0m: \u001b[32m\u001b[41mERROR\u001b[0m     model.fit(val_dataset, epochs=config.n_epochs, callbacks=[WandbCallback()])\n",
      "\u001b[34m\u001b[1mwandb\u001b[0m: \u001b[32m\u001b[41mERROR\u001b[0m   File \"/home/kervin/miniforge3/envs/tf/lib/python3.9/site-packages/keras/src/utils/traceback_utils.py\", line 70, in error_handler\n",
      "\u001b[34m\u001b[1mwandb\u001b[0m: \u001b[32m\u001b[41mERROR\u001b[0m     raise e.with_traceback(filtered_tb) from None\n",
      "\u001b[34m\u001b[1mwandb\u001b[0m: \u001b[32m\u001b[41mERROR\u001b[0m   File \"/home/kervin/miniforge3/envs/tf/lib/python3.9/site-packages/tensorflow/python/eager/execute.py\", line 53, in quick_execute\n",
      "\u001b[34m\u001b[1mwandb\u001b[0m: \u001b[32m\u001b[41mERROR\u001b[0m     tensors = pywrap_tfe.TFE_Py_Execute(ctx._handle, device_name, op_name,\n",
      "\u001b[34m\u001b[1mwandb\u001b[0m: \u001b[32m\u001b[41mERROR\u001b[0m tensorflow.python.framework.errors_impl.ResourceExhaustedError: Graph execution error:\n",
      "\u001b[34m\u001b[1mwandb\u001b[0m: \u001b[32m\u001b[41mERROR\u001b[0m \n",
      "\u001b[34m\u001b[1mwandb\u001b[0m: \u001b[32m\u001b[41mERROR\u001b[0m Detected at node 'sequential/conv2d/Relu' defined at (most recent call last):\n",
      "\u001b[34m\u001b[1mwandb\u001b[0m: \u001b[32m\u001b[41mERROR\u001b[0m     File \"/home/kervin/miniforge3/envs/tf/lib/python3.9/threading.py\", line 937, in _bootstrap\n",
      "\u001b[34m\u001b[1mwandb\u001b[0m: \u001b[32m\u001b[41mERROR\u001b[0m       self._bootstrap_inner()\n",
      "\u001b[34m\u001b[1mwandb\u001b[0m: \u001b[32m\u001b[41mERROR\u001b[0m     File \"/home/kervin/miniforge3/envs/tf/lib/python3.9/threading.py\", line 980, in _bootstrap_inner\n",
      "\u001b[34m\u001b[1mwandb\u001b[0m: \u001b[32m\u001b[41mERROR\u001b[0m       self.run()\n",
      "\u001b[34m\u001b[1mwandb\u001b[0m: \u001b[32m\u001b[41mERROR\u001b[0m     File \"/home/kervin/miniforge3/envs/tf/lib/python3.9/site-packages/ipykernel/ipkernel.py\", line 761, in run_closure\n",
      "\u001b[34m\u001b[1mwandb\u001b[0m: \u001b[32m\u001b[41mERROR\u001b[0m       _threading_Thread_run(self)\n",
      "\u001b[34m\u001b[1mwandb\u001b[0m: \u001b[32m\u001b[41mERROR\u001b[0m     File \"/home/kervin/miniforge3/envs/tf/lib/python3.9/threading.py\", line 917, in run\n",
      "\u001b[34m\u001b[1mwandb\u001b[0m: \u001b[32m\u001b[41mERROR\u001b[0m       self._target(*self._args, **self._kwargs)\n",
      "\u001b[34m\u001b[1mwandb\u001b[0m: \u001b[32m\u001b[41mERROR\u001b[0m     File \"/home/kervin/miniforge3/envs/tf/lib/python3.9/site-packages/wandb/agents/pyagent.py\", line 308, in _run_job\n",
      "\u001b[34m\u001b[1mwandb\u001b[0m: \u001b[32m\u001b[41mERROR\u001b[0m       self._function()\n",
      "\u001b[34m\u001b[1mwandb\u001b[0m: \u001b[32m\u001b[41mERROR\u001b[0m     File \"/tmp/ipykernel_19536/3935950760.py\", line 9, in train\n",
      "\u001b[34m\u001b[1mwandb\u001b[0m: \u001b[32m\u001b[41mERROR\u001b[0m       model.fit(val_dataset, epochs=config.n_epochs, callbacks=[WandbCallback()])\n",
      "\u001b[34m\u001b[1mwandb\u001b[0m: \u001b[32m\u001b[41mERROR\u001b[0m     File \"/home/kervin/miniforge3/envs/tf/lib/python3.9/site-packages/keras/src/utils/traceback_utils.py\", line 65, in error_handler\n",
      "\u001b[34m\u001b[1mwandb\u001b[0m: \u001b[32m\u001b[41mERROR\u001b[0m       return fn(*args, **kwargs)\n",
      "\u001b[34m\u001b[1mwandb\u001b[0m: \u001b[32m\u001b[41mERROR\u001b[0m     File \"/home/kervin/miniforge3/envs/tf/lib/python3.9/site-packages/keras/src/engine/training.py\", line 1742, in fit\n",
      "\u001b[34m\u001b[1mwandb\u001b[0m: \u001b[32m\u001b[41mERROR\u001b[0m       tmp_logs = self.train_function(iterator)\n",
      "\u001b[34m\u001b[1mwandb\u001b[0m: \u001b[32m\u001b[41mERROR\u001b[0m     File \"/home/kervin/miniforge3/envs/tf/lib/python3.9/site-packages/keras/src/engine/training.py\", line 1338, in train_function\n",
      "\u001b[34m\u001b[1mwandb\u001b[0m: \u001b[32m\u001b[41mERROR\u001b[0m       return step_function(self, iterator)\n",
      "\u001b[34m\u001b[1mwandb\u001b[0m: \u001b[32m\u001b[41mERROR\u001b[0m     File \"/home/kervin/miniforge3/envs/tf/lib/python3.9/site-packages/keras/src/engine/training.py\", line 1322, in step_function\n",
      "\u001b[34m\u001b[1mwandb\u001b[0m: \u001b[32m\u001b[41mERROR\u001b[0m       outputs = model.distribute_strategy.run(run_step, args=(data,))\n",
      "\u001b[34m\u001b[1mwandb\u001b[0m: \u001b[32m\u001b[41mERROR\u001b[0m     File \"/home/kervin/miniforge3/envs/tf/lib/python3.9/site-packages/keras/src/engine/training.py\", line 1303, in run_step\n",
      "\u001b[34m\u001b[1mwandb\u001b[0m: \u001b[32m\u001b[41mERROR\u001b[0m       outputs = model.train_step(data)\n",
      "\u001b[34m\u001b[1mwandb\u001b[0m: \u001b[32m\u001b[41mERROR\u001b[0m     File \"/home/kervin/miniforge3/envs/tf/lib/python3.9/site-packages/keras/src/engine/training.py\", line 1080, in train_step\n",
      "\u001b[34m\u001b[1mwandb\u001b[0m: \u001b[32m\u001b[41mERROR\u001b[0m       y_pred = self(x, training=True)\n",
      "\u001b[34m\u001b[1mwandb\u001b[0m: \u001b[32m\u001b[41mERROR\u001b[0m     File \"/home/kervin/miniforge3/envs/tf/lib/python3.9/site-packages/keras/src/utils/traceback_utils.py\", line 65, in error_handler\n",
      "\u001b[34m\u001b[1mwandb\u001b[0m: \u001b[32m\u001b[41mERROR\u001b[0m       return fn(*args, **kwargs)\n",
      "\u001b[34m\u001b[1mwandb\u001b[0m: \u001b[32m\u001b[41mERROR\u001b[0m     File \"/home/kervin/miniforge3/envs/tf/lib/python3.9/site-packages/keras/src/engine/training.py\", line 569, in __call__\n",
      "\u001b[34m\u001b[1mwandb\u001b[0m: \u001b[32m\u001b[41mERROR\u001b[0m       return super().__call__(*args, **kwargs)\n",
      "\u001b[34m\u001b[1mwandb\u001b[0m: \u001b[32m\u001b[41mERROR\u001b[0m     File \"/home/kervin/miniforge3/envs/tf/lib/python3.9/site-packages/keras/src/utils/traceback_utils.py\", line 65, in error_handler\n",
      "\u001b[34m\u001b[1mwandb\u001b[0m: \u001b[32m\u001b[41mERROR\u001b[0m       return fn(*args, **kwargs)\n",
      "\u001b[34m\u001b[1mwandb\u001b[0m: \u001b[32m\u001b[41mERROR\u001b[0m     File \"/home/kervin/miniforge3/envs/tf/lib/python3.9/site-packages/keras/src/engine/base_layer.py\", line 1150, in __call__\n",
      "\u001b[34m\u001b[1mwandb\u001b[0m: \u001b[32m\u001b[41mERROR\u001b[0m       outputs = call_fn(inputs, *args, **kwargs)\n",
      "\u001b[34m\u001b[1mwandb\u001b[0m: \u001b[32m\u001b[41mERROR\u001b[0m     File \"/home/kervin/miniforge3/envs/tf/lib/python3.9/site-packages/keras/src/utils/traceback_utils.py\", line 96, in error_handler\n",
      "\u001b[34m\u001b[1mwandb\u001b[0m: \u001b[32m\u001b[41mERROR\u001b[0m       return fn(*args, **kwargs)\n",
      "\u001b[34m\u001b[1mwandb\u001b[0m: \u001b[32m\u001b[41mERROR\u001b[0m     File \"/home/kervin/miniforge3/envs/tf/lib/python3.9/site-packages/keras/src/engine/sequential.py\", line 405, in call\n",
      "\u001b[34m\u001b[1mwandb\u001b[0m: \u001b[32m\u001b[41mERROR\u001b[0m       return super().call(inputs, training=training, mask=mask)\n",
      "\u001b[34m\u001b[1mwandb\u001b[0m: \u001b[32m\u001b[41mERROR\u001b[0m     File \"/home/kervin/miniforge3/envs/tf/lib/python3.9/site-packages/keras/src/engine/functional.py\", line 512, in call\n",
      "\u001b[34m\u001b[1mwandb\u001b[0m: \u001b[32m\u001b[41mERROR\u001b[0m       return self._run_internal_graph(inputs, training=training, mask=mask)\n",
      "\u001b[34m\u001b[1mwandb\u001b[0m: \u001b[32m\u001b[41mERROR\u001b[0m     File \"/home/kervin/miniforge3/envs/tf/lib/python3.9/site-packages/keras/src/engine/functional.py\", line 669, in _run_internal_graph\n",
      "\u001b[34m\u001b[1mwandb\u001b[0m: \u001b[32m\u001b[41mERROR\u001b[0m       outputs = node.layer(*args, **kwargs)\n",
      "\u001b[34m\u001b[1mwandb\u001b[0m: \u001b[32m\u001b[41mERROR\u001b[0m     File \"/home/kervin/miniforge3/envs/tf/lib/python3.9/site-packages/keras/src/utils/traceback_utils.py\", line 65, in error_handler\n",
      "\u001b[34m\u001b[1mwandb\u001b[0m: \u001b[32m\u001b[41mERROR\u001b[0m       return fn(*args, **kwargs)\n",
      "\u001b[34m\u001b[1mwandb\u001b[0m: \u001b[32m\u001b[41mERROR\u001b[0m     File \"/home/kervin/miniforge3/envs/tf/lib/python3.9/site-packages/keras/src/engine/base_layer.py\", line 1150, in __call__\n",
      "\u001b[34m\u001b[1mwandb\u001b[0m: \u001b[32m\u001b[41mERROR\u001b[0m       outputs = call_fn(inputs, *args, **kwargs)\n",
      "\u001b[34m\u001b[1mwandb\u001b[0m: \u001b[32m\u001b[41mERROR\u001b[0m     File \"/home/kervin/miniforge3/envs/tf/lib/python3.9/site-packages/keras/src/utils/traceback_utils.py\", line 96, in error_handler\n",
      "\u001b[34m\u001b[1mwandb\u001b[0m: \u001b[32m\u001b[41mERROR\u001b[0m       return fn(*args, **kwargs)\n",
      "\u001b[34m\u001b[1mwandb\u001b[0m: \u001b[32m\u001b[41mERROR\u001b[0m     File \"/home/kervin/miniforge3/envs/tf/lib/python3.9/site-packages/keras/src/layers/convolutional/base_conv.py\", line 321, in call\n",
      "\u001b[34m\u001b[1mwandb\u001b[0m: \u001b[32m\u001b[41mERROR\u001b[0m       return self.activation(outputs)\n",
      "\u001b[34m\u001b[1mwandb\u001b[0m: \u001b[32m\u001b[41mERROR\u001b[0m     File \"/home/kervin/miniforge3/envs/tf/lib/python3.9/site-packages/keras/src/activations.py\", line 321, in relu\n",
      "\u001b[34m\u001b[1mwandb\u001b[0m: \u001b[32m\u001b[41mERROR\u001b[0m       return backend.relu(\n",
      "\u001b[34m\u001b[1mwandb\u001b[0m: \u001b[32m\u001b[41mERROR\u001b[0m     File \"/home/kervin/miniforge3/envs/tf/lib/python3.9/site-packages/keras/src/backend.py\", line 5397, in relu\n",
      "\u001b[34m\u001b[1mwandb\u001b[0m: \u001b[32m\u001b[41mERROR\u001b[0m       x = tf.nn.relu(x)\n",
      "\u001b[34m\u001b[1mwandb\u001b[0m: \u001b[32m\u001b[41mERROR\u001b[0m Node: 'sequential/conv2d/Relu'\n",
      "\u001b[34m\u001b[1mwandb\u001b[0m: \u001b[32m\u001b[41mERROR\u001b[0m OOM when allocating tensor with shape[128,6,222,222] and type float on /job:localhost/replica:0/task:0/device:GPU:0 by allocator GPU_0_bfc\n",
      "\u001b[34m\u001b[1mwandb\u001b[0m: \u001b[32m\u001b[41mERROR\u001b[0m \t [[{{node sequential/conv2d/Relu}}]]\n",
      "\u001b[34m\u001b[1mwandb\u001b[0m: \u001b[32m\u001b[41mERROR\u001b[0m Hint: If you want to see a list of allocated tensors when OOM happens, add report_tensor_allocations_upon_oom to RunOptions for current allocation info. This isn't available when running in Eager mode.\n",
      "\u001b[34m\u001b[1mwandb\u001b[0m: \u001b[32m\u001b[41mERROR\u001b[0m  [Op:__inference_train_function_63803]\n",
      "\u001b[34m\u001b[1mwandb\u001b[0m: \u001b[32m\u001b[41mERROR\u001b[0m \n",
      "\u001b[34m\u001b[1mwandb\u001b[0m: Agent Starting Run: r3m4qr93 with config:\n",
      "\u001b[34m\u001b[1mwandb\u001b[0m: \tdropout: 0.2514641427759374\n",
      "\u001b[34m\u001b[1mwandb\u001b[0m: \tim_size: 224\n",
      "\u001b[34m\u001b[1mwandb\u001b[0m: \tkernel_size: 3\n",
      "\u001b[34m\u001b[1mwandb\u001b[0m: \tlearning_rate: 0.004776892669325604\n",
      "\u001b[34m\u001b[1mwandb\u001b[0m: \tn_dense_1: 16\n",
      "\u001b[34m\u001b[1mwandb\u001b[0m: \tn_dense_2: 128\n",
      "\u001b[34m\u001b[1mwandb\u001b[0m: \tn_epochs: 1\n",
      "\u001b[34m\u001b[1mwandb\u001b[0m: \tn_filters: 6\n",
      "\u001b[34m\u001b[1mwandb\u001b[0m: \tn_strides: 1\n",
      "\u001b[34m\u001b[1mwandb\u001b[0m: \tpool_size: 224\n",
      "\u001b[34m\u001b[1mwandb\u001b[0m: \tregularization_rate: 0.04358647044372446\n",
      "\u001b[34m\u001b[1mwandb\u001b[0m: \u001b[33mWARNING\u001b[0m Ignored wandb.init() arg project when running a sweep.\n",
      "\u001b[34m\u001b[1mwandb\u001b[0m: \u001b[33mWARNING\u001b[0m Ignored wandb.init() arg entity when running a sweep.\n"
     ]
    },
    {
     "data": {
      "application/vnd.jupyter.widget-view+json": {
       "model_id": "fa96f845761e4ebda4a486ddc89ea6e6",
       "version_major": 2,
       "version_minor": 0
      },
      "text/plain": [
       "VBox(children=(Label(value='Waiting for wandb.init()...\\r'), FloatProgress(value=0.011112134999994952, max=1.0…"
      ]
     },
     "metadata": {},
     "output_type": "display_data"
    },
    {
     "data": {
      "text/html": [
       "Tracking run with wandb version 0.16.6"
      ],
      "text/plain": [
       "<IPython.core.display.HTML object>"
      ]
     },
     "metadata": {},
     "output_type": "display_data"
    },
    {
     "data": {
      "text/html": [
       "Run data is saved locally in <code>/home/kervin/Coding/machine_learning/20_tensorflow_projects/wandb/run-20240414_033458-r3m4qr93</code>"
      ],
      "text/plain": [
       "<IPython.core.display.HTML object>"
      ]
     },
     "metadata": {},
     "output_type": "display_data"
    },
    {
     "data": {
      "text/html": [
       "Syncing run <strong><a href='https://wandb.ai/kervin5/Malaria-Detection/runs/r3m4qr93' target=\"_blank\">effortless-sweep-3</a></strong> to <a href='https://wandb.ai/kervin5/Malaria-Detection' target=\"_blank\">Weights & Biases</a> (<a href='https://wandb.me/run' target=\"_blank\">docs</a>)<br/>Sweep page: <a href='https://wandb.ai/kervin5/Malaria-Detection/sweeps/do7b6bjx' target=\"_blank\">https://wandb.ai/kervin5/Malaria-Detection/sweeps/do7b6bjx</a>"
      ],
      "text/plain": [
       "<IPython.core.display.HTML object>"
      ]
     },
     "metadata": {},
     "output_type": "display_data"
    },
    {
     "data": {
      "text/html": [
       " View project at <a href='https://wandb.ai/kervin5/Malaria-Detection' target=\"_blank\">https://wandb.ai/kervin5/Malaria-Detection</a>"
      ],
      "text/plain": [
       "<IPython.core.display.HTML object>"
      ]
     },
     "metadata": {},
     "output_type": "display_data"
    },
    {
     "data": {
      "text/html": [
       " View sweep at <a href='https://wandb.ai/kervin5/Malaria-Detection/sweeps/do7b6bjx' target=\"_blank\">https://wandb.ai/kervin5/Malaria-Detection/sweeps/do7b6bjx</a>"
      ],
      "text/plain": [
       "<IPython.core.display.HTML object>"
      ]
     },
     "metadata": {},
     "output_type": "display_data"
    },
    {
     "data": {
      "text/html": [
       " View run at <a href='https://wandb.ai/kervin5/Malaria-Detection/runs/r3m4qr93' target=\"_blank\">https://wandb.ai/kervin5/Malaria-Detection/runs/r3m4qr93</a>"
      ],
      "text/plain": [
       "<IPython.core.display.HTML object>"
      ]
     },
     "metadata": {},
     "output_type": "display_data"
    },
    {
     "name": "stderr",
     "output_type": "stream",
     "text": [
      "2024-04-14 03:35:03.864696: E tensorflow/core/grappler/optimizers/meta_optimizer.cc:954] layout failed: INVALID_ARGUMENT: Size of values 0 does not match size of permutation 4 @ fanin shape insequential/dropout/dropout/SelectV2-2-TransposeNHWCToNCHW-LayoutOptimizer\n",
      "2024-04-14 03:35:14.353101: W tensorflow/tsl/framework/bfc_allocator.cc:485] Allocator (GPU_0_bfc) ran out of memory trying to allocate 144.39MiB (rounded to 151400448)requested by op sequential/conv2d/Relu\n",
      "If the cause is memory fragmentation maybe the environment variable 'TF_GPU_ALLOCATOR=cuda_malloc_async' will improve the situation. \n",
      "Current allocation summary follows.\n",
      "Current allocation summary follows.\n",
      "2024-04-14 03:35:14.353129: I tensorflow/tsl/framework/bfc_allocator.cc:1039] BFCAllocator dump for GPU_0_bfc\n",
      "2024-04-14 03:35:14.353139: I tensorflow/tsl/framework/bfc_allocator.cc:1046] Bin (256): \tTotal Chunks: 274, Chunks in use: 273. 68.5KiB allocated for chunks. 68.2KiB in use in bin. 8.5KiB client-requested in use in bin.\n",
      "2024-04-14 03:35:14.353144: I tensorflow/tsl/framework/bfc_allocator.cc:1046] Bin (512): \tTotal Chunks: 60, Chunks in use: 60. 33.2KiB allocated for chunks. 33.2KiB in use in bin. 30.9KiB client-requested in use in bin.\n",
      "2024-04-14 03:35:14.353149: I tensorflow/tsl/framework/bfc_allocator.cc:1046] Bin (1024): \tTotal Chunks: 6, Chunks in use: 6. 6.2KiB allocated for chunks. 6.2KiB in use in bin. 5.0KiB client-requested in use in bin.\n",
      "2024-04-14 03:35:14.353154: I tensorflow/tsl/framework/bfc_allocator.cc:1046] Bin (2048): \tTotal Chunks: 11, Chunks in use: 11. 38.5KiB allocated for chunks. 38.5KiB in use in bin. 37.1KiB client-requested in use in bin.\n",
      "2024-04-14 03:35:14.353158: I tensorflow/tsl/framework/bfc_allocator.cc:1046] Bin (4096): \tTotal Chunks: 6, Chunks in use: 6. 24.5KiB allocated for chunks. 24.5KiB in use in bin. 24.0KiB client-requested in use in bin.\n",
      "2024-04-14 03:35:14.353163: I tensorflow/tsl/framework/bfc_allocator.cc:1046] Bin (8192): \tTotal Chunks: 4, Chunks in use: 4. 33.8KiB allocated for chunks. 33.8KiB in use in bin. 32.0KiB client-requested in use in bin.\n",
      "2024-04-14 03:35:14.353168: I tensorflow/tsl/framework/bfc_allocator.cc:1046] Bin (16384): \tTotal Chunks: 8, Chunks in use: 8. 183.5KiB allocated for chunks. 183.5KiB in use in bin. 158.2KiB client-requested in use in bin.\n",
      "2024-04-14 03:35:14.353172: I tensorflow/tsl/framework/bfc_allocator.cc:1046] Bin (32768): \tTotal Chunks: 0, Chunks in use: 0. 0B allocated for chunks. 0B in use in bin. 0B client-requested in use in bin.\n",
      "2024-04-14 03:35:14.353177: I tensorflow/tsl/framework/bfc_allocator.cc:1046] Bin (65536): \tTotal Chunks: 0, Chunks in use: 0. 0B allocated for chunks. 0B in use in bin. 0B client-requested in use in bin.\n",
      "2024-04-14 03:35:14.353181: I tensorflow/tsl/framework/bfc_allocator.cc:1046] Bin (131072): \tTotal Chunks: 1, Chunks in use: 0. 189.5KiB allocated for chunks. 0B in use in bin. 0B client-requested in use in bin.\n",
      "2024-04-14 03:35:14.353186: I tensorflow/tsl/framework/bfc_allocator.cc:1046] Bin (262144): \tTotal Chunks: 2, Chunks in use: 1. 795.5KiB allocated for chunks. 390.8KiB in use in bin. 390.6KiB client-requested in use in bin.\n",
      "2024-04-14 03:35:14.353190: I tensorflow/tsl/framework/bfc_allocator.cc:1046] Bin (524288): \tTotal Chunks: 0, Chunks in use: 0. 0B allocated for chunks. 0B in use in bin. 0B client-requested in use in bin.\n",
      "2024-04-14 03:35:14.353194: I tensorflow/tsl/framework/bfc_allocator.cc:1046] Bin (1048576): \tTotal Chunks: 0, Chunks in use: 0. 0B allocated for chunks. 0B in use in bin. 0B client-requested in use in bin.\n",
      "2024-04-14 03:35:14.353199: I tensorflow/tsl/framework/bfc_allocator.cc:1046] Bin (2097152): \tTotal Chunks: 4, Chunks in use: 4. 11.82MiB allocated for chunks. 11.82MiB in use in bin. 11.82MiB client-requested in use in bin.\n",
      "2024-04-14 03:35:14.353204: I tensorflow/tsl/framework/bfc_allocator.cc:1046] Bin (4194304): \tTotal Chunks: 3, Chunks in use: 3. 17.72MiB allocated for chunks. 17.72MiB in use in bin. 17.72MiB client-requested in use in bin.\n",
      "2024-04-14 03:35:14.353208: I tensorflow/tsl/framework/bfc_allocator.cc:1046] Bin (8388608): \tTotal Chunks: 0, Chunks in use: 0. 0B allocated for chunks. 0B in use in bin. 0B client-requested in use in bin.\n",
      "2024-04-14 03:35:14.353212: I tensorflow/tsl/framework/bfc_allocator.cc:1046] Bin (16777216): \tTotal Chunks: 3, Chunks in use: 3. 70.90MiB allocated for chunks. 70.90MiB in use in bin. 70.90MiB client-requested in use in bin.\n",
      "2024-04-14 03:35:14.353216: I tensorflow/tsl/framework/bfc_allocator.cc:1046] Bin (33554432): \tTotal Chunks: 0, Chunks in use: 0. 0B allocated for chunks. 0B in use in bin. 0B client-requested in use in bin.\n",
      "2024-04-14 03:35:14.353221: I tensorflow/tsl/framework/bfc_allocator.cc:1046] Bin (67108864): \tTotal Chunks: 2, Chunks in use: 2. 159.77MiB allocated for chunks. 159.77MiB in use in bin. 147.00MiB client-requested in use in bin.\n",
      "2024-04-14 03:35:14.353227: I tensorflow/tsl/framework/bfc_allocator.cc:1046] Bin (134217728): \tTotal Chunks: 3, Chunks in use: 2. 461.01MiB allocated for chunks. 322.37MiB in use in bin. 322.37MiB client-requested in use in bin.\n",
      "2024-04-14 03:35:14.353231: I tensorflow/tsl/framework/bfc_allocator.cc:1046] Bin (268435456): \tTotal Chunks: 0, Chunks in use: 0. 0B allocated for chunks. 0B in use in bin. 0B client-requested in use in bin.\n",
      "2024-04-14 03:35:14.353237: I tensorflow/tsl/framework/bfc_allocator.cc:1062] Bin for 144.39MiB was 128.00MiB, Chunk State: \n",
      "2024-04-14 03:35:14.353250: I tensorflow/tsl/framework/bfc_allocator.cc:1068]   Size: 138.64MiB | Requested Size: 0B | in_use: 0 | bin_num: 19, prev:   Size: 73.50MiB | Requested Size: 73.50MiB | in_use: 1 | bin_num: -1, next:   Size: 177.98MiB | Requested Size: 177.98MiB | in_use: 1 | bin_num: -1\n",
      "2024-04-14 03:35:14.353254: I tensorflow/tsl/framework/bfc_allocator.cc:1075] Next region of size 757661696\n",
      "2024-04-14 03:35:14.353259: I tensorflow/tsl/framework/bfc_allocator.cc:1095] InUse at 78dc18000000 of size 1280 next 1\n",
      "2024-04-14 03:35:14.353263: I tensorflow/tsl/framework/bfc_allocator.cc:1095] InUse at 78dc18000500 of size 256 next 2\n",
      "2024-04-14 03:35:14.353267: I tensorflow/tsl/framework/bfc_allocator.cc:1095] InUse at 78dc18000600 of size 256 next 3\n",
      "2024-04-14 03:35:14.353271: I tensorflow/tsl/framework/bfc_allocator.cc:1095] InUse at 78dc18000700 of size 256 next 4\n",
      "2024-04-14 03:35:14.353275: I tensorflow/tsl/framework/bfc_allocator.cc:1095] InUse at 78dc18000800 of size 256 next 5\n",
      "2024-04-14 03:35:14.353279: I tensorflow/tsl/framework/bfc_allocator.cc:1095] InUse at 78dc18000900 of size 256 next 6\n",
      "2024-04-14 03:35:14.353282: I tensorflow/tsl/framework/bfc_allocator.cc:1095] InUse at 78dc18000a00 of size 256 next 7\n",
      "2024-04-14 03:35:14.353286: I tensorflow/tsl/framework/bfc_allocator.cc:1095] InUse at 78dc18000b00 of size 256 next 8\n",
      "2024-04-14 03:35:14.353289: I tensorflow/tsl/framework/bfc_allocator.cc:1095] InUse at 78dc18000c00 of size 256 next 9\n",
      "2024-04-14 03:35:14.353293: I tensorflow/tsl/framework/bfc_allocator.cc:1095] InUse at 78dc18000d00 of size 256 next 10\n",
      "2024-04-14 03:35:14.353297: I tensorflow/tsl/framework/bfc_allocator.cc:1095] InUse at 78dc18000e00 of size 32000 next 88\n",
      "2024-04-14 03:35:14.353301: I tensorflow/tsl/framework/bfc_allocator.cc:1095] InUse at 78dc18008b00 of size 256 next 89\n",
      "2024-04-14 03:35:14.353305: I tensorflow/tsl/framework/bfc_allocator.cc:1095] InUse at 78dc18008c00 of size 256 next 14\n",
      "2024-04-14 03:35:14.353308: I tensorflow/tsl/framework/bfc_allocator.cc:1095] InUse at 78dc18008d00 of size 256 next 13\n",
      "2024-04-14 03:35:14.353312: I tensorflow/tsl/framework/bfc_allocator.cc:1095] InUse at 78dc18008e00 of size 256 next 112\n",
      "2024-04-14 03:35:14.353316: I tensorflow/tsl/framework/bfc_allocator.cc:1095] InUse at 78dc18008f00 of size 256 next 18\n",
      "2024-04-14 03:35:14.353319: I tensorflow/tsl/framework/bfc_allocator.cc:1095] Free  at 78dc18009000 of size 414464 next 111\n",
      "2024-04-14 03:35:14.353323: I tensorflow/tsl/framework/bfc_allocator.cc:1095] InUse at 78dc1806e300 of size 32000 next 17\n",
      "2024-04-14 03:35:14.353326: I tensorflow/tsl/framework/bfc_allocator.cc:1095] InUse at 78dc18076000 of size 256 next 19\n",
      "2024-04-14 03:35:14.353330: I tensorflow/tsl/framework/bfc_allocator.cc:1095] InUse at 78dc18076100 of size 256 next 15\n",
      "2024-04-14 03:35:14.353333: I tensorflow/tsl/framework/bfc_allocator.cc:1095] InUse at 78dc18076200 of size 256 next 16\n",
      "2024-04-14 03:35:14.353337: I tensorflow/tsl/framework/bfc_allocator.cc:1095] InUse at 78dc18076300 of size 256 next 21\n",
      "2024-04-14 03:35:14.353340: I tensorflow/tsl/framework/bfc_allocator.cc:1095] InUse at 78dc18076400 of size 256 next 20\n",
      "2024-04-14 03:35:14.353344: I tensorflow/tsl/framework/bfc_allocator.cc:1095] InUse at 78dc18076500 of size 256 next 22\n",
      "2024-04-14 03:35:14.353347: I tensorflow/tsl/framework/bfc_allocator.cc:1095] InUse at 78dc18076600 of size 256 next 24\n",
      "2024-04-14 03:35:14.353352: I tensorflow/tsl/framework/bfc_allocator.cc:1095] InUse at 78dc18076700 of size 256 next 25\n",
      "2024-04-14 03:35:14.353356: I tensorflow/tsl/framework/bfc_allocator.cc:1095] InUse at 78dc18076800 of size 256 next 23\n",
      "2024-04-14 03:35:14.353359: I tensorflow/tsl/framework/bfc_allocator.cc:1095] InUse at 78dc18076900 of size 256 next 26\n",
      "2024-04-14 03:35:14.353363: I tensorflow/tsl/framework/bfc_allocator.cc:1095] InUse at 78dc18076a00 of size 256 next 29\n",
      "2024-04-14 03:35:14.353366: I tensorflow/tsl/framework/bfc_allocator.cc:1095] InUse at 78dc18076b00 of size 256 next 30\n",
      "2024-04-14 03:35:14.353370: I tensorflow/tsl/framework/bfc_allocator.cc:1095] InUse at 78dc18076c00 of size 256 next 31\n",
      "2024-04-14 03:35:14.353374: I tensorflow/tsl/framework/bfc_allocator.cc:1095] InUse at 78dc18076d00 of size 256 next 32\n",
      "2024-04-14 03:35:14.353377: I tensorflow/tsl/framework/bfc_allocator.cc:1095] InUse at 78dc18076e00 of size 256 next 27\n",
      "2024-04-14 03:35:14.353381: I tensorflow/tsl/framework/bfc_allocator.cc:1095] InUse at 78dc18076f00 of size 768 next 28\n",
      "2024-04-14 03:35:14.353384: I tensorflow/tsl/framework/bfc_allocator.cc:1095] InUse at 78dc18077200 of size 256 next 34\n",
      "2024-04-14 03:35:14.353388: I tensorflow/tsl/framework/bfc_allocator.cc:1095] InUse at 78dc18077300 of size 256 next 35\n",
      "2024-04-14 03:35:14.353392: I tensorflow/tsl/framework/bfc_allocator.cc:1095] InUse at 78dc18077400 of size 256 next 33\n",
      "2024-04-14 03:35:14.353395: I tensorflow/tsl/framework/bfc_allocator.cc:1095] InUse at 78dc18077500 of size 256 next 36\n",
      "2024-04-14 03:35:14.353399: I tensorflow/tsl/framework/bfc_allocator.cc:1095] InUse at 78dc18077600 of size 256 next 39\n",
      "2024-04-14 03:35:14.353402: I tensorflow/tsl/framework/bfc_allocator.cc:1095] InUse at 78dc18077700 of size 256 next 41\n",
      "2024-04-14 03:35:14.353406: I tensorflow/tsl/framework/bfc_allocator.cc:1095] InUse at 78dc18077800 of size 256 next 42\n",
      "2024-04-14 03:35:14.353409: I tensorflow/tsl/framework/bfc_allocator.cc:1095] InUse at 78dc18077900 of size 256 next 56\n",
      "2024-04-14 03:35:14.353413: I tensorflow/tsl/framework/bfc_allocator.cc:1095] InUse at 78dc18077a00 of size 256 next 57\n",
      "2024-04-14 03:35:14.353416: I tensorflow/tsl/framework/bfc_allocator.cc:1095] InUse at 78dc18077b00 of size 256 next 58\n",
      "2024-04-14 03:35:14.353420: I tensorflow/tsl/framework/bfc_allocator.cc:1095] InUse at 78dc18077c00 of size 256 next 52\n",
      "2024-04-14 03:35:14.353423: I tensorflow/tsl/framework/bfc_allocator.cc:1095] InUse at 78dc18077d00 of size 256 next 59\n",
      "2024-04-14 03:35:14.353427: I tensorflow/tsl/framework/bfc_allocator.cc:1095] InUse at 78dc18077e00 of size 256 next 67\n",
      "2024-04-14 03:35:14.353430: I tensorflow/tsl/framework/bfc_allocator.cc:1095] InUse at 78dc18077f00 of size 256 next 68\n",
      "2024-04-14 03:35:14.353434: I tensorflow/tsl/framework/bfc_allocator.cc:1095] InUse at 78dc18078000 of size 256 next 71\n",
      "2024-04-14 03:35:14.353438: I tensorflow/tsl/framework/bfc_allocator.cc:1095] InUse at 78dc18078100 of size 768 next 47\n",
      "2024-04-14 03:35:14.353441: I tensorflow/tsl/framework/bfc_allocator.cc:1095] InUse at 78dc18078400 of size 1024 next 48\n",
      "2024-04-14 03:35:14.353445: I tensorflow/tsl/framework/bfc_allocator.cc:1095] InUse at 78dc18078800 of size 256 next 44\n",
      "2024-04-14 03:35:14.353448: I tensorflow/tsl/framework/bfc_allocator.cc:1095] InUse at 78dc18078900 of size 256 next 43\n",
      "2024-04-14 03:35:14.353452: I tensorflow/tsl/framework/bfc_allocator.cc:1095] InUse at 78dc18078a00 of size 256 next 46\n",
      "2024-04-14 03:35:14.353456: I tensorflow/tsl/framework/bfc_allocator.cc:1095] InUse at 78dc18078b00 of size 256 next 49\n",
      "2024-04-14 03:35:14.353459: I tensorflow/tsl/framework/bfc_allocator.cc:1095] InUse at 78dc18078c00 of size 256 next 50\n",
      "2024-04-14 03:35:14.353463: I tensorflow/tsl/framework/bfc_allocator.cc:1095] InUse at 78dc18078d00 of size 256 next 45\n",
      "2024-04-14 03:35:14.353466: I tensorflow/tsl/framework/bfc_allocator.cc:1095] InUse at 78dc18078e00 of size 256 next 51\n",
      "2024-04-14 03:35:14.353470: I tensorflow/tsl/framework/bfc_allocator.cc:1095] InUse at 78dc18078f00 of size 256 next 53\n",
      "2024-04-14 03:35:14.353474: I tensorflow/tsl/framework/bfc_allocator.cc:1095] InUse at 78dc18079000 of size 256 next 37\n",
      "2024-04-14 03:35:14.353478: I tensorflow/tsl/framework/bfc_allocator.cc:1095] InUse at 78dc18079100 of size 3584 next 38\n",
      "2024-04-14 03:35:14.353482: I tensorflow/tsl/framework/bfc_allocator.cc:1095] InUse at 78dc18079f00 of size 4096 next 64\n",
      "2024-04-14 03:35:14.353485: I tensorflow/tsl/framework/bfc_allocator.cc:1095] InUse at 78dc1807af00 of size 256 next 77\n",
      "2024-04-14 03:35:14.353489: I tensorflow/tsl/framework/bfc_allocator.cc:1095] InUse at 78dc1807b000 of size 256 next 72\n",
      "2024-04-14 03:35:14.353493: I tensorflow/tsl/framework/bfc_allocator.cc:1095] InUse at 78dc1807b100 of size 512 next 69\n",
      "2024-04-14 03:35:14.353496: I tensorflow/tsl/framework/bfc_allocator.cc:1095] InUse at 78dc1807b300 of size 512 next 70\n",
      "2024-04-14 03:35:14.353500: I tensorflow/tsl/framework/bfc_allocator.cc:1095] InUse at 78dc1807b500 of size 512 next 73\n",
      "2024-04-14 03:35:14.353503: I tensorflow/tsl/framework/bfc_allocator.cc:1095] InUse at 78dc1807b700 of size 512 next 76\n",
      "2024-04-14 03:35:14.353507: I tensorflow/tsl/framework/bfc_allocator.cc:1095] InUse at 78dc1807b900 of size 256 next 81\n",
      "2024-04-14 03:35:14.353511: I tensorflow/tsl/framework/bfc_allocator.cc:1095] InUse at 78dc1807ba00 of size 256 next 80\n",
      "2024-04-14 03:35:14.353514: I tensorflow/tsl/framework/bfc_allocator.cc:1095] InUse at 78dc1807bb00 of size 256 next 82\n",
      "2024-04-14 03:35:14.353518: I tensorflow/tsl/framework/bfc_allocator.cc:1095] InUse at 78dc1807bc00 of size 256 next 40\n",
      "2024-04-14 03:35:14.353521: I tensorflow/tsl/framework/bfc_allocator.cc:1095] InUse at 78dc1807bd00 of size 256 next 78\n",
      "2024-04-14 03:35:14.353525: I tensorflow/tsl/framework/bfc_allocator.cc:1095] InUse at 78dc1807be00 of size 256 next 79\n",
      "2024-04-14 03:35:14.353528: I tensorflow/tsl/framework/bfc_allocator.cc:1095] InUse at 78dc1807bf00 of size 256 next 84\n",
      "2024-04-14 03:35:14.353532: I tensorflow/tsl/framework/bfc_allocator.cc:1095] InUse at 78dc1807c000 of size 256 next 85\n",
      "2024-04-14 03:35:14.353535: I tensorflow/tsl/framework/bfc_allocator.cc:1095] InUse at 78dc1807c100 of size 256 next 86\n",
      "2024-04-14 03:35:14.353539: I tensorflow/tsl/framework/bfc_allocator.cc:1095] InUse at 78dc1807c200 of size 256 next 54\n",
      "2024-04-14 03:35:14.353543: I tensorflow/tsl/framework/bfc_allocator.cc:1095] InUse at 78dc1807c300 of size 4608 next 55\n",
      "2024-04-14 03:35:14.353547: I tensorflow/tsl/framework/bfc_allocator.cc:1095] InUse at 78dc1807d500 of size 4096 next 60\n",
      "2024-04-14 03:35:14.353550: I tensorflow/tsl/framework/bfc_allocator.cc:1095] InUse at 78dc1807e500 of size 4096 next 61\n",
      "2024-04-14 03:35:14.353554: I tensorflow/tsl/framework/bfc_allocator.cc:1095] InUse at 78dc1807f500 of size 4096 next 63\n",
      "2024-04-14 03:35:14.353558: I tensorflow/tsl/framework/bfc_allocator.cc:1095] InUse at 78dc18080500 of size 4096 next 66\n",
      "2024-04-14 03:35:14.353561: I tensorflow/tsl/framework/bfc_allocator.cc:1095] InUse at 78dc18081500 of size 512 next 83\n",
      "2024-04-14 03:35:14.353565: I tensorflow/tsl/framework/bfc_allocator.cc:1095] InUse at 78dc18081700 of size 256 next 87\n",
      "2024-04-14 03:35:14.353568: I tensorflow/tsl/framework/bfc_allocator.cc:1095] InUse at 78dc18081800 of size 1024 next 90\n",
      "2024-04-14 03:35:14.353572: I tensorflow/tsl/framework/bfc_allocator.cc:1095] InUse at 78dc18081c00 of size 1024 next 94\n",
      "2024-04-14 03:35:14.353575: I tensorflow/tsl/framework/bfc_allocator.cc:1095] InUse at 78dc18082000 of size 1024 next 93\n",
      "2024-04-14 03:35:14.353579: I tensorflow/tsl/framework/bfc_allocator.cc:1095] InUse at 78dc18082400 of size 1024 next 92\n",
      "2024-04-14 03:35:14.353583: I tensorflow/tsl/framework/bfc_allocator.cc:1095] InUse at 78dc18082800 of size 256 next 91\n",
      "2024-04-14 03:35:14.353587: I tensorflow/tsl/framework/bfc_allocator.cc:1095] InUse at 78dc18082900 of size 256 next 95\n",
      "2024-04-14 03:35:14.353591: I tensorflow/tsl/framework/bfc_allocator.cc:1095] InUse at 78dc18082a00 of size 256 next 97\n",
      "2024-04-14 03:35:14.353594: I tensorflow/tsl/framework/bfc_allocator.cc:1095] InUse at 78dc18082b00 of size 256 next 98\n",
      "2024-04-14 03:35:14.353599: I tensorflow/tsl/framework/bfc_allocator.cc:1095] InUse at 78dc18082c00 of size 256 next 96\n",
      "2024-04-14 03:35:14.353602: I tensorflow/tsl/framework/bfc_allocator.cc:1095] InUse at 78dc18082d00 of size 256 next 99\n",
      "2024-04-14 03:35:14.353606: I tensorflow/tsl/framework/bfc_allocator.cc:1095] InUse at 78dc18082e00 of size 256 next 102\n",
      "2024-04-14 03:35:14.353609: I tensorflow/tsl/framework/bfc_allocator.cc:1095] InUse at 78dc18082f00 of size 256 next 105\n",
      "2024-04-14 03:35:14.353613: I tensorflow/tsl/framework/bfc_allocator.cc:1095] InUse at 78dc18083000 of size 256 next 103\n",
      "2024-04-14 03:35:14.353617: I tensorflow/tsl/framework/bfc_allocator.cc:1095] InUse at 78dc18083100 of size 256 next 104\n",
      "2024-04-14 03:35:14.353620: I tensorflow/tsl/framework/bfc_allocator.cc:1095] InUse at 78dc18083200 of size 256 next 100\n",
      "2024-04-14 03:35:14.353624: I tensorflow/tsl/framework/bfc_allocator.cc:1095] InUse at 78dc18083300 of size 768 next 101\n",
      "2024-04-14 03:35:14.353627: I tensorflow/tsl/framework/bfc_allocator.cc:1095] InUse at 78dc18083600 of size 256 next 108\n",
      "2024-04-14 03:35:14.353631: I tensorflow/tsl/framework/bfc_allocator.cc:1095] InUse at 78dc18083700 of size 256 next 109\n",
      "2024-04-14 03:35:14.353634: I tensorflow/tsl/framework/bfc_allocator.cc:1095] InUse at 78dc18083800 of size 256 next 110\n",
      "2024-04-14 03:35:14.353638: I tensorflow/tsl/framework/bfc_allocator.cc:1095] InUse at 78dc18083900 of size 256 next 115\n",
      "2024-04-14 03:35:14.353641: I tensorflow/tsl/framework/bfc_allocator.cc:1095] InUse at 78dc18083a00 of size 256 next 113\n",
      "2024-04-14 03:35:14.353645: I tensorflow/tsl/framework/bfc_allocator.cc:1095] InUse at 78dc18083b00 of size 256 next 114\n",
      "2024-04-14 03:35:14.353648: I tensorflow/tsl/framework/bfc_allocator.cc:1095] InUse at 78dc18083c00 of size 256 next 118\n",
      "2024-04-14 03:35:14.353652: I tensorflow/tsl/framework/bfc_allocator.cc:1095] InUse at 78dc18083d00 of size 256 next 119\n",
      "2024-04-14 03:35:14.353656: I tensorflow/tsl/framework/bfc_allocator.cc:1095] InUse at 78dc18083e00 of size 256 next 120\n",
      "2024-04-14 03:35:14.353659: I tensorflow/tsl/framework/bfc_allocator.cc:1095] InUse at 78dc18083f00 of size 256 next 121\n",
      "2024-04-14 03:35:14.353663: I tensorflow/tsl/framework/bfc_allocator.cc:1095] InUse at 78dc18084000 of size 512 next 124\n",
      "2024-04-14 03:35:14.353666: I tensorflow/tsl/framework/bfc_allocator.cc:1095] InUse at 78dc18084200 of size 512 next 122\n",
      "2024-04-14 03:35:14.353670: I tensorflow/tsl/framework/bfc_allocator.cc:1095] InUse at 78dc18084400 of size 512 next 123\n",
      "2024-04-14 03:35:14.353674: I tensorflow/tsl/framework/bfc_allocator.cc:1095] InUse at 78dc18084600 of size 512 next 125\n",
      "2024-04-14 03:35:14.353679: I tensorflow/tsl/framework/bfc_allocator.cc:1095] InUse at 78dc18084800 of size 512 next 127\n",
      "2024-04-14 03:35:14.353683: I tensorflow/tsl/framework/bfc_allocator.cc:1095] InUse at 78dc18084a00 of size 256 next 128\n",
      "2024-04-14 03:35:14.353687: I tensorflow/tsl/framework/bfc_allocator.cc:1095] InUse at 78dc18084b00 of size 256 next 129\n",
      "2024-04-14 03:35:14.353691: I tensorflow/tsl/framework/bfc_allocator.cc:1095] InUse at 78dc18084c00 of size 256 next 131\n",
      "2024-04-14 03:35:14.353694: I tensorflow/tsl/framework/bfc_allocator.cc:1095] InUse at 78dc18084d00 of size 256 next 130\n",
      "2024-04-14 03:35:14.353698: I tensorflow/tsl/framework/bfc_allocator.cc:1095] InUse at 78dc18084e00 of size 256 next 134\n",
      "2024-04-14 03:35:14.353701: I tensorflow/tsl/framework/bfc_allocator.cc:1095] InUse at 78dc18084f00 of size 256 next 132\n",
      "2024-04-14 03:35:14.353705: I tensorflow/tsl/framework/bfc_allocator.cc:1095] InUse at 78dc18085000 of size 512 next 107\n",
      "2024-04-14 03:35:14.353708: I tensorflow/tsl/framework/bfc_allocator.cc:1095] InUse at 78dc18085200 of size 3584 next 106\n",
      "2024-04-14 03:35:14.353712: I tensorflow/tsl/framework/bfc_allocator.cc:1095] InUse at 78dc18086000 of size 256 next 133\n",
      "2024-04-14 03:35:14.353715: I tensorflow/tsl/framework/bfc_allocator.cc:1095] InUse at 78dc18086100 of size 256 next 135\n",
      "2024-04-14 03:35:14.353720: I tensorflow/tsl/framework/bfc_allocator.cc:1095] InUse at 78dc18086200 of size 256 next 136\n",
      "2024-04-14 03:35:14.353723: I tensorflow/tsl/framework/bfc_allocator.cc:1095] InUse at 78dc18086300 of size 256 next 137\n",
      "2024-04-14 03:35:14.353727: I tensorflow/tsl/framework/bfc_allocator.cc:1095] InUse at 78dc18086400 of size 256 next 138\n",
      "2024-04-14 03:35:14.353730: I tensorflow/tsl/framework/bfc_allocator.cc:1095] InUse at 78dc18086500 of size 768 next 139\n",
      "2024-04-14 03:35:14.353735: I tensorflow/tsl/framework/bfc_allocator.cc:1095] InUse at 78dc18086800 of size 256 next 140\n",
      "2024-04-14 03:35:14.353740: I tensorflow/tsl/framework/bfc_allocator.cc:1095] InUse at 78dc18086900 of size 256 next 141\n",
      "2024-04-14 03:35:14.353743: I tensorflow/tsl/framework/bfc_allocator.cc:1095] InUse at 78dc18086a00 of size 256 next 142\n",
      "2024-04-14 03:35:14.353745: I tensorflow/tsl/framework/bfc_allocator.cc:1095] InUse at 78dc18086b00 of size 3584 next 143\n",
      "2024-04-14 03:35:14.353748: I tensorflow/tsl/framework/bfc_allocator.cc:1095] InUse at 78dc18087900 of size 256 next 144\n",
      "2024-04-14 03:35:14.353751: I tensorflow/tsl/framework/bfc_allocator.cc:1095] InUse at 78dc18087a00 of size 256 next 145\n",
      "2024-04-14 03:35:14.353755: I tensorflow/tsl/framework/bfc_allocator.cc:1095] InUse at 78dc18087b00 of size 256 next 146\n",
      "2024-04-14 03:35:14.353757: I tensorflow/tsl/framework/bfc_allocator.cc:1095] InUse at 78dc18087c00 of size 256 next 148\n",
      "2024-04-14 03:35:14.353760: I tensorflow/tsl/framework/bfc_allocator.cc:1095] InUse at 78dc18087d00 of size 256 next 149\n",
      "2024-04-14 03:35:14.353763: I tensorflow/tsl/framework/bfc_allocator.cc:1095] InUse at 78dc18087e00 of size 256 next 150\n",
      "2024-04-14 03:35:14.353766: I tensorflow/tsl/framework/bfc_allocator.cc:1095] InUse at 78dc18087f00 of size 24832 next 126\n",
      "2024-04-14 03:35:14.353769: I tensorflow/tsl/framework/bfc_allocator.cc:1095] InUse at 78dc1808e000 of size 24064 next 11\n",
      "2024-04-14 03:35:14.353772: I tensorflow/tsl/framework/bfc_allocator.cc:1095] InUse at 78dc18093e00 of size 256 next 12\n",
      "2024-04-14 03:35:14.353775: I tensorflow/tsl/framework/bfc_allocator.cc:1095] InUse at 78dc18093f00 of size 151400448 next 383\n",
      "2024-04-14 03:35:14.353779: I tensorflow/tsl/framework/bfc_allocator.cc:1095] InUse at 78dc210f6f00 of size 77070336 next 384\n",
      "2024-04-14 03:35:14.353781: I tensorflow/tsl/framework/bfc_allocator.cc:1095] Free  at 78dc25a76f00 of size 145379328 next 65\n",
      "2024-04-14 03:35:14.353784: I tensorflow/tsl/framework/bfc_allocator.cc:1095] InUse at 78dc2e51bf00 of size 186624000 next 62\n",
      "2024-04-14 03:35:14.353787: I tensorflow/tsl/framework/bfc_allocator.cc:1095] InUse at 78dc39716700 of size 512 next 151\n",
      "2024-04-14 03:35:14.353789: I tensorflow/tsl/framework/bfc_allocator.cc:1095] InUse at 78dc39716900 of size 512 next 152\n",
      "2024-04-14 03:35:14.353792: I tensorflow/tsl/framework/bfc_allocator.cc:1095] InUse at 78dc39716b00 of size 512 next 153\n",
      "2024-04-14 03:35:14.353794: I tensorflow/tsl/framework/bfc_allocator.cc:1095] InUse at 78dc39716d00 of size 512 next 154\n",
      "2024-04-14 03:35:14.353797: I tensorflow/tsl/framework/bfc_allocator.cc:1095] InUse at 78dc39716f00 of size 256 next 155\n",
      "2024-04-14 03:35:14.353799: I tensorflow/tsl/framework/bfc_allocator.cc:1095] InUse at 78dc39717000 of size 768 next 156\n",
      "2024-04-14 03:35:14.353802: I tensorflow/tsl/framework/bfc_allocator.cc:1095] InUse at 78dc39717300 of size 256 next 157\n",
      "2024-04-14 03:35:14.353805: I tensorflow/tsl/framework/bfc_allocator.cc:1095] InUse at 78dc39717400 of size 256 next 158\n",
      "2024-04-14 03:35:14.353807: I tensorflow/tsl/framework/bfc_allocator.cc:1095] InUse at 78dc39717500 of size 256 next 159\n",
      "2024-04-14 03:35:14.353810: I tensorflow/tsl/framework/bfc_allocator.cc:1095] InUse at 78dc39717600 of size 3584 next 160\n",
      "2024-04-14 03:35:14.353812: I tensorflow/tsl/framework/bfc_allocator.cc:1095] InUse at 78dc39718400 of size 256 next 161\n",
      "2024-04-14 03:35:14.353815: I tensorflow/tsl/framework/bfc_allocator.cc:1095] InUse at 78dc39718500 of size 256 next 162\n",
      "2024-04-14 03:35:14.353818: I tensorflow/tsl/framework/bfc_allocator.cc:1095] InUse at 78dc39718600 of size 256 next 163\n",
      "2024-04-14 03:35:14.353821: I tensorflow/tsl/framework/bfc_allocator.cc:1095] InUse at 78dc39718700 of size 256 next 164\n",
      "2024-04-14 03:35:14.353823: I tensorflow/tsl/framework/bfc_allocator.cc:1095] InUse at 78dc39718800 of size 256 next 165\n",
      "2024-04-14 03:35:14.353826: I tensorflow/tsl/framework/bfc_allocator.cc:1095] InUse at 78dc39718900 of size 256 next 166\n",
      "2024-04-14 03:35:14.353829: I tensorflow/tsl/framework/bfc_allocator.cc:1095] InUse at 78dc39718a00 of size 16384 next 167\n",
      "2024-04-14 03:35:14.353831: I tensorflow/tsl/framework/bfc_allocator.cc:1095] InUse at 78dc3971ca00 of size 512 next 168\n",
      "2024-04-14 03:35:14.353834: I tensorflow/tsl/framework/bfc_allocator.cc:1095] InUse at 78dc3971cc00 of size 512 next 169\n",
      "2024-04-14 03:35:14.353837: I tensorflow/tsl/framework/bfc_allocator.cc:1095] InUse at 78dc3971ce00 of size 512 next 170\n",
      "2024-04-14 03:35:14.353839: I tensorflow/tsl/framework/bfc_allocator.cc:1095] InUse at 78dc3971d000 of size 512 next 171\n",
      "2024-04-14 03:35:14.353842: I tensorflow/tsl/framework/bfc_allocator.cc:1095] InUse at 78dc3971d200 of size 256 next 172\n",
      "2024-04-14 03:35:14.353844: I tensorflow/tsl/framework/bfc_allocator.cc:1095] InUse at 78dc3971d300 of size 256 next 173\n",
      "2024-04-14 03:35:14.353847: I tensorflow/tsl/framework/bfc_allocator.cc:1095] InUse at 78dc3971d400 of size 256 next 174\n",
      "2024-04-14 03:35:14.353850: I tensorflow/tsl/framework/bfc_allocator.cc:1095] InUse at 78dc3971d500 of size 256 next 175\n",
      "2024-04-14 03:35:14.353852: I tensorflow/tsl/framework/bfc_allocator.cc:1095] InUse at 78dc3971d600 of size 256 next 176\n",
      "2024-04-14 03:35:14.353855: I tensorflow/tsl/framework/bfc_allocator.cc:1095] InUse at 78dc3971d700 of size 256 next 177\n",
      "2024-04-14 03:35:14.353857: I tensorflow/tsl/framework/bfc_allocator.cc:1095] InUse at 78dc3971d800 of size 256 next 178\n",
      "2024-04-14 03:35:14.353860: I tensorflow/tsl/framework/bfc_allocator.cc:1095] InUse at 78dc3971d900 of size 256 next 179\n",
      "2024-04-14 03:35:14.353863: I tensorflow/tsl/framework/bfc_allocator.cc:1095] InUse at 78dc3971da00 of size 256 next 180\n",
      "2024-04-14 03:35:14.353865: I tensorflow/tsl/framework/bfc_allocator.cc:1095] InUse at 78dc3971db00 of size 256 next 181\n",
      "2024-04-14 03:35:14.353868: I tensorflow/tsl/framework/bfc_allocator.cc:1095] InUse at 78dc3971dc00 of size 256 next 182\n",
      "2024-04-14 03:35:14.353870: I tensorflow/tsl/framework/bfc_allocator.cc:1095] InUse at 78dc3971dd00 of size 256 next 183\n",
      "2024-04-14 03:35:14.353873: I tensorflow/tsl/framework/bfc_allocator.cc:1095] InUse at 78dc3971de00 of size 256 next 184\n",
      "2024-04-14 03:35:14.353875: I tensorflow/tsl/framework/bfc_allocator.cc:1095] InUse at 78dc3971df00 of size 256 next 185\n",
      "2024-04-14 03:35:14.353878: I tensorflow/tsl/framework/bfc_allocator.cc:1095] InUse at 78dc3971e000 of size 256 next 186\n",
      "2024-04-14 03:35:14.353881: I tensorflow/tsl/framework/bfc_allocator.cc:1095] InUse at 78dc3971e100 of size 256 next 187\n",
      "2024-04-14 03:35:14.353883: I tensorflow/tsl/framework/bfc_allocator.cc:1095] InUse at 78dc3971e200 of size 256 next 188\n",
      "2024-04-14 03:35:14.353886: I tensorflow/tsl/framework/bfc_allocator.cc:1095] InUse at 78dc3971e300 of size 256 next 189\n",
      "2024-04-14 03:35:14.353890: I tensorflow/tsl/framework/bfc_allocator.cc:1095] InUse at 78dc3971e400 of size 256 next 203\n",
      "2024-04-14 03:35:14.353893: I tensorflow/tsl/framework/bfc_allocator.cc:1095] InUse at 78dc3971e500 of size 256 next 190\n",
      "2024-04-14 03:35:14.353896: I tensorflow/tsl/framework/bfc_allocator.cc:1095] InUse at 78dc3971e600 of size 256 next 201\n",
      "2024-04-14 03:35:14.353899: I tensorflow/tsl/framework/bfc_allocator.cc:1095] InUse at 78dc3971e700 of size 256 next 205\n",
      "2024-04-14 03:35:14.353901: I tensorflow/tsl/framework/bfc_allocator.cc:1095] InUse at 78dc3971e800 of size 256 next 204\n",
      "2024-04-14 03:35:14.353904: I tensorflow/tsl/framework/bfc_allocator.cc:1095] InUse at 78dc3971e900 of size 256 next 191\n",
      "2024-04-14 03:35:14.353906: I tensorflow/tsl/framework/bfc_allocator.cc:1095] InUse at 78dc3971ea00 of size 256 next 207\n",
      "2024-04-14 03:35:14.353909: I tensorflow/tsl/framework/bfc_allocator.cc:1095] InUse at 78dc3971eb00 of size 256 next 208\n",
      "2024-04-14 03:35:14.353912: I tensorflow/tsl/framework/bfc_allocator.cc:1095] InUse at 78dc3971ec00 of size 256 next 206\n",
      "2024-04-14 03:35:14.353914: I tensorflow/tsl/framework/bfc_allocator.cc:1095] InUse at 78dc3971ed00 of size 768 next 200\n",
      "2024-04-14 03:35:14.353917: I tensorflow/tsl/framework/bfc_allocator.cc:1095] InUse at 78dc3971f000 of size 256 next 199\n",
      "2024-04-14 03:35:14.353919: I tensorflow/tsl/framework/bfc_allocator.cc:1095] InUse at 78dc3971f100 of size 256 next 195\n",
      "2024-04-14 03:35:14.353922: I tensorflow/tsl/framework/bfc_allocator.cc:1095] InUse at 78dc3971f200 of size 256 next 197\n",
      "2024-04-14 03:35:14.353925: I tensorflow/tsl/framework/bfc_allocator.cc:1095] InUse at 78dc3971f300 of size 512 next 210\n",
      "2024-04-14 03:35:14.353928: I tensorflow/tsl/framework/bfc_allocator.cc:1095] InUse at 78dc3971f500 of size 512 next 193\n",
      "2024-04-14 03:35:14.353931: I tensorflow/tsl/framework/bfc_allocator.cc:1095] InUse at 78dc3971f700 of size 512 next 194\n",
      "2024-04-14 03:35:14.353934: I tensorflow/tsl/framework/bfc_allocator.cc:1095] InUse at 78dc3971f900 of size 512 next 202\n",
      "2024-04-14 03:35:14.353936: I tensorflow/tsl/framework/bfc_allocator.cc:1095] InUse at 78dc3971fb00 of size 512 next 209\n",
      "2024-04-14 03:35:14.353939: I tensorflow/tsl/framework/bfc_allocator.cc:1095] InUse at 78dc3971fd00 of size 256 next 214\n",
      "2024-04-14 03:35:14.353942: I tensorflow/tsl/framework/bfc_allocator.cc:1095] InUse at 78dc3971fe00 of size 256 next 212\n",
      "2024-04-14 03:35:14.353944: I tensorflow/tsl/framework/bfc_allocator.cc:1095] InUse at 78dc3971ff00 of size 256 next 213\n",
      "2024-04-14 03:35:14.353947: I tensorflow/tsl/framework/bfc_allocator.cc:1095] InUse at 78dc39720000 of size 256 next 217\n",
      "2024-04-14 03:35:14.353949: I tensorflow/tsl/framework/bfc_allocator.cc:1095] InUse at 78dc39720100 of size 256 next 218\n",
      "2024-04-14 03:35:14.353952: I tensorflow/tsl/framework/bfc_allocator.cc:1095] InUse at 78dc39720200 of size 256 next 219\n",
      "2024-04-14 03:35:14.353955: I tensorflow/tsl/framework/bfc_allocator.cc:1095] InUse at 78dc39720300 of size 256 next 220\n",
      "2024-04-14 03:35:14.353957: I tensorflow/tsl/framework/bfc_allocator.cc:1095] InUse at 78dc39720400 of size 256 next 222\n",
      "2024-04-14 03:35:14.353960: I tensorflow/tsl/framework/bfc_allocator.cc:1095] InUse at 78dc39720500 of size 256 next 221\n",
      "2024-04-14 03:35:14.353962: I tensorflow/tsl/framework/bfc_allocator.cc:1095] InUse at 78dc39720600 of size 256 next 223\n",
      "2024-04-14 03:35:14.353965: I tensorflow/tsl/framework/bfc_allocator.cc:1095] InUse at 78dc39720700 of size 256 next 224\n",
      "2024-04-14 03:35:14.353968: I tensorflow/tsl/framework/bfc_allocator.cc:1095] InUse at 78dc39720800 of size 256 next 225\n",
      "2024-04-14 03:35:14.353970: I tensorflow/tsl/framework/bfc_allocator.cc:1095] InUse at 78dc39720900 of size 256 next 226\n",
      "2024-04-14 03:35:14.353973: I tensorflow/tsl/framework/bfc_allocator.cc:1095] InUse at 78dc39720a00 of size 256 next 228\n",
      "2024-04-14 03:35:14.353975: I tensorflow/tsl/framework/bfc_allocator.cc:1095] InUse at 78dc39720b00 of size 256 next 198\n",
      "2024-04-14 03:35:14.353978: I tensorflow/tsl/framework/bfc_allocator.cc:1095] InUse at 78dc39720c00 of size 3584 next 192\n",
      "2024-04-14 03:35:14.353981: I tensorflow/tsl/framework/bfc_allocator.cc:1095] InUse at 78dc39721a00 of size 768 next 227\n",
      "2024-04-14 03:35:14.353984: I tensorflow/tsl/framework/bfc_allocator.cc:1095] InUse at 78dc39721d00 of size 256 next 229\n",
      "2024-04-14 03:35:14.353987: I tensorflow/tsl/framework/bfc_allocator.cc:1095] InUse at 78dc39721e00 of size 3584 next 230\n",
      "2024-04-14 03:35:14.353990: I tensorflow/tsl/framework/bfc_allocator.cc:1095] InUse at 78dc39722c00 of size 256 next 231\n",
      "2024-04-14 03:35:14.353993: I tensorflow/tsl/framework/bfc_allocator.cc:1095] InUse at 78dc39722d00 of size 256 next 232\n",
      "2024-04-14 03:35:14.353996: I tensorflow/tsl/framework/bfc_allocator.cc:1095] InUse at 78dc39722e00 of size 256 next 233\n",
      "2024-04-14 03:35:14.353999: I tensorflow/tsl/framework/bfc_allocator.cc:1095] InUse at 78dc39722f00 of size 512 next 235\n",
      "2024-04-14 03:35:14.354002: I tensorflow/tsl/framework/bfc_allocator.cc:1095] InUse at 78dc39723100 of size 512 next 236\n",
      "2024-04-14 03:35:14.354005: I tensorflow/tsl/framework/bfc_allocator.cc:1095] InUse at 78dc39723300 of size 512 next 237\n",
      "2024-04-14 03:35:14.354008: I tensorflow/tsl/framework/bfc_allocator.cc:1095] InUse at 78dc39723500 of size 25856 next 216\n",
      "2024-04-14 03:35:14.354010: I tensorflow/tsl/framework/bfc_allocator.cc:1095] InUse at 78dc39729a00 of size 16384 next 215\n",
      "2024-04-14 03:35:14.354013: I tensorflow/tsl/framework/bfc_allocator.cc:1095] InUse at 78dc3972da00 of size 256 next 238\n",
      "2024-04-14 03:35:14.354016: I tensorflow/tsl/framework/bfc_allocator.cc:1095] InUse at 78dc3972db00 of size 256 next 239\n",
      "2024-04-14 03:35:14.354018: I tensorflow/tsl/framework/bfc_allocator.cc:1095] InUse at 78dc3972dc00 of size 256 next 240\n",
      "2024-04-14 03:35:14.354021: I tensorflow/tsl/framework/bfc_allocator.cc:1095] InUse at 78dc3972dd00 of size 256 next 241\n",
      "2024-04-14 03:35:14.354023: I tensorflow/tsl/framework/bfc_allocator.cc:1095] InUse at 78dc3972de00 of size 256 next 242\n",
      "2024-04-14 03:35:14.354026: I tensorflow/tsl/framework/bfc_allocator.cc:1095] InUse at 78dc3972df00 of size 768 next 243\n",
      "2024-04-14 03:35:14.354028: I tensorflow/tsl/framework/bfc_allocator.cc:1095] InUse at 78dc3972e200 of size 256 next 244\n",
      "2024-04-14 03:35:14.354031: I tensorflow/tsl/framework/bfc_allocator.cc:1095] InUse at 78dc3972e300 of size 256 next 245\n",
      "2024-04-14 03:35:14.354034: I tensorflow/tsl/framework/bfc_allocator.cc:1095] InUse at 78dc3972e400 of size 256 next 246\n",
      "2024-04-14 03:35:14.354036: I tensorflow/tsl/framework/bfc_allocator.cc:1095] InUse at 78dc3972e500 of size 3584 next 247\n",
      "2024-04-14 03:35:14.354039: I tensorflow/tsl/framework/bfc_allocator.cc:1095] InUse at 78dc3972f300 of size 256 next 248\n",
      "2024-04-14 03:35:14.354042: I tensorflow/tsl/framework/bfc_allocator.cc:1095] InUse at 78dc3972f400 of size 256 next 249\n",
      "2024-04-14 03:35:14.354045: I tensorflow/tsl/framework/bfc_allocator.cc:1095] InUse at 78dc3972f500 of size 256 next 250\n",
      "2024-04-14 03:35:14.354048: I tensorflow/tsl/framework/bfc_allocator.cc:1095] InUse at 78dc3972f600 of size 512 next 251\n",
      "2024-04-14 03:35:14.354051: I tensorflow/tsl/framework/bfc_allocator.cc:1095] InUse at 78dc3972f800 of size 512 next 252\n",
      "2024-04-14 03:35:14.354054: I tensorflow/tsl/framework/bfc_allocator.cc:1095] InUse at 78dc3972fa00 of size 512 next 253\n",
      "2024-04-14 03:35:14.354058: I tensorflow/tsl/framework/bfc_allocator.cc:1095] InUse at 78dc3972fc00 of size 16384 next 254\n",
      "2024-04-14 03:35:14.354061: I tensorflow/tsl/framework/bfc_allocator.cc:1095] InUse at 78dc39733c00 of size 256 next 255\n",
      "2024-04-14 03:35:14.354064: I tensorflow/tsl/framework/bfc_allocator.cc:1095] InUse at 78dc39733d00 of size 256 next 256\n",
      "2024-04-14 03:35:14.354067: I tensorflow/tsl/framework/bfc_allocator.cc:1095] InUse at 78dc39733e00 of size 256 next 257\n",
      "2024-04-14 03:35:14.354070: I tensorflow/tsl/framework/bfc_allocator.cc:1095] InUse at 78dc39733f00 of size 256 next 258\n",
      "2024-04-14 03:35:14.354073: I tensorflow/tsl/framework/bfc_allocator.cc:1095] InUse at 78dc39734000 of size 256 next 259\n",
      "2024-04-14 03:35:14.354076: I tensorflow/tsl/framework/bfc_allocator.cc:1095] InUse at 78dc39734100 of size 256 next 260\n",
      "2024-04-14 03:35:14.354079: I tensorflow/tsl/framework/bfc_allocator.cc:1095] InUse at 78dc39734200 of size 256 next 261\n",
      "2024-04-14 03:35:14.354082: I tensorflow/tsl/framework/bfc_allocator.cc:1095] InUse at 78dc39734300 of size 256 next 262\n",
      "2024-04-14 03:35:14.354085: I tensorflow/tsl/framework/bfc_allocator.cc:1095] InUse at 78dc39734400 of size 256 next 263\n",
      "2024-04-14 03:35:14.354088: I tensorflow/tsl/framework/bfc_allocator.cc:1095] InUse at 78dc39734500 of size 256 next 264\n",
      "2024-04-14 03:35:14.354092: I tensorflow/tsl/framework/bfc_allocator.cc:1095] InUse at 78dc39734600 of size 256 next 265\n",
      "2024-04-14 03:35:14.354094: I tensorflow/tsl/framework/bfc_allocator.cc:1095] InUse at 78dc39734700 of size 256 next 266\n",
      "2024-04-14 03:35:14.354097: I tensorflow/tsl/framework/bfc_allocator.cc:1095] InUse at 78dc39734800 of size 256 next 267\n",
      "2024-04-14 03:35:14.354099: I tensorflow/tsl/framework/bfc_allocator.cc:1095] InUse at 78dc39734900 of size 256 next 268\n",
      "2024-04-14 03:35:14.354102: I tensorflow/tsl/framework/bfc_allocator.cc:1095] InUse at 78dc39734a00 of size 256 next 269\n",
      "2024-04-14 03:35:14.354104: I tensorflow/tsl/framework/bfc_allocator.cc:1095] InUse at 78dc39734b00 of size 256 next 270\n",
      "2024-04-14 0Traceback (most recent call last):\n",
      "  File \"/tmp/ipykernel_19536/3935950760.py\", line 9, in train\n",
      "    model.fit(val_dataset, epochs=config.n_epochs, callbacks=[WandbCallback()])\n",
      "  File \"/home/kervin/miniforge3/envs/tf/lib/python3.9/site-packages/keras/src/utils/traceback_utils.py\", line 70, in error_handler\n",
      "    raise e.with_traceback(filtered_tb) from None\n",
      "  File \"/home/kervin/miniforge3/envs/tf/lib/python3.9/site-packages/tensorflow/python/eager/execute.py\", line 53, in quick_execute\n",
      "    tensors = pywrap_tfe.TFE_Py_Execute(ctx._handle, device_name, op_name,\n",
      "tensorflow.python.framework.errors_impl.ResourceExhaustedError: Graph execution error:\n",
      "\n",
      "Detected at node 'sequential/conv2d/Relu' defined at (most recent call last):\n",
      "    File \"/home/kervin/miniforge3/envs/tf/lib/python3.9/threading.py\", line 937, in _bootstrap\n",
      "      self._bootstrap_inner()\n",
      "    File \"/home/kervin/miniforge3/envs/tf/lib/python3.9/threading.py\", line 980, in _bootstrap_inner\n",
      "      self.run()\n",
      "    File \"/home/kervin/miniforge3/envs/tf/lib/python3.9/site-packages/ipykernel/ipkernel.py\", line 761, in run_closure\n",
      "      _threading_Thread_run(self)\n",
      "    File \"/home/kervin/miniforge3/envs/tf/lib/python3.9/threading.py\", line 917, in run\n",
      "      self._target(*self._args, **self._kwargs)\n",
      "    File \"/home/kervin/miniforge3/envs/tf/lib/python3.9/site-packages/wandb/agents/pyagent.py\", line 308, in _run_job\n",
      "      self._function()\n",
      "    File \"/tmp/ipykernel_19536/3935950760.py\", line 9, in train\n",
      "      model.fit(val_dataset, epochs=config.n_epochs, callbacks=[WandbCallback()])\n",
      "    File \"/home/kervin/miniforge3/envs/tf/lib/python3.9/site-packages/keras/src/utils/traceback_utils.py\", line 65, in error_handler\n",
      "      return fn(*args, **kwargs)\n",
      "    File \"/home/kervin/miniforge3/envs/tf/lib/python3.9/site-packages/keras/src/engine/training.py\", line 1742, in fit\n",
      "      tmp_logs = self.train_function(iterator)\n",
      "    File \"/home/kervin/miniforge3/envs/tf/lib/python3.9/site-packages/keras/src/engine/training.py\", line 1338, in train_function\n",
      "      return step_function(self, iterator)\n",
      "    File \"/home/kervin/miniforge3/envs/tf/lib/python3.9/site-packages/keras/src/engine/training.py\", line 1322, in step_function\n",
      "      outputs = model.distribute_strategy.run(run_step, args=(data,))\n",
      "    File \"/home/kervin/miniforge3/envs/tf/lib/python3.9/site-packages/keras/src/engine/training.py\", line 1303, in run_step\n",
      "      outputs = model.train_step(data)\n",
      "    File \"/home/kervin/miniforge3/envs/tf/lib/python3.9/site-packages/keras/src/engine/training.py\", line 1080, in train_step\n",
      "      y_pred = self(x, training=True)\n",
      "    File \"/home/kervin/miniforge3/envs/tf/lib/python3.9/site-packages/keras/src/utils/traceback_utils.py\", line 65, in error_handler\n",
      "      return fn(*args, **kwargs)\n",
      "    File \"/home/kervin/miniforge3/envs/tf/lib/python3.9/site-packages/keras/src/engine/training.py\", line 569, in __call__\n",
      "      return super().__call__(*args, **kwargs)\n",
      "    File \"/home/kervin/miniforge3/envs/tf/lib/python3.9/site-packages/keras/src/utils/traceback_utils.py\", line 65, in error_handler\n",
      "      return fn(*args, **kwargs)\n",
      "    File \"/home/kervin/miniforge3/envs/tf/lib/python3.9/site-packages/keras/src/engine/base_layer.py\", line 1150, in __call__\n",
      "      outputs = call_fn(inputs, *args, **kwargs)\n",
      "    File \"/home/kervin/miniforge3/envs/tf/lib/python3.9/site-packages/keras/src/utils/traceback_utils.py\", line 96, in error_handler\n",
      "      return fn(*args, **kwargs)\n",
      "    File \"/home/kervin/miniforge3/envs/tf/lib/python3.9/site-packages/keras/src/engine/sequential.py\", line 405, in call\n",
      "      return super().call(inputs, training=training, mask=mask)\n",
      "    File \"/home/kervin/miniforge3/envs/tf/lib/python3.9/site-packages/keras/src/engine/functional.py\", line 512, in call\n",
      "      return self._run_internal_graph(inputs, training=training, mask=mask)\n",
      "    File \"/home/kervin/miniforge3/envs/tf/lib/python3.9/site-packages/keras/src/engine/functional.py\", line 669, in _run_internal_graph\n",
      "      outputs = node.layer(*args, **kwargs)\n",
      "    File \"/home/kervin/miniforge3/envs/tf/lib/python3.9/site-packages/keras/src/utils/traceback_utils.py\", line 65, in error_handler\n",
      "      return fn(*args, **kwargs)\n",
      "    File \"/home/kervin/miniforge3/envs/tf/lib/python3.9/site-packages/keras/src/engine/base_layer.py\", line 1150, in __call__\n",
      "      outputs = call_fn(inputs, *args, **kwargs)\n",
      "    File \"/home/kervin/miniforge3/envs/tf/lib/python3.9/site-packages/keras/src/utils/traceback_utils.py\", line 96, in error_handler\n",
      "      return fn(*args, **kwargs)\n",
      "    File \"/home/kervin/miniforge3/envs/tf/lib/python3.9/site-packages/keras/src/layers/convolutional/base_conv.py\", line 321, in call\n",
      "      return self.activation(outputs)\n",
      "    File \"/home/kervin/miniforge3/envs/tf/lib/python3.9/site-packages/keras/src/activations.py\", line 321, in relu\n",
      "      return backend.relu(\n",
      "    File \"/home/kervin/miniforge3/envs/tf/lib/python3.9/site-packages/keras/src/backend.py\", line 5397, in relu\n",
      "      x = tf.nn.relu(x)\n",
      "Node: 'sequential/conv2d/Relu'\n",
      "OOM when allocating tensor with shape[128,6,222,222] and type float on /job:localhost/replica:0/task:0/device:GPU:0 by allocator GPU_0_bfc\n",
      "\t [[{{node sequential/conv2d/Relu}}]]\n",
      "Hint: If you want to see a list of allocated tensors when OOM happens, add report_tensor_allocations_upon_oom to RunOptions for current allocation info. This isn't available when running in Eager mode.\n",
      " [Op:__inference_train_function_66461]\n",
      "3:35:14.354107: I tensorflow/tsl/framework/bfc_allocator.cc:1095] InUse at 78dc39734c00 of size 256 next 271\n",
      "2024-04-14 03:35:14.354110: I tensorflow/tsl/framework/bfc_allocator.cc:1095] InUse at 78dc39734d00 of size 256 next 272\n",
      "2024-04-14 03:35:14.354112: I tensorflow/tsl/framework/bfc_allocator.cc:1095] InUse at 78dc39734e00 of size 256 next 273\n",
      "2024-04-14 03:35:14.354115: I tensorflow/tsl/framework/bfc_allocator.cc:1095] InUse at 78dc39734f00 of size 256 next 274\n",
      "2024-04-14 03:35:14.354117: I tensorflow/tsl/framework/bfc_allocator.cc:1095] InUse at 78dc39735000 of size 256 next 275\n",
      "2024-04-14 03:35:14.354120: I tensorflow/tsl/framework/bfc_allocator.cc:1095] InUse at 78dc39735100 of size 256 next 276\n",
      "2024-04-14 03:35:14.354122: I tensorflow/tsl/framework/bfc_allocator.cc:1095] InUse at 78dc39735200 of size 256 next 290\n",
      "2024-04-14 03:35:14.354125: I tensorflow/tsl/framework/bfc_allocator.cc:1095] InUse at 78dc39735300 of size 256 next 277\n",
      "2024-04-14 03:35:14.354128: I tensorflow/tsl/framework/bfc_allocator.cc:1095] InUse at 78dc39735400 of size 256 next 289\n",
      "2024-04-14 03:35:14.354131: I tensorflow/tsl/framework/bfc_allocator.cc:1095] InUse at 78dc39735500 of size 256 next 278\n",
      "2024-04-14 03:35:14.354134: I tensorflow/tsl/framework/bfc_allocator.cc:1095] InUse at 78dc39735600 of size 256 next 287\n",
      "2024-04-14 03:35:14.354138: I tensorflow/tsl/framework/bfc_allocator.cc:1095] InUse at 78dc39735700 of size 256 next 279\n",
      "2024-04-14 03:35:14.354140: I tensorflow/tsl/framework/bfc_allocator.cc:1095] InUse at 78dc39735800 of size 256 next 293\n",
      "2024-04-14 03:35:14.354143: I tensorflow/tsl/framework/bfc_allocator.cc:1095] InUse at 78dc39735900 of size 256 next 288\n",
      "2024-04-14 03:35:14.354145: I tensorflow/tsl/framework/bfc_allocator.cc:1095] InUse at 78dc39735a00 of size 256 next 291\n",
      "2024-04-14 03:35:14.354148: I tensorflow/tsl/framework/bfc_allocator.cc:1095] InUse at 78dc39735b00 of size 768 next 292\n",
      "2024-04-14 03:35:14.354150: I tensorflow/tsl/framework/bfc_allocator.cc:1095] InUse at 78dc39735e00 of size 256 next 286\n",
      "2024-04-14 03:35:14.354153: I tensorflow/tsl/framework/bfc_allocator.cc:1095] InUse at 78dc39735f00 of size 256 next 282\n",
      "2024-04-14 03:35:14.354156: I tensorflow/tsl/framework/bfc_allocator.cc:1095] InUse at 78dc39736000 of size 256 next 284\n",
      "2024-04-14 03:35:14.354158: I tensorflow/tsl/framework/bfc_allocator.cc:1095] InUse at 78dc39736100 of size 256 next 298\n",
      "2024-04-14 03:35:14.354161: I tensorflow/tsl/framework/bfc_allocator.cc:1095] InUse at 78dc39736200 of size 256 next 281\n",
      "2024-04-14 03:35:14.354163: I tensorflow/tsl/framework/bfc_allocator.cc:1095] InUse at 78dc39736300 of size 256 next 295\n",
      "2024-04-14 03:35:14.354166: I tensorflow/tsl/framework/bfc_allocator.cc:1095] InUse at 78dc39736400 of size 256 next 296\n",
      "2024-04-14 03:35:14.354169: I tensorflow/tsl/framework/bfc_allocator.cc:1095] InUse at 78dc39736500 of size 256 next 297\n",
      "2024-04-14 03:35:14.354172: I tensorflow/tsl/framework/bfc_allocator.cc:1095] InUse at 78dc39736600 of size 256 next 299\n",
      "2024-04-14 03:35:14.354175: I tensorflow/tsl/framework/bfc_allocator.cc:1095] InUse at 78dc39736700 of size 256 next 300\n",
      "2024-04-14 03:35:14.354177: I tensorflow/tsl/framework/bfc_allocator.cc:1095] InUse at 78dc39736800 of size 512 next 303\n",
      "2024-04-14 03:35:14.354180: I tensorflow/tsl/framework/bfc_allocator.cc:1095] InUse at 78dc39736a00 of size 512 next 301\n",
      "2024-04-14 03:35:14.354183: I tensorflow/tsl/framework/bfc_allocator.cc:1095] InUse at 78dc39736c00 of size 512 next 302\n",
      "2024-04-14 03:35:14.354185: I tensorflow/tsl/framework/bfc_allocator.cc:1095] InUse at 78dc39736e00 of size 512 next 306\n",
      "2024-04-14 03:35:14.354188: I tensorflow/tsl/framework/bfc_allocator.cc:1095] InUse at 78dc39737000 of size 512 next 307\n",
      "2024-04-14 03:35:14.354191: I tensorflow/tsl/framework/bfc_allocator.cc:1095] InUse at 78dc39737200 of size 256 next 309\n",
      "2024-04-14 03:35:14.354193: I tensorflow/tsl/framework/bfc_allocator.cc:1095] InUse at 78dc39737300 of size 256 next 310\n",
      "2024-04-14 03:35:14.354197: I tensorflow/tsl/framework/bfc_allocator.cc:1095] InUse at 78dc39737400 of size 256 next 308\n",
      "2024-04-14 03:35:14.354200: I tensorflow/tsl/framework/bfc_allocator.cc:1095] InUse at 78dc39737500 of size 256 next 311\n",
      "2024-04-14 03:35:14.354203: I tensorflow/tsl/framework/bfc_allocator.cc:1095] InUse at 78dc39737600 of size 256 next 313\n",
      "2024-04-14 03:35:14.354205: I tensorflow/tsl/framework/bfc_allocator.cc:1095] InUse at 78dc39737700 of size 768 next 285\n",
      "2024-04-14 03:35:14.354208: I tensorflow/tsl/framework/bfc_allocator.cc:1095] InUse at 78dc39737a00 of size 3584 next 280\n",
      "2024-04-14 03:35:14.354210: I tensorflow/tsl/framework/bfc_allocator.cc:1095] InUse at 78dc39738800 of size 512 next 312\n",
      "2024-04-14 03:35:14.354213: I tensorflow/tsl/framework/bfc_allocator.cc:1095] InUse at 78dc39738a00 of size 256 next 314\n",
      "2024-04-14 03:35:14.354216: I tensorflow/tsl/framework/bfc_allocator.cc:1095] InUse at 78dc39738b00 of size 256 next 315\n",
      "2024-04-14 03:35:14.354218: I tensorflow/tsl/framework/bfc_allocator.cc:1095] InUse at 78dc39738c00 of size 256 next 316\n",
      "2024-04-14 03:35:14.354221: I tensorflow/tsl/framework/bfc_allocator.cc:1095] InUse at 78dc39738d00 of size 3584 next 317\n",
      "2024-04-14 03:35:14.354223: I tensorflow/tsl/framework/bfc_allocator.cc:1095] InUse at 78dc39739b00 of size 256 next 318\n",
      "2024-04-14 03:35:14.354226: I tensorflow/tsl/framework/bfc_allocator.cc:1095] InUse at 78dc39739c00 of size 256 next 319\n",
      "2024-04-14 03:35:14.354229: I tensorflow/tsl/framework/bfc_allocator.cc:1095] InUse at 78dc39739d00 of size 256 next 320\n",
      "2024-04-14 03:35:14.354232: I tensorflow/tsl/framework/bfc_allocator.cc:1095] InUse at 78dc39739e00 of size 256 next 322\n",
      "2024-04-14 03:35:14.354234: I tensorflow/tsl/framework/bfc_allocator.cc:1095] InUse at 78dc39739f00 of size 256 next 323\n",
      "2024-04-14 03:35:14.354237: I tensorflow/tsl/framework/bfc_allocator.cc:1095] InUse at 78dc3973a000 of size 256 next 324\n",
      "2024-04-14 03:35:14.354240: I tensorflow/tsl/framework/bfc_allocator.cc:1095] InUse at 78dc3973a100 of size 9984 next 305\n",
      "2024-04-14 03:35:14.354242: I tensorflow/tsl/framework/bfc_allocator.cc:1095] InUse at 78dc3973c800 of size 8192 next 304\n",
      "2024-04-14 03:35:14.354245: I tensorflow/tsl/framework/bfc_allocator.cc:1095] InUse at 78dc3973e800 of size 512 next 325\n",
      "2024-04-14 03:35:14.354248: I tensorflow/tsl/framework/bfc_allocator.cc:1095] InUse at 78dc3973ea00 of size 512 next 326\n",
      "2024-04-14 03:35:14.354250: I tensorflow/tsl/framework/bfc_allocator.cc:1095] InUse at 78dc3973ec00 of size 512 next 327\n",
      "2024-04-14 03:35:14.354253: I tensorflow/tsl/framework/bfc_allocator.cc:1095] InUse at 78dc3973ee00 of size 512 next 328\n",
      "2024-04-14 03:35:14.354255: I tensorflow/tsl/framework/bfc_allocator.cc:1095] InUse at 78dc3973f000 of size 256 next 329\n",
      "2024-04-14 03:35:14.354258: I tensorflow/tsl/framework/bfc_allocator.cc:1095] InUse at 78dc3973f100 of size 768 next 330\n",
      "2024-04-14 03:35:14.354261: I tensorflow/tsl/framework/bfc_allocator.cc:1095] InUse at 78dc3973f400 of size 256 next 331\n",
      "2024-04-14 03:35:14.354263: I tensorflow/tsl/framework/bfc_allocator.cc:1095] InUse at 78dc3973f500 of size 256 next 332\n",
      "2024-04-14 03:35:14.354266: I tensorflow/tsl/framework/bfc_allocator.cc:1095] InUse at 78dc3973f600 of size 256 next 333\n",
      "2024-04-14 03:35:14.354268: I tensorflow/tsl/framework/bfc_allocator.cc:1095] InUse at 78dc3973f700 of size 3584 next 334\n",
      "2024-04-14 03:35:14.354271: I tensorflow/tsl/framework/bfc_allocator.cc:1095] InUse at 78dc39740500 of size 256 next 335\n",
      "2024-04-14 03:35:14.354274: I tensorflow/tsl/framework/bfc_allocator.cc:1095] InUse at 78dc39740600 of size 256 next 336\n",
      "2024-04-14 03:35:14.354276: I tensorflow/tsl/framework/bfc_allocator.cc:1095] InUse at 78dc39740700 of size 256 next 337\n",
      "2024-04-14 03:35:14.354279: I tensorflow/tsl/framework/bfc_allocator.cc:1095] InUse at 78dc39740800 of size 256 next 338\n",
      "2024-04-14 03:35:14.354281: I tensorflow/tsl/framework/bfc_allocator.cc:1095] InUse at 78dc39740900 of size 256 next 339\n",
      "2024-04-14 03:35:14.354284: I tensorflow/tsl/framework/bfc_allocator.cc:1095] InUse at 78dc39740a00 of size 256 next 340\n",
      "2024-04-14 03:35:14.354286: I tensorflow/tsl/framework/bfc_allocator.cc:1095] InUse at 78dc39740b00 of size 8192 next 341\n",
      "2024-04-14 03:35:14.354289: I tensorflow/tsl/framework/bfc_allocator.cc:1095] InUse at 78dc39742b00 of size 512 next 342\n",
      "2024-04-14 03:35:14.354292: I tensorflow/tsl/framework/bfc_allocator.cc:1095] InUse at 78dc39742d00 of size 512 next 343\n",
      "2024-04-14 03:35:14.354294: I tensorflow/tsl/framework/bfc_allocator.cc:1095] InUse at 78dc39742f00 of size 512 next 344\n",
      "2024-04-14 03:35:14.354297: I tensorflow/tsl/framework/bfc_allocator.cc:1095] InUse at 78dc39743100 of size 512 next 345\n",
      "2024-04-14 03:35:14.354299: I tensorflow/tsl/framework/bfc_allocator.cc:1095] InUse at 78dc39743300 of size 256 next 346\n",
      "2024-04-14 03:35:14.354302: I tensorflow/tsl/framework/bfc_allocator.cc:1095] InUse at 78dc39743400 of size 256 next 347\n",
      "2024-04-14 03:35:14.354304: I tensorflow/tsl/framework/bfc_allocator.cc:1095] InUse at 78dc39743500 of size 256 next 348\n",
      "2024-04-14 03:35:14.354307: I tensorflow/tsl/framework/bfc_allocator.cc:1095] InUse at 78dc39743600 of size 256 next 349\n",
      "2024-04-14 03:35:14.354310: I tensorflow/tsl/framework/bfc_allocator.cc:1095] InUse at 78dc39743700 of size 256 next 350\n",
      "2024-04-14 03:35:14.354312: I tensorflow/tsl/framework/bfc_allocator.cc:1095] InUse at 78dc39743800 of size 256 next 351\n",
      "2024-04-14 03:35:14.354315: I tensorflow/tsl/framework/bfc_allocator.cc:1095] InUse at 78dc39743900 of size 256 next 352\n",
      "2024-04-14 03:35:14.354317: I tensorflow/tsl/framework/bfc_allocator.cc:1095] InUse at 78dc39743a00 of size 256 next 353\n",
      "2024-04-14 03:35:14.354320: I tensorflow/tsl/framework/bfc_allocator.cc:1095] InUse at 78dc39743b00 of size 256 next 354\n",
      "2024-04-14 03:35:14.354322: I tensorflow/tsl/framework/bfc_allocator.cc:1095] InUse at 78dc39743c00 of size 256 next 355\n",
      "2024-04-14 03:35:14.354325: I tensorflow/tsl/framework/bfc_allocator.cc:1095] InUse at 78dc39743d00 of size 256 next 356\n",
      "2024-04-14 03:35:14.354328: I tensorflow/tsl/framework/bfc_allocator.cc:1095] InUse at 78dc39743e00 of size 256 next 357\n",
      "2024-04-14 03:35:14.354330: I tensorflow/tsl/framework/bfc_allocator.cc:1095] InUse at 78dc39743f00 of size 256 next 358\n",
      "2024-04-14 03:35:14.354333: I tensorflow/tsl/framework/bfc_allocator.cc:1095] InUse at 78dc39744000 of size 256 next 359\n",
      "2024-04-14 03:35:14.354335: I tensorflow/tsl/framework/bfc_allocator.cc:1095] InUse at 78dc39744100 of size 256 next 360\n",
      "2024-04-14 03:35:14.354338: I tensorflow/tsl/framework/bfc_allocator.cc:1095] InUse at 78dc39744200 of size 256 next 361\n",
      "2024-04-14 03:35:14.354340: I tensorflow/tsl/framework/bfc_allocator.cc:1095] InUse at 78dc39744300 of size 256 next 362\n",
      "2024-04-14 03:35:14.354343: I tensorflow/tsl/framework/bfc_allocator.cc:1095] InUse at 78dc39744400 of size 256 next 363\n",
      "2024-04-14 03:35:14.354345: I tensorflow/tsl/framework/bfc_allocator.cc:1095] InUse at 78dc39744500 of size 256 next 365\n",
      "2024-04-14 03:35:14.354348: I tensorflow/tsl/framework/bfc_allocator.cc:1095] InUse at 78dc39744600 of size 256 next 366\n",
      "2024-04-14 03:35:14.354351: I tensorflow/tsl/framework/bfc_allocator.cc:1095] InUse at 78dc39744700 of size 3584 next 367\n",
      "2024-04-14 03:35:14.354353: I tensorflow/tsl/framework/bfc_allocator.cc:1095] InUse at 78dc39745500 of size 256 next 368\n",
      "2024-04-14 03:35:14.354356: I tensorflow/tsl/framework/bfc_allocator.cc:1095] InUse at 78dc39745600 of size 256 next 369\n",
      "2024-04-14 03:35:14.354358: I tensorflow/tsl/framework/bfc_allocator.cc:1095] InUse at 78dc39745700 of size 768 next 370\n",
      "2024-04-14 03:35:14.354361: I tensorflow/tsl/framework/bfc_allocator.cc:1095] InUse at 78dc39745a00 of size 256 next 371\n",
      "2024-04-14 03:35:14.354364: I tensorflow/tsl/framework/bfc_allocator.cc:1095] InUse at 78dc39745b00 of size 8192 next 372\n",
      "2024-04-14 03:35:14.354366: I tensorflow/tsl/framework/bfc_allocator.cc:1095] InUse at 78dc39747b00 of size 256 next 373\n",
      "2024-04-14 03:35:14.354369: I tensorflow/tsl/framework/bfc_allocator.cc:1095] InUse at 78dc39747c00 of size 256 next 374\n",
      "2024-04-14 03:35:14.354371: I tensorflow/tsl/framework/bfc_allocator.cc:1095] InUse at 78dc39747d00 of size 256 next 378\n",
      "2024-04-14 03:35:14.354374: I tensorflow/tsl/framework/bfc_allocator.cc:1095] InUse at 78dc39747e00 of size 256 next 379\n",
      "2024-04-14 03:35:14.354376: I tensorflow/tsl/framework/bfc_allocator.cc:1095] InUse at 78dc39747f00 of size 512 next 375\n",
      "2024-04-14 03:35:14.354379: I tensorflow/tsl/framework/bfc_allocator.cc:1095] InUse at 78dc39748100 of size 512 next 376\n",
      "2024-04-14 03:35:14.354382: I tensorflow/tsl/framework/bfc_allocator.cc:1095] Free  at 78dc39748300 of size 256 next 377\n",
      "2024-04-14 03:35:14.354385: I tensorflow/tsl/framework/bfc_allocator.cc:1095] InUse at 78dc39748400 of size 512 next 380\n",
      "2024-04-14 03:35:14.354387: I tensorflow/tsl/framework/bfc_allocator.cc:1095] InUse at 78dc39748600 of size 256 next 381\n",
      "2024-04-14 03:35:14.354390: I tensorflow/tsl/framework/bfc_allocator.cc:1095] InUse at 78dc39748700 of size 256 next 382\n",
      "2024-04-14 03:35:14.354393: I tensorflow/tsl/framework/bfc_allocator.cc:1095] InUse at 78dc39748800 of size 256 next 385\n",
      "2024-04-14 03:35:14.354396: I tensorflow/tsl/framework/bfc_allocator.cc:1095] InUse at 78dc39748900 of size 768 next 386\n",
      "2024-04-14 03:35:14.354399: I tensorflow/tsl/framework/bfc_allocator.cc:1095] Free  at 78dc39748c00 of size 194048 next 74\n",
      "2024-04-14 03:35:14.354402: I tensorflow/tsl/framework/bfc_allocator.cc:1095] InUse at 78dc39778200 of size 400128 next 75\n",
      "2024-04-14 03:35:14.354405: I tensorflow/tsl/framework/bfc_allocator.cc:1095] InUse at 78dc397d9d00 of size 6195200 next 147\n",
      "2024-04-14 03:35:14.354408: I tensorflow/tsl/framework/bfc_allocator.cc:1095] InUse at 78dc39dc2500 of size 6195200 next 117\n",
      "2024-04-14 03:35:14.354411: I tensorflow/tsl/framework/bfc_allocator.cc:1095] InUse at 78dc3a3aad00 of size 6195200 next 116\n",
      "2024-04-14 03:35:14.354414: I tensorflow/tsl/framework/bfc_allocator.cc:1095] InUse at 78dc3a993500 of size 24780800 next 234\n",
      "2024-04-14 03:35:14.354416: I tensorflow/tsl/framework/bfc_allocator.cc:1095] InUse at 78dc3c135500 of size 24780800 next 196\n",
      "2024-04-14 03:35:14.354419: I tensorflow/tsl/framework/bfc_allocator.cc:1095] InUse at 78dc3d8d7500 of size 24780800 next 211\n",
      "2024-04-14 03:35:14.354421: I tensorflow/tsl/framework/bfc_allocator.cc:1095] InUse at 78dc3f079500 of size 3097600 next 321\n",
      "2024-04-14 03:35:14.354424: I tensorflow/tsl/framework/bfc_allocator.cc:1095] InUse at 78dc3f36d900 of size 3097600 next 283\n",
      "2024-04-14 03:35:14.354427: I tensorflow/tsl/framework/bfc_allocator.cc:1095] InUse at 78dc3f661d00 of size 3097600 next 294\n",
      "2024-04-14 03:35:14.354429: I tensorflow/tsl/framework/bfc_allocator.cc:1095] InUse at 78dc3f956100 of size 3097600 next 364\n",
      "2024-04-14 03:35:14.354432: I tensorflow/tsl/framework/bfc_allocator.cc:1095] InUse at 78dc3fc4a500 of size 90462976 next 18446744073709551615\n",
      "2024-04-14 03:35:14.354435: I tensorflow/tsl/framework/bfc_allocator.cc:1100]      Summary of in-use Chunks by size: \n",
      "2024-04-14 03:35:14.354438: I tensorflow/tsl/framework/bfc_allocator.cc:1103] 273 Chunks of size 256 totalling 68.2KiB\n",
      "2024-04-14 03:35:14.354442: I tensorflow/tsl/framework/bfc_allocator.cc:1103] 47 Chunks of size 512 totalling 23.5KiB\n",
      "2024-04-14 03:35:14.354445: I tensorflow/tsl/framework/bfc_allocator.cc:1103] 13 Chunks of size 768 totalling 9.8KiB\n",
      "2024-04-14 03:35:14.354447: I tensorflow/tsl/framework/bfc_allocator.cc:1103] 5 Chunks of size 1024 totalling 5.0KiB\n",
      "2024-04-14 03:35:14.354450: I tensorflow/tsl/framework/bfc_allocator.cc:1103] 1 Chunks of size 1280 totalling 1.2KiB\n",
      "2024-04-14 03:35:14.354453: I tensorflow/tsl/framework/bfc_allocator.cc:1103] 11 Chunks of size 3584 totalling 38.5KiB\n",
      "2024-04-14 03:35:14.354456: I tensorflow/tsl/framework/bfc_allocator.cc:1103] 5 Chunks of size 4096 totalling 20.0KiB\n",
      "2024-04-14 03:35:14.354459: I tensorflow/tsl/framework/bfc_allocator.cc:1103] 1 Chunks of size 4608 totalling 4.5KiB\n",
      "2024-04-14 03:35:14.354462: I tensorflow/tsl/framework/bfc_allocator.cc:1103] 3 Chunks of size 8192 totalling 24.0KiB\n",
      "2024-04-14 03:35:14.354465: I tensorflow/tsl/framework/bfc_allocator.cc:1103] 1 Chunks of size 9984 totalling 9.8KiB\n",
      "2024-04-14 03:35:14.354467: I tensorflow/tsl/framework/bfc_allocator.cc:1103] 3 Chunks of size 16384 totalling 48.0KiB\n",
      "2024-04-14 03:35:14.354471: I tensorflow/tsl/framework/bfc_allocator.cc:1103] 1 Chunks of size 24064 totalling 23.5KiB\n",
      "2024-04-14 03:35:14.354474: I tensorflow/tsl/framework/bfc_allocator.cc:1103] 1 Chunks of size 24832 totalling 24.2KiB\n",
      "2024-04-14 03:35:14.354477: I tensorflow/tsl/framework/bfc_allocator.cc:1103] 1 Chunks of size 25856 totalling 25.2KiB\n",
      "2024-04-14 03:35:14.354480: I tensorflow/tsl/framework/bfc_allocator.cc:1103] 2 Chunks of size 32000 totalling 62.5KiB\n",
      "2024-04-14 03:35:14.354483: I tensorflow/tsl/framework/bfc_allocator.cc:1103] 1 Chunks of size 400128 totalling 390.8KiB\n",
      "2024-04-14 03:35:14.354486: I tensorflow/tsl/framework/bfc_allocator.cc:1103] 4 Chunks of size 3097600 totalling 11.82MiB\n",
      "2024-04-14 03:35:14.354489: I tensorflow/tsl/framework/bfc_allocator.cc:1103] 3 Chunks of size 6195200 totalling 17.72MiB\n",
      "2024-04-14 03:35:14.354492: I tensorflow/tsl/framework/bfc_allocator.cc:1103] 3 Chunks of size 24780800 totalling 70.90MiB\n",
      "2024-04-14 03:35:14.354495: I tensorflow/tsl/framework/bfc_allocator.cc:1103] 1 Chunks of size 77070336 totalling 73.50MiB\n",
      "2024-04-14 03:35:14.354497: I tensorflow/tsl/framework/bfc_allocator.cc:1103] 1 Chunks of size 90462976 totalling 86.27MiB\n",
      "2024-04-14 03:35:14.354500: I tensorflow/tsl/framework/bfc_allocator.cc:1103] 1 Chunks of size 151400448 totalling 144.39MiB\n",
      "2024-04-14 03:35:14.354503: I tensorflow/tsl/framework/bfc_allocator.cc:1103] 1 Chunks of size 186624000 totalling 177.98MiB\n",
      "2024-04-14 03:35:14.354506: I tensorflow/tsl/framework/bfc_allocator.cc:1107] Sum Total of in-use chunks: 583.34MiB\n",
      "2024-04-14 03:35:14.354509: I tensorflow/tsl/framework/bfc_allocator.cc:1109] Total bytes in pool: 757661696 memory_limit_: 757661696 available bytes: 0 curr_region_allocation_bytes_: 1515323392\n",
      "2024-04-14 03:35:14.354514: I tensorflow/tsl/framework/bfc_allocator.cc:1114] Stats: \n",
      "Limit:                       757661696\n",
      "InUse:                       611673600\n",
      "MaxInUse:                    756905216\n",
      "NumAllocs:                        1798\n",
      "MaxAllocSize:                222449664\n",
      "Reserved:                            0\n",
      "PeakReserved:                        0\n",
      "LargestFreeBlock:                    0\n",
      "\n",
      "2024-04-14 03:35:14.354521: W tensorflow/tsl/framework/bfc_allocator.cc:497] *******************************__________________**************************************************x\n",
      "2024-04-14 03:35:14.354535: W tensorflow/core/framework/op_kernel.cc:1828] OP_REQUIRES failed at conv_ops_fused_impl.h:568 : RESOURCE_EXHAUSTED: OOM when allocating tensor with shape[128,6,222,222] and type float on /job:localhost/replica:0/task:0/device:GPU:0 by allocator GPU_0_bfc\n"
     ]
    },
    {
     "data": {
      "application/vnd.jupyter.widget-view+json": {
       "model_id": "6c7cffbd6ce14f5297bfa48a2df252bf",
       "version_major": 2,
       "version_minor": 0
      },
      "text/plain": [
       "VBox(children=(Label(value='0.003 MB of 0.003 MB uploaded\\r'), FloatProgress(value=1.0, max=1.0)))"
      ]
     },
     "metadata": {},
     "output_type": "display_data"
    },
    {
     "data": {
      "text/html": [
       " View run <strong style=\"color:#cdcd00\">effortless-sweep-3</strong> at: <a href='https://wandb.ai/kervin5/Malaria-Detection/runs/r3m4qr93' target=\"_blank\">https://wandb.ai/kervin5/Malaria-Detection/runs/r3m4qr93</a><br/> View project at: <a href='https://wandb.ai/kervin5/Malaria-Detection' target=\"_blank\">https://wandb.ai/kervin5/Malaria-Detection</a><br/>Synced 6 W&B file(s), 0 media file(s), 0 artifact file(s) and 0 other file(s)"
      ],
      "text/plain": [
       "<IPython.core.display.HTML object>"
      ]
     },
     "metadata": {},
     "output_type": "display_data"
    },
    {
     "data": {
      "text/html": [
       "Find logs at: <code>./wandb/run-20240414_033458-r3m4qr93/logs</code>"
      ],
      "text/plain": [
       "<IPython.core.display.HTML object>"
      ]
     },
     "metadata": {},
     "output_type": "display_data"
    },
    {
     "name": "stderr",
     "output_type": "stream",
     "text": [
      "Run r3m4qr93 errored:\n",
      "Traceback (most recent call last):\n",
      "  File \"/home/kervin/miniforge3/envs/tf/lib/python3.9/site-packages/wandb/agents/pyagent.py\", line 308, in _run_job\n",
      "    self._function()\n",
      "  File \"/tmp/ipykernel_19536/3935950760.py\", line 9, in train\n",
      "    model.fit(val_dataset, epochs=config.n_epochs, callbacks=[WandbCallback()])\n",
      "  File \"/home/kervin/miniforge3/envs/tf/lib/python3.9/site-packages/keras/src/utils/traceback_utils.py\", line 70, in error_handler\n",
      "    raise e.with_traceback(filtered_tb) from None\n",
      "  File \"/home/kervin/miniforge3/envs/tf/lib/python3.9/site-packages/tensorflow/python/eager/execute.py\", line 53, in quick_execute\n",
      "    tensors = pywrap_tfe.TFE_Py_Execute(ctx._handle, device_name, op_name,\n",
      "tensorflow.python.framework.errors_impl.ResourceExhaustedError: Graph execution error:\n",
      "\n",
      "Detected at node 'sequential/conv2d/Relu' defined at (most recent call last):\n",
      "    File \"/home/kervin/miniforge3/envs/tf/lib/python3.9/threading.py\", line 937, in _bootstrap\n",
      "      self._bootstrap_inner()\n",
      "    File \"/home/kervin/miniforge3/envs/tf/lib/python3.9/threading.py\", line 980, in _bootstrap_inner\n",
      "      self.run()\n",
      "    File \"/home/kervin/miniforge3/envs/tf/lib/python3.9/site-packages/ipykernel/ipkernel.py\", line 761, in run_closure\n",
      "      _threading_Thread_run(self)\n",
      "    File \"/home/kervin/miniforge3/envs/tf/lib/python3.9/threading.py\", line 917, in run\n",
      "      self._target(*self._args, **self._kwargs)\n",
      "    File \"/home/kervin/miniforge3/envs/tf/lib/python3.9/site-packages/wandb/agents/pyagent.py\", line 308, in _run_job\n",
      "      self._function()\n",
      "    File \"/tmp/ipykernel_19536/3935950760.py\", line 9, in train\n",
      "      model.fit(val_dataset, epochs=config.n_epochs, callbacks=[WandbCallback()])\n",
      "    File \"/home/kervin/miniforge3/envs/tf/lib/python3.9/site-packages/keras/src/utils/traceback_utils.py\", line 65, in error_handler\n",
      "      return fn(*args, **kwargs)\n",
      "    File \"/home/kervin/miniforge3/envs/tf/lib/python3.9/site-packages/keras/src/engine/training.py\", line 1742, in fit\n",
      "      tmp_logs = self.train_function(iterator)\n",
      "    File \"/home/kervin/miniforge3/envs/tf/lib/python3.9/site-packages/keras/src/engine/training.py\", line 1338, in train_function\n",
      "      return step_function(self, iterator)\n",
      "    File \"/home/kervin/miniforge3/envs/tf/lib/python3.9/site-packages/keras/src/engine/training.py\", line 1322, in step_function\n",
      "      outputs = model.distribute_strategy.run(run_step, args=(data,))\n",
      "    File \"/home/kervin/miniforge3/envs/tf/lib/python3.9/site-packages/keras/src/engine/training.py\", line 1303, in run_step\n",
      "      outputs = model.train_step(data)\n",
      "    File \"/home/kervin/miniforge3/envs/tf/lib/python3.9/site-packages/keras/src/engine/training.py\", line 1080, in train_step\n",
      "      y_pred = self(x, training=True)\n",
      "    File \"/home/kervin/miniforge3/envs/tf/lib/python3.9/site-packages/keras/src/utils/traceback_utils.py\", line 65, in error_handler\n",
      "      return fn(*args, **kwargs)\n",
      "    File \"/home/kervin/miniforge3/envs/tf/lib/python3.9/site-packages/keras/src/engine/training.py\", line 569, in __call__\n",
      "      return super().__call__(*args, **kwargs)\n",
      "    File \"/home/kervin/miniforge3/envs/tf/lib/python3.9/site-packages/keras/src/utils/traceback_utils.py\", line 65, in error_handler\n",
      "      return fn(*args, **kwargs)\n",
      "    File \"/home/kervin/miniforge3/envs/tf/lib/python3.9/site-packages/keras/src/engine/base_layer.py\", line 1150, in __call__\n",
      "      outputs = call_fn(inputs, *args, **kwargs)\n",
      "    File \"/home/kervin/miniforge3/envs/tf/lib/python3.9/site-packages/keras/src/utils/traceback_utils.py\", line 96, in error_handler\n",
      "      return fn(*args, **kwargs)\n",
      "    File \"/home/kervin/miniforge3/envs/tf/lib/python3.9/site-packages/keras/src/engine/sequential.py\", line 405, in call\n",
      "      return super().call(inputs, training=training, mask=mask)\n",
      "    File \"/home/kervin/miniforge3/envs/tf/lib/python3.9/site-packages/keras/src/engine/functional.py\", line 512, in call\n",
      "      return self._run_internal_graph(inputs, training=training, mask=mask)\n",
      "    File \"/home/kervin/miniforge3/envs/tf/lib/python3.9/site-packages/keras/src/engine/functional.py\", line 669, in _run_internal_graph\n",
      "      outputs = node.layer(*args, **kwargs)\n",
      "    File \"/home/kervin/miniforge3/envs/tf/lib/python3.9/site-packages/keras/src/utils/traceback_utils.py\", line 65, in error_handler\n",
      "      return fn(*args, **kwargs)\n",
      "    File \"/home/kervin/miniforge3/envs/tf/lib/python3.9/site-packages/keras/src/engine/base_layer.py\", line 1150, in __call__\n",
      "      outputs = call_fn(inputs, *args, **kwargs)\n",
      "    File \"/home/kervin/miniforge3/envs/tf/lib/python3.9/site-packages/keras/src/utils/traceback_utils.py\", line 96, in error_handler\n",
      "      return fn(*args, **kwargs)\n",
      "    File \"/home/kervin/miniforge3/envs/tf/lib/python3.9/site-packages/keras/src/layers/convolutional/base_conv.py\", line 321, in call\n",
      "      return self.activation(outputs)\n",
      "    File \"/home/kervin/miniforge3/envs/tf/lib/python3.9/site-packages/keras/src/activations.py\", line 321, in relu\n",
      "      return backend.relu(\n",
      "    File \"/home/kervin/miniforge3/envs/tf/lib/python3.9/site-packages/keras/src/backend.py\", line 5397, in relu\n",
      "      x = tf.nn.relu(x)\n",
      "Node: 'sequential/conv2d/Relu'\n",
      "OOM when allocating tensor with shape[128,6,222,222] and type float on /job:localhost/replica:0/task:0/device:GPU:0 by allocator GPU_0_bfc\n",
      "\t [[{{node sequential/conv2d/Relu}}]]\n",
      "Hint: If you want to see a list of allocated tensors when OOM happens, add report_tensor_allocations_upon_oom to RunOptions for current allocation info. This isn't available when running in Eager mode.\n",
      " [Op:__inference_train_function_66461]\n",
      "\n",
      "\u001b[34m\u001b[1mwandb\u001b[0m: \u001b[32m\u001b[41mERROR\u001b[0m Run r3m4qr93 errored:\n",
      "\u001b[34m\u001b[1mwandb\u001b[0m: \u001b[32m\u001b[41mERROR\u001b[0m Traceback (most recent call last):\n",
      "\u001b[34m\u001b[1mwandb\u001b[0m: \u001b[32m\u001b[41mERROR\u001b[0m   File \"/home/kervin/miniforge3/envs/tf/lib/python3.9/site-packages/wandb/agents/pyagent.py\", line 308, in _run_job\n",
      "\u001b[34m\u001b[1mwandb\u001b[0m: \u001b[32m\u001b[41mERROR\u001b[0m     self._function()\n",
      "\u001b[34m\u001b[1mwandb\u001b[0m: \u001b[32m\u001b[41mERROR\u001b[0m   File \"/tmp/ipykernel_19536/3935950760.py\", line 9, in train\n",
      "\u001b[34m\u001b[1mwandb\u001b[0m: \u001b[32m\u001b[41mERROR\u001b[0m     model.fit(val_dataset, epochs=config.n_epochs, callbacks=[WandbCallback()])\n",
      "\u001b[34m\u001b[1mwandb\u001b[0m: \u001b[32m\u001b[41mERROR\u001b[0m   File \"/home/kervin/miniforge3/envs/tf/lib/python3.9/site-packages/keras/src/utils/traceback_utils.py\", line 70, in error_handler\n",
      "\u001b[34m\u001b[1mwandb\u001b[0m: \u001b[32m\u001b[41mERROR\u001b[0m     raise e.with_traceback(filtered_tb) from None\n",
      "\u001b[34m\u001b[1mwandb\u001b[0m: \u001b[32m\u001b[41mERROR\u001b[0m   File \"/home/kervin/miniforge3/envs/tf/lib/python3.9/site-packages/tensorflow/python/eager/execute.py\", line 53, in quick_execute\n",
      "\u001b[34m\u001b[1mwandb\u001b[0m: \u001b[32m\u001b[41mERROR\u001b[0m     tensors = pywrap_tfe.TFE_Py_Execute(ctx._handle, device_name, op_name,\n",
      "\u001b[34m\u001b[1mwandb\u001b[0m: \u001b[32m\u001b[41mERROR\u001b[0m tensorflow.python.framework.errors_impl.ResourceExhaustedError: Graph execution error:\n",
      "\u001b[34m\u001b[1mwandb\u001b[0m: \u001b[32m\u001b[41mERROR\u001b[0m \n",
      "\u001b[34m\u001b[1mwandb\u001b[0m: \u001b[32m\u001b[41mERROR\u001b[0m Detected at node 'sequential/conv2d/Relu' defined at (most recent call last):\n",
      "\u001b[34m\u001b[1mwandb\u001b[0m: \u001b[32m\u001b[41mERROR\u001b[0m     File \"/home/kervin/miniforge3/envs/tf/lib/python3.9/threading.py\", line 937, in _bootstrap\n",
      "\u001b[34m\u001b[1mwandb\u001b[0m: \u001b[32m\u001b[41mERROR\u001b[0m       self._bootstrap_inner()\n",
      "\u001b[34m\u001b[1mwandb\u001b[0m: \u001b[32m\u001b[41mERROR\u001b[0m     File \"/home/kervin/miniforge3/envs/tf/lib/python3.9/threading.py\", line 980, in _bootstrap_inner\n",
      "\u001b[34m\u001b[1mwandb\u001b[0m: \u001b[32m\u001b[41mERROR\u001b[0m       self.run()\n",
      "\u001b[34m\u001b[1mwandb\u001b[0m: \u001b[32m\u001b[41mERROR\u001b[0m     File \"/home/kervin/miniforge3/envs/tf/lib/python3.9/site-packages/ipykernel/ipkernel.py\", line 761, in run_closure\n",
      "\u001b[34m\u001b[1mwandb\u001b[0m: \u001b[32m\u001b[41mERROR\u001b[0m       _threading_Thread_run(self)\n",
      "\u001b[34m\u001b[1mwandb\u001b[0m: \u001b[32m\u001b[41mERROR\u001b[0m     File \"/home/kervin/miniforge3/envs/tf/lib/python3.9/threading.py\", line 917, in run\n",
      "\u001b[34m\u001b[1mwandb\u001b[0m: \u001b[32m\u001b[41mERROR\u001b[0m       self._target(*self._args, **self._kwargs)\n",
      "\u001b[34m\u001b[1mwandb\u001b[0m: \u001b[32m\u001b[41mERROR\u001b[0m     File \"/home/kervin/miniforge3/envs/tf/lib/python3.9/site-packages/wandb/agents/pyagent.py\", line 308, in _run_job\n",
      "\u001b[34m\u001b[1mwandb\u001b[0m: \u001b[32m\u001b[41mERROR\u001b[0m       self._function()\n",
      "\u001b[34m\u001b[1mwandb\u001b[0m: \u001b[32m\u001b[41mERROR\u001b[0m     File \"/tmp/ipykernel_19536/3935950760.py\", line 9, in train\n",
      "\u001b[34m\u001b[1mwandb\u001b[0m: \u001b[32m\u001b[41mERROR\u001b[0m       model.fit(val_dataset, epochs=config.n_epochs, callbacks=[WandbCallback()])\n",
      "\u001b[34m\u001b[1mwandb\u001b[0m: \u001b[32m\u001b[41mERROR\u001b[0m     File \"/home/kervin/miniforge3/envs/tf/lib/python3.9/site-packages/keras/src/utils/traceback_utils.py\", line 65, in error_handler\n",
      "\u001b[34m\u001b[1mwandb\u001b[0m: \u001b[32m\u001b[41mERROR\u001b[0m       return fn(*args, **kwargs)\n",
      "\u001b[34m\u001b[1mwandb\u001b[0m: \u001b[32m\u001b[41mERROR\u001b[0m     File \"/home/kervin/miniforge3/envs/tf/lib/python3.9/site-packages/keras/src/engine/training.py\", line 1742, in fit\n",
      "\u001b[34m\u001b[1mwandb\u001b[0m: \u001b[32m\u001b[41mERROR\u001b[0m       tmp_logs = self.train_function(iterator)\n",
      "\u001b[34m\u001b[1mwandb\u001b[0m: \u001b[32m\u001b[41mERROR\u001b[0m     File \"/home/kervin/miniforge3/envs/tf/lib/python3.9/site-packages/keras/src/engine/training.py\", line 1338, in train_function\n",
      "\u001b[34m\u001b[1mwandb\u001b[0m: \u001b[32m\u001b[41mERROR\u001b[0m       return step_function(self, iterator)\n",
      "\u001b[34m\u001b[1mwandb\u001b[0m: \u001b[32m\u001b[41mERROR\u001b[0m     File \"/home/kervin/miniforge3/envs/tf/lib/python3.9/site-packages/keras/src/engine/training.py\", line 1322, in step_function\n",
      "\u001b[34m\u001b[1mwandb\u001b[0m: \u001b[32m\u001b[41mERROR\u001b[0m       outputs = model.distribute_strategy.run(run_step, args=(data,))\n",
      "\u001b[34m\u001b[1mwandb\u001b[0m: \u001b[32m\u001b[41mERROR\u001b[0m     File \"/home/kervin/miniforge3/envs/tf/lib/python3.9/site-packages/keras/src/engine/training.py\", line 1303, in run_step\n",
      "\u001b[34m\u001b[1mwandb\u001b[0m: \u001b[32m\u001b[41mERROR\u001b[0m       outputs = model.train_step(data)\n",
      "\u001b[34m\u001b[1mwandb\u001b[0m: \u001b[32m\u001b[41mERROR\u001b[0m     File \"/home/kervin/miniforge3/envs/tf/lib/python3.9/site-packages/keras/src/engine/training.py\", line 1080, in train_step\n",
      "\u001b[34m\u001b[1mwandb\u001b[0m: \u001b[32m\u001b[41mERROR\u001b[0m       y_pred = self(x, training=True)\n",
      "\u001b[34m\u001b[1mwandb\u001b[0m: \u001b[32m\u001b[41mERROR\u001b[0m     File \"/home/kervin/miniforge3/envs/tf/lib/python3.9/site-packages/keras/src/utils/traceback_utils.py\", line 65, in error_handler\n",
      "\u001b[34m\u001b[1mwandb\u001b[0m: \u001b[32m\u001b[41mERROR\u001b[0m       return fn(*args, **kwargs)\n",
      "\u001b[34m\u001b[1mwandb\u001b[0m: \u001b[32m\u001b[41mERROR\u001b[0m     File \"/home/kervin/miniforge3/envs/tf/lib/python3.9/site-packages/keras/src/engine/training.py\", line 569, in __call__\n",
      "\u001b[34m\u001b[1mwandb\u001b[0m: \u001b[32m\u001b[41mERROR\u001b[0m       return super().__call__(*args, **kwargs)\n",
      "\u001b[34m\u001b[1mwandb\u001b[0m: \u001b[32m\u001b[41mERROR\u001b[0m     File \"/home/kervin/miniforge3/envs/tf/lib/python3.9/site-packages/keras/src/utils/traceback_utils.py\", line 65, in error_handler\n",
      "\u001b[34m\u001b[1mwandb\u001b[0m: \u001b[32m\u001b[41mERROR\u001b[0m       return fn(*args, **kwargs)\n",
      "\u001b[34m\u001b[1mwandb\u001b[0m: \u001b[32m\u001b[41mERROR\u001b[0m     File \"/home/kervin/miniforge3/envs/tf/lib/python3.9/site-packages/keras/src/engine/base_layer.py\", line 1150, in __call__\n",
      "\u001b[34m\u001b[1mwandb\u001b[0m: \u001b[32m\u001b[41mERROR\u001b[0m       outputs = call_fn(inputs, *args, **kwargs)\n",
      "\u001b[34m\u001b[1mwandb\u001b[0m: \u001b[32m\u001b[41mERROR\u001b[0m     File \"/home/kervin/miniforge3/envs/tf/lib/python3.9/site-packages/keras/src/utils/traceback_utils.py\", line 96, in error_handler\n",
      "\u001b[34m\u001b[1mwandb\u001b[0m: \u001b[32m\u001b[41mERROR\u001b[0m       return fn(*args, **kwargs)\n",
      "\u001b[34m\u001b[1mwandb\u001b[0m: \u001b[32m\u001b[41mERROR\u001b[0m     File \"/home/kervin/miniforge3/envs/tf/lib/python3.9/site-packages/keras/src/engine/sequential.py\", line 405, in call\n",
      "\u001b[34m\u001b[1mwandb\u001b[0m: \u001b[32m\u001b[41mERROR\u001b[0m       return super().call(inputs, training=training, mask=mask)\n",
      "\u001b[34m\u001b[1mwandb\u001b[0m: \u001b[32m\u001b[41mERROR\u001b[0m     File \"/home/kervin/miniforge3/envs/tf/lib/python3.9/site-packages/keras/src/engine/functional.py\", line 512, in call\n",
      "\u001b[34m\u001b[1mwandb\u001b[0m: \u001b[32m\u001b[41mERROR\u001b[0m       return self._run_internal_graph(inputs, training=training, mask=mask)\n",
      "\u001b[34m\u001b[1mwandb\u001b[0m: \u001b[32m\u001b[41mERROR\u001b[0m     File \"/home/kervin/miniforge3/envs/tf/lib/python3.9/site-packages/keras/src/engine/functional.py\", line 669, in _run_internal_graph\n",
      "\u001b[34m\u001b[1mwandb\u001b[0m: \u001b[32m\u001b[41mERROR\u001b[0m       outputs = node.layer(*args, **kwargs)\n",
      "\u001b[34m\u001b[1mwandb\u001b[0m: \u001b[32m\u001b[41mERROR\u001b[0m     File \"/home/kervin/miniforge3/envs/tf/lib/python3.9/site-packages/keras/src/utils/traceback_utils.py\", line 65, in error_handler\n",
      "\u001b[34m\u001b[1mwandb\u001b[0m: \u001b[32m\u001b[41mERROR\u001b[0m       return fn(*args, **kwargs)\n",
      "\u001b[34m\u001b[1mwandb\u001b[0m: \u001b[32m\u001b[41mERROR\u001b[0m     File \"/home/kervin/miniforge3/envs/tf/lib/python3.9/site-packages/keras/src/engine/base_layer.py\", line 1150, in __call__\n",
      "\u001b[34m\u001b[1mwandb\u001b[0m: \u001b[32m\u001b[41mERROR\u001b[0m       outputs = call_fn(inputs, *args, **kwargs)\n",
      "\u001b[34m\u001b[1mwandb\u001b[0m: \u001b[32m\u001b[41mERROR\u001b[0m     File \"/home/kervin/miniforge3/envs/tf/lib/python3.9/site-packages/keras/src/utils/traceback_utils.py\", line 96, in error_handler\n",
      "\u001b[34m\u001b[1mwandb\u001b[0m: \u001b[32m\u001b[41mERROR\u001b[0m       return fn(*args, **kwargs)\n",
      "\u001b[34m\u001b[1mwandb\u001b[0m: \u001b[32m\u001b[41mERROR\u001b[0m     File \"/home/kervin/miniforge3/envs/tf/lib/python3.9/site-packages/keras/src/layers/convolutional/base_conv.py\", line 321, in call\n",
      "\u001b[34m\u001b[1mwandb\u001b[0m: \u001b[32m\u001b[41mERROR\u001b[0m       return self.activation(outputs)\n",
      "\u001b[34m\u001b[1mwandb\u001b[0m: \u001b[32m\u001b[41mERROR\u001b[0m     File \"/home/kervin/miniforge3/envs/tf/lib/python3.9/site-packages/keras/src/activations.py\", line 321, in relu\n",
      "\u001b[34m\u001b[1mwandb\u001b[0m: \u001b[32m\u001b[41mERROR\u001b[0m       return backend.relu(\n",
      "\u001b[34m\u001b[1mwandb\u001b[0m: \u001b[32m\u001b[41mERROR\u001b[0m     File \"/home/kervin/miniforge3/envs/tf/lib/python3.9/site-packages/keras/src/backend.py\", line 5397, in relu\n",
      "\u001b[34m\u001b[1mwandb\u001b[0m: \u001b[32m\u001b[41mERROR\u001b[0m       x = tf.nn.relu(x)\n",
      "\u001b[34m\u001b[1mwandb\u001b[0m: \u001b[32m\u001b[41mERROR\u001b[0m Node: 'sequential/conv2d/Relu'\n",
      "\u001b[34m\u001b[1mwandb\u001b[0m: \u001b[32m\u001b[41mERROR\u001b[0m OOM when allocating tensor with shape[128,6,222,222] and type float on /job:localhost/replica:0/task:0/device:GPU:0 by allocator GPU_0_bfc\n",
      "\u001b[34m\u001b[1mwandb\u001b[0m: \u001b[32m\u001b[41mERROR\u001b[0m \t [[{{node sequential/conv2d/Relu}}]]\n",
      "\u001b[34m\u001b[1mwandb\u001b[0m: \u001b[32m\u001b[41mERROR\u001b[0m Hint: If you want to see a list of allocated tensors when OOM happens, add report_tensor_allocations_upon_oom to RunOptions for current allocation info. This isn't available when running in Eager mode.\n",
      "\u001b[34m\u001b[1mwandb\u001b[0m: \u001b[32m\u001b[41mERROR\u001b[0m  [Op:__inference_train_function_66461]\n",
      "\u001b[34m\u001b[1mwandb\u001b[0m: \u001b[32m\u001b[41mERROR\u001b[0m \n",
      "\u001b[34m\u001b[1mwandb\u001b[0m: Agent Starting Run: oryni0un with config:\n",
      "\u001b[34m\u001b[1mwandb\u001b[0m: \tdropout: 0.3644383080799164\n",
      "\u001b[34m\u001b[1mwandb\u001b[0m: \tim_size: 224\n",
      "\u001b[34m\u001b[1mwandb\u001b[0m: \tkernel_size: 3\n",
      "\u001b[34m\u001b[1mwandb\u001b[0m: \tlearning_rate: 0.0008962496047955668\n",
      "\u001b[34m\u001b[1mwandb\u001b[0m: \tn_dense_1: 16\n",
      "\u001b[34m\u001b[1mwandb\u001b[0m: \tn_dense_2: 32\n",
      "\u001b[34m\u001b[1mwandb\u001b[0m: \tn_epochs: 1\n",
      "\u001b[34m\u001b[1mwandb\u001b[0m: \tn_filters: 6\n",
      "\u001b[34m\u001b[1mwandb\u001b[0m: \tn_strides: 1\n",
      "\u001b[34m\u001b[1mwandb\u001b[0m: \tpool_size: 224\n",
      "\u001b[34m\u001b[1mwandb\u001b[0m: \tregularization_rate: 0.03147042499521412\n",
      "\u001b[34m\u001b[1mwandb\u001b[0m: \u001b[33mWARNING\u001b[0m Ignored wandb.init() arg project when running a sweep.\n",
      "\u001b[34m\u001b[1mwandb\u001b[0m: \u001b[33mWARNING\u001b[0m Ignored wandb.init() arg entity when running a sweep.\n"
     ]
    },
    {
     "data": {
      "application/vnd.jupyter.widget-view+json": {
       "model_id": "c4aea6aea840460587b23711285051c3",
       "version_major": 2,
       "version_minor": 0
      },
      "text/plain": [
       "VBox(children=(Label(value='Waiting for wandb.init()...\\r'), FloatProgress(value=0.011112119155546276, max=1.0…"
      ]
     },
     "metadata": {},
     "output_type": "display_data"
    },
    {
     "data": {
      "text/html": [
       "Tracking run with wandb version 0.16.6"
      ],
      "text/plain": [
       "<IPython.core.display.HTML object>"
      ]
     },
     "metadata": {},
     "output_type": "display_data"
    },
    {
     "data": {
      "text/html": [
       "Run data is saved locally in <code>/home/kervin/Coding/machine_learning/20_tensorflow_projects/wandb/run-20240414_033523-oryni0un</code>"
      ],
      "text/plain": [
       "<IPython.core.display.HTML object>"
      ]
     },
     "metadata": {},
     "output_type": "display_data"
    },
    {
     "data": {
      "text/html": [
       "Syncing run <strong><a href='https://wandb.ai/kervin5/Malaria-Detection/runs/oryni0un' target=\"_blank\">good-sweep-4</a></strong> to <a href='https://wandb.ai/kervin5/Malaria-Detection' target=\"_blank\">Weights & Biases</a> (<a href='https://wandb.me/run' target=\"_blank\">docs</a>)<br/>Sweep page: <a href='https://wandb.ai/kervin5/Malaria-Detection/sweeps/do7b6bjx' target=\"_blank\">https://wandb.ai/kervin5/Malaria-Detection/sweeps/do7b6bjx</a>"
      ],
      "text/plain": [
       "<IPython.core.display.HTML object>"
      ]
     },
     "metadata": {},
     "output_type": "display_data"
    },
    {
     "data": {
      "text/html": [
       " View project at <a href='https://wandb.ai/kervin5/Malaria-Detection' target=\"_blank\">https://wandb.ai/kervin5/Malaria-Detection</a>"
      ],
      "text/plain": [
       "<IPython.core.display.HTML object>"
      ]
     },
     "metadata": {},
     "output_type": "display_data"
    },
    {
     "data": {
      "text/html": [
       " View sweep at <a href='https://wandb.ai/kervin5/Malaria-Detection/sweeps/do7b6bjx' target=\"_blank\">https://wandb.ai/kervin5/Malaria-Detection/sweeps/do7b6bjx</a>"
      ],
      "text/plain": [
       "<IPython.core.display.HTML object>"
      ]
     },
     "metadata": {},
     "output_type": "display_data"
    },
    {
     "data": {
      "text/html": [
       " View run at <a href='https://wandb.ai/kervin5/Malaria-Detection/runs/oryni0un' target=\"_blank\">https://wandb.ai/kervin5/Malaria-Detection/runs/oryni0un</a>"
      ],
      "text/plain": [
       "<IPython.core.display.HTML object>"
      ]
     },
     "metadata": {},
     "output_type": "display_data"
    },
    {
     "name": "stderr",
     "output_type": "stream",
     "text": [
      "2024-04-14 03:35:28.563065: E tensorflow/core/grappler/optimizers/meta_optimizer.cc:954] layout failed: INVALID_ARGUMENT: Size of values 0 does not match size of permutation 4 @ fanin shape insequential/dropout/dropout/SelectV2-2-TransposeNHWCToNCHW-LayoutOptimizer\n",
      "2024-04-14 03:35:39.043250: W tensorflow/tsl/framework/bfc_allocator.cc:485] Allocator (GPU_0_bfc) ran out of memory trying to allocate 144.39MiB (rounded to 151400448)requested by op sequential/conv2d/Relu\n",
      "If the cause is memory fragmentation maybe the environment variable 'TF_GPU_ALLOCATOR=cuda_malloc_async' will improve the situation. \n",
      "Current allocation summary follows.\n",
      "Current allocation summary follows.\n",
      "2024-04-14 03:35:39.043274: I tensorflow/tsl/framework/bfc_allocator.cc:1039] BFCAllocator dump for GPU_0_bfc\n",
      "2024-04-14 03:35:39.043281: I tensorflow/tsl/framework/bfc_allocator.cc:1046] Bin (256): \tTotal Chunks: 347, Chunks in use: 346. 86.8KiB allocated for chunks. 86.5KiB in use in bin. 12.0KiB client-requested in use in bin.\n",
      "2024-04-14 03:35:39.043287: I tensorflow/tsl/framework/bfc_allocator.cc:1046] Bin (512): \tTotal Chunks: 63, Chunks in use: 63. 35.5KiB allocated for chunks. 35.5KiB in use in bin. 32.8KiB client-requested in use in bin.\n",
      "2024-04-14 03:35:39.043291: I tensorflow/tsl/framework/bfc_allocator.cc:1046] Bin (1024): \tTotal Chunks: 6, Chunks in use: 6. 6.2KiB allocated for chunks. 6.2KiB in use in bin. 5.0KiB client-requested in use in bin.\n",
      "2024-04-14 03:35:39.043294: I tensorflow/tsl/framework/bfc_allocator.cc:1046] Bin (2048): \tTotal Chunks: 18, Chunks in use: 18. 57.0KiB allocated for chunks. 57.0KiB in use in bin. 55.2KiB client-requested in use in bin.\n",
      "2024-04-14 03:35:39.043297: I tensorflow/tsl/framework/bfc_allocator.cc:1046] Bin (4096): \tTotal Chunks: 6, Chunks in use: 6. 24.5KiB allocated for chunks. 24.5KiB in use in bin. 24.0KiB client-requested in use in bin.\n",
      "2024-04-14 03:35:39.043301: I tensorflow/tsl/framework/bfc_allocator.cc:1046] Bin (8192): \tTotal Chunks: 3, Chunks in use: 3. 25.8KiB allocated for chunks. 25.8KiB in use in bin. 24.0KiB client-requested in use in bin.\n",
      "2024-04-14 03:35:39.043304: I tensorflow/tsl/framework/bfc_allocator.cc:1046] Bin (16384): \tTotal Chunks: 8, Chunks in use: 8. 183.5KiB allocated for chunks. 183.5KiB in use in bin. 158.2KiB client-requested in use in bin.\n",
      "2024-04-14 03:35:39.043308: I tensorflow/tsl/framework/bfc_allocator.cc:1046] Bin (32768): \tTotal Chunks: 0, Chunks in use: 0. 0B allocated for chunks. 0B in use in bin. 0B client-requested in use in bin.\n",
      "2024-04-14 03:35:39.043311: I tensorflow/tsl/framework/bfc_allocator.cc:1046] Bin (65536): \tTotal Chunks: 0, Chunks in use: 0. 0B allocated for chunks. 0B in use in bin. 0B client-requested in use in bin.\n",
      "2024-04-14 03:35:39.043315: I tensorflow/tsl/framework/bfc_allocator.cc:1046] Bin (131072): \tTotal Chunks: 1, Chunks in use: 0. 158.5KiB allocated for chunks. 0B in use in bin. 0B client-requested in use in bin.\n",
      "2024-04-14 03:35:39.043318: I tensorflow/tsl/framework/bfc_allocator.cc:1046] Bin (262144): \tTotal Chunks: 2, Chunks in use: 1. 795.5KiB allocated for chunks. 390.8KiB in use in bin. 390.6KiB client-requested in use in bin.\n",
      "2024-04-14 03:35:39.043321: I tensorflow/tsl/framework/bfc_allocator.cc:1046] Bin (524288): \tTotal Chunks: 0, Chunks in use: 0. 0B allocated for chunks. 0B in use in bin. 0B client-requested in use in bin.\n",
      "2024-04-14 03:35:39.043324: I tensorflow/tsl/framework/bfc_allocator.cc:1046] Bin (1048576): \tTotal Chunks: 0, Chunks in use: 0. 0B allocated for chunks. 0B in use in bin. 0B client-requested in use in bin.\n",
      "2024-04-14 03:35:39.043328: I tensorflow/tsl/framework/bfc_allocator.cc:1046] Bin (2097152): \tTotal Chunks: 7, Chunks in use: 7. 20.68MiB allocated for chunks. 20.68MiB in use in bin. 20.68MiB client-requested in use in bin.\n",
      "2024-04-14 03:35:39.043331: I tensorflow/tsl/framework/bfc_allocator.cc:1046] Bin (4194304): \tTotal Chunks: 3, Chunks in use: 3. 17.72MiB allocated for chunks. 17.72MiB in use in bin. 17.72MiB client-requested in use in bin.\n",
      "2024-04-14 03:35:39.043334: I tensorflow/tsl/framework/bfc_allocator.cc:1046] Bin (8388608): \tTotal Chunks: 0, Chunks in use: 0. 0B allocated for chunks. 0B in use in bin. 0B client-requested in use in bin.\n",
      "2024-04-14 03:35:39.043337: I tensorflow/tsl/framework/bfc_allocator.cc:1046] Bin (16777216): \tTotal Chunks: 3, Chunks in use: 3. 70.90MiB allocated for chunks. 70.90MiB in use in bin. 70.90MiB client-requested in use in bin.\n",
      "2024-04-14 03:35:39.043340: I tensorflow/tsl/framework/bfc_allocator.cc:1046] Bin (33554432): \tTotal Chunks: 0, Chunks in use: 0. 0B allocated for chunks. 0B in use in bin. 0B client-requested in use in bin.\n",
      "2024-04-14 03:35:39.043344: I tensorflow/tsl/framework/bfc_allocator.cc:1046] Bin (67108864): \tTotal Chunks: 2, Chunks in use: 2. 150.91MiB allocated for chunks. 150.91MiB in use in bin. 147.00MiB client-requested in use in bin.\n",
      "2024-04-14 03:35:39.043348: I tensorflow/tsl/framework/bfc_allocator.cc:1046] Bin (134217728): \tTotal Chunks: 3, Chunks in use: 2. 461.01MiB allocated for chunks. 322.37MiB in use in bin. 322.37MiB client-requested in use in bin.\n",
      "2024-04-14 03:35:39.043351: I tensorflow/tsl/framework/bfc_allocator.cc:1046] Bin (268435456): \tTotal Chunks: 0, Chunks in use: 0. 0B allocated for chunks. 0B in use in bin. 0B client-requested in use in bin.\n",
      "2024-04-14 03:35:39.043355: I tensorflow/tsl/framework/bfc_allocator.cc:1062] Bin for 144.39MiB was 128.00MiB, Chunk State: \n",
      "2024-04-14 03:35:39.043362: I tensorflow/tsl/framework/bfc_allocator.cc:1068]   Size: 138.64MiB | Requested Size: 0B | in_use: 0 | bin_num: 19, prev:   Size: 73.50MiB | Requested Size: 73.50MiB | in_use: 1 | bin_num: -1, next:   Size: 177.98MiB | Requested Size: 177.98MiB | in_use: 1 | bin_num: -1\n",
      "2024-04-14 03:35:39.043364: I tensorflow/tsl/framework/bfc_allocator.cc:1075] Next region of size 757661696\n",
      "2024-04-14 03:35:39.043368: I tensorflow/tsl/framework/bfc_allocator.cc:1095] InUse at 78dc18000000 of size 1280 next 1\n",
      "2024-04-14 03:35:39.043371: I tensorflow/tsl/framework/bfc_allocator.cc:1095] InUse at 78dc18000500 of size 256 next 2\n",
      "2024-04-14 03:35:39.043374: I tensorflow/tsl/framework/bfc_allocator.cc:1095] InUse at 78dc18000600 of size 256 next 3\n",
      "2024-04-14 03:35:39.043376: I tensorflow/tsl/framework/bfc_allocator.cc:1095] InUse at 78dc18000700 of size 256 next 4\n",
      "2024-04-14 03:35:39.043379: I tensorflow/tsl/framework/bfc_allocator.cc:1095] InUse at 78dc18000800 of size 256 next 5\n",
      "2024-04-14 03:35:39.043381: I tensorflow/tsl/framework/bfc_allocator.cc:1095] InUse at 78dc18000900 of size 256 next 6\n",
      "2024-04-14 03:35:39.043384: I tensorflow/tsl/framework/bfc_allocator.cc:1095] InUse at 78dc18000a00 of size 256 next 7\n",
      "2024-04-14 03:35:39.043387: I tensorflow/tsl/framework/bfc_allocator.cc:1095] InUse at 78dc18000b00 of size 256 next 8\n",
      "2024-04-14 03:35:39.043389: I tensorflow/tsl/framework/bfc_allocator.cc:1095] InUse at 78dc18000c00 of size 256 next 9\n",
      "2024-04-14 03:35:39.043392: I tensorflow/tsl/framework/bfc_allocator.cc:1095] InUse at 78dc18000d00 of size 256 next 10\n",
      "2024-04-14 03:35:39.043394: I tensorflow/tsl/framework/bfc_allocator.cc:1095] InUse at 78dc18000e00 of size 32000 next 88\n",
      "2024-04-14 03:35:39.043399: I tensorflow/tsl/framework/bfc_allocator.cc:1095] InUse at 78dc18008b00 of size 256 next 89\n",
      "2024-04-14 03:35:39.043402: I tensorflow/tsl/framework/bfc_allocator.cc:1095] InUse at 78dc18008c00 of size 256 next 14\n",
      "2024-04-14 03:35:39.043405: I tensorflow/tsl/framework/bfc_allocator.cc:1095] InUse at 78dc18008d00 of size 256 next 13\n",
      "2024-04-14 03:35:39.043407: I tensorflow/tsl/framework/bfc_allocator.cc:1095] InUse at 78dc18008e00 of size 256 next 112\n",
      "2024-04-14 03:35:39.043410: I tensorflow/tsl/framework/bfc_allocator.cc:1095] InUse at 78dc18008f00 of size 256 next 18\n",
      "2024-04-14 03:35:39.043413: I tensorflow/tsl/framework/bfc_allocator.cc:1095] Free  at 78dc18009000 of size 414464 next 111\n",
      "2024-04-14 03:35:39.043415: I tensorflow/tsl/framework/bfc_allocator.cc:1095] InUse at 78dc1806e300 of size 32000 next 17\n",
      "2024-04-14 03:35:39.043418: I tensorflow/tsl/framework/bfc_allocator.cc:1095] InUse at 78dc18076000 of size 256 next 19\n",
      "2024-04-14 03:35:39.043420: I tensorflow/tsl/framework/bfc_allocator.cc:1095] InUse at 78dc18076100 of size 256 next 15\n",
      "2024-04-14 03:35:39.043423: I tensorflow/tsl/framework/bfc_allocator.cc:1095] InUse at 78dc18076200 of size 256 next 16\n",
      "2024-04-14 03:35:39.043426: I tensorflow/tsl/framework/bfc_allocator.cc:1095] InUse at 78dc18076300 of size 256 next 21\n",
      "2024-04-14 03:35:39.043428: I tensorflow/tsl/framework/bfc_allocator.cc:1095] InUse at 78dc18076400 of size 256 next 20\n",
      "2024-04-14 03:35:39.043431: I tensorflow/tsl/framework/bfc_allocator.cc:1095] InUse at 78dc18076500 of size 256 next 22\n",
      "2024-04-14 03:35:39.043433: I tensorflow/tsl/framework/bfc_allocator.cc:1095] InUse at 78dc18076600 of size 256 next 24\n",
      "2024-04-14 03:35:39.043437: I tensorflow/tsl/framework/bfc_allocator.cc:1095] InUse at 78dc18076700 of size 256 next 25\n",
      "2024-04-14 03:35:39.043439: I tensorflow/tsl/framework/bfc_allocator.cc:1095] InUse at 78dc18076800 of size 256 next 23\n",
      "2024-04-14 03:35:39.043442: I tensorflow/tsl/framework/bfc_allocator.cc:1095] InUse at 78dc18076900 of size 256 next 26\n",
      "2024-04-14 03:35:39.043444: I tensorflow/tsl/framework/bfc_allocator.cc:1095] InUse at 78dc18076a00 of size 256 next 29\n",
      "2024-04-14 03:35:39.043447: I tensorflow/tsl/framework/bfc_allocator.cc:1095] InUse at 78dc18076b00 of size 256 next 30\n",
      "2024-04-14 03:35:39.043449: I tensorflow/tsl/framework/bfc_allocator.cc:1095] InUse at 78dc18076c00 of size 256 next 31\n",
      "2024-04-14 03:35:39.043452: I tensorflow/tsl/framework/bfc_allocator.cc:1095] InUse at 78dc18076d00 of size 256 next 32\n",
      "2024-04-14 03:35:39.043454: I tensorflow/tsl/framework/bfc_allocator.cc:1095] InUse at 78dc18076e00 of size 256 next 27\n",
      "2024-04-14 03:35:39.043457: I tensorflow/tsl/framework/bfc_allocator.cc:1095] InUse at 78dc18076f00 of size 768 next 28\n",
      "2024-04-14 03:35:39.043460: I tensorflow/tsl/framework/bfc_allocator.cc:1095] InUse at 78dc18077200 of size 256 next 34\n",
      "2024-04-14 03:35:39.043462: I tensorflow/tsl/framework/bfc_allocator.cc:1095] InUse at 78dc18077300 of size 256 next 35\n",
      "2024-04-14 03:35:39.043465: I tensorflow/tsl/framework/bfc_allocator.cc:1095] InUse at 78dc18077400 of size 256 next 33\n",
      "2024-04-14 03:35:39.043467: I tensorflow/tsl/framework/bfc_allocator.cc:1095] InUse at 78dc18077500 of size 256 next 36\n",
      "2024-04-14 03:35:39.043470: I tensorflow/tsl/framework/bfc_allocator.cc:1095] InUse at 78dc18077600 of size 256 next 39\n",
      "2024-04-14 03:35:39.043473: I tensorflow/tsl/framework/bfc_allocator.cc:1095] InUse at 78dc18077700 of size 256 next 41\n",
      "2024-04-14 03:35:39.043475: I tensorflow/tsl/framework/bfc_allocator.cc:1095] InUse at 78dc18077800 of size 256 next 42\n",
      "2024-04-14 03:35:39.043478: I tensorflow/tsl/framework/bfc_allocator.cc:1095] InUse at 78dc18077900 of size 256 next 56\n",
      "2024-04-14 03:35:39.043480: I tensorflow/tsl/framework/bfc_allocator.cc:1095] InUse at 78dc18077a00 of size 256 next 57\n",
      "2024-04-14 03:35:39.043483: I tensorflow/tsl/framework/bfc_allocator.cc:1095] InUse at 78dc18077b00 of size 256 next 58\n",
      "2024-04-14 03:35:39.043485: I tensorflow/tsl/framework/bfc_allocator.cc:1095] InUse at 78dc18077c00 of size 256 next 52\n",
      "2024-04-14 03:35:39.043488: I tensorflow/tsl/framework/bfc_allocator.cc:1095] InUse at 78dc18077d00 of size 256 next 59\n",
      "2024-04-14 03:35:39.043491: I tensorflow/tsl/framework/bfc_allocator.cc:1095] InUse at 78dc18077e00 of size 256 next 67\n",
      "2024-04-14 03:35:39.043493: I tensorflow/tsl/framework/bfc_allocator.cc:1095] InUse at 78dc18077f00 of size 256 next 68\n",
      "2024-04-14 03:35:39.043496: I tensorflow/tsl/framework/bfc_allocator.cc:1095] InUse at 78dc18078000 of size 256 next 71\n",
      "2024-04-14 03:35:39.043498: I tensorflow/tsl/framework/bfc_allocator.cc:1095] InUse at 78dc18078100 of size 768 next 47\n",
      "2024-04-14 03:35:39.043501: I tensorflow/tsl/framework/bfc_allocator.cc:1095] InUse at 78dc18078400 of size 1024 next 48\n",
      "2024-04-14 03:35:39.043504: I tensorflow/tsl/framework/bfc_allocator.cc:1095] InUse at 78dc18078800 of size 256 next 44\n",
      "2024-04-14 03:35:39.043506: I tensorflow/tsl/framework/bfc_allocator.cc:1095] InUse at 78dc18078900 of size 256 next 43\n",
      "2024-04-14 03:35:39.043509: I tensorflow/tsl/framework/bfc_allocator.cc:1095] InUse at 78dc18078a00 of size 256 next 46\n",
      "2024-04-14 03:35:39.043511: I tensorflow/tsl/framework/bfc_allocator.cc:1095] InUse at 78dc18078b00 of size 256 next 49\n",
      "2024-04-14 03:35:39.043514: I tensorflow/tsl/framework/bfc_allocator.cc:1095] InUse at 78dc18078c00 of size 256 next 50\n",
      "2024-04-14 03:35:39.043516: I tensorflow/tsl/framework/bfc_allocator.cc:1095] InUse at 78dc18078d00 of size 256 next 45\n",
      "2024-04-14 03:35:39.043519: I tensorflow/tsl/framework/bfc_allocator.cc:1095] InUse at 78dc18078e00 of size 256 next 51\n",
      "2024-04-14 03:35:39.043522: I tensorflow/tsl/framework/bfc_allocator.cc:1095] InUse at 78dc18078f00 of size 256 next 53\n",
      "2024-04-14 03:35:39.043525: I tensorflow/tsl/framework/bfc_allocator.cc:1095] InUse at 78dc18079000 of size 256 next 37\n",
      "2024-04-14 03:35:39.043528: I tensorflow/tsl/framework/bfc_allocator.cc:1095] InUse at 78dc18079100 of size 3584 next 38\n",
      "2024-04-14 03:35:39.043530: I tensorflow/tsl/framework/bfc_allocator.cc:1095] InUse at 78dc18079f00 of size 4096 next 64\n",
      "2024-04-14 03:35:39.043533: I tensorflow/tsl/framework/bfc_allocator.cc:1095] InUse at 78dc1807af00 of size 256 next 77\n",
      "2024-04-14 03:35:39.043536: I tensorflow/tsl/framework/bfc_allocator.cc:1095] InUse at 78dc1807b000 of size 256 next 72\n",
      "2024-04-14 03:35:39.043538: I tensorflow/tsl/framework/bfc_allocator.cc:1095] InUse at 78dc1807b100 of size 512 next 69\n",
      "2024-04-14 03:35:39.043541: I tensorflow/tsl/framework/bfc_allocator.cc:1095] InUse at 78dc1807b300 of size 512 next 70\n",
      "2024-04-14 03:35:39.043544: I tensorflow/tsl/framework/bfc_allocator.cc:1095] InUse at 78dc1807b500 of size 512 next 73\n",
      "2024-04-14 03:35:39.043546: I tensorflow/tsl/framework/bfc_allocator.cc:1095] InUse at 78dc1807b700 of size 512 next 76\n",
      "2024-04-14 03:35:39.043549: I tensorflow/tsl/framework/bfc_allocator.cc:1095] InUse at 78dc1807b900 of size 256 next 81\n",
      "2024-04-14 03:35:39.043551: I tensorflow/tsl/framework/bfc_allocator.cc:1095] InUse at 78dc1807ba00 of size 256 next 80\n",
      "2024-04-14 03:35:39.043554: I tensorflow/tsl/framework/bfc_allocator.cc:1095] InUse at 78dc1807bb00 of size 256 next 82\n",
      "2024-04-14 03:35:39.043557: I tensorflow/tsl/framework/bfc_allocator.cc:1095] InUse at 78dc1807bc00 of size 256 next 40\n",
      "2024-04-14 03:35:39.043559: I tensorflow/tsl/framework/bfc_allocator.cc:1095] InUse at 78dc1807bd00 of size 256 next 78\n",
      "2024-04-14 03:35:39.043562: I tensorflow/tsl/framework/bfc_allocator.cc:1095] InUse at 78dc1807be00 of size 256 next 79\n",
      "2024-04-14 03:35:39.043564: I tensorflow/tsl/framework/bfc_allocator.cc:1095] InUse at 78dc1807bf00 of size 256 next 84\n",
      "2024-04-14 03:35:39.043567: I tensorflow/tsl/framework/bfc_allocator.cc:1095] InUse at 78dc1807c000 of size 256 next 85\n",
      "2024-04-14 03:35:39.043569: I tensorflow/tsl/framework/bfc_allocator.cc:1095] InUse at 78dc1807c100 of size 256 next 86\n",
      "2024-04-14 03:35:39.043572: I tensorflow/tsl/framework/bfc_allocator.cc:1095] InUse at 78dc1807c200 of size 256 next 54\n",
      "2024-04-14 03:35:39.043575: I tensorflow/tsl/framework/bfc_allocator.cc:1095] InUse at 78dc1807c300 of size 4608 next 55\n",
      "2024-04-14 03:35:39.043577: I tensorflow/tsl/framework/bfc_allocator.cc:1095] InUse at 78dc1807d500 of size 4096 next 60\n",
      "2024-04-14 03:35:39.043580: I tensorflow/tsl/framework/bfc_allocator.cc:1095] InUse at 78dc1807e500 of size 4096 next 61\n",
      "2024-04-14 03:35:39.043583: I tensorflow/tsl/framework/bfc_allocator.cc:1095] InUse at 78dc1807f500 of size 4096 next 63\n",
      "2024-04-14 03:35:39.043585: I tensorflow/tsl/framework/bfc_allocator.cc:1095] InUse at 78dc18080500 of size 4096 next 66\n",
      "2024-04-14 03:35:39.043588: I tensorflow/tsl/framework/bfc_allocator.cc:1095] InUse at 78dc18081500 of size 512 next 83\n",
      "2024-04-14 03:35:39.043590: I tensorflow/tsl/framework/bfc_allocator.cc:1095] InUse at 78dc18081700 of size 256 next 87\n",
      "2024-04-14 03:35:39.043593: I tensorflow/tsl/framework/bfc_allocator.cc:1095] InUse at 78dc18081800 of size 1024 next 90\n",
      "2024-04-14 03:35:39.043596: I tensorflow/tsl/framework/bfc_allocator.cc:1095] InUse at 78dc18081c00 of size 1024 next 94\n",
      "2024-04-14 03:35:39.043598: I tensorflow/tsl/framework/bfc_allocator.cc:1095] InUse at 78dc18082000 of size 1024 next 93\n",
      "2024-04-14 03:35:39.043601: I tensorflow/tsl/framework/bfc_allocator.cc:1095] InUse at 78dc18082400 of size 1024 next 92\n",
      "2024-04-14 03:35:39.043603: I tensorflow/tsl/framework/bfc_allocator.cc:1095] InUse at 78dc18082800 of size 256 next 91\n",
      "2024-04-14 03:35:39.043606: I tensorflow/tsl/framework/bfc_allocator.cc:1095] InUse at 78dc18082900 of size 256 next 95\n",
      "2024-04-14 03:35:39.043609: I tensorflow/tsl/framework/bfc_allocator.cc:1095] InUse at 78dc18082a00 of size 256 next 97\n",
      "2024-04-14 03:35:39.043611: I tensorflow/tsl/framework/bfc_allocator.cc:1095] InUse at 78dc18082b00 of size 256 next 98\n",
      "2024-04-14 03:35:39.043614: I tensorflow/tsl/framework/bfc_allocator.cc:1095] InUse at 78dc18082c00 of size 256 next 96\n",
      "2024-04-14 03:35:39.043617: I tensorflow/tsl/framework/bfc_allocator.cc:1095] InUse at 78dc18082d00 of size 256 next 99\n",
      "2024-04-14 03:35:39.043620: I tensorflow/tsl/framework/bfc_allocator.cc:1095] InUse at 78dc18082e00 of size 256 next 102\n",
      "2024-04-14 03:35:39.043622: I tensorflow/tsl/framework/bfc_allocator.cc:1095] InUse at 78dc18082f00 of size 256 next 105\n",
      "2024-04-14 03:35:39.043625: I tensorflow/tsl/framework/bfc_allocator.cc:1095] InUse at 78dc18083000 of size 256 next 103\n",
      "2024-04-14 03:35:39.043627: I tensorflow/tsl/framework/bfc_allocator.cc:1095] InUse at 78dc18083100 of size 256 next 104\n",
      "2024-04-14 03:35:39.043630: I tensorflow/tsl/framework/bfc_allocator.cc:1095] InUse at 78dc18083200 of size 256 next 100\n",
      "2024-04-14 03:35:39.043633: I tensorflow/tsl/framework/bfc_allocator.cc:1095] InUse at 78dc18083300 of size 768 next 101\n",
      "2024-04-14 03:35:39.043635: I tensorflow/tsl/framework/bfc_allocator.cc:1095] InUse at 78dc18083600 of size 256 next 108\n",
      "2024-04-14 03:35:39.043638: I tensorflow/tsl/framework/bfc_allocator.cc:1095] InUse at 78dc18083700 of size 256 next 109\n",
      "2024-04-14 03:35:39.043640: I tensorflow/tsl/framework/bfc_allocator.cc:1095] InUse at 78dc18083800 of size 256 next 110\n",
      "2024-04-14 03:35:39.043643: I tensorflow/tsl/framework/bfc_allocator.cc:1095] InUse at 78dc18083900 of size 256 next 115\n",
      "2024-04-14 03:35:39.043645: I tensorflow/tsl/framework/bfc_allocator.cc:1095] InUse at 78dc18083a00 of size 256 next 113\n",
      "2024-04-14 03:35:39.043648: I tensorflow/tsl/framework/bfc_allocator.cc:1095] InUse at 78dc18083b00 of size 256 next 114\n",
      "2024-04-14 03:35:39.043651: I tensorflow/tsl/framework/bfc_allocator.cc:1095] InUse at 78dc18083c00 of size 256 next 118\n",
      "2024-04-14 03:35:39.043653: I tensorflow/tsl/framework/bfc_allocator.cc:1095] InUse at 78dc18083d00 of size 256 next 119\n",
      "2024-04-14 03:35:39.043656: I tensorflow/tsl/framework/bfc_allocator.cc:1095] InUse at 78dc18083e00 of size 256 next 120\n",
      "2024-04-14 03:35:39.043658: I tensorflow/tsl/framework/bfc_allocator.cc:1095] InUse at 78dc18083f00 of size 256 next 121\n",
      "2024-04-14 03:35:39.043661: I tensorflow/tsl/framework/bfc_allocator.cc:1095] InUse at 78dc18084000 of size 512 next 124\n",
      "2024-04-14 03:35:39.043663: I tensorflow/tsl/framework/bfc_allocator.cc:1095] InUse at 78dc18084200 of size 512 next 122\n",
      "2024-04-14 03:35:39.043666: I tensorflow/tsl/framework/bfc_allocator.cc:1095] InUse at 78dc18084400 of size 512 next 123\n",
      "2024-04-14 03:35:39.043669: I tensorflow/tsl/framework/bfc_allocator.cc:1095] InUse at 78dc18084600 of size 512 next 125\n",
      "2024-04-14 03:35:39.043671: I tensorflow/tsl/framework/bfc_allocator.cc:1095] InUse at 78dc18084800 of size 512 next 127\n",
      "2024-04-14 03:35:39.043674: I tensorflow/tsl/framework/bfc_allocator.cc:1095] InUse at 78dc18084a00 of size 256 next 128\n",
      "2024-04-14 03:35:39.043676: I tensorflow/tsl/framework/bfc_allocator.cc:1095] InUse at 78dc18084b00 of size 256 next 129\n",
      "2024-04-14 03:35:39.043679: I tensorflow/tsl/framework/bfc_allocator.cc:1095] InUse at 78dc18084c00 of size 256 next 131\n",
      "2024-04-14 03:35:39.043681: I tensorflow/tsl/framework/bfc_allocator.cc:1095] InUse at 78dc18084d00 of size 256 next 130\n",
      "2024-04-14 03:35:39.043685: I tensorflow/tsl/framework/bfc_allocator.cc:1095] InUse at 78dc18084e00 of size 256 next 134\n",
      "2024-04-14 03:35:39.043687: I tensorflow/tsl/framework/bfc_allocator.cc:1095] InUse at 78dc18084f00 of size 256 next 132\n",
      "2024-04-14 03:35:39.043690: I tensorflow/tsl/framework/bfc_allocator.cc:1095] InUse at 78dc18085000 of size 512 next 107\n",
      "2024-04-14 03:35:39.043692: I tensorflow/tsl/framework/bfc_allocator.cc:1095] InUse at 78dc18085200 of size 3584 next 106\n",
      "2024-04-14 03:35:39.043695: I tensorflow/tsl/framework/bfc_allocator.cc:1095] InUse at 78dc18086000 of size 256 next 133\n",
      "2024-04-14 03:35:39.043698: I tensorflow/tsl/framework/bfc_allocator.cc:1095] InUse at 78dc18086100 of size 256 next 135\n",
      "2024-04-14 03:35:39.043701: I tensorflow/tsl/framework/bfc_allocator.cc:1095] InUse at 78dc18086200 of size 256 next 136\n",
      "2024-04-14 03:35:39.043703: I tensorflow/tsl/framework/bfc_allocator.cc:1095] InUse at 78dc18086300 of size 256 next 137\n",
      "2024-04-14 03:35:39.043706: I tensorflow/tsl/framework/bfc_allocator.cc:1095] InUse at 78dc18086400 of size 256 next 138\n",
      "2024-04-14 03:35:39.043709: I tensorflow/tsl/framework/bfc_allocator.cc:1095] InUse at 78dc18086500 of size 768 next 139\n",
      "2024-04-14 03:35:39.043711: I tensorflow/tsl/framework/bfc_allocator.cc:1095] InUse at 78dc18086800 of size 256 next 140\n",
      "2024-04-14 03:35:39.043714: I tensorflow/tsl/framework/bfc_allocator.cc:1095] InUse at 78dc18086900 of size 256 next 141\n",
      "2024-04-14 03:35:39.043716: I tensorflow/tsl/framework/bfc_allocator.cc:1095] InUse at 78dc18086a00 of size 256 next 142\n",
      "2024-04-14 03:35:39.043719: I tensorflow/tsl/framework/bfc_allocator.cc:1095] InUse at 78dc18086b00 of size 3584 next 143\n",
      "2024-04-14 03:35:39.043721: I tensorflow/tsl/framework/bfc_allocator.cc:1095] InUse at 78dc18087900 of size 256 next 144\n",
      "2024-04-14 03:35:39.043724: I tensorflow/tsl/framework/bfc_allocator.cc:1095] InUse at 78dc18087a00 of size 256 next 145\n",
      "2024-04-14 03:35:39.043726: I tensorflow/tsl/framework/bfc_allocator.cc:1095] InUse at 78dc18087b00 of size 256 next 146\n",
      "2024-04-14 03:35:39.043729: I tensorflow/tsl/framework/bfc_allocator.cc:1095] InUse at 78dc18087c00 of size 256 next 148\n",
      "2024-04-14 03:35:39.043732: I tensorflow/tsl/framework/bfc_allocator.cc:1095] InUse at 78dc18087d00 of size 256 next 149\n",
      "2024-04-14 03:35:39.043734: I tensorflow/tsl/framework/bfc_allocator.cc:1095] InUse at 78dc18087e00 of size 256 next 150\n",
      "2024-04-14 03:35:39.043737: I tensorflow/tsl/framework/bfc_allocator.cc:1095] InUse at 78dc18087f00 of size 24832 next 126\n",
      "2024-04-14 03:35:39.043740: I tensorflow/tsl/framework/bfc_allocator.cc:1095] InUse at 78dc1808e000 of size 24064 next 11\n",
      "2024-04-14 03:35:39.043742: I tensorflow/tsl/framework/bfc_allocator.cc:1095] InUse at 78dc18093e00 of size 256 next 12\n",
      "2024-04-14 03:35:39.043745: I tensorflow/tsl/framework/bfc_allocator.cc:1095] InUse at 78dc18093f00 of size 151400448 next 463\n",
      "2024-04-14 03:35:39.043748: I tensorflow/tsl/framework/bfc_allocator.cc:1095] InUse at 78dc210f6f00 of size 77070336 next 464\n",
      "2024-04-14 03:35:39.043750: I tensorflow/tsl/framework/bfc_allocator.cc:1095] Free  at 78dc25a76f00 of size 145379328 next 65\n",
      "2024-04-14 03:35:39.043753: I tensorflow/tsl/framework/bfc_allocator.cc:1095] InUse at 78dc2e51bf00 of size 186624000 next 62\n",
      "2024-04-14 03:35:39.043756: I tensorflow/tsl/framework/bfc_allocator.cc:1095] InUse at 78dc39716700 of size 512 next 151\n",
      "2024-04-14 03:35:39.043758: I tensorflow/tsl/framework/bfc_allocator.cc:1095] InUse at 78dc39716900 of size 512 next 152\n",
      "2024-04-14 03:35:39.043761: I tensorflow/tsl/framework/bfc_allocator.cc:1095] InUse at 78dc39716b00 of size 512 next 153\n",
      "2024-04-14 03:35:39.043764: I tensorflow/tsl/framework/bfc_allocator.cc:1095] InUse at 78dc39716d00 of size 512 next 154\n",
      "2024-04-14 03:35:39.043766: I tensorflow/tsl/framework/bfc_allocator.cc:1095] InUse at 78dc39716f00 of size 256 next 155\n",
      "2024-04-14 03:35:39.043769: I tensorflow/tsl/framework/bfc_allocator.cc:1095] InUse at 78dc39717000 of size 768 next 156\n",
      "2024-04-14 03:35:39.043771: I tensorflow/tsl/framework/bfc_allocator.cc:1095] InUse at 78dc39717300 of size 256 next 157\n",
      "2024-04-14 03:35:39.043774: I tensorflow/tsl/framework/bfc_allocator.cc:1095] InUse at 78dc39717400 of size 256 next 158\n",
      "2024-04-14 03:35:39.043777: I tensorflow/tsl/framework/bfc_allocator.cc:1095] InUse at 78dc39717500 of size 256 next 159\n",
      "2024-04-14 03:35:39.043779: I tensorflow/tsl/framework/bfc_allocator.cc:1095] InUse at 78dc39717600 of size 3584 next 160\n",
      "2024-04-14 03:35:39.043782: I tensorflow/tsl/framework/bfc_allocator.cc:1095] InUse at 78dc39718400 of size 256 next 161\n",
      "2024-04-14 03:35:39.043784: I tensorflow/tsl/framework/bfc_allocator.cc:1095] InUse at 78dc39718500 of size 256 next 162\n",
      "2024-04-14 03:35:39.043788: I tensorflow/tsl/framework/bfc_allocator.cc:1095] InUse at 78dc39718600 of size 256 next 163\n",
      "2024-04-14 03:35:39.043790: I tensorflow/tsl/framework/bfc_allocator.cc:1095] InUse at 78dc39718700 of size 256 next 164\n",
      "2024-04-14 03:35:39.043793: I tensorflow/tsl/framework/bfc_allocator.cc:1095] InUse at 78dc39718800 of size 256 next 165\n",
      "2024-04-14 03:35:39.043795: I tensorflow/tsl/framework/bfc_allocator.cc:1095] InUse at 78dc39718900 of size 256 next 166\n",
      "2024-04-14 03:35:39.043798: I tensorflow/tsl/framework/bfc_allocator.cc:1095] InUse at 78dc39718a00 of size 16384 next 167\n",
      "2024-04-14 03:35:39.043801: I tensorflow/tsl/framework/bfc_allocator.cc:1095] InUse at 78dc3971ca00 of size 512 next 168\n",
      "2024-04-14 03:35:39.043803: I tensorflow/tsl/framework/bfc_allocator.cc:1095] InUse at 78dc3971cc00 of size 512 next 169\n",
      "2024-04-14 03:35:39.043806: I tensorflow/tsl/framework/bfc_allocator.cc:1095] InUse at 78dc3971ce00 of size 512 next 170\n",
      "2024-04-14 03:35:39.043808: I tensorflow/tsl/framework/bfc_allocator.cc:1095] InUse at 78dc3971d000 of size 512 next 171\n",
      "2024-04-14 03:35:39.043811: I tensorflow/tsl/framework/bfc_allocator.cc:1095] InUse at 78dc3971d200 of size 256 next 172\n",
      "2024-04-14 03:35:39.043814: I tensorflow/tsl/framework/bfc_allocator.cc:1095] InUse at 78dc3971d300 of size 256 next 173\n",
      "2024-04-14 03:35:39.043816: I tensorflow/tsl/framework/bfc_allocator.cc:1095] InUse at 78dc3971d400 of size 256 next 174\n",
      "2024-04-14 03:35:39.043819: I tensorflow/tsl/framework/bfc_allocator.cc:1095] InUse at 78dc3971d500 of size 256 next 175\n",
      "2024-04-14 03:35:39.043821: I tensorflow/tsl/framework/bfc_allocator.cc:1095] InUse at 78dc3971d600 of size 256 next 176\n",
      "2024-04-14 03:35:39.043824: I tensorflow/tsl/framework/bfc_allocator.cc:1095] InUse at 78dc3971d700 of size 256 next 177\n",
      "2024-04-14 03:35:39.043826: I tensorflow/tsl/framework/bfc_allocator.cc:1095] InUse at 78dc3971d800 of size 256 next 178\n",
      "2024-04-14 03:35:39.043829: I tensorflow/tsl/framework/bfc_allocator.cc:1095] InUse at 78dc3971d900 of size 256 next 179\n",
      "2024-04-14 03:35:39.043832: I tensorflow/tsl/framework/bfc_allocator.cc:1095] InUse at 78dc3971da00 of size 256 next 180\n",
      "2024-04-14 03:35:39.043834: I tensorflow/tsl/framework/bfc_allocator.cc:1095] InUse at 78dc3971db00 of size 256 next 181\n",
      "2024-04-14 03:35:39.043837: I tensorflow/tsl/framework/bfc_allocator.cc:1095] InUse at 78dc3971dc00 of size 256 next 182\n",
      "2024-04-14 03:35:39.043839: I tensorflow/tsl/framework/bfc_allocator.cc:1095] InUse at 78dc3971dd00 of size 256 next 183\n",
      "2024-04-14 03:35:39.043842: I tensorflow/tsl/framework/bfc_allocator.cc:1095] InUse at 78dc3971de00 of size 256 next 184\n",
      "2024-04-14 03:35:39.043844: I tensorflow/tsl/framework/bfc_allocator.cc:1095] InUse at 78dc3971df00 of size 256 next 185\n",
      "2024-04-14 03:35:39.043847: I tensorflow/tsl/framework/bfc_allocator.cc:1095] InUse at 78dc3971e000 of size 256 next 186\n",
      "2024-04-14 03:35:39.043849: I tensorflow/tsl/framework/bfc_allocator.cc:1095] InUse at 78dc3971e100 of size 256 next 187\n",
      "2024-04-14 03:35:39.043852: I tensorflow/tsl/framework/bfc_allocator.cc:1095] InUse at 78dc3971e200 of size 256 next 188\n",
      "2024-04-14 03:35:39.043855: I tensorflow/tsl/framework/bfc_allocator.cc:1095] InUse at 78dc3971e300 of size 256 next 189\n",
      "2024-04-14 03:35:39.043857: I tensorflow/tsl/framework/bfc_allocator.cc:1095] InUse at 78dc3971e400 of size 256 next 203\n",
      "2024-04-14 03:35:39.043860: I tensorflow/tsl/framework/bfc_allocator.cc:1095] InUse at 78dc3971e500 of size 256 next 190\n",
      "2024-04-14 03:35:39.043862: I tensorflow/tsl/framework/bfc_allocator.cc:1095] InUse at 78dc3971e600 of size 256 next 201\n",
      "2024-04-14 03:35:39.043865: I tensorflow/tsl/framework/bfc_allocator.cc:1095] InUse at 78dc3971e700 of size 256 next 205\n",
      "2024-04-14 03:35:39.043867: I tensorflow/tsl/framework/bfc_allocator.cc:1095] InUse at 78dc3971e800 of size 256 next 204\n",
      "2024-04-14 03:35:39.043870: I tensorflow/tsl/framework/bfc_allocator.cc:1095] InUse at 78dc3971e900 of size 256 next 191\n",
      "2024-04-14 03:35:39.043873: I tensorflow/tsl/framework/bfc_allocator.cc:1095] InUse at 78dc3971ea00 of size 256 next 207\n",
      "2024-04-14 03:35:39.043876: I tensorflow/tsl/framework/bfc_allocator.cc:1095] InUse at 78dc3971eb00 of size 256 next 208\n",
      "2024-04-14 03:35:39.043878: I tensorflow/tsl/framework/bfc_allocator.cc:1095] InUse at 78dc3971ec00 of size 256 next 206\n",
      "2024-04-14 03:35:39.043881: I tensorflow/tsl/framework/bfc_allocator.cc:1095] InUse at 78dc3971ed00 of size 768 next 200\n",
      "2024-04-14 03:35:39.043884: I tensorflow/tsl/framework/bfc_allocator.cc:1095] InUse at 78dc3971f000 of size 256 next 199\n",
      "2024-04-14 03:35:39.043887: I tensorflow/tsl/framework/bfc_allocator.cc:1095] InUse at 78dc3971f100 of size 256 next 195\n",
      "2024-04-14 03:35:39.043889: I tensorflow/tsl/framework/bfc_allocator.cc:1095] InUse at 78dc3971f200 of size 256 next 197\n",
      "2024-04-14 03:35:39.043892: I tensorflow/tsl/framework/bfc_allocator.cc:1095] InUse at 78dc3971f300 of size 512 next 210\n",
      "2024-04-14 03:35:39.043894: I tensorflow/tsl/framework/bfc_allocator.cc:1095] InUse at 78dc3971f500 of size 512 next 193\n",
      "2024-04-14 03:35:39.043898: I tensorflow/tsl/framework/bfc_allocator.cc:1095] InUse at 78dc3971f700 of size 512 next 194\n",
      "2024-04-14 03:35:39.043900: I tensorflow/tsl/framework/bfc_allocator.cc:1095] InUse at 78dc3971f900 of size 512 next 202\n",
      "2024-04-14 03:35:39.043903: I tensorflow/tsl/framework/bfc_allocator.cc:1095] InUse at 78dc3971fb00 of size 512 next 209\n",
      "2024-04-14 03:35:39.043905: I tensorflow/tsl/framework/bfc_allocator.cc:1095] InUse at 78dc3971fd00 of size 256 next 214\n",
      "2024-04-14 03:35:39.043908: I tensorflow/tsl/framework/bfc_allocator.cc:1095] InUse at 78dc3971fe00 of size 256 next 212\n",
      "2024-04-14 03:35:39.043910: I tensorflow/tsl/framework/bfc_allocator.cc:1095] InUse at 78dc3971ff00 of size 256 next 213\n",
      "2024-04-14 03:35:39.043913: I tensorflow/tsl/framework/bfc_allocator.cc:1095] InUse at 78dc39720000 of size 256 next 217\n",
      "2024-04-14 03:35:39.043915: I tensorflow/tsl/framework/bfc_allocator.cc:1095] InUse at 78dc39720100 of size 256 next 218\n",
      "2024-04-14 03:35:39.043918: I tensorflow/tsl/framework/bfc_allocator.cc:1095] InUse at 78dc39720200 of size 256 next 219\n",
      "2024-04-14 03:35:39.043921: I tensorflow/tsl/framework/bfc_allocator.cc:1095] InUse at 78dc39720300 of size 256 next 220\n",
      "2024-04-14 03:35:39.043923: I tensorflow/tsl/framework/bfc_allocator.cc:1095] InUse at 78dc39720400 of size 256 next 222\n",
      "2024-04-14 03:35:39.043926: I tensorflow/tsl/framework/bfc_allocator.cc:1095] InUse at 78dc39720500 of size 256 next 221\n",
      "2024-04-14 03:35:39.043928: I tensorflow/tsl/framework/bfc_allocator.cc:1095] InUse at 78dc39720600 of size 256 next 223\n",
      "2024-04-14 03:35:39.043931: I tensorflow/tsl/framework/bfc_allocator.cc:1095] InUse at 78dc39720700 of size 256 next 224\n",
      "2024-04-14 03:35:39.043933: I tensorflow/tsl/framework/bfc_allocator.cc:1095] InUse at 78dc39720800 of size 256 next 225\n",
      "2024-04-14 03:35:39.043936: I tensorflow/tsl/framework/bfc_allocator.cc:1095] InUse at 78dc39720900 of size 256 next 226\n",
      "2024-04-14 03:35:39.043938: I tensorflow/tsl/framework/bfc_allocator.cc:1095] InUse at 78dc39720a00 of size 256 next 228\n",
      "2024-04-14 03:35:39.043941: I tensorflow/tsl/framework/bfc_allocator.cc:1095] InUse at 78dc39720b00 of size 256 next 198\n",
      "2024-04-14 03:35:39.043944: I tensorflow/tsl/framework/bfc_allocator.cc:1095] InUse at 78dc39720c00 of size 3584 next 192\n",
      "2024-04-14 03:35:39.043946: I tensorflow/tsl/framework/bfc_allocator.cc:1095] InUse at 78dc39721a00 of size 768 next 227\n",
      "2024-04-14 03:35:39.043949: I tensorflow/tsl/framework/bfc_allocator.cc:1095] InUse at 78dc39721d00 of size 256 next 229\n",
      "2024-04-14 03:35:39.043951: I tensorflow/tsl/framework/bfc_allocator.cc:1095] InUse at 78dc39721e00 oTraceback (most recent call last):\n",
      "  File \"/tmp/ipykernel_19536/3935950760.py\", line 9, in train\n",
      "    model.fit(val_dataset, epochs=config.n_epochs, callbacks=[WandbCallback()])\n",
      "  File \"/home/kervin/miniforge3/envs/tf/lib/python3.9/site-packages/keras/src/utils/traceback_utils.py\", line 70, in error_handler\n",
      "    raise e.with_traceback(filtered_tb) from None\n",
      "  File \"/home/kervin/miniforge3/envs/tf/lib/python3.9/site-packages/tensorflow/python/eager/execute.py\", line 53, in quick_execute\n",
      "    tensors = pywrap_tfe.TFE_Py_Execute(ctx._handle, device_name, op_name,\n",
      "tensorflow.python.framework.errors_impl.ResourceExhaustedError: Graph execution error:\n",
      "\n",
      "Detected at node 'sequential/conv2d/Relu' defined at (most recent call last):\n",
      "    File \"/home/kervin/miniforge3/envs/tf/lib/python3.9/threading.py\", line 937, in _bootstrap\n",
      "      self._bootstrap_inner()\n",
      "    File \"/home/kervin/miniforge3/envs/tf/lib/python3.9/threading.py\", line 980, in _bootstrap_inner\n",
      "      self.run()\n",
      "    File \"/home/kervin/miniforge3/envs/tf/lib/python3.9/site-packages/ipykernel/ipkernel.py\", line 761, in run_closure\n",
      "      _threading_Thread_run(self)\n",
      "    File \"/home/kervin/miniforge3/envs/tf/lib/python3.9/threading.py\", line 917, in run\n",
      "      self._target(*self._args, **self._kwargs)\n",
      "    File \"/home/kervin/miniforge3/envs/tf/lib/python3.9/site-packages/wandb/agents/pyagent.py\", line 308, in _run_job\n",
      "      self._function()\n",
      "    File \"/tmp/ipykernel_19536/3935950760.py\", line 9, in train\n",
      "      model.fit(val_dataset, epochs=config.n_epochs, callbacks=[WandbCallback()])\n",
      "    File \"/home/kervin/miniforge3/envs/tf/lib/python3.9/site-packages/keras/src/utils/traceback_utils.py\", line 65, in error_handler\n",
      "      return fn(*args, **kwargs)\n",
      "    File \"/home/kervin/miniforge3/envs/tf/lib/python3.9/site-packages/keras/src/engine/training.py\", line 1742, in fit\n",
      "      tmp_logs = self.train_function(iterator)\n",
      "    File \"/home/kervin/miniforge3/envs/tf/lib/python3.9/site-packages/keras/src/engine/training.py\", line 1338, in train_function\n",
      "      return step_function(self, iterator)\n",
      "    File \"/home/kervin/miniforge3/envs/tf/lib/python3.9/site-packages/keras/src/engine/training.py\", line 1322, in step_function\n",
      "      outputs = model.distribute_strategy.run(run_step, args=(data,))\n",
      "    File \"/home/kervin/miniforge3/envs/tf/lib/python3.9/site-packages/keras/src/engine/training.py\", line 1303, in run_step\n",
      "      outputs = model.train_step(data)\n",
      "    File \"/home/kervin/miniforge3/envs/tf/lib/python3.9/site-packages/keras/src/engine/training.py\", line 1080, in train_step\n",
      "      y_pred = self(x, training=True)\n",
      "    File \"/home/kervin/miniforge3/envs/tf/lib/python3.9/site-packages/keras/src/utils/traceback_utils.py\", line 65, in error_handler\n",
      "      return fn(*args, **kwargs)\n",
      "    File \"/home/kervin/miniforge3/envs/tf/lib/python3.9/site-packages/keras/src/engine/training.py\", line 569, in __call__\n",
      "      return super().__call__(*args, **kwargs)\n",
      "    File \"/home/kervin/miniforge3/envs/tf/lib/python3.9/site-packages/keras/src/utils/traceback_utils.py\", line 65, in error_handler\n",
      "      return fn(*args, **kwargs)\n",
      "    File \"/home/kervin/miniforge3/envs/tf/lib/python3.9/site-packages/keras/src/engine/base_layer.py\", line 1150, in __call__\n",
      "      outputs = call_fn(inputs, *args, **kwargs)\n",
      "    File \"/home/kervin/miniforge3/envs/tf/lib/python3.9/site-packages/keras/src/utils/traceback_utils.py\", line 96, in error_handler\n",
      "      return fn(*args, **kwargs)\n",
      "    File \"/home/kervin/miniforge3/envs/tf/lib/python3.9/site-packages/keras/src/engine/sequential.py\", line 405, in call\n",
      "      return super().call(inputs, training=training, mask=mask)\n",
      "    File \"/home/kervin/miniforge3/envs/tf/lib/python3.9/site-packages/keras/src/engine/functional.py\", line 512, in call\n",
      "      return self._run_internal_graph(inputs, training=training, mask=mask)\n",
      "    File \"/home/kervin/miniforge3/envs/tf/lib/python3.9/site-packages/keras/src/engine/functional.py\", line 669, in _run_internal_graph\n",
      "      outputs = node.layer(*args, **kwargs)\n",
      "    File \"/home/kervin/miniforge3/envs/tf/lib/python3.9/site-packages/keras/src/utils/traceback_utils.py\", line 65, in error_handler\n",
      "      return fn(*args, **kwargs)\n",
      "    File \"/home/kervin/miniforge3/envs/tf/lib/python3.9/site-packages/keras/src/engine/base_layer.py\", line 1150, in __call__\n",
      "      outputs = call_fn(inputs, *args, **kwargs)\n",
      "    File \"/home/kervin/miniforge3/envs/tf/lib/python3.9/site-packages/keras/src/utils/traceback_utils.py\", line 96, in error_handler\n",
      "      return fn(*args, **kwargs)\n",
      "    File \"/home/kervin/miniforge3/envs/tf/lib/python3.9/site-packages/keras/src/layers/convolutional/base_conv.py\", line 321, in call\n",
      "      return self.activation(outputs)\n",
      "    File \"/home/kervin/miniforge3/envs/tf/lib/python3.9/site-packages/keras/src/activations.py\", line 321, in relu\n",
      "      return backend.relu(\n",
      "    File \"/home/kervin/miniforge3/envs/tf/lib/python3.9/site-packages/keras/src/backend.py\", line 5397, in relu\n",
      "      x = tf.nn.relu(x)\n",
      "Node: 'sequential/conv2d/Relu'\n",
      "OOM when allocating tensor with shape[128,6,222,222] and type float on /job:localhost/replica:0/task:0/device:GPU:0 by allocator GPU_0_bfc\n",
      "\t [[{{node sequential/conv2d/Relu}}]]\n",
      "Hint: If you want to see a list of allocated tensors when OOM happens, add report_tensor_allocations_upon_oom to RunOptions for current allocation info. This isn't available when running in Eager mode.\n",
      " [Op:__inference_train_function_69119]\n",
      "f size 3584 next 230\n",
      "2024-04-14 03:35:39.043954: I tensorflow/tsl/framework/bfc_allocator.cc:1095] InUse at 78dc39722c00 of size 256 next 231\n",
      "2024-04-14 03:35:39.043956: I tensorflow/tsl/framework/bfc_allocator.cc:1095] InUse at 78dc39722d00 of size 256 next 232\n",
      "2024-04-14 03:35:39.043959: I tensorflow/tsl/framework/bfc_allocator.cc:1095] InUse at 78dc39722e00 of size 256 next 233\n",
      "2024-04-14 03:35:39.043962: I tensorflow/tsl/framework/bfc_allocator.cc:1095] InUse at 78dc39722f00 of size 512 next 235\n",
      "2024-04-14 03:35:39.043964: I tensorflow/tsl/framework/bfc_allocator.cc:1095] InUse at 78dc39723100 of size 512 next 236\n",
      "2024-04-14 03:35:39.043967: I tensorflow/tsl/framework/bfc_allocator.cc:1095] InUse at 78dc39723300 of size 512 next 237\n",
      "2024-04-14 03:35:39.043969: I tensorflow/tsl/framework/bfc_allocator.cc:1095] InUse at 78dc39723500 of size 25856 next 216\n",
      "2024-04-14 03:35:39.043972: I tensorflow/tsl/framework/bfc_allocator.cc:1095] InUse at 78dc39729a00 of size 16384 next 215\n",
      "2024-04-14 03:35:39.043977: I tensorflow/tsl/framework/bfc_allocator.cc:1095] InUse at 78dc3972da00 of size 256 next 238\n",
      "2024-04-14 03:35:39.043979: I tensorflow/tsl/framework/bfc_allocator.cc:1095] InUse at 78dc3972db00 of size 256 next 239\n",
      "2024-04-14 03:35:39.043982: I tensorflow/tsl/framework/bfc_allocator.cc:1095] InUse at 78dc3972dc00 of size 256 next 240\n",
      "2024-04-14 03:35:39.043984: I tensorflow/tsl/framework/bfc_allocator.cc:1095] InUse at 78dc3972dd00 of size 256 next 241\n",
      "2024-04-14 03:35:39.043987: I tensorflow/tsl/framework/bfc_allocator.cc:1095] InUse at 78dc3972de00 of size 256 next 242\n",
      "2024-04-14 03:35:39.043990: I tensorflow/tsl/framework/bfc_allocator.cc:1095] InUse at 78dc3972df00 of size 768 next 243\n",
      "2024-04-14 03:35:39.043992: I tensorflow/tsl/framework/bfc_allocator.cc:1095] InUse at 78dc3972e200 of size 256 next 244\n",
      "2024-04-14 03:35:39.043995: I tensorflow/tsl/framework/bfc_allocator.cc:1095] InUse at 78dc3972e300 of size 256 next 245\n",
      "2024-04-14 03:35:39.043997: I tensorflow/tsl/framework/bfc_allocator.cc:1095] InUse at 78dc3972e400 of size 256 next 246\n",
      "2024-04-14 03:35:39.044000: I tensorflow/tsl/framework/bfc_allocator.cc:1095] InUse at 78dc3972e500 of size 3584 next 247\n",
      "2024-04-14 03:35:39.044002: I tensorflow/tsl/framework/bfc_allocator.cc:1095] InUse at 78dc3972f300 of size 256 next 248\n",
      "2024-04-14 03:35:39.044005: I tensorflow/tsl/framework/bfc_allocator.cc:1095] InUse at 78dc3972f400 of size 256 next 249\n",
      "2024-04-14 03:35:39.044008: I tensorflow/tsl/framework/bfc_allocator.cc:1095] InUse at 78dc3972f500 of size 256 next 250\n",
      "2024-04-14 03:35:39.044011: I tensorflow/tsl/framework/bfc_allocator.cc:1095] InUse at 78dc3972f600 of size 512 next 251\n",
      "2024-04-14 03:35:39.044013: I tensorflow/tsl/framework/bfc_allocator.cc:1095] InUse at 78dc3972f800 of size 512 next 252\n",
      "2024-04-14 03:35:39.044016: I tensorflow/tsl/framework/bfc_allocator.cc:1095] InUse at 78dc3972fa00 of size 512 next 253\n",
      "2024-04-14 03:35:39.044018: I tensorflow/tsl/framework/bfc_allocator.cc:1095] InUse at 78dc3972fc00 of size 16384 next 254\n",
      "2024-04-14 03:35:39.044021: I tensorflow/tsl/framework/bfc_allocator.cc:1095] InUse at 78dc39733c00 of size 256 next 255\n",
      "2024-04-14 03:35:39.044024: I tensorflow/tsl/framework/bfc_allocator.cc:1095] InUse at 78dc39733d00 of size 256 next 256\n",
      "2024-04-14 03:35:39.044026: I tensorflow/tsl/framework/bfc_allocator.cc:1095] InUse at 78dc39733e00 of size 256 next 257\n",
      "2024-04-14 03:35:39.044029: I tensorflow/tsl/framework/bfc_allocator.cc:1095] InUse at 78dc39733f00 of size 256 next 258\n",
      "2024-04-14 03:35:39.044031: I tensorflow/tsl/framework/bfc_allocator.cc:1095] InUse at 78dc39734000 of size 256 next 259\n",
      "2024-04-14 03:35:39.044034: I tensorflow/tsl/framework/bfc_allocator.cc:1095] InUse at 78dc39734100 of size 256 next 260\n",
      "2024-04-14 03:35:39.044036: I tensorflow/tsl/framework/bfc_allocator.cc:1095] InUse at 78dc39734200 of size 256 next 261\n",
      "2024-04-14 03:35:39.044039: I tensorflow/tsl/framework/bfc_allocator.cc:1095] InUse at 78dc39734300 of size 256 next 262\n",
      "2024-04-14 03:35:39.044041: I tensorflow/tsl/framework/bfc_allocator.cc:1095] InUse at 78dc39734400 of size 256 next 263\n",
      "2024-04-14 03:35:39.044044: I tensorflow/tsl/framework/bfc_allocator.cc:1095] InUse at 78dc39734500 of size 256 next 264\n",
      "2024-04-14 03:35:39.044047: I tensorflow/tsl/framework/bfc_allocator.cc:1095] InUse at 78dc39734600 of size 256 next 265\n",
      "2024-04-14 03:35:39.044049: I tensorflow/tsl/framework/bfc_allocator.cc:1095] InUse at 78dc39734700 of size 256 next 266\n",
      "2024-04-14 03:35:39.044052: I tensorflow/tsl/framework/bfc_allocator.cc:1095] InUse at 78dc39734800 of size 256 next 267\n",
      "2024-04-14 03:35:39.044054: I tensorflow/tsl/framework/bfc_allocator.cc:1095] InUse at 78dc39734900 of size 256 next 268\n",
      "2024-04-14 03:35:39.044057: I tensorflow/tsl/framework/bfc_allocator.cc:1095] InUse at 78dc39734a00 of size 256 next 269\n",
      "2024-04-14 03:35:39.044059: I tensorflow/tsl/framework/bfc_allocator.cc:1095] InUse at 78dc39734b00 of size 256 next 270\n",
      "2024-04-14 03:35:39.044062: I tensorflow/tsl/framework/bfc_allocator.cc:1095] InUse at 78dc39734c00 of size 256 next 271\n",
      "2024-04-14 03:35:39.044065: I tensorflow/tsl/framework/bfc_allocator.cc:1095] InUse at 78dc39734d00 of size 256 next 272\n",
      "2024-04-14 03:35:39.044067: I tensorflow/tsl/framework/bfc_allocator.cc:1095] InUse at 78dc39734e00 of size 256 next 273\n",
      "2024-04-14 03:35:39.044070: I tensorflow/tsl/framework/bfc_allocator.cc:1095] InUse at 78dc39734f00 of size 256 next 274\n",
      "2024-04-14 03:35:39.044072: I tensorflow/tsl/framework/bfc_allocator.cc:1095] InUse at 78dc39735000 of size 256 next 275\n",
      "2024-04-14 03:35:39.044075: I tensorflow/tsl/framework/bfc_allocator.cc:1095] InUse at 78dc39735100 of size 256 next 276\n",
      "2024-04-14 03:35:39.044078: I tensorflow/tsl/framework/bfc_allocator.cc:1095] InUse at 78dc39735200 of size 256 next 290\n",
      "2024-04-14 03:35:39.044080: I tensorflow/tsl/framework/bfc_allocator.cc:1095] InUse at 78dc39735300 of size 256 next 277\n",
      "2024-04-14 03:35:39.044083: I tensorflow/tsl/framework/bfc_allocator.cc:1095] InUse at 78dc39735400 of size 256 next 289\n",
      "2024-04-14 03:35:39.044085: I tensorflow/tsl/framework/bfc_allocator.cc:1095] InUse at 78dc39735500 of size 256 next 278\n",
      "2024-04-14 03:35:39.044088: I tensorflow/tsl/framework/bfc_allocator.cc:1095] InUse at 78dc39735600 of size 256 next 287\n",
      "2024-04-14 03:35:39.044090: I tensorflow/tsl/framework/bfc_allocator.cc:1095] InUse at 78dc39735700 of size 256 next 279\n",
      "2024-04-14 03:35:39.044093: I tensorflow/tsl/framework/bfc_allocator.cc:1095] InUse at 78dc39735800 of size 256 next 293\n",
      "2024-04-14 03:35:39.044095: I tensorflow/tsl/framework/bfc_allocator.cc:1095] InUse at 78dc39735900 of size 256 next 288\n",
      "2024-04-14 03:35:39.044098: I tensorflow/tsl/framework/bfc_allocator.cc:1095] InUse at 78dc39735a00 of size 256 next 291\n",
      "2024-04-14 03:35:39.044101: I tensorflow/tsl/framework/bfc_allocator.cc:1095] InUse at 78dc39735b00 of size 768 next 292\n",
      "2024-04-14 03:35:39.044103: I tensorflow/tsl/framework/bfc_allocator.cc:1095] InUse at 78dc39735e00 of size 256 next 286\n",
      "2024-04-14 03:35:39.044106: I tensorflow/tsl/framework/bfc_allocator.cc:1095] InUse at 78dc39735f00 of size 256 next 282\n",
      "2024-04-14 03:35:39.044108: I tensorflow/tsl/framework/bfc_allocator.cc:1095] InUse at 78dc39736000 of size 256 next 284\n",
      "2024-04-14 03:35:39.044111: I tensorflow/tsl/framework/bfc_allocator.cc:1095] InUse at 78dc39736100 of size 256 next 298\n",
      "2024-04-14 03:35:39.044113: I tensorflow/tsl/framework/bfc_allocator.cc:1095] InUse at 78dc39736200 of size 256 next 281\n",
      "2024-04-14 03:35:39.044116: I tensorflow/tsl/framework/bfc_allocator.cc:1095] InUse at 78dc39736300 of size 256 next 295\n",
      "2024-04-14 03:35:39.044119: I tensorflow/tsl/framework/bfc_allocator.cc:1095] InUse at 78dc39736400 of size 256 next 296\n",
      "2024-04-14 03:35:39.044121: I tensorflow/tsl/framework/bfc_allocator.cc:1095] InUse at 78dc39736500 of size 256 next 297\n",
      "2024-04-14 03:35:39.044124: I tensorflow/tsl/framework/bfc_allocator.cc:1095] InUse at 78dc39736600 of size 256 next 299\n",
      "2024-04-14 03:35:39.044126: I tensorflow/tsl/framework/bfc_allocator.cc:1095] InUse at 78dc39736700 of size 256 next 300\n",
      "2024-04-14 03:35:39.044129: I tensorflow/tsl/framework/bfc_allocator.cc:1095] InUse at 78dc39736800 of size 512 next 303\n",
      "2024-04-14 03:35:39.044132: I tensorflow/tsl/framework/bfc_allocator.cc:1095] InUse at 78dc39736a00 of size 512 next 301\n",
      "2024-04-14 03:35:39.044135: I tensorflow/tsl/framework/bfc_allocator.cc:1095] InUse at 78dc39736c00 of size 512 next 302\n",
      "2024-04-14 03:35:39.044137: I tensorflow/tsl/framework/bfc_allocator.cc:1095] InUse at 78dc39736e00 of size 512 next 306\n",
      "2024-04-14 03:35:39.044140: I tensorflow/tsl/framework/bfc_allocator.cc:1095] InUse at 78dc39737000 of size 512 next 307\n",
      "2024-04-14 03:35:39.044142: I tensorflow/tsl/framework/bfc_allocator.cc:1095] InUse at 78dc39737200 of size 256 next 309\n",
      "2024-04-14 03:35:39.044145: I tensorflow/tsl/framework/bfc_allocator.cc:1095] InUse at 78dc39737300 of size 256 next 310\n",
      "2024-04-14 03:35:39.044148: I tensorflow/tsl/framework/bfc_allocator.cc:1095] InUse at 78dc39737400 of size 256 next 308\n",
      "2024-04-14 03:35:39.044150: I tensorflow/tsl/framework/bfc_allocator.cc:1095] InUse at 78dc39737500 of size 256 next 311\n",
      "2024-04-14 03:35:39.044153: I tensorflow/tsl/framework/bfc_allocator.cc:1095] InUse at 78dc39737600 of size 256 next 313\n",
      "2024-04-14 03:35:39.044155: I tensorflow/tsl/framework/bfc_allocator.cc:1095] InUse at 78dc39737700 of size 768 next 285\n",
      "2024-04-14 03:35:39.044158: I tensorflow/tsl/framework/bfc_allocator.cc:1095] InUse at 78dc39737a00 of size 3584 next 280\n",
      "2024-04-14 03:35:39.044160: I tensorflow/tsl/framework/bfc_allocator.cc:1095] InUse at 78dc39738800 of size 512 next 312\n",
      "2024-04-14 03:35:39.044163: I tensorflow/tsl/framework/bfc_allocator.cc:1095] InUse at 78dc39738a00 of size 256 next 314\n",
      "2024-04-14 03:35:39.044165: I tensorflow/tsl/framework/bfc_allocator.cc:1095] InUse at 78dc39738b00 of size 256 next 315\n",
      "2024-04-14 03:35:39.044168: I tensorflow/tsl/framework/bfc_allocator.cc:1095] InUse at 78dc39738c00 of size 256 next 316\n",
      "2024-04-14 03:35:39.044171: I tensorflow/tsl/framework/bfc_allocator.cc:1095] InUse at 78dc39738d00 of size 3584 next 317\n",
      "2024-04-14 03:35:39.044173: I tensorflow/tsl/framework/bfc_allocator.cc:1095] InUse at 78dc39739b00 of size 256 next 318\n",
      "2024-04-14 03:35:39.044176: I tensorflow/tsl/framework/bfc_allocator.cc:1095] InUse at 78dc39739c00 of size 256 next 319\n",
      "2024-04-14 03:35:39.044178: I tensorflow/tsl/framework/bfc_allocator.cc:1095] InUse at 78dc39739d00 of size 256 next 320\n",
      "2024-04-14 03:35:39.044181: I tensorflow/tsl/framework/bfc_allocator.cc:1095] InUse at 78dc39739e00 of size 256 next 322\n",
      "2024-04-14 03:35:39.044183: I tensorflow/tsl/framework/bfc_allocator.cc:1095] InUse at 78dc39739f00 of size 256 next 323\n",
      "2024-04-14 03:35:39.044186: I tensorflow/tsl/framework/bfc_allocator.cc:1095] InUse at 78dc3973a000 of size 256 next 324\n",
      "2024-04-14 03:35:39.044189: I tensorflow/tsl/framework/bfc_allocator.cc:1095] InUse at 78dc3973a100 of size 9984 next 305\n",
      "2024-04-14 03:35:39.044191: I tensorflow/tsl/framework/bfc_allocator.cc:1095] InUse at 78dc3973c800 of size 8192 next 304\n",
      "2024-04-14 03:35:39.044194: I tensorflow/tsl/framework/bfc_allocator.cc:1095] InUse at 78dc3973e800 of size 512 next 325\n",
      "2024-04-14 03:35:39.044197: I tensorflow/tsl/framework/bfc_allocator.cc:1095] InUse at 78dc3973ea00 of size 512 next 326\n",
      "2024-04-14 03:35:39.044200: I tensorflow/tsl/framework/bfc_allocator.cc:1095] InUse at 78dc3973ec00 of size 512 next 327\n",
      "2024-04-14 03:35:39.044202: I tensorflow/tsl/framework/bfc_allocator.cc:1095] InUse at 78dc3973ee00 of size 512 next 328\n",
      "2024-04-14 03:35:39.044205: I tensorflow/tsl/framework/bfc_allocator.cc:1095] InUse at 78dc3973f000 of size 256 next 329\n",
      "2024-04-14 03:35:39.044207: I tensorflow/tsl/framework/bfc_allocator.cc:1095] InUse at 78dc3973f100 of size 768 next 330\n",
      "2024-04-14 03:35:39.044210: I tensorflow/tsl/framework/bfc_allocator.cc:1095] InUse at 78dc3973f400 of size 256 next 331\n",
      "2024-04-14 03:35:39.044213: I tensorflow/tsl/framework/bfc_allocator.cc:1095] InUse at 78dc3973f500 of size 256 next 332\n",
      "2024-04-14 03:35:39.044215: I tensorflow/tsl/framework/bfc_allocator.cc:1095] InUse at 78dc3973f600 of size 256 next 333\n",
      "2024-04-14 03:35:39.044218: I tensorflow/tsl/framework/bfc_allocator.cc:1095] InUse at 78dc3973f700 of size 3584 next 334\n",
      "2024-04-14 03:35:39.044220: I tensorflow/tsl/framework/bfc_allocator.cc:1095] InUse at 78dc39740500 of size 256 next 335\n",
      "2024-04-14 03:35:39.044223: I tensorflow/tsl/framework/bfc_allocator.cc:1095] InUse at 78dc39740600 of size 256 next 336\n",
      "2024-04-14 03:35:39.044226: I tensorflow/tsl/framework/bfc_allocator.cc:1095] InUse at 78dc39740700 of size 256 next 337\n",
      "2024-04-14 03:35:39.044228: I tensorflow/tsl/framework/bfc_allocator.cc:1095] InUse at 78dc39740800 of size 256 next 338\n",
      "2024-04-14 03:35:39.044231: I tensorflow/tsl/framework/bfc_allocator.cc:1095] InUse at 78dc39740900 of size 256 next 339\n",
      "2024-04-14 03:35:39.044233: I tensorflow/tsl/framework/bfc_allocator.cc:1095] InUse at 78dc39740a00 of size 256 next 340\n",
      "2024-04-14 03:35:39.044236: I tensorflow/tsl/framework/bfc_allocator.cc:1095] InUse at 78dc39740b00 of size 8192 next 341\n",
      "2024-04-14 03:35:39.044239: I tensorflow/tsl/framework/bfc_allocator.cc:1095] InUse at 78dc39742b00 of size 512 next 342\n",
      "2024-04-14 03:35:39.044241: I tensorflow/tsl/framework/bfc_allocator.cc:1095] InUse at 78dc39742d00 of size 512 next 343\n",
      "2024-04-14 03:35:39.044244: I tensorflow/tsl/framework/bfc_allocator.cc:1095] InUse at 78dc39742f00 of size 512 next 344\n",
      "2024-04-14 03:35:39.044246: I tensorflow/tsl/framework/bfc_allocator.cc:1095] InUse at 78dc39743100 of size 512 next 345\n",
      "2024-04-14 03:35:39.044249: I tensorflow/tsl/framework/bfc_allocator.cc:1095] InUse at 78dc39743300 of size 256 next 346\n",
      "2024-04-14 03:35:39.044252: I tensorflow/tsl/framework/bfc_allocator.cc:1095] InUse at 78dc39743400 of size 256 next 347\n",
      "2024-04-14 03:35:39.044254: I tensorflow/tsl/framework/bfc_allocator.cc:1095] InUse at 78dc39743500 of size 256 next 348\n",
      "2024-04-14 03:35:39.044257: I tensorflow/tsl/framework/bfc_allocator.cc:1095] InUse at 78dc39743600 of size 256 next 349\n",
      "2024-04-14 03:35:39.044259: I tensorflow/tsl/framework/bfc_allocator.cc:1095] InUse at 78dc39743700 of size 256 next 350\n",
      "2024-04-14 03:35:39.044262: I tensorflow/tsl/framework/bfc_allocator.cc:1095] InUse at 78dc39743800 of size 256 next 351\n",
      "2024-04-14 03:35:39.044265: I tensorflow/tsl/framework/bfc_allocator.cc:1095] InUse at 78dc39743900 of size 256 next 352\n",
      "2024-04-14 03:35:39.044267: I tensorflow/tsl/framework/bfc_allocator.cc:1095] InUse at 78dc39743a00 of size 256 next 353\n",
      "2024-04-14 03:35:39.044270: I tensorflow/tsl/framework/bfc_allocator.cc:1095] InUse at 78dc39743b00 of size 256 next 354\n",
      "2024-04-14 03:35:39.044272: I tensorflow/tsl/framework/bfc_allocator.cc:1095] InUse at 78dc39743c00 of size 256 next 355\n",
      "2024-04-14 03:35:39.044275: I tensorflow/tsl/framework/bfc_allocator.cc:1095] InUse at 78dc39743d00 of size 256 next 356\n",
      "2024-04-14 03:35:39.044277: I tensorflow/tsl/framework/bfc_allocator.cc:1095] InUse at 78dc39743e00 of size 256 next 357\n",
      "2024-04-14 03:35:39.044280: I tensorflow/tsl/framework/bfc_allocator.cc:1095] InUse at 78dc39743f00 of size 256 next 358\n",
      "2024-04-14 03:35:39.044283: I tensorflow/tsl/framework/bfc_allocator.cc:1095] InUse at 78dc39744000 of size 256 next 359\n",
      "2024-04-14 03:35:39.044285: I tensorflow/tsl/framework/bfc_allocator.cc:1095] InUse at 78dc39744100 of size 256 next 360\n",
      "2024-04-14 03:35:39.044288: I tensorflow/tsl/framework/bfc_allocator.cc:1095] InUse at 78dc39744200 of size 256 next 361\n",
      "2024-04-14 03:35:39.044290: I tensorflow/tsl/framework/bfc_allocator.cc:1095] InUse at 78dc39744300 of size 256 next 362\n",
      "2024-04-14 03:35:39.044293: I tensorflow/tsl/framework/bfc_allocator.cc:1095] InUse at 78dc39744400 of size 256 next 363\n",
      "2024-04-14 03:35:39.044296: I tensorflow/tsl/framework/bfc_allocator.cc:1095] InUse at 78dc39744500 of size 256 next 376\n",
      "2024-04-14 03:35:39.044298: I tensorflow/tsl/framework/bfc_allocator.cc:1095] InUse at 78dc39744600 of size 256 next 365\n",
      "2024-04-14 03:35:39.044301: I tensorflow/tsl/framework/bfc_allocator.cc:1095] InUse at 78dc39744700 of size 256 next 375\n",
      "2024-04-14 03:35:39.044304: I tensorflow/tsl/framework/bfc_allocator.cc:1095] InUse at 78dc39744800 of size 256 next 366\n",
      "2024-04-14 03:35:39.044306: I tensorflow/tsl/framework/bfc_allocator.cc:1095] InUse at 78dc39744900 of size 256 next 374\n",
      "2024-04-14 03:35:39.044309: I tensorflow/tsl/framework/bfc_allocator.cc:1095] InUse at 78dc39744a00 of size 256 next 370\n",
      "2024-04-14 03:35:39.044312: I tensorflow/tsl/framework/bfc_allocator.cc:1095] InUse at 78dc39744b00 of size 256 next 377\n",
      "2024-04-14 03:35:39.044314: I tensorflow/tsl/framework/bfc_allocator.cc:1095] InUse at 78dc39744c00 of size 256 next 380\n",
      "2024-04-14 03:35:39.044317: I tensorflow/tsl/framework/bfc_allocator.cc:1095] InUse at 78dc39744d00 of size 256 next 378\n",
      "2024-04-14 03:35:39.044319: I tensorflow/tsl/framework/bfc_allocator.cc:1095] InUse at 78dc39744e00 of size 768 next 379\n",
      "2024-04-14 03:35:39.044322: I tensorflow/tsl/framework/bfc_allocator.cc:1095] InUse at 78dc39745100 of size 256 next 368\n",
      "2024-04-14 03:35:39.044325: I tensorflow/tsl/framework/bfc_allocator.cc:1095] InUse at 78dc39745200 of size 256 next 382\n",
      "2024-04-14 03:35:39.044327: I tensorflow/tsl/framework/bfc_allocator.cc:1095] InUse at 78dc39745300 of size 256 next 372\n",
      "2024-04-14 03:35:39.044330: I tensorflow/tsl/framework/bfc_allocator.cc:1095] InUse at 78dc39745400 of size 256 next 373\n",
      "2024-04-14 03:35:39.044332: I tensorflow/tsl/framework/bfc_allocator.cc:1095] InUse at 78dc39745500 of size 256 next 369\n",
      "2024-04-14 03:35:39.044335: I tensorflow/tsl/framework/bfc_allocator.cc:1095] InUse at 78dc39745600 of size 256 next 364\n",
      "2024-04-14 03:35:39.044337: I tensorflow/tsl/framework/bfc_allocator.cc:1095] InUse at 78dc39745700 of size 256 next 383\n",
      "2024-04-14 03:35:39.044340: I tensorflow/tsl/framework/bfc_allocator.cc:1095] InUse at 78dc39745800 of size 256 next 384\n",
      "2024-04-14 03:35:39.044343: I tensorflow/tsl/framework/bfc_allocator.cc:1095] InUse at 78dc39745900 of size 256 next 387\n",
      "2024-04-14 03:35:39.044345: I tensorflow/tsl/framework/bfc_allocator.cc:1095] InUse at 78dc39745a00 of size 256 next 388\n",
      "2024-04-14 03:35:39.044348: I tensorflow/tsl/framework/bfc_allocator.cc:1095] InUse at 78dc39745b00 of size 256 next 386\n",
      "2024-04-14 03:35:39.044350: I tensorflow/tsl/framework/bfc_allocator.cc:1095] InUse at 78dc39745c00 of size 256 next 389\n",
      "2024-04-14 03:35:39.044353: I tensorflow/tsl/framework/bfc_allocator.cc:1095] InUse at 78dc39745d00 of size 256 next 391\n",
      "2024-04-14 03:35:39.044355: I tensorflow/tsl/framework/bfc_allocator.cc:1095] InUse at 78dc39745e00 of size 256 next 393\n",
      "2024-04-14 03:35:39.044358: I tensorflow/tsl/framework/bfc_allocator.cc:1095] InUse at 78dc39745f00 of size 256 next 392\n",
      "2024-04-14 03:35:39.044361: I tensorflow/tsl/framework/bfc_allocator.cc:1095] InUse at 78dc39746000 of size 256 next 394\n",
      "2024-04-14 03:35:39.044363: I tensorflow/tsl/framework/bfc_allocator.cc:1095] InUse at 78dc39746100 of size 256 next 395\n",
      "2024-04-14 03:35:39.044366: I tensorflow/tsl/framework/bfc_allocator.cc:1095] InUse at 78dc39746200 of size 256 next 396\n",
      "2024-04-14 03:35:39.044368: I tensorflow/tsl/framework/bfc_allocator.cc:1095] InUse at 78dc39746300 of size 256 next 397\n",
      "2024-04-14 03:35:39.044371: I tensorflow/tsl/framework/bfc_allocator.cc:1095] InUse at 78dc39746400 of size 768 next 398\n",
      "2024-04-14 03:35:39.044374: I tensorflow/tsl/framework/bfc_allocator.cc:1095] InUse at 78dc39746700 of size 256 next 399\n",
      "2024-04-14 03:35:39.044376: I tensorflow/tsl/framework/bfc_allocator.cc:1095] InUse at 78dc39746800 of size 256 next 400\n",
      "2024-04-14 03:35:39.044379: I tensorflow/tsl/framework/bfc_allocator.cc:1095] InUse at 78dc39746900 of size 256 next 401\n",
      "2024-04-14 03:35:39.044381: I tensorflow/tsl/framework/bfc_allocator.cc:1095] InUse at 78dc39746a00 of size 256 next 403\n",
      "2024-04-14 03:35:39.044384: I tensorflow/tsl/framework/bfc_allocator.cc:1095] InUse at 78dc39746b00 of size 256 next 404\n",
      "2024-04-14 03:35:39.044386: I tensorflow/tsl/framework/bfc_allocator.cc:1095] InUse at 78dc39746c00 of size 256 next 367\n",
      "2024-04-14 03:35:39.044389: I tensorflow/tsl/framework/bfc_allocator.cc:1095] InUse at 78dc39746d00 of size 3584 next 371\n",
      "2024-04-14 03:35:39.044392: I tensorflow/tsl/framework/bfc_allocator.cc:1095] InUse at 78dc39747b00 of size 2048 next 390\n",
      "2024-04-14 03:35:39.044394: I tensorflow/tsl/framework/bfc_allocator.cc:1095] InUse at 78dc39748300 of size 3584 next 402\n",
      "2024-04-14 03:35:39.044397: I tensorflow/tsl/framework/bfc_allocator.cc:1095] InUse at 78dc39749100 of size 256 next 406\n",
      "2024-04-14 03:35:39.044400: I tensorflow/tsl/framework/bfc_allocator.cc:1095] InUse at 78dc39749200 of size 256 next 407\n",
      "2024-04-14 03:35:39.044402: I tensorflow/tsl/framework/bfc_allocator.cc:1095] InUse at 78dc39749300 of size 256 next 408\n",
      "2024-04-14 03:35:39.044405: I tensorflow/tsl/framework/bfc_allocator.cc:1095] InUse at 78dc39749400 of size 2048 next 409\n",
      "2024-04-14 03:35:39.044408: I tensorflow/tsl/framework/bfc_allocator.cc:1095] InUse at 78dc39749c00 of size 256 next 410\n",
      "2024-04-14 03:35:39.044410: I tensorflow/tsl/framework/bfc_allocator.cc:1095] InUse at 78dc39749d00 of size 256 next 411\n",
      "2024-04-14 03:35:39.044413: I tensorflow/tsl/framework/bfc_allocator.cc:1095] InUse at 78dc39749e00 of size 256 next 412\n",
      "2024-04-14 03:35:39.044415: I tensorflow/tsl/framework/bfc_allocator.cc:1095] InUse at 78dc39749f00 of size 256 next 413\n",
      "2024-04-14 03:35:39.044418: I tensorflow/tsl/framework/bfc_allocator.cc:1095] InUse at 78dc3974a000 of size 256 next 414\n",
      "2024-04-14 03:35:39.044421: I tensorflow/tsl/framework/bfc_allocator.cc:1095] InUse at 78dc3974a100 of size 768 next 415\n",
      "2024-04-14 03:35:39.044423: I tensorflow/tsl/framework/bfc_allocator.cc:1095] InUse at 78dc3974a400 of size 256 next 416\n",
      "2024-04-14 03:35:39.044426: I tensorflow/tsl/framework/bfc_allocator.cc:1095] InUse at 78dc3974a500 of size 256 next 417\n",
      "2024-04-14 03:35:39.044428: I tensorflow/tsl/framework/bfc_allocator.cc:1095] InUse at 78dc3974a600 of size 256 next 418\n",
      "2024-04-14 03:35:39.044431: I tensorflow/tsl/framework/bfc_allocator.cc:1095] InUse at 78dc3974a700 of size 3584 next 419\n",
      "2024-04-14 03:35:39.044434: I tensorflow/tsl/framework/bfc_allocator.cc:1095] InUse at 78dc3974b500 of size 256 next 420\n",
      "2024-04-14 03:35:39.044436: I tensorflow/tsl/framework/bfc_allocator.cc:1095] InUse at 78dc3974b600 of size 256 next 421\n",
      "2024-04-14 03:35:39.044439: I tensorflow/tsl/framework/bfc_allocator.cc:1095] InUse at 78dc3974b700 of size 256 next 422\n",
      "2024-04-14 03:35:39.044441: I tensorflow/tsl/framework/bfc_allocator.cc:1095] InUse at 78dc3974b800 of size 256 next 423\n",
      "2024-04-14 03:35:39.044444: I tensorflow/tsl/framework/bfc_allocator.cc:1095] InUse at 78dc3974b900 of size 256 next 424\n",
      "2024-04-14 03:35:39.044447: I tensorflow/tsl/framework/bfc_allocator.cc:1095] InUse at 78dc3974ba00 of size 256 next 425\n",
      "2024-04-14 03:35:39.044449: I tensorflow/tsl/framework/bfc_allocator.cc:1095] InUse at 78dc3974bb00 of size 2048 next 426\n",
      "2024-04-14 03:35:39.044452: I tensorflow/tsl/framework/bfc_allocator.cc:1095] InUse at 78dc3974c300 of size 256 next 427\n",
      "2024-04-14 03:35:39.044454: I tensorflow/tsl/framework/bfc_allocator.cc:1095] InUse at 78dc3974c400 of size 256 next 428\n",
      "2024-04-14 03:35:39.044457: I tensorflow/tsl/framework/bfc_allocator.cc:1095] InUse at 78dc3974c500 of size 256 next 429\n",
      "2024-04-14 03:35:39.044460: I tensorflow/tsl/framework/bfc_allocator.cc:1095] InUse at 78dc3974c600 of size 256 next 430\n",
      "2024-04-14 03:35:39.044462: I tensorflow/tsl/framework/bfc_allocator.cc:1095] InUse at 78dc3974c700 of size 256 next 431\n",
      "2024-04-14 03:35:39.044465: I tensorflow/tsl/framework/bfc_allocator.cc:1095] InUse at 78dc3974c800 of size 256 next 432\n",
      "2024-04-14 03:35:39.044467: I tensorflow/tsl/framework/bfc_allocator.cc:1095] InUse at 78dc3974c900 of size 256 next 433\n",
      "2024-04-14 03:35:39.044470: I tensorflow/tsl/framework/bfc_allocator.cc:1095] InUse at 78dc3974ca00 of size 256 next 434\n",
      "2024-04-14 03:35:39.044473: I tensorflow/tsl/framework/bfc_allocator.cc:1095] InUse at 78dc3974cb00 of size 256 next 435\n",
      "2024-04-14 03:35:39.044476: I tensorflow/tsl/framework/bfc_allocator.cc:1095] InUse at 78dc3974cc00 of size 256 next 436\n",
      "2024-04-14 03:35:39.044478: I tensorflow/tsl/framework/bfc_allocator.cc:1095] InUse at 78dc3974cd00 of size 256 next 437\n",
      "2024-04-14 03:35:39.044481: I tensorflow/tsl/framework/bfc_allocator.cc:1095] InUse at 78dc3974ce00 of size 256 next 438\n",
      "2024-04-14 03:35:39.044484: I tensorflow/tsl/framework/bfc_allocator.cc:1095] InUse at 78dc3974cf00 of size 256 next 439\n",
      "2024-04-14 03:35:39.044486: I tensorflow/tsl/framework/bfc_allocator.cc:1095] InUse at 78dc3974d000 of size 256 next 440\n",
      "2024-04-14 03:35:39.044489: I tensorflow/tsl/framework/bfc_allocator.cc:1095] InUse at 78dc3974d100 of size 256 next 441\n",
      "2024-04-14 03:35:39.044491: I tensorflow/tsl/framework/bfc_allocator.cc:1095] InUse at 78dc3974d200 of size 256 next 442\n",
      "2024-04-14 03:35:39.044494: I tensorflow/tsl/framework/bfc_allocator.cc:1095] InUse at 78dc3974d300 of size 256 next 443\n",
      "2024-04-14 03:35:39.044497: I tensorflow/tsl/framework/bfc_allocator.cc:1095] InUse at 78dc3974d400 of size 256 next 444\n",
      "2024-04-14 03:35:39.044499: I tensorflow/tsl/framework/bfc_allocator.cc:1095] InUse at 78dc3974d500 of size 256 next 445\n",
      "2024-04-14 03:35:39.044502: I tensorflow/tsl/framework/bfc_allocator.cc:1095] InUse at 78dc3974d600 of size 256 next 446\n",
      "2024-04-14 03:35:39.044504: I tensorflow/tsl/framework/bfc_allocator.cc:1095] InUse at 78dc3974d700 of size 256 next 447\n",
      "2024-04-14 03:35:39.044507: I tensorflow/tsl/framework/bfc_allocator.cc:1095] InUse at 78dc3974d800 of size 256 next 448\n",
      "2024-04-14 03:35:39.044510: I tensorflow/tsl/framework/bfc_allocator.cc:1095] InUse at 78dc3974d900 of size 3584 next 449\n",
      "2024-04-14 03:35:39.044512: I tensorflow/tsl/framework/bfc_allocator.cc:1095] InUse at 78dc3974e700 of size 256 next 450\n",
      "2024-04-14 03:35:39.044515: I tensorflow/tsl/framework/bfc_allocator.cc:1095] InUse at 78dc3974e800 of size 256 next 451\n",
      "2024-04-14 03:35:39.044517: I tensorflow/tsl/framework/bfc_allocator.cc:1095] InUse at 78dc3974e900 of size 256 next 453\n",
      "2024-04-14 03:35:39.044520: I tensorflow/tsl/framework/bfc_allocator.cc:1095] InUse at 78dc3974ea00 of size 2048 next 454\n",
      "2024-04-14 03:35:39.044523: I tensorflow/tsl/framework/bfc_allocator.cc:1095] InUse at 78dc3974f200 of size 256 next 455\n",
      "2024-04-14 03:35:39.044525: I tensorflow/tsl/framework/bfc_allocator.cc:1095] InUse at 78dc3974f300 of size 256 next 456\n",
      "2024-04-14 03:35:39.044528: I tensorflow/tsl/framework/bfc_allocator.cc:1095] InUse at 78dc3974f400 of size 768 next 457\n",
      "2024-04-14 03:35:39.044530: I tensorflow/tsl/framework/bfc_allocator.cc:1095] InUse at 78dc3974f700 of size 256 next 458\n",
      "2024-04-14 03:35:39.044533: I tensorflow/tsl/framework/bfc_allocator.cc:1095] InUse at 78dc3974f800 of size 256 next 459\n",
      "2024-04-14 03:35:39.044536: I tensorflow/tsl/framework/bfc_allocator.cc:1095] InUse at 78dc3974f900 of size 256 next 465\n",
      "2024-04-14 03:35:39.044538: I tensorflow/tsl/framework/bfc_allocator.cc:1095] InUse at 78dc3974fa00 of size 768 next 460\n",
      "2024-04-14 03:35:39.044541: I tensorflow/tsl/framework/bfc_allocator.cc:1095] Free  at 78dc3974fd00 of size 256 next 461\n",
      "2024-04-14 03:35:39.044543: I tensorflow/tsl/framework/bfc_allocator.cc:1095] InUse at 78dc3974fe00 of size 512 next 462\n",
      "2024-04-14 03:35:39.044546: I tensorflow/tsl/framework/bfc_allocator.cc:1095] InUse at 78dc39750000 of size 256 next 466\n",
      "2024-04-14 03:35:39.044549: I tensorflow/tsl/framework/bfc_allocator.cc:1095] InUse at 78dc39750100 of size 512 next 467\n",
      "2024-04-14 03:35:39.044551: I tensorflow/tsl/framework/bfc_allocator.cc:1095] InUse at 78dc39750300 of size 512 next 468\n",
      "2024-04-14 03:35:39.044554: I tensorflow/tsl/framework/bfc_allocator.cc:1095] InUse at 78dc39750500 of size 256 next 469\n",
      "2024-04-14 03:35:39.044556: I tensorflow/tsl/framework/bfc_allocator.cc:1095] InUse at 78dc39750600 of size 256 next 470\n",
      "2024-04-14 03:35:39.044559: I tensorflow/tsl/framework/bfc_allocator.cc:1095] InUse at 78dc39750700 of size 256 next 471\n",
      "2024-04-14 03:35:39.044562: I tensorflow/tsl/framework/bfc_allocator.cc:1095] Free  at 78dc39750800 of size 162304 next 74\n",
      "2024-04-14 03:35:39.044564: I tensorflow/tsl/framework/bfc_allocator.cc:1095] InUse at 78dc39778200 of size 400128 next 75\n",
      "2024-04-14 03:35:39.044567: I tensorflow/tsl/framework/bfc_allocator.cc:1095] InUse at 78dc397d9d00 of size 6195200 next 147\n",
      "2024-04-14 03:35:39.044570: I tensorflow/tsl/framework/bfc_allocator.cc:1095] InUse at 78dc39dc2500 of size 6195200 next 117\n",
      "2024-04-14 03:35:39.044574: I tensorflow/tsl/framework/bfc_allocator.cc:1095] InUse at 78dc3a3aad00 of size 6195200 next 116\n",
      "2024-04-14 03:35:39.044577: I tensorflow/tsl/framework/bfc_allocator.cc:1095] InUse at 78dc3a993500 of size 24780800 next 234\n",
      "2024-04-14 03:35:39.044580: I tensorflow/tsl/framework/bfc_allocator.cc:1095] InUse at 78dc3c135500 of size 24780800 next 196\n",
      "2024-04-14 03:35:39.044582: I tensorflow/tsl/framework/bfc_allocator.cc:1095] InUse at 78dc3d8d7500 of size 24780800 next 211\n",
      "2024-04-14 03:35:39.044585: I tensorflow/tsl/framework/bfc_allocator.cc:1095] InUse at 78dc3f079500 of size 3097600 next 321\n",
      "2024-04-14 03:35:39.044588: I tensorflow/tsl/framework/bfc_allocator.cc:1095] InUse at 78dc3f36d900 of size 3097600 next 283\n",
      "2024-04-14 03:35:39.044590: I tensorflow/tsl/framework/bfc_allocator.cc:1095] InUse at 78dc3f661d00 of size 3097600 next 294\n",
      "2024-04-14 03:35:39.044593: I tensorflow/tsl/framework/bfc_allocator.cc:1095] InUse at 78dc3f956100 of size 3097600 next 405\n",
      "2024-04-14 03:35:39.044595: I tensorflow/tsl/framework/bfc_allocator.cc:1095] InUse at 78dc3fc4a500 of size 3097600 next 381\n",
      "2024-04-14 03:35:39.044598: I tensorflow/tsl/framework/bfc_allocator.cc:1095] InUse at 78dc3ff3e900 of size 3097600 next 385\n",
      "2024-04-14 03:35:39.044600: I tensorflow/tsl/framework/bfc_allocator.cc:1095] InUse at 78dc40232d00 of size 3097600 next 452\n",
      "2024-04-14 03:35:39.044603: I tensorflow/tsl/framework/bfc_allocator.cc:1095] InUse at 78dc40527100 of size 81170176 next 18446744073709551615\n",
      "2024-04-14 03:35:39.044606: I tensorflow/tsl/framework/bfc_allocator.cc:1100]      Summary of in-use Chunks by size: \n",
      "2024-04-14 03:35:39.044609: I tensorflow/tsl/framework/bfc_allocator.cc:1103] 346 Chunks of size 256 totalling 86.5KiB\n",
      "2024-04-14 03:35:39.044613: I tensorflow/tsl/framework/bfc_allocator.cc:1103] 47 Chunks of size 512 totalling 23.5KiB\n",
      "2024-04-14 03:35:39.044615: I tensorflow/tsl/framework/bfc_allocator.cc:1103] 16 Chunks of size 768 totalling 12.0KiB\n",
      "2024-04-14 03:35:39.044620: I tensorflow/tsl/framework/bfc_allocator.cc:1103] 5 Chunks of size 1024 totalling 5.0KiB\n",
      "2024-04-14 03:35:39.044624: I tensorflow/tsl/framework/bfc_allocator.cc:1103] 1 Chunks of size 1280 totalling 1.2KiB\n",
      "2024-04-14 03:35:39.044627: I tensorflow/tsl/framework/bfc_allocator.cc:1103] 4 Chunks of size 2048 totalling 8.0KiB\n",
      "2024-04-14 03:35:39.044631: I tensorflow/tsl/framework/bfc_allocator.cc:1103] 14 Chunks of size 3584 totalling 49.0KiB\n",
      "2024-04-14 03:35:39.044634: I tensorflow/tsl/framework/bfc_allocator.cc:1103] 5 Chunks of size 4096 totalling 20.0KiB\n",
      "2024-04-14 03:35:39.044637: I tensorflow/tsl/framework/bfc_allocator.cc:1103] 1 Chunks of size 4608 totalling 4.5KiB\n",
      "2024-04-14 03:35:39.044641: I tensorflow/tsl/framework/bfc_allocator.cc:1103] 2 Chunks of size 8192 totalling 16.0KiB\n",
      "2024-04-14 03:35:39.044644: I tensorflow/tsl/framework/bfc_allocator.cc:1103] 1 Chunks of size 9984 totalling 9.8KiB\n",
      "2024-04-14 03:35:39.044647: I tensorflow/tsl/framework/bfc_allocator.cc:1103] 3 Chunks of size 16384 totalling 48.0KiB\n",
      "2024-04-14 03:35:39.044651: I tensorflow/tsl/framework/bfc_allocator.cc:1103] 1 Chunks of size 24064 totalling 23.5KiB\n",
      "2024-04-14 03:35:39.044654: I tensorflow/tsl/framework/bfc_allocator.cc:1103] 1 Chunks of size 24832 totalling 24.2KiB\n",
      "2024-04-14 03:35:39.044658: I tensorflow/tsl/framework/bfc_allocator.cc:1103] 1 Chunks of size 25856 totalling 25.2KiB\n",
      "2024-04-14 03:35:39.044661: I tensorflow/tsl/framework/bfc_allocator.cc:1103] 2 Chunks of size 32000 totalling 62.5KiB\n",
      "2024-04-14 03:35:39.044665: I tensorflow/tsl/framework/bfc_allocator.cc:1103] 1 Chunks of size 400128 totalling 390.8KiB\n",
      "2024-04-14 03:35:39.044668: I tensorflow/tsl/framework/bfc_allocator.cc:1103] 7 Chunks of size 3097600 totalling 20.68MiB\n",
      "2024-04-14 03:35:39.044671: I tensorflow/tsl/framework/bfc_allocator.cc:1103] 3 Chunks of size 6195200 totalling 17.72MiB\n",
      "2024-04-14 03:35:39.044674: I tensorflow/tsl/framework/bfc_allocator.cc:1103] 3 Chunks of size 24780800 totalling 70.90MiB\n",
      "2024-04-14 03:35:39.044677: I tensorflow/tsl/framework/bfc_allocator.cc:1103] 1 Chunks of size 77070336 totalling 73.50MiB\n",
      "2024-04-14 03:35:39.044680: I tensorflow/tsl/framework/bfc_allocator.cc:1103] 1 Chunks of size 81170176 totalling 77.41MiB\n",
      "2024-04-14 03:35:39.044683: I tensorflow/tsl/framework/bfc_allocator.cc:1103] 1 Chunks of size 151400448 totalling 144.39MiB\n",
      "2024-04-14 03:35:39.044685: I tensorflow/tsl/framework/bfc_allocator.cc:1103] 1 Chunks of size 186624000 totalling 177.98MiB\n",
      "2024-04-14 03:35:39.044688: I tensorflow/tsl/framework/bfc_allocator.cc:1107] Sum Total of in-use chunks: 583.37MiB\n",
      "2024-04-14 03:35:39.044691: I tensorflow/tsl/framework/bfc_allocator.cc:1109] Total bytes in pool: 757661696 memory_limit_: 757661696 available bytes: 0 curr_region_allocation_bytes_: 1515323392\n",
      "2024-04-14 03:35:39.044697: I tensorflow/tsl/framework/bfc_allocator.cc:1114] Stats: \n",
      "Limit:                       757661696\n",
      "InUse:                       611705344\n",
      "MaxInUse:                    756905216\n",
      "NumAllocs:                        1941\n",
      "MaxAllocSize:                222449664\n",
      "Reserved:                            0\n",
      "PeakReserved:                        0\n",
      "LargestFreeBlock:                    0\n",
      "\n",
      "2024-04-14 03:35:39.044704: W tensorflow/tsl/framework/bfc_allocator.cc:497] *******************************__________________***************************************************\n",
      "2024-04-14 03:35:39.044721: W tensorflow/core/framework/op_kernel.cc:1828] OP_REQUIRES failed at conv_ops_fused_impl.h:568 : RESOURCE_EXHAUSTED: OOM when allocating tensor with shape[128,6,222,222] and type float on /job:localhost/replica:0/task:0/device:GPU:0 by allocator GPU_0_bfc\n"
     ]
    },
    {
     "data": {
      "application/vnd.jupyter.widget-view+json": {
       "model_id": "a59cfc828325431b9457f23ce063f5b6",
       "version_major": 2,
       "version_minor": 0
      },
      "text/plain": [
       "VBox(children=(Label(value='0.003 MB of 0.003 MB uploaded\\r'), FloatProgress(value=1.0, max=1.0)))"
      ]
     },
     "metadata": {},
     "output_type": "display_data"
    },
    {
     "data": {
      "text/html": [
       " View run <strong style=\"color:#cdcd00\">good-sweep-4</strong> at: <a href='https://wandb.ai/kervin5/Malaria-Detection/runs/oryni0un' target=\"_blank\">https://wandb.ai/kervin5/Malaria-Detection/runs/oryni0un</a><br/> View project at: <a href='https://wandb.ai/kervin5/Malaria-Detection' target=\"_blank\">https://wandb.ai/kervin5/Malaria-Detection</a><br/>Synced 6 W&B file(s), 0 media file(s), 0 artifact file(s) and 0 other file(s)"
      ],
      "text/plain": [
       "<IPython.core.display.HTML object>"
      ]
     },
     "metadata": {},
     "output_type": "display_data"
    },
    {
     "data": {
      "text/html": [
       "Find logs at: <code>./wandb/run-20240414_033523-oryni0un/logs</code>"
      ],
      "text/plain": [
       "<IPython.core.display.HTML object>"
      ]
     },
     "metadata": {},
     "output_type": "display_data"
    },
    {
     "name": "stderr",
     "output_type": "stream",
     "text": [
      "Run oryni0un errored:\n",
      "Traceback (most recent call last):\n",
      "  File \"/home/kervin/miniforge3/envs/tf/lib/python3.9/site-packages/wandb/agents/pyagent.py\", line 308, in _run_job\n",
      "    self._function()\n",
      "  File \"/tmp/ipykernel_19536/3935950760.py\", line 9, in train\n",
      "    model.fit(val_dataset, epochs=config.n_epochs, callbacks=[WandbCallback()])\n",
      "  File \"/home/kervin/miniforge3/envs/tf/lib/python3.9/site-packages/keras/src/utils/traceback_utils.py\", line 70, in error_handler\n",
      "    raise e.with_traceback(filtered_tb) from None\n",
      "  File \"/home/kervin/miniforge3/envs/tf/lib/python3.9/site-packages/tensorflow/python/eager/execute.py\", line 53, in quick_execute\n",
      "    tensors = pywrap_tfe.TFE_Py_Execute(ctx._handle, device_name, op_name,\n",
      "tensorflow.python.framework.errors_impl.ResourceExhaustedError: Graph execution error:\n",
      "\n",
      "Detected at node 'sequential/conv2d/Relu' defined at (most recent call last):\n",
      "    File \"/home/kervin/miniforge3/envs/tf/lib/python3.9/threading.py\", line 937, in _bootstrap\n",
      "      self._bootstrap_inner()\n",
      "    File \"/home/kervin/miniforge3/envs/tf/lib/python3.9/threading.py\", line 980, in _bootstrap_inner\n",
      "      self.run()\n",
      "    File \"/home/kervin/miniforge3/envs/tf/lib/python3.9/site-packages/ipykernel/ipkernel.py\", line 761, in run_closure\n",
      "      _threading_Thread_run(self)\n",
      "    File \"/home/kervin/miniforge3/envs/tf/lib/python3.9/threading.py\", line 917, in run\n",
      "      self._target(*self._args, **self._kwargs)\n",
      "    File \"/home/kervin/miniforge3/envs/tf/lib/python3.9/site-packages/wandb/agents/pyagent.py\", line 308, in _run_job\n",
      "      self._function()\n",
      "    File \"/tmp/ipykernel_19536/3935950760.py\", line 9, in train\n",
      "      model.fit(val_dataset, epochs=config.n_epochs, callbacks=[WandbCallback()])\n",
      "    File \"/home/kervin/miniforge3/envs/tf/lib/python3.9/site-packages/keras/src/utils/traceback_utils.py\", line 65, in error_handler\n",
      "      return fn(*args, **kwargs)\n",
      "    File \"/home/kervin/miniforge3/envs/tf/lib/python3.9/site-packages/keras/src/engine/training.py\", line 1742, in fit\n",
      "      tmp_logs = self.train_function(iterator)\n",
      "    File \"/home/kervin/miniforge3/envs/tf/lib/python3.9/site-packages/keras/src/engine/training.py\", line 1338, in train_function\n",
      "      return step_function(self, iterator)\n",
      "    File \"/home/kervin/miniforge3/envs/tf/lib/python3.9/site-packages/keras/src/engine/training.py\", line 1322, in step_function\n",
      "      outputs = model.distribute_strategy.run(run_step, args=(data,))\n",
      "    File \"/home/kervin/miniforge3/envs/tf/lib/python3.9/site-packages/keras/src/engine/training.py\", line 1303, in run_step\n",
      "      outputs = model.train_step(data)\n",
      "    File \"/home/kervin/miniforge3/envs/tf/lib/python3.9/site-packages/keras/src/engine/training.py\", line 1080, in train_step\n",
      "      y_pred = self(x, training=True)\n",
      "    File \"/home/kervin/miniforge3/envs/tf/lib/python3.9/site-packages/keras/src/utils/traceback_utils.py\", line 65, in error_handler\n",
      "      return fn(*args, **kwargs)\n",
      "    File \"/home/kervin/miniforge3/envs/tf/lib/python3.9/site-packages/keras/src/engine/training.py\", line 569, in __call__\n",
      "      return super().__call__(*args, **kwargs)\n",
      "    File \"/home/kervin/miniforge3/envs/tf/lib/python3.9/site-packages/keras/src/utils/traceback_utils.py\", line 65, in error_handler\n",
      "      return fn(*args, **kwargs)\n",
      "    File \"/home/kervin/miniforge3/envs/tf/lib/python3.9/site-packages/keras/src/engine/base_layer.py\", line 1150, in __call__\n",
      "      outputs = call_fn(inputs, *args, **kwargs)\n",
      "    File \"/home/kervin/miniforge3/envs/tf/lib/python3.9/site-packages/keras/src/utils/traceback_utils.py\", line 96, in error_handler\n",
      "      return fn(*args, **kwargs)\n",
      "    File \"/home/kervin/miniforge3/envs/tf/lib/python3.9/site-packages/keras/src/engine/sequential.py\", line 405, in call\n",
      "      return super().call(inputs, training=training, mask=mask)\n",
      "    File \"/home/kervin/miniforge3/envs/tf/lib/python3.9/site-packages/keras/src/engine/functional.py\", line 512, in call\n",
      "      return self._run_internal_graph(inputs, training=training, mask=mask)\n",
      "    File \"/home/kervin/miniforge3/envs/tf/lib/python3.9/site-packages/keras/src/engine/functional.py\", line 669, in _run_internal_graph\n",
      "      outputs = node.layer(*args, **kwargs)\n",
      "    File \"/home/kervin/miniforge3/envs/tf/lib/python3.9/site-packages/keras/src/utils/traceback_utils.py\", line 65, in error_handler\n",
      "      return fn(*args, **kwargs)\n",
      "    File \"/home/kervin/miniforge3/envs/tf/lib/python3.9/site-packages/keras/src/engine/base_layer.py\", line 1150, in __call__\n",
      "      outputs = call_fn(inputs, *args, **kwargs)\n",
      "    File \"/home/kervin/miniforge3/envs/tf/lib/python3.9/site-packages/keras/src/utils/traceback_utils.py\", line 96, in error_handler\n",
      "      return fn(*args, **kwargs)\n",
      "    File \"/home/kervin/miniforge3/envs/tf/lib/python3.9/site-packages/keras/src/layers/convolutional/base_conv.py\", line 321, in call\n",
      "      return self.activation(outputs)\n",
      "    File \"/home/kervin/miniforge3/envs/tf/lib/python3.9/site-packages/keras/src/activations.py\", line 321, in relu\n",
      "      return backend.relu(\n",
      "    File \"/home/kervin/miniforge3/envs/tf/lib/python3.9/site-packages/keras/src/backend.py\", line 5397, in relu\n",
      "      x = tf.nn.relu(x)\n",
      "Node: 'sequential/conv2d/Relu'\n",
      "OOM when allocating tensor with shape[128,6,222,222] and type float on /job:localhost/replica:0/task:0/device:GPU:0 by allocator GPU_0_bfc\n",
      "\t [[{{node sequential/conv2d/Relu}}]]\n",
      "Hint: If you want to see a list of allocated tensors when OOM happens, add report_tensor_allocations_upon_oom to RunOptions for current allocation info. This isn't available when running in Eager mode.\n",
      " [Op:__inference_train_function_69119]\n",
      "\n",
      "\u001b[34m\u001b[1mwandb\u001b[0m: \u001b[32m\u001b[41mERROR\u001b[0m Run oryni0un errored:\n",
      "\u001b[34m\u001b[1mwandb\u001b[0m: \u001b[32m\u001b[41mERROR\u001b[0m Traceback (most recent call last):\n",
      "\u001b[34m\u001b[1mwandb\u001b[0m: \u001b[32m\u001b[41mERROR\u001b[0m   File \"/home/kervin/miniforge3/envs/tf/lib/python3.9/site-packages/wandb/agents/pyagent.py\", line 308, in _run_job\n",
      "\u001b[34m\u001b[1mwandb\u001b[0m: \u001b[32m\u001b[41mERROR\u001b[0m     self._function()\n",
      "\u001b[34m\u001b[1mwandb\u001b[0m: \u001b[32m\u001b[41mERROR\u001b[0m   File \"/tmp/ipykernel_19536/3935950760.py\", line 9, in train\n",
      "\u001b[34m\u001b[1mwandb\u001b[0m: \u001b[32m\u001b[41mERROR\u001b[0m     model.fit(val_dataset, epochs=config.n_epochs, callbacks=[WandbCallback()])\n",
      "\u001b[34m\u001b[1mwandb\u001b[0m: \u001b[32m\u001b[41mERROR\u001b[0m   File \"/home/kervin/miniforge3/envs/tf/lib/python3.9/site-packages/keras/src/utils/traceback_utils.py\", line 70, in error_handler\n",
      "\u001b[34m\u001b[1mwandb\u001b[0m: \u001b[32m\u001b[41mERROR\u001b[0m     raise e.with_traceback(filtered_tb) from None\n",
      "\u001b[34m\u001b[1mwandb\u001b[0m: \u001b[32m\u001b[41mERROR\u001b[0m   File \"/home/kervin/miniforge3/envs/tf/lib/python3.9/site-packages/tensorflow/python/eager/execute.py\", line 53, in quick_execute\n",
      "\u001b[34m\u001b[1mwandb\u001b[0m: \u001b[32m\u001b[41mERROR\u001b[0m     tensors = pywrap_tfe.TFE_Py_Execute(ctx._handle, device_name, op_name,\n",
      "\u001b[34m\u001b[1mwandb\u001b[0m: \u001b[32m\u001b[41mERROR\u001b[0m tensorflow.python.framework.errors_impl.ResourceExhaustedError: Graph execution error:\n",
      "\u001b[34m\u001b[1mwandb\u001b[0m: \u001b[32m\u001b[41mERROR\u001b[0m \n",
      "\u001b[34m\u001b[1mwandb\u001b[0m: \u001b[32m\u001b[41mERROR\u001b[0m Detected at node 'sequential/conv2d/Relu' defined at (most recent call last):\n",
      "\u001b[34m\u001b[1mwandb\u001b[0m: \u001b[32m\u001b[41mERROR\u001b[0m     File \"/home/kervin/miniforge3/envs/tf/lib/python3.9/threading.py\", line 937, in _bootstrap\n",
      "\u001b[34m\u001b[1mwandb\u001b[0m: \u001b[32m\u001b[41mERROR\u001b[0m       self._bootstrap_inner()\n",
      "\u001b[34m\u001b[1mwandb\u001b[0m: \u001b[32m\u001b[41mERROR\u001b[0m     File \"/home/kervin/miniforge3/envs/tf/lib/python3.9/threading.py\", line 980, in _bootstrap_inner\n",
      "\u001b[34m\u001b[1mwandb\u001b[0m: \u001b[32m\u001b[41mERROR\u001b[0m       self.run()\n",
      "\u001b[34m\u001b[1mwandb\u001b[0m: \u001b[32m\u001b[41mERROR\u001b[0m     File \"/home/kervin/miniforge3/envs/tf/lib/python3.9/site-packages/ipykernel/ipkernel.py\", line 761, in run_closure\n",
      "\u001b[34m\u001b[1mwandb\u001b[0m: \u001b[32m\u001b[41mERROR\u001b[0m       _threading_Thread_run(self)\n",
      "\u001b[34m\u001b[1mwandb\u001b[0m: \u001b[32m\u001b[41mERROR\u001b[0m     File \"/home/kervin/miniforge3/envs/tf/lib/python3.9/threading.py\", line 917, in run\n",
      "\u001b[34m\u001b[1mwandb\u001b[0m: \u001b[32m\u001b[41mERROR\u001b[0m       self._target(*self._args, **self._kwargs)\n",
      "\u001b[34m\u001b[1mwandb\u001b[0m: \u001b[32m\u001b[41mERROR\u001b[0m     File \"/home/kervin/miniforge3/envs/tf/lib/python3.9/site-packages/wandb/agents/pyagent.py\", line 308, in _run_job\n",
      "\u001b[34m\u001b[1mwandb\u001b[0m: \u001b[32m\u001b[41mERROR\u001b[0m       self._function()\n",
      "\u001b[34m\u001b[1mwandb\u001b[0m: \u001b[32m\u001b[41mERROR\u001b[0m     File \"/tmp/ipykernel_19536/3935950760.py\", line 9, in train\n",
      "\u001b[34m\u001b[1mwandb\u001b[0m: \u001b[32m\u001b[41mERROR\u001b[0m       model.fit(val_dataset, epochs=config.n_epochs, callbacks=[WandbCallback()])\n",
      "\u001b[34m\u001b[1mwandb\u001b[0m: \u001b[32m\u001b[41mERROR\u001b[0m     File \"/home/kervin/miniforge3/envs/tf/lib/python3.9/site-packages/keras/src/utils/traceback_utils.py\", line 65, in error_handler\n",
      "\u001b[34m\u001b[1mwandb\u001b[0m: \u001b[32m\u001b[41mERROR\u001b[0m       return fn(*args, **kwargs)\n",
      "\u001b[34m\u001b[1mwandb\u001b[0m: \u001b[32m\u001b[41mERROR\u001b[0m     File \"/home/kervin/miniforge3/envs/tf/lib/python3.9/site-packages/keras/src/engine/training.py\", line 1742, in fit\n",
      "\u001b[34m\u001b[1mwandb\u001b[0m: \u001b[32m\u001b[41mERROR\u001b[0m       tmp_logs = self.train_function(iterator)\n",
      "\u001b[34m\u001b[1mwandb\u001b[0m: \u001b[32m\u001b[41mERROR\u001b[0m     File \"/home/kervin/miniforge3/envs/tf/lib/python3.9/site-packages/keras/src/engine/training.py\", line 1338, in train_function\n",
      "\u001b[34m\u001b[1mwandb\u001b[0m: \u001b[32m\u001b[41mERROR\u001b[0m       return step_function(self, iterator)\n",
      "\u001b[34m\u001b[1mwandb\u001b[0m: \u001b[32m\u001b[41mERROR\u001b[0m     File \"/home/kervin/miniforge3/envs/tf/lib/python3.9/site-packages/keras/src/engine/training.py\", line 1322, in step_function\n",
      "\u001b[34m\u001b[1mwandb\u001b[0m: \u001b[32m\u001b[41mERROR\u001b[0m       outputs = model.distribute_strategy.run(run_step, args=(data,))\n",
      "\u001b[34m\u001b[1mwandb\u001b[0m: \u001b[32m\u001b[41mERROR\u001b[0m     File \"/home/kervin/miniforge3/envs/tf/lib/python3.9/site-packages/keras/src/engine/training.py\", line 1303, in run_step\n",
      "\u001b[34m\u001b[1mwandb\u001b[0m: \u001b[32m\u001b[41mERROR\u001b[0m       outputs = model.train_step(data)\n",
      "\u001b[34m\u001b[1mwandb\u001b[0m: \u001b[32m\u001b[41mERROR\u001b[0m     File \"/home/kervin/miniforge3/envs/tf/lib/python3.9/site-packages/keras/src/engine/training.py\", line 1080, in train_step\n",
      "\u001b[34m\u001b[1mwandb\u001b[0m: \u001b[32m\u001b[41mERROR\u001b[0m       y_pred = self(x, training=True)\n",
      "\u001b[34m\u001b[1mwandb\u001b[0m: \u001b[32m\u001b[41mERROR\u001b[0m     File \"/home/kervin/miniforge3/envs/tf/lib/python3.9/site-packages/keras/src/utils/traceback_utils.py\", line 65, in error_handler\n",
      "\u001b[34m\u001b[1mwandb\u001b[0m: \u001b[32m\u001b[41mERROR\u001b[0m       return fn(*args, **kwargs)\n",
      "\u001b[34m\u001b[1mwandb\u001b[0m: \u001b[32m\u001b[41mERROR\u001b[0m     File \"/home/kervin/miniforge3/envs/tf/lib/python3.9/site-packages/keras/src/engine/training.py\", line 569, in __call__\n",
      "\u001b[34m\u001b[1mwandb\u001b[0m: \u001b[32m\u001b[41mERROR\u001b[0m       return super().__call__(*args, **kwargs)\n",
      "\u001b[34m\u001b[1mwandb\u001b[0m: \u001b[32m\u001b[41mERROR\u001b[0m     File \"/home/kervin/miniforge3/envs/tf/lib/python3.9/site-packages/keras/src/utils/traceback_utils.py\", line 65, in error_handler\n",
      "\u001b[34m\u001b[1mwandb\u001b[0m: \u001b[32m\u001b[41mERROR\u001b[0m       return fn(*args, **kwargs)\n",
      "\u001b[34m\u001b[1mwandb\u001b[0m: \u001b[32m\u001b[41mERROR\u001b[0m     File \"/home/kervin/miniforge3/envs/tf/lib/python3.9/site-packages/keras/src/engine/base_layer.py\", line 1150, in __call__\n",
      "\u001b[34m\u001b[1mwandb\u001b[0m: \u001b[32m\u001b[41mERROR\u001b[0m       outputs = call_fn(inputs, *args, **kwargs)\n",
      "\u001b[34m\u001b[1mwandb\u001b[0m: \u001b[32m\u001b[41mERROR\u001b[0m     File \"/home/kervin/miniforge3/envs/tf/lib/python3.9/site-packages/keras/src/utils/traceback_utils.py\", line 96, in error_handler\n",
      "\u001b[34m\u001b[1mwandb\u001b[0m: \u001b[32m\u001b[41mERROR\u001b[0m       return fn(*args, **kwargs)\n",
      "\u001b[34m\u001b[1mwandb\u001b[0m: \u001b[32m\u001b[41mERROR\u001b[0m     File \"/home/kervin/miniforge3/envs/tf/lib/python3.9/site-packages/keras/src/engine/sequential.py\", line 405, in call\n",
      "\u001b[34m\u001b[1mwandb\u001b[0m: \u001b[32m\u001b[41mERROR\u001b[0m       return super().call(inputs, training=training, mask=mask)\n",
      "\u001b[34m\u001b[1mwandb\u001b[0m: \u001b[32m\u001b[41mERROR\u001b[0m     File \"/home/kervin/miniforge3/envs/tf/lib/python3.9/site-packages/keras/src/engine/functional.py\", line 512, in call\n",
      "\u001b[34m\u001b[1mwandb\u001b[0m: \u001b[32m\u001b[41mERROR\u001b[0m       return self._run_internal_graph(inputs, training=training, mask=mask)\n",
      "\u001b[34m\u001b[1mwandb\u001b[0m: \u001b[32m\u001b[41mERROR\u001b[0m     File \"/home/kervin/miniforge3/envs/tf/lib/python3.9/site-packages/keras/src/engine/functional.py\", line 669, in _run_internal_graph\n",
      "\u001b[34m\u001b[1mwandb\u001b[0m: \u001b[32m\u001b[41mERROR\u001b[0m       outputs = node.layer(*args, **kwargs)\n",
      "\u001b[34m\u001b[1mwandb\u001b[0m: \u001b[32m\u001b[41mERROR\u001b[0m     File \"/home/kervin/miniforge3/envs/tf/lib/python3.9/site-packages/keras/src/utils/traceback_utils.py\", line 65, in error_handler\n",
      "\u001b[34m\u001b[1mwandb\u001b[0m: \u001b[32m\u001b[41mERROR\u001b[0m       return fn(*args, **kwargs)\n",
      "\u001b[34m\u001b[1mwandb\u001b[0m: \u001b[32m\u001b[41mERROR\u001b[0m     File \"/home/kervin/miniforge3/envs/tf/lib/python3.9/site-packages/keras/src/engine/base_layer.py\", line 1150, in __call__\n",
      "\u001b[34m\u001b[1mwandb\u001b[0m: \u001b[32m\u001b[41mERROR\u001b[0m       outputs = call_fn(inputs, *args, **kwargs)\n",
      "\u001b[34m\u001b[1mwandb\u001b[0m: \u001b[32m\u001b[41mERROR\u001b[0m     File \"/home/kervin/miniforge3/envs/tf/lib/python3.9/site-packages/keras/src/utils/traceback_utils.py\", line 96, in error_handler\n",
      "\u001b[34m\u001b[1mwandb\u001b[0m: \u001b[32m\u001b[41mERROR\u001b[0m       return fn(*args, **kwargs)\n",
      "\u001b[34m\u001b[1mwandb\u001b[0m: \u001b[32m\u001b[41mERROR\u001b[0m     File \"/home/kervin/miniforge3/envs/tf/lib/python3.9/site-packages/keras/src/layers/convolutional/base_conv.py\", line 321, in call\n",
      "\u001b[34m\u001b[1mwandb\u001b[0m: \u001b[32m\u001b[41mERROR\u001b[0m       return self.activation(outputs)\n",
      "\u001b[34m\u001b[1mwandb\u001b[0m: \u001b[32m\u001b[41mERROR\u001b[0m     File \"/home/kervin/miniforge3/envs/tf/lib/python3.9/site-packages/keras/src/activations.py\", line 321, in relu\n",
      "\u001b[34m\u001b[1mwandb\u001b[0m: \u001b[32m\u001b[41mERROR\u001b[0m       return backend.relu(\n",
      "\u001b[34m\u001b[1mwandb\u001b[0m: \u001b[32m\u001b[41mERROR\u001b[0m     File \"/home/kervin/miniforge3/envs/tf/lib/python3.9/site-packages/keras/src/backend.py\", line 5397, in relu\n",
      "\u001b[34m\u001b[1mwandb\u001b[0m: \u001b[32m\u001b[41mERROR\u001b[0m       x = tf.nn.relu(x)\n",
      "\u001b[34m\u001b[1mwandb\u001b[0m: \u001b[32m\u001b[41mERROR\u001b[0m Node: 'sequential/conv2d/Relu'\n",
      "\u001b[34m\u001b[1mwandb\u001b[0m: \u001b[32m\u001b[41mERROR\u001b[0m OOM when allocating tensor with shape[128,6,222,222] and type float on /job:localhost/replica:0/task:0/device:GPU:0 by allocator GPU_0_bfc\n",
      "\u001b[34m\u001b[1mwandb\u001b[0m: \u001b[32m\u001b[41mERROR\u001b[0m \t [[{{node sequential/conv2d/Relu}}]]\n",
      "\u001b[34m\u001b[1mwandb\u001b[0m: \u001b[32m\u001b[41mERROR\u001b[0m Hint: If you want to see a list of allocated tensors when OOM happens, add report_tensor_allocations_upon_oom to RunOptions for current allocation info. This isn't available when running in Eager mode.\n",
      "\u001b[34m\u001b[1mwandb\u001b[0m: \u001b[32m\u001b[41mERROR\u001b[0m  [Op:__inference_train_function_69119]\n",
      "\u001b[34m\u001b[1mwandb\u001b[0m: \u001b[32m\u001b[41mERROR\u001b[0m \n",
      "\u001b[34m\u001b[1mwandb\u001b[0m: Agent Starting Run: hr3iyxvg with config:\n",
      "\u001b[34m\u001b[1mwandb\u001b[0m: \tdropout: 0.3354699889509999\n",
      "\u001b[34m\u001b[1mwandb\u001b[0m: \tim_size: 224\n",
      "\u001b[34m\u001b[1mwandb\u001b[0m: \tkernel_size: 3\n",
      "\u001b[34m\u001b[1mwandb\u001b[0m: \tlearning_rate: 0.005393318247701768\n",
      "\u001b[34m\u001b[1mwandb\u001b[0m: \tn_dense_1: 128\n",
      "\u001b[34m\u001b[1mwandb\u001b[0m: \tn_dense_2: 16\n",
      "\u001b[34m\u001b[1mwandb\u001b[0m: \tn_epochs: 1\n",
      "\u001b[34m\u001b[1mwandb\u001b[0m: \tn_filters: 6\n",
      "\u001b[34m\u001b[1mwandb\u001b[0m: \tn_strides: 1\n",
      "\u001b[34m\u001b[1mwandb\u001b[0m: \tpool_size: 224\n",
      "\u001b[34m\u001b[1mwandb\u001b[0m: \tregularization_rate: 0.0725047142966478\n",
      "\u001b[34m\u001b[1mwandb\u001b[0m: \u001b[33mWARNING\u001b[0m Ignored wandb.init() arg project when running a sweep.\n",
      "\u001b[34m\u001b[1mwandb\u001b[0m: \u001b[33mWARNING\u001b[0m Ignored wandb.init() arg entity when running a sweep.\n"
     ]
    },
    {
     "data": {
      "application/vnd.jupyter.widget-view+json": {
       "model_id": "61ddb67106bd49c48d3a08d406ea8c7f",
       "version_major": 2,
       "version_minor": 0
      },
      "text/plain": [
       "VBox(children=(Label(value='Waiting for wandb.init()...\\r'), FloatProgress(value=0.011112167011116171, max=1.0…"
      ]
     },
     "metadata": {},
     "output_type": "display_data"
    },
    {
     "data": {
      "text/html": [
       "Tracking run with wandb version 0.16.6"
      ],
      "text/plain": [
       "<IPython.core.display.HTML object>"
      ]
     },
     "metadata": {},
     "output_type": "display_data"
    },
    {
     "data": {
      "text/html": [
       "Run data is saved locally in <code>/home/kervin/Coding/machine_learning/20_tensorflow_projects/wandb/run-20240414_033550-hr3iyxvg</code>"
      ],
      "text/plain": [
       "<IPython.core.display.HTML object>"
      ]
     },
     "metadata": {},
     "output_type": "display_data"
    },
    {
     "data": {
      "text/html": [
       "Syncing run <strong><a href='https://wandb.ai/kervin5/Malaria-Detection/runs/hr3iyxvg' target=\"_blank\">visionary-sweep-5</a></strong> to <a href='https://wandb.ai/kervin5/Malaria-Detection' target=\"_blank\">Weights & Biases</a> (<a href='https://wandb.me/run' target=\"_blank\">docs</a>)<br/>Sweep page: <a href='https://wandb.ai/kervin5/Malaria-Detection/sweeps/do7b6bjx' target=\"_blank\">https://wandb.ai/kervin5/Malaria-Detection/sweeps/do7b6bjx</a>"
      ],
      "text/plain": [
       "<IPython.core.display.HTML object>"
      ]
     },
     "metadata": {},
     "output_type": "display_data"
    },
    {
     "data": {
      "text/html": [
       " View project at <a href='https://wandb.ai/kervin5/Malaria-Detection' target=\"_blank\">https://wandb.ai/kervin5/Malaria-Detection</a>"
      ],
      "text/plain": [
       "<IPython.core.display.HTML object>"
      ]
     },
     "metadata": {},
     "output_type": "display_data"
    },
    {
     "data": {
      "text/html": [
       " View sweep at <a href='https://wandb.ai/kervin5/Malaria-Detection/sweeps/do7b6bjx' target=\"_blank\">https://wandb.ai/kervin5/Malaria-Detection/sweeps/do7b6bjx</a>"
      ],
      "text/plain": [
       "<IPython.core.display.HTML object>"
      ]
     },
     "metadata": {},
     "output_type": "display_data"
    },
    {
     "data": {
      "text/html": [
       " View run at <a href='https://wandb.ai/kervin5/Malaria-Detection/runs/hr3iyxvg' target=\"_blank\">https://wandb.ai/kervin5/Malaria-Detection/runs/hr3iyxvg</a>"
      ],
      "text/plain": [
       "<IPython.core.display.HTML object>"
      ]
     },
     "metadata": {},
     "output_type": "display_data"
    },
    {
     "name": "stderr",
     "output_type": "stream",
     "text": [
      "2024-04-14 03:35:54.638665: E tensorflow/core/grappler/optimizers/meta_optimizer.cc:954] layout failed: INVALID_ARGUMENT: Size of values 0 does not match size of permutation 4 @ fanin shape insequential/dropout/dropout/SelectV2-2-TransposeNHWCToNCHW-LayoutOptimizer\n",
      "2024-04-14 03:36:05.123040: W tensorflow/tsl/framework/bfc_allocator.cc:485] Allocator (GPU_0_bfc) ran out of memory trying to allocate 73.50MiB (rounded to 77070336)requested by op sequential/conv2d/Relu\n",
      "If the cause is memory fragmentation maybe the environment variable 'TF_GPU_ALLOCATOR=cuda_malloc_async' will improve the situation. \n",
      "Current allocation summary follows.\n",
      "Current allocation summary follows.\n",
      "2024-04-14 03:36:05.123069: I tensorflow/tsl/framework/bfc_allocator.cc:1039] BFCAllocator dump for GPU_0_bfc\n",
      "2024-04-14 03:36:05.123076: I tensorflow/tsl/framework/bfc_allocator.cc:1046] Bin (256): \tTotal Chunks: 409, Chunks in use: 408. 102.2KiB allocated for chunks. 102.0KiB in use in bin. 14.0KiB client-requested in use in bin.\n",
      "2024-04-14 03:36:05.123080: I tensorflow/tsl/framework/bfc_allocator.cc:1046] Bin (512): \tTotal Chunks: 75, Chunks in use: 75. 41.8KiB allocated for chunks. 41.8KiB in use in bin. 39.0KiB client-requested in use in bin.\n",
      "2024-04-14 03:36:05.123083: I tensorflow/tsl/framework/bfc_allocator.cc:1046] Bin (1024): \tTotal Chunks: 7, Chunks in use: 7. 7.2KiB allocated for chunks. 7.2KiB in use in bin. 5.6KiB client-requested in use in bin.\n",
      "2024-04-14 03:36:05.123087: I tensorflow/tsl/framework/bfc_allocator.cc:1046] Bin (2048): \tTotal Chunks: 20, Chunks in use: 20. 65.5KiB allocated for chunks. 65.5KiB in use in bin. 63.4KiB client-requested in use in bin.\n",
      "2024-04-14 03:36:05.123090: I tensorflow/tsl/framework/bfc_allocator.cc:1046] Bin (4096): \tTotal Chunks: 6, Chunks in use: 6. 24.5KiB allocated for chunks. 24.5KiB in use in bin. 24.0KiB client-requested in use in bin.\n",
      "2024-04-14 03:36:05.123094: I tensorflow/tsl/framework/bfc_allocator.cc:1046] Bin (8192): \tTotal Chunks: 7, Chunks in use: 7. 59.2KiB allocated for chunks. 59.2KiB in use in bin. 56.0KiB client-requested in use in bin.\n",
      "2024-04-14 03:36:05.123097: I tensorflow/tsl/framework/bfc_allocator.cc:1046] Bin (16384): \tTotal Chunks: 8, Chunks in use: 8. 183.5KiB allocated for chunks. 183.5KiB in use in bin. 158.2KiB client-requested in use in bin.\n",
      "2024-04-14 03:36:05.123101: I tensorflow/tsl/framework/bfc_allocator.cc:1046] Bin (32768): \tTotal Chunks: 0, Chunks in use: 0. 0B allocated for chunks. 0B in use in bin. 0B client-requested in use in bin.\n",
      "2024-04-14 03:36:05.123106: I tensorflow/tsl/framework/bfc_allocator.cc:1046] Bin (65536): \tTotal Chunks: 1, Chunks in use: 0. 93.8KiB allocated for chunks. 0B in use in bin. 0B client-requested in use in bin.\n",
      "2024-04-14 03:36:05.123109: I tensorflow/tsl/framework/bfc_allocator.cc:1046] Bin (131072): \tTotal Chunks: 0, Chunks in use: 0. 0B allocated for chunks. 0B in use in bin. 0B client-requested in use in bin.\n",
      "2024-04-14 03:36:05.123112: I tensorflow/tsl/framework/bfc_allocator.cc:1046] Bin (262144): \tTotal Chunks: 2, Chunks in use: 1. 795.5KiB allocated for chunks. 390.8KiB in use in bin. 390.6KiB client-requested in use in bin.\n",
      "2024-04-14 03:36:05.123115: I tensorflow/tsl/framework/bfc_allocator.cc:1046] Bin (524288): \tTotal Chunks: 0, Chunks in use: 0. 0B allocated for chunks. 0B in use in bin. 0B client-requested in use in bin.\n",
      "2024-04-14 03:36:05.123118: I tensorflow/tsl/framework/bfc_allocator.cc:1046] Bin (1048576): \tTotal Chunks: 0, Chunks in use: 0. 0B allocated for chunks. 0B in use in bin. 0B client-requested in use in bin.\n",
      "2024-04-14 03:36:05.123121: I tensorflow/tsl/framework/bfc_allocator.cc:1046] Bin (2097152): \tTotal Chunks: 6, Chunks in use: 6. 17.72MiB allocated for chunks. 17.72MiB in use in bin. 17.72MiB client-requested in use in bin.\n",
      "2024-04-14 03:36:05.123125: I tensorflow/tsl/framework/bfc_allocator.cc:1046] Bin (4194304): \tTotal Chunks: 3, Chunks in use: 3. 17.72MiB allocated for chunks. 17.72MiB in use in bin. 17.72MiB client-requested in use in bin.\n",
      "2024-04-14 03:36:05.123128: I tensorflow/tsl/framework/bfc_allocator.cc:1046] Bin (8388608): \tTotal Chunks: 0, Chunks in use: 0. 0B allocated for chunks. 0B in use in bin. 0B client-requested in use in bin.\n",
      "2024-04-14 03:36:05.123131: I tensorflow/tsl/framework/bfc_allocator.cc:1046] Bin (16777216): \tTotal Chunks: 6, Chunks in use: 6. 141.80MiB allocated for chunks. 141.80MiB in use in bin. 141.80MiB client-requested in use in bin.\n",
      "2024-04-14 03:36:05.123135: I tensorflow/tsl/framework/bfc_allocator.cc:1046] Bin (33554432): \tTotal Chunks: 1, Chunks in use: 1. 33.10MiB allocated for chunks. 33.10MiB in use in bin. 23.63MiB client-requested in use in bin.\n",
      "2024-04-14 03:36:05.123138: I tensorflow/tsl/framework/bfc_allocator.cc:1046] Bin (67108864): \tTotal Chunks: 1, Chunks in use: 1. 73.50MiB allocated for chunks. 73.50MiB in use in bin. 73.50MiB client-requested in use in bin.\n",
      "2024-04-14 03:36:05.123142: I tensorflow/tsl/framework/bfc_allocator.cc:1046] Bin (134217728): \tTotal Chunks: 1, Chunks in use: 1. 177.98MiB allocated for chunks. 177.98MiB in use in bin. 177.98MiB client-requested in use in bin.\n",
      "2024-04-14 03:36:05.123146: I tensorflow/tsl/framework/bfc_allocator.cc:1046] Bin (268435456): \tTotal Chunks: 1, Chunks in use: 1. 259.40MiB allocated for chunks. 259.40MiB in use in bin. 144.39MiB client-requested in use in bin.\n",
      "2024-04-14 03:36:05.123149: I tensorflow/tsl/framework/bfc_allocator.cc:1062] Bin for 73.50MiB was 64.00MiB, Chunk State: \n",
      "2024-04-14 03:36:05.123153: I tensorflow/tsl/framework/bfc_allocator.cc:1075] Next region of size 757661696\n",
      "2024-04-14 03:36:05.123158: I tensorflow/tsl/framework/bfc_allocator.cc:1095] InUse at 78dc18000000 of size 1280 next 1\n",
      "2024-04-14 03:36:05.123161: I tensorflow/tsl/framework/bfc_allocator.cc:1095] InUse at 78dc18000500 of size 256 next 2\n",
      "2024-04-14 03:36:05.123164: I tensorflow/tsl/framework/bfc_allocator.cc:1095] InUse at 78dc18000600 of size 256 next 3\n",
      "2024-04-14 03:36:05.123167: I tensorflow/tsl/framework/bfc_allocator.cc:1095] InUse at 78dc18000700 of size 256 next 4\n",
      "2024-04-14 03:36:05.123169: I tensorflow/tsl/framework/bfc_allocator.cc:1095] InUse at 78dc18000800 of size 256 next 5\n",
      "2024-04-14 03:36:05.123172: I tensorflow/tsl/framework/bfc_allocator.cc:1095] InUse at 78dc18000900 of size 256 next 6\n",
      "2024-04-14 03:36:05.123174: I tensorflow/tsl/framework/bfc_allocator.cc:1095] InUse at 78dc18000a00 of size 256 next 7\n",
      "2024-04-14 03:36:05.123177: I tensorflow/tsl/framework/bfc_allocator.cc:1095] InUse at 78dc18000b00 of size 256 next 8\n",
      "2024-04-14 03:36:05.123180: I tensorflow/tsl/framework/bfc_allocator.cc:1095] InUse at 78dc18000c00 of size 256 next 9\n",
      "2024-04-14 03:36:05.123182: I tensorflow/tsl/framework/bfc_allocator.cc:1095] InUse at 78dc18000d00 of size 256 next 10\n",
      "2024-04-14 03:36:05.123185: I tensorflow/tsl/framework/bfc_allocator.cc:1095] InUse at 78dc18000e00 of size 32000 next 88\n",
      "2024-04-14 03:36:05.123188: I tensorflow/tsl/framework/bfc_allocator.cc:1095] InUse at 78dc18008b00 of size 256 next 89\n",
      "2024-04-14 03:36:05.123191: I tensorflow/tsl/framework/bfc_allocator.cc:1095] InUse at 78dc18008c00 of size 256 next 14\n",
      "2024-04-14 03:36:05.123194: I tensorflow/tsl/framework/bfc_allocator.cc:1095] InUse at 78dc18008d00 of size 256 next 13\n",
      "2024-04-14 03:36:05.123196: I tensorflow/tsl/framework/bfc_allocator.cc:1095] InUse at 78dc18008e00 of size 256 next 112\n",
      "2024-04-14 03:36:05.123199: I tensorflow/tsl/framework/bfc_allocator.cc:1095] InUse at 78dc18008f00 of size 256 next 18\n",
      "2024-04-14 03:36:05.123202: I tensorflow/tsl/framework/bfc_allocator.cc:1095] Free  at 78dc18009000 of size 414464 next 111\n",
      "2024-04-14 03:36:05.123204: I tensorflow/tsl/framework/bfc_allocator.cc:1095] InUse at 78dc1806e300 of size 32000 next 17\n",
      "2024-04-14 03:36:05.123207: I tensorflow/tsl/framework/bfc_allocator.cc:1095] InUse at 78dc18076000 of size 256 next 19\n",
      "2024-04-14 03:36:05.123209: I tensorflow/tsl/framework/bfc_allocator.cc:1095] InUse at 78dc18076100 of size 256 next 15\n",
      "2024-04-14 03:36:05.123212: I tensorflow/tsl/framework/bfc_allocator.cc:1095] InUse at 78dc18076200 of size 256 next 16\n",
      "2024-04-14 03:36:05.123215: I tensorflow/tsl/framework/bfc_allocator.cc:1095] InUse at 78dc18076300 of size 256 next 21\n",
      "2024-04-14 03:36:05.123217: I tensorflow/tsl/framework/bfc_allocator.cc:1095] InUse at 78dc18076400 of size 256 next 20\n",
      "2024-04-14 03:36:05.123220: I tensorflow/tsl/framework/bfc_allocator.cc:1095] InUse at 78dc18076500 of size 256 next 22\n",
      "2024-04-14 03:36:05.123222: I tensorflow/tsl/framework/bfc_allocator.cc:1095] InUse at 78dc18076600 of size 256 next 24\n",
      "2024-04-14 03:36:05.123225: I tensorflow/tsl/framework/bfc_allocator.cc:1095] InUse at 78dc18076700 of size 256 next 25\n",
      "2024-04-14 03:36:05.123228: I tensorflow/tsl/framework/bfc_allocator.cc:1095] InUse at 78dc18076800 of size 256 next 23\n",
      "2024-04-14 03:36:05.123231: I tensorflow/tsl/framework/bfc_allocator.cc:1095] InUse at 78dc18076900 of size 256 next 26\n",
      "2024-04-14 03:36:05.123234: I tensorflow/tsl/framework/bfc_allocator.cc:1095] InUse at 78dc18076a00 of size 256 next 29\n",
      "2024-04-14 03:36:05.123236: I tensorflow/tsl/framework/bfc_allocator.cc:1095] InUse at 78dc18076b00 of size 256 next 30\n",
      "2024-04-14 03:36:05.123239: I tensorflow/tsl/framework/bfc_allocator.cc:1095] InUse at 78dc18076c00 of size 256 next 31\n",
      "2024-04-14 03:36:05.123241: I tensorflow/tsl/framework/bfc_allocator.cc:1095] InUse at 78dc18076d00 of size 256 next 32\n",
      "2024-04-14 03:36:05.123244: I tensorflow/tsl/framework/bfc_allocator.cc:1095] InUse at 78dc18076e00 of size 256 next 27\n",
      "2024-04-14 03:36:05.123247: I tensorflow/tsl/framework/bfc_allocator.cc:1095] InUse at 78dc18076f00 of size 768 next 28\n",
      "2024-04-14 03:36:05.123249: I tensorflow/tsl/framework/bfc_allocator.cc:1095] InUse at 78dc18077200 of size 256 next 34\n",
      "2024-04-14 03:36:05.123252: I tensorflow/tsl/framework/bfc_allocator.cc:1095] InUse at 78dc18077300 of size 256 next 35\n",
      "2024-04-14 03:36:05.123254: I tensorflow/tsl/framework/bfc_allocator.cc:1095] InUse at 78dc18077400 of size 256 next 33\n",
      "2024-04-14 03:36:05.123257: I tensorflow/tsl/framework/bfc_allocator.cc:1095] InUse at 78dc18077500 of size 256 next 36\n",
      "2024-04-14 03:36:05.123260: I tensorflow/tsl/framework/bfc_allocator.cc:1095] InUse at 78dc18077600 of size 256 next 39\n",
      "2024-04-14 03:36:05.123262: I tensorflow/tsl/framework/bfc_allocator.cc:1095] InUse at 78dc18077700 of size 256 next 41\n",
      "2024-04-14 03:36:05.123265: I tensorflow/tsl/framework/bfc_allocator.cc:1095] InUse at 78dc18077800 of size 256 next 42\n",
      "2024-04-14 03:36:05.123267: I tensorflow/tsl/framework/bfc_allocator.cc:1095] InUse at 78dc18077900 of size 256 next 56\n",
      "2024-04-14 03:36:05.123270: I tensorflow/tsl/framework/bfc_allocator.cc:1095] InUse at 78dc18077a00 of size 256 next 57\n",
      "2024-04-14 03:36:05.123272: I tensorflow/tsl/framework/bfc_allocator.cc:1095] InUse at 78dc18077b00 of size 256 next 58\n",
      "2024-04-14 03:36:05.123275: I tensorflow/tsl/framework/bfc_allocator.cc:1095] InUse at 78dc18077c00 of size 256 next 52\n",
      "2024-04-14 03:36:05.123278: I tensorflow/tsl/framework/bfc_allocator.cc:1095] InUse at 78dc18077d00 of size 256 next 59\n",
      "2024-04-14 03:36:05.123280: I tensorflow/tsl/framework/bfc_allocator.cc:1095] InUse at 78dc18077e00 of size 256 next 67\n",
      "2024-04-14 03:36:05.123283: I tensorflow/tsl/framework/bfc_allocator.cc:1095] InUse at 78dc18077f00 of size 256 next 68\n",
      "2024-04-14 03:36:05.123285: I tensorflow/tsl/framework/bfc_allocator.cc:1095] InUse at 78dc18078000 of size 256 next 71\n",
      "2024-04-14 03:36:05.123288: I tensorflow/tsl/framework/bfc_allocator.cc:1095] InUse at 78dc18078100 of size 768 next 47\n",
      "2024-04-14 03:36:05.123291: I tensorflow/tsl/framework/bfc_allocator.cc:1095] InUse at 78dc18078400 of size 1024 next 48\n",
      "2024-04-14 03:36:05.123293: I tensorflow/tsl/framework/bfc_allocator.cc:1095] InUse at 78dc18078800 of size 256 next 44\n",
      "2024-04-14 03:36:05.123296: I tensorflow/tsl/framework/bfc_allocator.cc:1095] InUse at 78dc18078900 of size 256 next 43\n",
      "2024-04-14 03:36:05.123298: I tensorflow/tsl/framework/bfc_allocator.cc:1095] InUse at 78dc18078a00 of size 256 next 46\n",
      "2024-04-14 03:36:05.123301: I tensorflow/tsl/framework/bfc_allocator.cc:1095] InUse at 78dc18078b00 of size 256 next 49\n",
      "2024-04-14 03:36:05.123304: I tensorflow/tsl/framework/bfc_allocator.cc:1095] InUse at 78dc18078c00 of size 256 next 50\n",
      "2024-04-14 03:36:05.123306: I tensorflow/tsl/framework/bfc_allocator.cc:1095] InUse at 78dc18078d00 of size 256 next 45\n",
      "2024-04-14 03:36:05.123309: I tensorflow/tsl/framework/bfc_allocator.cc:1095] InUse at 78dc18078e00 of size 256 next 51\n",
      "2024-04-14 03:36:05.123311: I tensorflow/tsl/framework/bfc_allocator.cc:1095] InUse at 78dc18078f00 of size 256 next 53\n",
      "2024-04-14 03:36:05.123314: I tensorflow/tsl/framework/bfc_allocator.cc:1095] InUse at 78dc18079000 of size 256 next 37\n",
      "2024-04-14 03:36:05.123316: I tensorflow/tsl/framework/bfc_allocator.cc:1095] InUse at 78dc18079100 of size 3584 next 38\n",
      "2024-04-14 03:36:05.123320: I tensorflow/tsl/framework/bfc_allocator.cc:1095] InUse at 78dc18079f00 of size 4096 next 64\n",
      "2024-04-14 03:36:05.123323: I tensorflow/tsl/framework/bfc_allocator.cc:1095] InUse at 78dc1807af00 of size 256 next 77\n",
      "2024-04-14 03:36:05.123327: I tensorflow/tsl/framework/bfc_allocator.cc:1095] InUse at 78dc1807b000 of size 256 next 72\n",
      "2024-04-14 03:36:05.123330: I tensorflow/tsl/framework/bfc_allocator.cc:1095] InUse at 78dc1807b100 of size 512 next 69\n",
      "2024-04-14 03:36:05.123334: I tensorflow/tsl/framework/bfc_allocator.cc:1095] InUse at 78dc1807b300 of size 512 next 70\n",
      "2024-04-14 03:36:05.123337: I tensorflow/tsl/framework/bfc_allocator.cc:1095] InUse at 78dc1807b500 of size 512 next 73\n",
      "2024-04-14 03:36:05.123340: I tensorflow/tsl/framework/bfc_allocator.cc:1095] InUse at 78dc1807b700 of size 512 next 76\n",
      "2024-04-14 03:36:05.123344: I tensorflow/tsl/framework/bfc_allocator.cc:1095] InUse at 78dc1807b900 of size 256 next 81\n",
      "2024-04-14 03:36:05.123347: I tensorflow/tsl/framework/bfc_allocator.cc:1095] InUse at 78dc1807ba00 of size 256 next 80\n",
      "2024-04-14 03:36:05.123350: I tensorflow/tsl/framework/bfc_allocator.cc:1095] InUse at 78dc1807bb00 of size 256 next 82\n",
      "2024-04-14 03:36:05.123354: I tensorflow/tsl/framework/bfc_allocator.cc:1095] InUse at 78dc1807bc00 of size 256 next 40\n",
      "2024-04-14 03:36:05.123357: I tensorflow/tsl/framework/bfc_allocator.cc:1095] InUse at 78dc1807bd00 of size 256 next 78\n",
      "2024-04-14 03:36:05.123360: I tensorflow/tsl/framework/bfc_allocator.cc:1095] InUse at 78dc1807be00 of size 256 next 79\n",
      "2024-04-14 03:36:05.123364: I tensorflow/tsl/framework/bfc_allocator.cc:1095] InUse at 78dc1807bf00 of size 256 next 84\n",
      "2024-04-14 03:36:05.123367: I tensorflow/tsl/framework/bfc_allocator.cc:1095] InUse at 78dc1807c000 of size 256 next 85\n",
      "2024-04-14 03:36:05.123370: I tensorflow/tsl/framework/bfc_allocator.cc:1095] InUse at 78dc1807c100 of size 256 next 86\n",
      "2024-04-14 03:36:05.123374: I tensorflow/tsl/framework/bfc_allocator.cc:1095] InUse at 78dc1807c200 of size 256 next 54\n",
      "2024-04-14 03:36:05.123377: I tensorflow/tsl/framework/bfc_allocator.cc:1095] InUse at 78dc1807c300 of size 4608 next 55\n",
      "2024-04-14 03:36:05.123381: I tensorflow/tsl/framework/bfc_allocator.cc:1095] InUse at 78dc1807d500 of size 4096 next 60\n",
      "2024-04-14 03:36:05.123384: I tensorflow/tsl/framework/bfc_allocator.cc:1095] InUse at 78dc1807e500 of size 4096 next 61\n",
      "2024-04-14 03:36:05.123388: I tensorflow/tsl/framework/bfc_allocator.cc:1095] InUse at 78dc1807f500 of size 4096 next 63\n",
      "2024-04-14 03:36:05.123391: I tensorflow/tsl/framework/bfc_allocator.cc:1095] InUse at 78dc18080500 of size 4096 next 66\n",
      "2024-04-14 03:36:05.123394: I tensorflow/tsl/framework/bfc_allocator.cc:1095] InUse at 78dc18081500 of size 512 next 83\n",
      "2024-04-14 03:36:05.123398: I tensorflow/tsl/framework/bfc_allocator.cc:1095] InUse at 78dc18081700 of size 256 next 87\n",
      "2024-04-14 03:36:05.123401: I tensorflow/tsl/framework/bfc_allocator.cc:1095] InUse at 78dc18081800 of size 1024 next 90\n",
      "2024-04-14 03:36:05.123404: I tensorflow/tsl/framework/bfc_allocator.cc:1095] InUse at 78dc18081c00 of size 1024 next 94\n",
      "2024-04-14 03:36:05.123408: I tensorflow/tsl/framework/bfc_allocator.cc:1095] InUse at 78dc18082000 of size 1024 next 93\n",
      "2024-04-14 03:36:05.123411: I tensorflow/tsl/framework/bfc_allocator.cc:1095] InUse at 78dc18082400 of size 1024 next 92\n",
      "2024-04-14 03:36:05.123415: I tensorflow/tsl/framework/bfc_allocator.cc:1095] InUse at 78dc18082800 of size 256 next 91\n",
      "2024-04-14 03:36:05.123418: I tensorflow/tsl/framework/bfc_allocator.cc:1095] InUse at 78dc18082900 of size 256 next 95\n",
      "2024-04-14 03:36:05.123421: I tensorflow/tsl/framework/bfc_allocator.cc:1095] InUse at 78dc18082a00 of size 256 next 97\n",
      "2024-04-14 03:36:05.123425: I tensorflow/tsl/framework/bfc_allocator.cc:1095] InUse at 78dc18082b00 of size 256 next 98\n",
      "2024-04-14 03:36:05.123428: I tensorflow/tsl/framework/bfc_allocator.cc:1095] InUse at 78dc18082c00 of size 256 next 96\n",
      "2024-04-14 03:36:05.123432: I tensorflow/tsl/framework/bfc_allocator.cc:1095] InUse at 78dc18082d00 of size 256 next 99\n",
      "2024-04-14 03:36:05.123436: I tensorflow/tsl/framework/bfc_allocator.cc:1095] InUse at 78dc18082e00 of size 256 next 102\n",
      "2024-04-14 03:36:05.123440: I tensorflow/tsl/framework/bfc_allocator.cc:1095] InUse at 78dc18082f00 of size 256 next 105\n",
      "2024-04-14 03:36:05.123443: I tensorflow/tsl/framework/bfc_allocator.cc:1095] InUse at 78dc18083000 of size 256 next 103\n",
      "2024-04-14 03:36:05.123446: I tensorflow/tsl/framework/bfc_allocator.cc:1095] InUse at 78dc18083100 of size 256 next 104\n",
      "2024-04-14 03:36:05.123450: I tensorflow/tsl/framework/bfc_allocator.cc:1095] InUse at 78dc18083200 of size 256 next 100\n",
      "2024-04-14 03:36:05.123454: I tensorflow/tsl/framework/bfc_allocator.cc:1095] InUse at 78dc18083300 of size 768 next 101\n",
      "2024-04-14 03:36:05.123457: I tensorflow/tsl/framework/bfc_allocator.cc:1095] InUse at 78dc18083600 of size 256 next 108\n",
      "2024-04-14 03:36:05.123461: I tensorflow/tsl/framework/bfc_allocator.cc:1095] InUse at 78dc18083700 of size 256 next 109\n",
      "2024-04-14 03:36:05.123464: I tensorflow/tsl/framework/bfc_allocator.cc:1095] InUse at 78dc18083800 of size 256 next 110\n",
      "2024-04-14 03:36:05.123467: I tensorflow/tsl/framework/bfc_allocator.cc:1095] InUse at 78dc18083900 of size 256 next 115\n",
      "2024-04-14 03:36:05.123470: I tensorflow/tsl/framework/bfc_allocator.cc:1095] InUse at 78dc18083a00 of size 256 next 113\n",
      "2024-04-14 03:36:05.123473: I tensorflow/tsl/framework/bfc_allocator.cc:1095] InUse at 78dc18083b00 of size 256 next 114\n",
      "2024-04-14 03:36:05.123477: I tensorflow/tsl/framework/bfc_allocator.cc:1095] InUse at 78dc18083c00 of size 256 next 118\n",
      "2024-04-14 03:36:05.123480: I tensorflow/tsl/framework/bfc_allocator.cc:1095] InUse at 78dc18083d00 of size 256 next 119\n",
      "2024-04-14 03:36:05.123484: I tensorflow/tsl/framework/bfc_allocator.cc:1095] InUse at 78dc18083e00 of size 256 next 120\n",
      "2024-04-14 03:36:05.123487: I tensorflow/tsl/framework/bfc_allocator.cc:1095] InUse at 78dc18083f00 of size 256 next 121\n",
      "2024-04-14 03:36:05.123490: I tensorflow/tsl/framework/bfc_allocator.cc:1095] InUse at 78dc18084000 of size 512 next 124\n",
      "2024-04-14 03:36:05.123494: I tensorflow/tsl/framework/bfc_allocator.cc:1095] InUse at 78dc18084200 of size 512 next 122\n",
      "2024-04-14 03:36:05.123496: I tensorflow/tsl/framework/bfc_allocator.cc:1095] InUse at 78dc18084400 of size 512 next 123\n",
      "2024-04-14 03:36:05.123499: I tensorflow/tsl/framework/bfc_allocator.cc:1095] InUse at 78dc18084600 of size 512 next 125\n",
      "2024-04-14 03:36:05.123501: I tensorflow/tsl/framework/bfc_allocator.cc:1095] InUse at 78dc18084800 of size 512 next 127\n",
      "2024-04-14 03:36:05.123504: I tensorflow/tsl/framework/bfc_allocator.cc:1095] InUse at 78dc18084a00 of size 256 next 128\n",
      "2024-04-14 03:36:05.123507: I tensorflow/tsl/framework/bfc_allocator.cc:1095] InUse at 78dc18084b00 of size 256 next 129\n",
      "2024-04-14 03:36:05.123509: I tensorflow/tsl/framework/bfc_allocator.cc:1095] InUse at 78dc18084c00 of size 256 next 131\n",
      "2024-04-14 03:36:05.123512: I tensorflow/tsl/framework/bfc_allocator.cc:1095] InUse at 78dc18084d00 of size 256 next 130\n",
      "2024-04-14 03:36:05.123514: I tensorflow/tsl/framework/bfc_allocator.cc:1095] InUse at 78dc18084e00 of size 256 next 134\n",
      "2024-04-14 03:36:05.123517: I tensorflow/tsl/framework/bfc_allocator.cc:1095] InUse at 78dc18084f00 of size 256 next 132\n",
      "2024-04-14 03:36:05.123519: I tensorflow/tsl/framework/bfc_allocator.cc:1095] InUse at 78dc18085000 of size 512 next 107\n",
      "2024-04-14 03:36:05.123522: I tensorflow/tsl/framework/bfc_allocator.cc:1095] InUse at 78dc18085200 of size 3584 next 106\n",
      "2024-04-14 03:36:05.123525: I tensorflow/tsl/framework/bfc_allocator.cc:1095] InUse at 78dc18086000 of size 256 next 133\n",
      "2024-04-14 03:36:05.123527: I tensorflow/tsl/framework/bfc_allocator.cc:1095] InUse at 78dc18086100 of size 256 next 135\n",
      "2024-04-14 03:36:05.123530: I tensorflow/tsl/framework/bfc_allocator.cc:1095] InUse at 78dc18086200 of size 256 next 136\n",
      "2024-04-14 03:36:05.123532: I tensorflow/tsl/framework/bfc_allocator.cc:1095] InUse at 78dc18086300 of size 256 next 137\n",
      "2024-04-14 03:36:05.123536: I tensorflow/tsl/framework/bfc_allocator.cc:1095] InUse at 78dc18086400 of size 256 next 138\n",
      "2024-04-14 03:36:05.123538: I tensorflow/tsl/framework/bfc_allocator.cc:1095] InUse at 78dc18086500 of size 768 next 139\n",
      "2024-04-14 03:36:05.123541: I tensorflow/tsl/framework/bfc_allocator.cc:1095] InUse at 78dc18086800 of size 256 next 140\n",
      "2024-04-14 03:36:05.123543: I tensorflow/tsl/framework/bfc_allocator.cc:1095] InUse at 78dc18086900 of size 256 next 141\n",
      "2024-04-14 03:36:05.123546: I tensorflow/tsl/framework/bfc_allocator.cc:1095] InUse at 78dc18086a00 of size 256 next 142\n",
      "2024-04-14 03:36:05.123548: I tensorflow/tsl/framework/bfc_allocator.cc:1095] InUse at 78dc18086b00 of size 3584 next 143\n",
      "2024-04-14 03:36:05.123551: I tensorflow/tsl/framework/bfc_allocator.cc:1095] InUse at 78dc18087900 of size 256 next 144\n",
      "2024-04-14 03:36:05.123553: I tensorflow/tsl/framework/bfc_allocator.cc:1095] InUse at 78dc18087a00 of size 256 next 145\n",
      "2024-04-14 03:36:05.123556: I tensorflow/tsl/framework/bfc_allocator.cc:1095] InUse at 78dc18087b00 of size 256 next 146\n",
      "2024-04-14 03:36:05.123559: I tensorflow/tsl/framework/bfc_allocator.cc:1095] InUse at 78dc18087c00 of size 256 next 148\n",
      "2024-04-14 03:36:05.123561: I tensorflow/tsl/framework/bfc_allocator.cc:1095] InUse at 78dc18087d00 of size 256 next 149\n",
      "2024-04-14 03:36:05.123564: I tensorflow/tsl/framework/bfc_allocator.cc:1095] InUse at 78dc18087e00 of size 256 next 150\n",
      "2024-04-14 03:36:05.123567: I tensorflow/tsl/framework/bfc_allocator.cc:1095] InUse at 78dc18087f00 of size 24832 next 126\n",
      "2024-04-14 03:36:05.123569: I tensorflow/tsl/framework/bfc_allocator.cc:1095] InUse at 78dc1808e000 of size 24064 next 11\n",
      "2024-04-14 03:36:05.123572: I tensorflow/tsl/framework/bfc_allocator.cc:1095] InUse at 78dc18093e00 of size 256 next 12\n",
      "2024-04-14 03:36:05.123575: I tensorflow/tsl/framework/bfc_allocator.cc:1095] InUse at 78dc18093f00 of size 24780800 next 541\n",
      "2024-04-14 03:36:05.123577: I tensorflow/tsl/framework/bfc_allocator.cc:1095] InUse at 78dc19835f00 of size 77070336 next 544\n",
      "2024-04-14 03:36:05.123580: I tensorflow/tsl/framework/bfc_allocator.cc:1095] InUse at 78dc1e1b5f00 of size 271998976 next 65\n",
      "2024-04-14 03:36:05.123583: I tensorflow/tsl/framework/bfc_allocator.cc:1095] InUse at 78dc2e51bf00 of size 186624000 next 62\n",
      "2024-04-14 03:36:05.123585: I tensorflow/tsl/framework/bfc_allocator.cc:1095] InUse at 78dc39716700 of size 512 next 151\n",
      "2024-04-14 03:36:05.123588: I tensorflow/tsl/framework/bfc_allocator.cc:1095] InUse at 78dc39716900 of size 512 next 152\n",
      "2024-04-14 03:36:05.123591: I tensorflow/tsl/framework/bfc_allocator.cc:1095] InUse at 78dc39716b00 of size 512 next 153\n",
      "2024-04-14 03:36:05.123593: I tensorflow/tsl/framework/bfc_allocator.cc:1095] InUse at 78dc39716d00 of size 512 next 154\n",
      "2024-04-14 03:36:05.123596: I tensorflow/tsl/framework/bfc_allocator.cc:1095] InUse at 78dc39716f00 of size 256 next 155\n",
      "2024-04-14 03:36:05.123598: I tensorflow/tsl/framework/bfc_allocator.cc:1095] InUse at 78dc39717000 of size 768 next 156\n",
      "2024-04-14 03:36:05.123601: I tensorflow/tsl/framework/bfc_allocator.cc:1095] InUse at 78dc39717300 of size 256 next 157\n",
      "2024-04-14 03:36:05.123604: I tensorflow/tsl/framework/bfc_allocator.cc:1095] InUse at 78dc39717400 of size 256 next 158\n",
      "2024-04-14 03:36:05.123606: I tensorflow/tsl/framework/bfc_allocator.cc:1095] InUse at 78dc39717500 of size 256 next 159\n",
      "2024-04-14 03:36:05.123609: I tensorflow/tsl/framework/bfc_allocator.cc:1095] InUse at 78dc39717600 of size 3584 next 160\n",
      "2024-04-14 03:36:05.123611: I tensorflow/tsl/framework/bfc_allocator.cc:1095] InUse at 78dc39718400 of size 256 next 161\n",
      "2024-04-14 03:36:05.123614: I tensorflow/tsl/framework/bfc_allocator.cc:1095] InUse at 78dc39718500 of size 256 next 162\n",
      "2024-04-14 03:36:05.123617: I tensorflow/tsl/framework/bfc_allocator.cc:1095] InUse at 78dc39718600 of size 256 next 163\n",
      "2024-04-14 03:36:05.123619: I tensorflow/tsl/framework/bfc_allocator.cc:1095] InUse at 78dc39718700 of size 256 next 164\n",
      "2024-04-14 03:36:05.123623: I tensorflow/tsl/framework/bfc_allocator.cc:1095] InUse at 78dc39718800 of size 256 next 165\n",
      "2024-04-14 03:36:05.123625: I tensorflow/tsl/framework/bfc_allocator.cc:1095] InUse at 78dc39718900 of size 256 next 166\n",
      "2024-04-14 03:36:05.123628: I tensorflow/tsl/framework/bfc_allocator.cc:1095] InUse at 78dc39718a00 of size 16384 next 167\n",
      "2024-04-14 03:36:05.123631: I tensorflow/tsl/framework/bfc_allocator.cc:1095] InUse at 78dc3971ca00 of size 512 next 168\n",
      "2024-04-14 03:36:05.123633: I tensorflow/tsl/framework/bfc_allocator.cc:1095] InUse at 78dc3971cc00 of size 512 next 169\n",
      "2024-04-14 03:36:05.123636: I tensorflow/tsl/framework/bfc_allocator.cc:1095] InUse at 78dc3971ce00 of size 512 next 170\n",
      "2024-04-14 03:36:05.123638: I tensorflow/tsl/framework/bfc_allocator.cc:1095] InUse at 78dc3971d000 of size 512 next 171\n",
      "2024-04-14 03:36:05.123641: I tensorflow/tsl/framework/bfc_allocator.cc:1095] InUse at 78dc3971d200 of size 256 next 172\n",
      "2024-04-14 03:36:05.123644: I tensorflow/tsl/framework/bfc_allocator.cc:1095] InUse at 78dc3971d300 of size 256 next 173\n",
      "2024-04-14 03:36:05.123646: I tensorflow/tsl/framework/bfc_allocator.cc:1095] InUse at 78dc3971d400 of size 256 next 174\n",
      "2024-04-14 03:36:05.123649: I tensorflow/tsl/framework/bfc_allocator.cc:1095] InUse at 78dc3971d500 of size 256 next 175\n",
      "2024-04-14 03:36:05.123651: I tensorflow/tsl/framework/bfc_allocator.cc:1095] InUse at 78dc3971d600 of size 256 next 176\n",
      "2024-04-14 03:36:05.123654: I tensorflow/tsl/framework/bfc_allocator.cc:1095] InUse at 78dc3971d700 of size 256 next 177\n",
      "2024-04-14 03:36:05.123658: I tensorflow/tsl/framework/bfc_allocator.cc:1095] InUse at 78dc3971d800 of size 256 next 178\n",
      "2024-04-14 03:36:05.123661: I tensorflow/tsl/framework/bfc_allocator.cc:1095] InUse at 78dc3971d900 of size 256 next 179\n",
      "2024-04-14 03:36:05.123665: I tensorflow/tsl/framework/bfc_allocator.cc:1095] InUse at 78dc3971da00 of size 256 next 180\n",
      "2024-04-14 03:36:05.123669: I tensorflow/tsl/framework/bfc_allocator.cc:1095] InUse at 78dc3971db00 of size 256 next 181\n",
      "2024-04-14 03:36:05.123672: I tensorflow/tsl/framework/bfc_allocator.cc:1095] InUse at 78dc3971dc00 of size 256 next 182\n",
      "2024-04-14 03:36:05.123675: I tensorflow/tsl/framework/bfc_allocator.cc:1095] InUse at 78dc3971dd00 of size 256 next 183\n",
      "2024-04-14 03:36:05.123677: I tensorflow/tsl/framework/bfc_allocator.cc:1095] InUse at 78dc3971de00 of size 256 next 184\n",
      "2024-04-14 03:36:05.123680: I tensorflow/tsl/framework/bfc_allocator.cc:1095] InUse at 78dc3971df00 of size 256 next 185\n",
      "2024-04-14 03:36:05.123682: I tensorflow/tsl/framework/bfc_allocator.cc:1095] InUse at 78dc3971e000 of size 256 next 186\n",
      "2024-04-14 03:36:05.123687: I tensorflow/tsl/framework/bfc_allocator.cc:1095] InUse at 78dc3971e100 of size 256 next 187\n",
      "2024-04-14 03:36:05.123689: I tensorflow/tsl/framework/bfc_allocator.cc:1095] InUse at 78dc3971e200 of size 256 next 188\n",
      "2024-04-14 03:36:05.123692: I tensorflow/tsl/framework/bfc_allocator.cc:1095] InUse at 78dc3971e300 of size 256 next 189\n",
      "2024-04-14 03:36:05.123694: I tensorflow/tsl/framework/bfc_allocator.cc:1095] InUse at 78dc3971e400 of size 256 next 203\n",
      "2024-04-14 03:36:05.123697: I tensorflow/tsl/framework/bfc_allocator.cc:1095] InUse at 78dc3971e500 of size 256 next 190\n",
      "2024-04-14 03:36:05.123699: I tensorflow/tsl/framework/bfc_allocator.cc:1095] InUse at 78dc3971e600 of size 256 next 201\n",
      "2024-04-14 03:36:05.123702: I tensorflow/tsl/framework/bfc_allocator.cc:1095] InUse at 78dc3971e700 of size 256 next 205\n",
      "2024-04-14 03:36:05.123705: I tensorflow/tsl/framework/bfc_allocator.cc:1095] InUse at 78dc3971e800 of size 256 next 204\n",
      "2024-04-14 03:36:05.123707: I tensorflow/tsl/framework/bfc_allocator.cc:1095] InUse at 78dc3971e900 of size 256 next 191\n",
      "2024-04-14 03:36:05.123710: I tensorflow/tsl/framework/bfc_allocator.cc:1095] InUse at 78dc3971ea00 of size 256 next 207\n",
      "2024-04-14 03:36:05.123712: I tensorflow/tsl/framework/bfc_allocator.cc:1095] InUse at 78dc3971eb00 of size 256 next 208\n",
      "2024-04-14 03:36:05.123716: I tensorflow/tsl/framework/bfc_allocator.cc:1095] InUse at 78dc3971ec00 of size 256 next 206\n",
      "2024-04-14 03:36:05.123718: I tensorflow/tsl/framework/bfc_allocator.cc:1095] InUse at 78dc3971ed00 of size 768 next 200\n",
      "2024-04-14 03:36:05.123721: I tensorflow/tsl/framework/bfc_allocator.cc:1095] InUse at 78dc3971f000 of size 256 next 199\n",
      "2024-04-14 03:36:05.123723: I tensorflow/tsl/framework/bfc_allocator.cc:1095] InUse at 78dc3971f100 of size 256 next 195\n",
      "2024-04-14 03:36:05.123726: I tensorflow/tsl/framework/bfc_allocator.cc:1095] InUse at 78dc3971f200 of size 256 next 197\n",
      "2024-04-14 03:36:05.123729: I tensorflow/tsl/framework/bfc_allocator.cc:1095] InUse at 78dc3971f300 of size 512 next 210\n",
      "2024-04-14 03:36:05.123732: I tensorflow/tsl/framework/bfc_allocator.cc:1095] InUse at 78dc3971f500 of size 512 next 193\n",
      "2024-04-14 03:36:05.123736: I tensorflow/tsl/framework/bfc_allocator.cc:1095] InUse at 78dc3971f700 of size 512 next 194\n",
      "2024-04-14 03:36:05.123739: I tensorflow/tsl/framework/bfc_allocator.cc:1095] InUse at 78dc3971f900 of size 512 next 202\n",
      "2024-04-14 03:36:05.123743: I tensorflow/tsl/framework/bfc_allocator.cc:1095] InUse at 78dc3971fb00 of size 512 next 209\n",
      "2024-04-14 03:36:05.123747: I tensorflow/tsl/framework/bfc_allocator.cc:1095] InUse at 78dc3971fd00 of size 256 next 214\n",
      "2024-04-14 03:36:05.123750: I tensorflow/tsl/framework/bfc_allocator.cc:1095] InUse at 78dc3971fe00 of size 256 next 212\n",
      "2024-04-14 03:36:05.123754: I tensorflow/tsl/framework/bfc_allocator.cc:1095] InUse at 78dc3971ff00 of size 256 next 213\n",
      "2024-04-14 03:36:05.123757: I tensorflow/tsl/framework/bfc_allocator.cc:1095] InUse at 78dc39720000 of size 256 next 217\n",
      "2024-04-14 03:36:05.123761: I tensorflow/tsl/framework/bfc_allocator.cc:1095] InUse at 78dc39720100 of size 256 next 218\n",
      "2024-04-14 03:36:05.123763: I tensorflow/tsl/framework/bfc_allocator.cc:1095] InUse at 78dc39720200 of size 256 next 219\n",
      "2024-04-14 03:36:05.123766: I tensorflow/tsl/framework/bfc_allocator.cc:1095] InUse at 78dc39720300 of size 256 next 220\n",
      "2024-04-14 03:36:05.123768: I tensorflow/tsl/framework/bfc_allocator.cc:1095] InUse at 78dc39720400 of size 256 next 222\n",
      "2024-04-14 03:36:05.123771: I tensorflow/tsl/framework/bfc_allocator.cc:1095] InUse at 78dc39720500 of size 256 next 221\n",
      "2024-04-14 03:36:05.123774: I tensorflow/tsl/framework/bfc_allocator.cc:1095] InUse at 78dc39720600 of size 256 next 223\n",
      "2024-04-14 03:36:05.123776: I tensorflow/tsl/framework/bfc_allocator.cc:1095] InUse at 78dc39720700 of size 256 next 224\n",
      "2024-04-14 03:36:05.123779: I tensorflow/tsl/framework/bfc_allocator.cc:1095] InUse at 78dc39720800 of size 256 next 225\n",
      "2024-04-14 03:36:05.123781: I tensorflow/tsl/framework/bfc_allocator.cc:1095] InUse at 78dc39720900 of size 256 next 226\n",
      "2024-04-14 03:36:05.123784: I tensorflow/tsl/framework/bfc_allocator.cc:1095] InUse at 78dc39720a00 of size 256 next 228\n",
      "2024-04-14 03:36:05.123786: I tensorflow/tsl/framework/bfc_allocator.cc:1095] InUse at 78dc39720b00 of size 256 next 198\n",
      "2024-04-14 03:36:05.123789: I tensorflow/tsl/framework/bfc_allocator.cc:1095] InUse at 78dc39720c00 of size 3584 next 192\n",
      "2024-04-14 03:36:05.123792: I tensorflow/tsl/framework/bfc_allocator.cc:1095] InUse at 78dc39721a00 of size 768 next 227\n",
      "2024-04-14 03:36:05.123795: I tensorflow/tsl/framework/bfc_allocator.cc:1095] InUse at 78dc39721d00 of size 256 next 229\n",
      "2024-04-14 03:36:05.123798: I tensorflow/tsl/framework/bfc_allocator.cc:1095] InUse at 78dc39721e00 of size 3584 next 230\n",
      "2024-04-14 03:36:05.123802: I tensorflow/tsl/framework/bfc_allocator.cc:1095] InUse at 78dc39722c00 of size 256 next 231\n",
      "2024-04-14 03:36:05.123805: I tensorflow/tsl/framework/bfc_allocator.cc:1095] InUse at 78dc39722d00 of size 256 next 232\n",
      "2024-04-14 03:36:05.123808: I tensorflow/tsl/framework/bfc_allocator.cc:1095] InUse at 78dc39722e00 of size 256 next 233\n",
      "2024-04-14 03:36:05.123811: I tensorflow/tsl/framework/bfc_allocator.cc:1095] InUse at 78dc39722f00 of size 512 next 235\n",
      "2024-04-14 03:36:05.123814: I tensorflow/tsl/framework/bfc_allocator.cc:1095] InUse at 78dc39723100 of size 512 next 236\n",
      "2024-04-14 03:36:05.123816: I tensorflow/tsl/framework/bfc_allocator.cc:1095] InUse at 78dc39723300 of size 512 next 237\n",
      "2024-04-14 03:36:05.123819: I tensorflow/tsl/framework/bfc_allocator.cc:1095] InUse at 78dc39723500 of size 25856 next 216\n",
      "2024-04-14 03:36:05.123824: I tensorflow/tsl/framework/bfc_allocator.cc:1095] InUse at 78dc39729a00 of size 16384 next 215\n",
      "2024-04-14 03:36:05.123827: I tensorflow/tsl/framework/bfc_allocator.cc:1095] InUse at 78dc3972da00 of size 256 next 238\n",
      "2024-04-14 03:36:05.123831: I tensorflow/tsl/framework/bfc_allocator.cc:1095] InUse at 78dc3972db00 of size 256 next 239\n",
      "2024-04-14 03:36:05.123835: I tensorflow/tsl/framework/bfc_allocator.cc:1095] InUse at 78dc3972dc00 of size 256 next 240\n",
      "2024-04-14 03:36:05.123839: I tensorflow/tsl/framework/bfc_allocator.cc:1095] InUse at 78dc3972dd00 of size 256 next 241\n",
      "2024-04-14 03:36:05.123843: I tensorflow/tsl/framework/bfc_allocator.cc:1095] InUse at 78dc3972de00 of size 256 next 242\n",
      "2024-04-14 03:36:05.123847: I tensorflow/tsl/framework/bfc_allocator.cc:1095] InUse at 78dc3972df00 of size 768 next 243\n",
      "2024-04-14 03:36:05.123850: I tensorflow/tsl/framework/bfc_allocator.cc:1095] InUse at 78dc3972e200 of size 256 next 244\n",
      "2024-04-14 03:36:05.123854: I tensorflow/tsl/framework/bfc_allocator.cc:1095] InUse at 78dc3972e300 of size 256 next 245\n",
      "2024-04-14 03:36:05.123858: I tensorflow/tsl/framework/bfc_allocator.cc:1095] InUse at 78dc3972e400 of size 256 next 246\n",
      "2024-04-14 03:36:05.123861: I tensorflow/tsl/framework/bfc_allocator.cc:1095] InUse at 78dc3972e500 of size 3584 next 247\n",
      "2024-04-14 03:36:05.123865: I tensorflow/tsl/framework/bfc_allocator.cc:1095] InUse at 78dc3972f300 of size 256 next 248\n",
      "2024-04-14 03:36:05.123869: I tensorflow/tsl/framework/bfc_allocator.cc:1095] InUse at 78dc3972f400 of size 256 next 249\n",
      "2024-04-14 03:36:05.123873: I tensorflow/tsl/framework/bfc_allocator.cc:1095] InUse at 78dc3972f500 of size 256 next 250\n",
      "2024-04-14 03:36:05.123877: I tensorflow/tsl/framework/bfc_allocator.cc:1095] InUse at 78dc3972f600 of size 512 next 251\n",
      "2024-04-14 03:36:05.123881: I tensorflow/tsl/framework/bfc_allocator.cc:1095] InUse at 78dc3972f800 of size 512 next 252\n",
      "2024-04-14 03:36:05.123884: I tensorflow/tsl/framework/bfc_allocator.cc:1095] InUse at 78dc3972fa00 of size 512 next 253\n",
      "2024-04-14 03:36:05.123888: I tensorflow/tsl/framework/bfc_allocator.cc:1095] InUse at 78dc3972fc00 of size 16384 next 254\n",
      "2024-04-14 03:36:05.123892: I tensorflow/tsl/framework/bfc_allocator.cc:1095] InUse at 78dc39733c00 of size 256 next 255\n",
      "2024-04-14 03:36:05.123895: I tensorflow/tsl/framework/bfc_allocator.cc:1095] InUse at 78dc39733d00 of size 256 next 256\n",
      "2024-04-14 03:36:05.123898: I tensorflow/tsl/framework/bfc_allocator.cc:1095] InUse at 78dc39733e00 of size 256 next 257\n",
      "2024-04-14 03:36:05.123901: I tensorflow/tsl/framework/bfc_allocator.cc:1095] InUse at 78dc39733f00 of size 256 next 258\n",
      "2024-04-14 03:36:05.123904: I tensorflow/tsl/framework/bfc_allocator.cc:1095] InUse at 78dc39734000 of size 256 next 259\n",
      "2024-04-14 03:36:05.123908: I tensorflow/tsl/framework/bfc_allocator.cc:1095] InUse at 78dc39734100 of size 256 next 260\n",
      "2024-04-14 03:36:05.123911: I tensorflow/tsl/framework/bfc_allocator.cc:1095] InUse at 78dc39734200 of size 256 next 261\n",
      "2024-04-14 03:36:05.123915: I tensorflow/tsl/framework/bfc_allocator.cc:1095] InUse at 78dc39734300 of size 256 next 262\n",
      "2024-04-14 03:36:05.123918: I tensorflow/tsl/framework/bfc_allocator.cc:1095] InUse at 78dc39734400 of size 256 next 263\n",
      "2024-04-14 03:36:05.123921: I tensorflow/tsl/framework/bfc_allocator.cc:1095] InUse at 78dc39734500 of size 256 next 264\n",
      "2024-04-14 03:36:05.123923: I tensorflow/tsl/framework/bfc_allocator.cc:1095] InUse at 78dc39734600 of size 256 next 265\n",
      "2024-04-14 03:36:05.123926: I tensorflow/tsl/framework/bfc_allocator.cc:1095] InUse at 78dc39734700 of size 256 next 266\n",
      "2024-04-14 03:36:05.123928: I tensorflow/tsl/framework/bfc_allocator.cc:1095] InUse at 78dc39734800 of size 256 next 267\n",
      "2024-04-14 03:36:05.123931: I tensorflow/tsl/framework/bfc_allocator.cc:1095] InUse at 78dc39734900 of size 256 next 268\n",
      "2024-04-14 03:36:05.123933: I tensorflow/tsl/framework/bfc_allocator.cc:1095] InUse at 78dc39734a00 of size 256 next 269\n",
      "2024-04-14 03:36:05.123936: I tensorflow/tsl/framework/bfc_allocator.cc:1095] InUse at 78dc39734b00 of size 256 next 270\n",
      "2024-04-14 03:36:05.123939: I tensorflow/tsl/framework/bfc_allocator.cc:1095] InUse at 78dc39734c00 of size 256 next 271\n",
      "2024-04-14 03:36:05.123941: I tensorflow/tsl/framework/bfc_allocator.cc:1095] InUse at 78dc39734d00 of size 256 next 272\n",
      "2024-04-14 03:36:05.123944: I tensorflow/tsl/framework/bfc_allocator.cc:1095] InUse at 78dc39734e00 of size 256 next 273\n",
      "2024-04-14 03:36:05.123946: I tensorflow/tsl/framework/bfc_allocator.cc:1095] InUse at 78dc39734f00 of size 256 next 274\n",
      "2024-04-14 03:36:05.123949: I tensorflow/tsl/framework/bfc_allocator.cc:1095] InUse at 78dc39735000 of size 256 next 275\n",
      "2024-04-14 03:36:05.123951: I tensorflow/tsl/framework/bfc_allocator.cc:1095] InUse at 78dc39735100 of size 256 next 276\n",
      "2024-04-14 03:36:05.123954: I tensorflow/tsl/framework/bfc_allocator.cc:1095] InUse at 78dc39735200 of size 256 next 290\n",
      "2024-04-14 03:36:05.123959: I tensorflow/tsl/framework/bfc_allocator.cc:1095] InUse at 78dc39735300 of size 256 next 277\n",
      "2024-04-14 03:36:05.123961: I tensorflow/tsl/framework/bfc_allocator.cc:1095] InUse at 78dc39735400 of size 256 next 289\n",
      "2024-04-14 03:36:05.123964: I tensorflow/tsl/framework/bfc_allocator.cc:1095] InUse at 78dc39735500 of size 256 next 278\n",
      "2024-04-14 03:36:05.123967: I tensorflow/tsl/framework/bfc_allocator.cc:1095] InUse at 78dc39735600 of size 256 next 287\n",
      "2024-04-14 03:36:05.123969: I tensorflow/tsl/framework/bfc_allocator.cc:1095] InUse at 78dc39735700 of size 256 next 279\n",
      "2024-04-14 03:36:05.123972: I tensorflow/tsl/framework/bfc_allocator.cc:1095] InUse at 78dc39735800 of size 256 next 293\n",
      "2024-04-14 03:36:05.123974: I tensorflow/tsl/framework/bfc_allocator.cc:1095] InUse at 78dc39735900 of size 256 next 288\n",
      "2024-04-14 03:36:05.123977: I tensorflow/tsl/framework/bfc_allocator.cc:1095] InUse at 78dc39735a00 of size 256 next 291\n",
      "2024-04-14 03:36:05.123980: I tensorflow/tsl/framework/bfc_allocator.cc:1095] InUse at 78dc39735b00 of size 768 next 292\n",
      "2024-04-14 03:36:05.123983: I tensorflow/tsl/framework/bfc_allocator.cc:1095] InUse at 78dc39735e00 of size 256 next 286\n",
      "2024-04-14 03:36:05.123985: I tensorflow/tsl/framework/bfc_allocator.cc:1095] InUse at 78dc39735f00 of size 256 next 282\n",
      "2024-04-14 03:36:05.123988: I tensorflow/tsl/framework/bfc_allocator.cc:1095] InUse at 78dc39736000 of size 256 next 284\n",
      "2024-04-14 03:36:05.123990: I tensorflow/tsl/framework/bfc_allocator.cc:1095] InUse at 78dc39736100 of size 256 next 298\n",
      "2024-04-14 03:36:05.123993: I tensorflow/tsl/framework/bfc_allocator.cc:1095] InUse at 78dc39736200 of size 256 next 281\n",
      "2024-04-14 03:36:05.123996: I tensorflow/tsl/framework/bfc_allocator.cc:1095] InUse at 78dc39736300 of size 256 next 295\n",
      "2024-04-14 03:36:05.123998: I tensorflow/tsl/framework/bfc_allocator.cc:1095] InUse at 78dc39736400 of size 256 next 296\n",
      "2024-04-14 03:36:05.124001: I tensorflow/tsl/framework/bfc_allocator.cc:1095] InUse at 78dc39736500 of size 256 next 297\n",
      "2024-04-14 03:36:05.124004: I tensorflow/tsl/framework/bfc_allocator.cc:1095] InUse at 78dc39736600 of size 256 next 299\n",
      "2024-04-14 03:36:05.124006: I tensorflow/tsl/framework/bfc_allocator.cc:1095] InUse at 78dc39736700 of size 256 next 300\n",
      "2024-04-14 03:36:05.124010: I tensorflow/tsl/framework/bfc_allocator.cc:1095] InUse at 78dc39736800 of size 512 next 303\n",
      "2024-04-14 03:36:05.124014: I tensorflow/tsl/framework/bfc_allocator.cc:1095] InUse at 78dc39736a00 of size 512 next 301\n",
      "2024-04-14 03:36:05.124017: I tensorflow/tsl/framework/bfc_allocator.cc:1095] InUse at 78dc39736c00 of size 512 next 302\n",
      "2024-04-14 03:36:05.124022: I tensorflow/tsl/framework/bfc_allocator.cc:1095] InUse at 78dc39736e00 of size 512 next 306\n",
      "2024-04-14 03:36:05.124025: I tensorflow/tsl/framework/bfc_allocator.cc:1095] InUse at 78dc39737000 of size 512 next 307\n",
      "2024-04-14 03:36:05.124029: I tensorflow/tsl/framework/bfc_allocator.cc:1095] InUse at 78dc39737200 of size 256 next 309\n",
      "2024-04-14 03:36:05.124033: I tensorflow/tsl/framework/bfc_allocator.cc:1095] InUse at 78dc39737300 of size 256 next 310\n",
      "2024-04-14 03:36:05.124037: I tensorflow/tsl/framework/bfc_allocator.cc:1095] InUse at 78dc39737400 of size 256 next 308\n",
      "2024-04-14 03:36:05.124041: I tensorflow/tsl/framework/bfc_allocator.cc:1095] InUse at 78dc39737500 of size 256 next 311\n",
      "2024-04-14 03:36:05.124045: I tensorflow/tsl/framework/bfc_allocator.cc:1095] InUse at 78dc39737600 of size 256 next 313\n",
      "2024-04-14 03:36:05.124049: I tensorflow/tsl/framework/bfc_allocator.cc:1095] InUse at 78dc39737700 of size 768 next 285\n",
      "2024-04-14 03:36:05.124053: I tensorflow/tsl/framework/bfc_allocator.cc:1095] InUse at 78dc39737a00 of size 3584 next 280\n",
      "2024-04-14 03:36:05.124057: I tensorflow/tsl/framework/bfc_allocator.cc:1095] InUse at 78dc39738800 of size 512 next 312\n",
      "2024-04-14 03:36:05.124061: I tensorflow/tsl/framework/bfc_allocator.cc:1095] InUse at 78dc39738a00 of size 256 next 314\n",
      "2024-04-14 03:36:05.124066: I tensorflow/tsl/framework/bfc_allocator.cc:1095] InUse at 78dc39738b00 of size 256 next 315\n",
      "2024-04-14 03:36:05.124070: I tensorflow/tsl/framework/bfc_allocator.cc:1095] InUse at 78dc39738c00 of size 256 next 316\n",
      "2024-04-14 03:36:05.124076: I tensorflow/tsl/framework/bfc_allocator.cc:1095] InUse at 78dc39738d00 of size 3584 next 317\n",
      "2024-04-14 03:36:05.124080: I tensorflow/tsl/framework/bfc_allocator.cc:1095] InUse at 78dc39739b00 of size 256 next 318\n",
      "2024-04-14 03:36:05.124083: I tensorflow/tsl/framework/bfc_allocator.cc:1095] InUse at 78dc39739c00 of size 256 next 319\n",
      "2024-04-14 03:36:05.124087: I tensorflow/tsl/framework/bfc_allocator.cc:1095] InUse at 78dc39739d00 of size 256 next 320\n",
      "2024-04-14 03:36:05.124090: I tensorflow/tsl/framework/bfc_allocator.cc:1095] InUse at 78dc39739e00 of size 256 next 322\n",
      "2024-04-14 03:36:05.124092: I tensorflow/tsl/framework/bfc_allocator.cc:1095] InUse at 78dc39739f00 of size 256 next 323\n",
      "2024-04-14 03:36:05.124095: I tensorflow/tsl/framework/bfc_allocator.cc:1095] InUse at 78dc3973a000 of size 256 next 324\n",
      "2024-04-14 03:36:05.124098: I tensorflow/tsl/framework/bfc_allocator.cc:1095] InUse at 78dc3973a100 of size 9984 next 305\n",
      "2024-04-14 03:36:05.124101: I tensorflow/tsl/framework/bfc_allocator.cc:1095] InUse at 78dc3973c800 of size 8192 next 304\n",
      "2024-04-14 03:36:05.124103: I tensorflow/tsl/framework/bfc_allocator.cc:1095] InUse at 78dc3973e800 of size 512 next 325\n",
      "2024-04-14 03:36:05.124106: I tensorflow/tsl/framework/bfc_allocator.cc:1095] InUse at 78dc3973ea00 of size 512 next 326\n",
      "2024-04-14 03:36:05.124109: I tensorflow/tsl/framework/bfc_allocator.cc:1095] InUse at 78dc3973ec00 of size 512 next 327\n",
      "2024-04-14 03:36:05.124113: I tensorflow/tsl/framework/bfc_allocator.cc:1095] InUse at 78dc3973ee00 of size 512 next 328\n",
      "2024-04-14 03:36:05.124115: I tensorflow/tsl/framework/bfc_allocator.cc:1095] InUse at 78dc3973f000 of size 256 next 329\n",
      "2024-04-14 03:36:05.124118: I tensorflow/tsl/framework/bfc_allocator.cc:1095] InUse at 78dc3973f100 of size 768 next 330\n",
      "2024-04-14 03:36:05.124120: I tensorflow/tsl/framework/bfc_allocator.cc:1095] InUse at 78dc3973f400 of size 256 next 331\n",
      "2024-04-14 03:36:05.124124: I tensorflow/tsl/framework/bfc_allocator.cc:1095] InUse at 78dc3973f500 of size 256 next 332\n",
      "2024-04-14 03:36:05.124127: I tensorflow/tsl/framework/bfc_allocator.cc:1095] InUse at 78dc3973f600 of size 256 next 333\n",
      "2024-04-14 03:36:05.124130: I tensorflow/tsl/framework/bfc_allocator.cc:1095] InUse at 78dc3973f700 of size 3584 next 334\n",
      "2024-04-14 03:36:05.124133: I tensorflow/tsl/framework/bfc_allocator.cc:1095] InUse at 78dc39740500 of size 256 next 335\n",
      "2024-04-14 03:36:05.124136: I tensorflow/tsl/framework/bfc_allocator.cc:1095] InUse at 78dc39740600 of size 256 next 336\n",
      "2024-04-14 03:36:05.124140: I tensorflow/tsl/framework/bfc_allocator.cc:1095] InUse at 78dc39740700 of size 256 next 337\n",
      "2024-04-14 03:36:05.124142: I tensorflow/tsl/framework/bfc_allocator.cc:1095] InUse at 78dc39740800 of size 256 next 338\n",
      "2024-04-14 03:36:05.124145: I tensorflow/tsl/framework/bfc_allocator.cc:1095] InUse at 78dc39740900 of size 256 next 339\n",
      "2024-04-14 03:36:05.124147: I tensorflow/tsl/framework/bfc_allocator.cc:1095] InUse at 78dc39740a00 of size 256 next 340\n",
      "2024-04-14 03:36:05.124150: I tensorflow/tsl/framework/bfc_allocator.cc:1095] InUse at 78dc39740b00 of size 8192 next 341\n",
      "2024-04-14 03:36:05.124152: I tensorflow/tsl/framework/bfc_allocator.cc:1095] InUse at 78dc39742b00 of size 512 next 342\n",
      "2024-04-14 03:36:05.124155: I tensorflow/tsl/framework/bfc_allocator.cc:1095] InUse at 78dc39742d00 of size 512 next 343\n",
      "2024-04-14 03:36:05.124157: I tensorflow/tsl/framework/bfc_allocator.cc:1095] InUse at 78dc39742f00 of size 512 next 344\n",
      "2024-04-14 03:36:05.124160: I tensorflow/tsl/framework/bfc_allocator.cc:1095] InUse at 78dc39743100 of size 512 next 345\n",
      "2024-04-14 03:36:05.124163: I tensorflow/tsl/framework/bfc_allocator.cc:1095] InUse at 78dc39743300 of size 256 next 346\n",
      "2024-04-14 03:36:05.124165: I tensorflow/tsl/framework/bfc_allocator.cc:1095] InUse at 78dc39743400 of size 256 next 347\n",
      "2024-04-14 03:36:05.124168: I tensorflow/tsl/framework/bfc_allocator.cc:1095] InUse at 78dc39743500 of size 256 next 348\n",
      "2024-04-14 03:36:05.124170: I tensorflow/tsl/framework/bfc_allocator.cc:1095] InUse at 78dc39743600 of size 256 next 349\n",
      "2024-04-14 03:36:05.124173: I tensorflow/tsl/framework/bfc_allocator.cc:1095] InUse at 78dc39743700 of size 256 next 350\n",
      "2024-04-14 03:36:05.124175: I tensorflow/tsl/framework/bfc_allocator.cc:1095] InUse at 78dc39743800 of size 256 next 351\n",
      "2024-04-14 03:36:05.124178: I tensorflow/tsl/framework/bfc_allocator.cc:1095] InUse at 78dc39743900 of size 256 next 352\n",
      "2024-04-14 03:36:05.124181: I tensorflow/tsl/framework/bfc_allocator.cc:1095] InUse at 78dc39743a00 of size 256 next 353\n",
      "2024-04-14 03:36:05.124183: I tensorflow/tsl/framework/bfc_allocator.cc:1095] InUse at 78dc39743b00 of size 256 next 354\n",
      "2024-04-14 03:36:05.124186: I tensorflow/tsl/framework/bfc_allocator.cc:1095] InUse at 78dc39743c00 of size 256 next 355\n",
      "2024-04-14 03:36:05.124188: I tensorflow/tsl/framework/bfc_allocator.cc:1095] InUse at 78dc39743d00 of size 256 next 356\n",
      "2024-04-14 03:36:05.124191: I tensorflow/tsl/framework/bfc_allocator.cc:1095] InUse at 78dc39743e00 of size 256 next 357\n",
      "2024-04-14 03:36:05.124193: I tensorflow/tsl/framework/bfc_allocator.cc:1095] InUse at 78dc39743f00 of Traceback (most recent call last):\n",
      "  File \"/tmp/ipykernel_19536/3935950760.py\", line 9, in train\n",
      "    model.fit(val_dataset, epochs=config.n_epochs, callbacks=[WandbCallback()])\n",
      "  File \"/home/kervin/miniforge3/envs/tf/lib/python3.9/site-packages/keras/src/utils/traceback_utils.py\", line 70, in error_handler\n",
      "    raise e.with_traceback(filtered_tb) from None\n",
      "  File \"/home/kervin/miniforge3/envs/tf/lib/python3.9/site-packages/tensorflow/python/eager/execute.py\", line 53, in quick_execute\n",
      "    tensors = pywrap_tfe.TFE_Py_Execute(ctx._handle, device_name, op_name,\n",
      "tensorflow.python.framework.errors_impl.ResourceExhaustedError: Graph execution error:\n",
      "\n",
      "Detected at node 'sequential/conv2d/Relu' defined at (most recent call last):\n",
      "    File \"/home/kervin/miniforge3/envs/tf/lib/python3.9/threading.py\", line 937, in _bootstrap\n",
      "      self._bootstrap_inner()\n",
      "    File \"/home/kervin/miniforge3/envs/tf/lib/python3.9/threading.py\", line 980, in _bootstrap_inner\n",
      "      self.run()\n",
      "    File \"/home/kervin/miniforge3/envs/tf/lib/python3.9/site-packages/ipykernel/ipkernel.py\", line 761, in run_closure\n",
      "      _threading_Thread_run(self)\n",
      "    File \"/home/kervin/miniforge3/envs/tf/lib/python3.9/threading.py\", line 917, in run\n",
      "      self._target(*self._args, **self._kwargs)\n",
      "    File \"/home/kervin/miniforge3/envs/tf/lib/python3.9/site-packages/wandb/agents/pyagent.py\", line 308, in _run_job\n",
      "      self._function()\n",
      "    File \"/tmp/ipykernel_19536/3935950760.py\", line 9, in train\n",
      "      model.fit(val_dataset, epochs=config.n_epochs, callbacks=[WandbCallback()])\n",
      "    File \"/home/kervin/miniforge3/envs/tf/lib/python3.9/site-packages/keras/src/utils/traceback_utils.py\", line 65, in error_handler\n",
      "      return fn(*args, **kwargs)\n",
      "    File \"/home/kervin/miniforge3/envs/tf/lib/python3.9/site-packages/keras/src/engine/training.py\", line 1742, in fit\n",
      "      tmp_logs = self.train_function(iterator)\n",
      "    File \"/home/kervin/miniforge3/envs/tf/lib/python3.9/site-packages/keras/src/engine/training.py\", line 1338, in train_function\n",
      "      return step_function(self, iterator)\n",
      "    File \"/home/kervin/miniforge3/envs/tf/lib/python3.9/site-packages/keras/src/engine/training.py\", line 1322, in step_function\n",
      "      outputs = model.distribute_strategy.run(run_step, args=(data,))\n",
      "    File \"/home/kervin/miniforge3/envs/tf/lib/python3.9/site-packages/keras/src/engine/training.py\", line 1303, in run_step\n",
      "      outputs = model.train_step(data)\n",
      "    File \"/home/kervin/miniforge3/envs/tf/lib/python3.9/site-packages/keras/src/engine/training.py\", line 1080, in train_step\n",
      "      y_pred = self(x, training=True)\n",
      "    File \"/home/kervin/miniforge3/envs/tf/lib/python3.9/site-packages/keras/src/utils/traceback_utils.py\", line 65, in error_handler\n",
      "      return fn(*args, **kwargs)\n",
      "    File \"/home/kervin/miniforge3/envs/tf/lib/python3.9/site-packages/keras/src/engine/training.py\", line 569, in __call__\n",
      "      return super().__call__(*args, **kwargs)\n",
      "    File \"/home/kervin/miniforge3/envs/tf/lib/python3.9/site-packages/keras/src/utils/traceback_utils.py\", line 65, in error_handler\n",
      "      return fn(*args, **kwargs)\n",
      "    File \"/home/kervin/miniforge3/envs/tf/lib/python3.9/site-packages/keras/src/engine/base_layer.py\", line 1150, in __call__\n",
      "      outputs = call_fn(inputs, *args, **kwargs)\n",
      "    File \"/home/kervin/miniforge3/envs/tf/lib/python3.9/site-packages/keras/src/utils/traceback_utils.py\", line 96, in error_handler\n",
      "      return fn(*args, **kwargs)\n",
      "    File \"/home/kervin/miniforge3/envs/tf/lib/python3.9/site-packages/keras/src/engine/sequential.py\", line 405, in call\n",
      "      return super().call(inputs, training=training, mask=mask)\n",
      "    File \"/home/kervin/miniforge3/envs/tf/lib/python3.9/site-packages/keras/src/engine/functional.py\", line 512, in call\n",
      "      return self._run_internal_graph(inputs, training=training, mask=mask)\n",
      "    File \"/home/kervin/miniforge3/envs/tf/lib/python3.9/site-packages/keras/src/engine/functional.py\", line 669, in _run_internal_graph\n",
      "      outputs = node.layer(*args, **kwargs)\n",
      "    File \"/home/kervin/miniforge3/envs/tf/lib/python3.9/site-packages/keras/src/utils/traceback_utils.py\", line 65, in error_handler\n",
      "      return fn(*args, **kwargs)\n",
      "    File \"/home/kervin/miniforge3/envs/tf/lib/python3.9/site-packages/keras/src/engine/base_layer.py\", line 1150, in __call__\n",
      "      outputs = call_fn(inputs, *args, **kwargs)\n",
      "    File \"/home/kervin/miniforge3/envs/tf/lib/python3.9/site-packages/keras/src/utils/traceback_utils.py\", line 96, in error_handler\n",
      "      return fn(*args, **kwargs)\n",
      "    File \"/home/kervin/miniforge3/envs/tf/lib/python3.9/site-packages/keras/src/layers/convolutional/base_conv.py\", line 321, in call\n",
      "      return self.activation(outputs)\n",
      "    File \"/home/kervin/miniforge3/envs/tf/lib/python3.9/site-packages/keras/src/activations.py\", line 321, in relu\n",
      "      return backend.relu(\n",
      "    File \"/home/kervin/miniforge3/envs/tf/lib/python3.9/site-packages/keras/src/backend.py\", line 5397, in relu\n",
      "      x = tf.nn.relu(x)\n",
      "Node: 'sequential/conv2d/Relu'\n",
      "OOM when allocating tensor with shape[128,3,224,224] and type float on /job:localhost/replica:0/task:0/device:GPU:0 by allocator GPU_0_bfc\n",
      "\t [[{{node sequential/conv2d/Relu}}]]\n",
      "Hint: If you want to see a list of allocated tensors when OOM happens, add report_tensor_allocations_upon_oom to RunOptions for current allocation info. This isn't available when running in Eager mode.\n",
      " [Op:__inference_train_function_71777]\n",
      "size 256 next 358\n",
      "2024-04-14 03:36:05.124196: I tensorflow/tsl/framework/bfc_allocator.cc:1095] InUse at 78dc39744000 of size 256 next 359\n",
      "2024-04-14 03:36:05.124199: I tensorflow/tsl/framework/bfc_allocator.cc:1095] InUse at 78dc39744100 of size 256 next 360\n",
      "2024-04-14 03:36:05.124203: I tensorflow/tsl/framework/bfc_allocator.cc:1095] InUse at 78dc39744200 of size 256 next 361\n",
      "2024-04-14 03:36:05.124207: I tensorflow/tsl/framework/bfc_allocator.cc:1095] InUse at 78dc39744300 of size 256 next 362\n",
      "2024-04-14 03:36:05.124213: I tensorflow/tsl/framework/bfc_allocator.cc:1095] InUse at 78dc39744400 of size 256 next 363\n",
      "2024-04-14 03:36:05.124217: I tensorflow/tsl/framework/bfc_allocator.cc:1095] InUse at 78dc39744500 of size 256 next 376\n",
      "2024-04-14 03:36:05.124221: I tensorflow/tsl/framework/bfc_allocator.cc:1095] InUse at 78dc39744600 of size 256 next 365\n",
      "2024-04-14 03:36:05.124225: I tensorflow/tsl/framework/bfc_allocator.cc:1095] InUse at 78dc39744700 of size 256 next 375\n",
      "2024-04-14 03:36:05.124230: I tensorflow/tsl/framework/bfc_allocator.cc:1095] InUse at 78dc39744800 of size 256 next 366\n",
      "2024-04-14 03:36:05.124234: I tensorflow/tsl/framework/bfc_allocator.cc:1095] InUse at 78dc39744900 of size 256 next 374\n",
      "2024-04-14 03:36:05.124237: I tensorflow/tsl/framework/bfc_allocator.cc:1095] InUse at 78dc39744a00 of size 256 next 370\n",
      "2024-04-14 03:36:05.124240: I tensorflow/tsl/framework/bfc_allocator.cc:1095] InUse at 78dc39744b00 of size 256 next 377\n",
      "2024-04-14 03:36:05.124242: I tensorflow/tsl/framework/bfc_allocator.cc:1095] InUse at 78dc39744c00 of size 256 next 380\n",
      "2024-04-14 03:36:05.124245: I tensorflow/tsl/framework/bfc_allocator.cc:1095] InUse at 78dc39744d00 of size 256 next 378\n",
      "2024-04-14 03:36:05.124247: I tensorflow/tsl/framework/bfc_allocator.cc:1095] InUse at 78dc39744e00 of size 768 next 379\n",
      "2024-04-14 03:36:05.124250: I tensorflow/tsl/framework/bfc_allocator.cc:1095] InUse at 78dc39745100 of size 256 next 368\n",
      "2024-04-14 03:36:05.124253: I tensorflow/tsl/framework/bfc_allocator.cc:1095] InUse at 78dc39745200 of size 256 next 382\n",
      "2024-04-14 03:36:05.124255: I tensorflow/tsl/framework/bfc_allocator.cc:1095] InUse at 78dc39745300 of size 256 next 372\n",
      "2024-04-14 03:36:05.124258: I tensorflow/tsl/framework/bfc_allocator.cc:1095] InUse at 78dc39745400 of size 256 next 373\n",
      "2024-04-14 03:36:05.124261: I tensorflow/tsl/framework/bfc_allocator.cc:1095] InUse at 78dc39745500 of size 256 next 369\n",
      "2024-04-14 03:36:05.124264: I tensorflow/tsl/framework/bfc_allocator.cc:1095] InUse at 78dc39745600 of size 256 next 364\n",
      "2024-04-14 03:36:05.124267: I tensorflow/tsl/framework/bfc_allocator.cc:1095] InUse at 78dc39745700 of size 256 next 383\n",
      "2024-04-14 03:36:05.124271: I tensorflow/tsl/framework/bfc_allocator.cc:1095] InUse at 78dc39745800 of size 256 next 384\n",
      "2024-04-14 03:36:05.124273: I tensorflow/tsl/framework/bfc_allocator.cc:1095] InUse at 78dc39745900 of size 256 next 387\n",
      "2024-04-14 03:36:05.124276: I tensorflow/tsl/framework/bfc_allocator.cc:1095] InUse at 78dc39745a00 of size 256 next 388\n",
      "2024-04-14 03:36:05.124278: I tensorflow/tsl/framework/bfc_allocator.cc:1095] InUse at 78dc39745b00 of size 256 next 386\n",
      "2024-04-14 03:36:05.124281: I tensorflow/tsl/framework/bfc_allocator.cc:1095] InUse at 78dc39745c00 of size 256 next 389\n",
      "2024-04-14 03:36:05.124284: I tensorflow/tsl/framework/bfc_allocator.cc:1095] InUse at 78dc39745d00 of size 256 next 391\n",
      "2024-04-14 03:36:05.124286: I tensorflow/tsl/framework/bfc_allocator.cc:1095] InUse at 78dc39745e00 of size 256 next 393\n",
      "2024-04-14 03:36:05.124289: I tensorflow/tsl/framework/bfc_allocator.cc:1095] InUse at 78dc39745f00 of size 256 next 392\n",
      "2024-04-14 03:36:05.124291: I tensorflow/tsl/framework/bfc_allocator.cc:1095] InUse at 78dc39746000 of size 256 next 394\n",
      "2024-04-14 03:36:05.124294: I tensorflow/tsl/framework/bfc_allocator.cc:1095] InUse at 78dc39746100 of size 256 next 395\n",
      "2024-04-14 03:36:05.124296: I tensorflow/tsl/framework/bfc_allocator.cc:1095] InUse at 78dc39746200 of size 256 next 396\n",
      "2024-04-14 03:36:05.124299: I tensorflow/tsl/framework/bfc_allocator.cc:1095] InUse at 78dc39746300 of size 256 next 397\n",
      "2024-04-14 03:36:05.124302: I tensorflow/tsl/framework/bfc_allocator.cc:1095] InUse at 78dc39746400 of size 768 next 398\n",
      "2024-04-14 03:36:05.124305: I tensorflow/tsl/framework/bfc_allocator.cc:1095] InUse at 78dc39746700 of size 256 next 399\n",
      "2024-04-14 03:36:05.124308: I tensorflow/tsl/framework/bfc_allocator.cc:1095] InUse at 78dc39746800 of size 256 next 400\n",
      "2024-04-14 03:36:05.124311: I tensorflow/tsl/framework/bfc_allocator.cc:1095] InUse at 78dc39746900 of size 256 next 401\n",
      "2024-04-14 03:36:05.124314: I tensorflow/tsl/framework/bfc_allocator.cc:1095] InUse at 78dc39746a00 of size 256 next 403\n",
      "2024-04-14 03:36:05.124317: I tensorflow/tsl/framework/bfc_allocator.cc:1095] InUse at 78dc39746b00 of size 256 next 404\n",
      "2024-04-14 03:36:05.124321: I tensorflow/tsl/framework/bfc_allocator.cc:1095] InUse at 78dc39746c00 of size 256 next 367\n",
      "2024-04-14 03:36:05.124324: I tensorflow/tsl/framework/bfc_allocator.cc:1095] InUse at 78dc39746d00 of size 3584 next 371\n",
      "2024-04-14 03:36:05.124327: I tensorflow/tsl/framework/bfc_allocator.cc:1095] InUse at 78dc39747b00 of size 2048 next 390\n",
      "2024-04-14 03:36:05.124330: I tensorflow/tsl/framework/bfc_allocator.cc:1095] InUse at 78dc39748300 of size 3584 next 402\n",
      "2024-04-14 03:36:05.124332: I tensorflow/tsl/framework/bfc_allocator.cc:1095] InUse at 78dc39749100 of size 256 next 406\n",
      "2024-04-14 03:36:05.124335: I tensorflow/tsl/framework/bfc_allocator.cc:1095] InUse at 78dc39749200 of size 256 next 407\n",
      "2024-04-14 03:36:05.124338: I tensorflow/tsl/framework/bfc_allocator.cc:1095] InUse at 78dc39749300 of size 256 next 408\n",
      "2024-04-14 03:36:05.124340: I tensorflow/tsl/framework/bfc_allocator.cc:1095] InUse at 78dc39749400 of size 2048 next 409\n",
      "2024-04-14 03:36:05.124343: I tensorflow/tsl/framework/bfc_allocator.cc:1095] InUse at 78dc39749c00 of size 256 next 410\n",
      "2024-04-14 03:36:05.124345: I tensorflow/tsl/framework/bfc_allocator.cc:1095] InUse at 78dc39749d00 of size 256 next 411\n",
      "2024-04-14 03:36:05.124348: I tensorflow/tsl/framework/bfc_allocator.cc:1095] InUse at 78dc39749e00 of size 256 next 412\n",
      "2024-04-14 03:36:05.124351: I tensorflow/tsl/framework/bfc_allocator.cc:1095] InUse at 78dc39749f00 of size 256 next 413\n",
      "2024-04-14 03:36:05.124354: I tensorflow/tsl/framework/bfc_allocator.cc:1095] InUse at 78dc3974a000 of size 256 next 414\n",
      "2024-04-14 03:36:05.124357: I tensorflow/tsl/framework/bfc_allocator.cc:1095] InUse at 78dc3974a100 of size 768 next 415\n",
      "2024-04-14 03:36:05.124360: I tensorflow/tsl/framework/bfc_allocator.cc:1095] InUse at 78dc3974a400 of size 256 next 416\n",
      "2024-04-14 03:36:05.124363: I tensorflow/tsl/framework/bfc_allocator.cc:1095] InUse at 78dc3974a500 of size 256 next 417\n",
      "2024-04-14 03:36:05.124366: I tensorflow/tsl/framework/bfc_allocator.cc:1095] InUse at 78dc3974a600 of size 256 next 418\n",
      "2024-04-14 03:36:05.124369: I tensorflow/tsl/framework/bfc_allocator.cc:1095] InUse at 78dc3974a700 of size 3584 next 419\n",
      "2024-04-14 03:36:05.124372: I tensorflow/tsl/framework/bfc_allocator.cc:1095] InUse at 78dc3974b500 of size 256 next 420\n",
      "2024-04-14 03:36:05.124375: I tensorflow/tsl/framework/bfc_allocator.cc:1095] InUse at 78dc3974b600 of size 256 next 421\n",
      "2024-04-14 03:36:05.124378: I tensorflow/tsl/framework/bfc_allocator.cc:1095] InUse at 78dc3974b700 of size 256 next 422\n",
      "2024-04-14 03:36:05.124381: I tensorflow/tsl/framework/bfc_allocator.cc:1095] InUse at 78dc3974b800 of size 256 next 423\n",
      "2024-04-14 03:36:05.124384: I tensorflow/tsl/framework/bfc_allocator.cc:1095] InUse at 78dc3974b900 of size 256 next 424\n",
      "2024-04-14 03:36:05.124388: I tensorflow/tsl/framework/bfc_allocator.cc:1095] InUse at 78dc3974ba00 of size 256 next 425\n",
      "2024-04-14 03:36:05.124391: I tensorflow/tsl/framework/bfc_allocator.cc:1095] InUse at 78dc3974bb00 of size 2048 next 426\n",
      "2024-04-14 03:36:05.124394: I tensorflow/tsl/framework/bfc_allocator.cc:1095] InUse at 78dc3974c300 of size 256 next 427\n",
      "2024-04-14 03:36:05.124397: I tensorflow/tsl/framework/bfc_allocator.cc:1095] InUse at 78dc3974c400 of size 256 next 428\n",
      "2024-04-14 03:36:05.124400: I tensorflow/tsl/framework/bfc_allocator.cc:1095] InUse at 78dc3974c500 of size 256 next 429\n",
      "2024-04-14 03:36:05.124403: I tensorflow/tsl/framework/bfc_allocator.cc:1095] InUse at 78dc3974c600 of size 256 next 430\n",
      "2024-04-14 03:36:05.124406: I tensorflow/tsl/framework/bfc_allocator.cc:1095] InUse at 78dc3974c700 of size 256 next 431\n",
      "2024-04-14 03:36:05.124409: I tensorflow/tsl/framework/bfc_allocator.cc:1095] InUse at 78dc3974c800 of size 256 next 432\n",
      "2024-04-14 03:36:05.124412: I tensorflow/tsl/framework/bfc_allocator.cc:1095] InUse at 78dc3974c900 of size 256 next 433\n",
      "2024-04-14 03:36:05.124415: I tensorflow/tsl/framework/bfc_allocator.cc:1095] InUse at 78dc3974ca00 of size 256 next 434\n",
      "2024-04-14 03:36:05.124418: I tensorflow/tsl/framework/bfc_allocator.cc:1095] InUse at 78dc3974cb00 of size 256 next 435\n",
      "2024-04-14 03:36:05.124421: I tensorflow/tsl/framework/bfc_allocator.cc:1095] InUse at 78dc3974cc00 of size 256 next 436\n",
      "2024-04-14 03:36:05.124424: I tensorflow/tsl/framework/bfc_allocator.cc:1095] InUse at 78dc3974cd00 of size 256 next 437\n",
      "2024-04-14 03:36:05.124428: I tensorflow/tsl/framework/bfc_allocator.cc:1095] InUse at 78dc3974ce00 of size 256 next 438\n",
      "2024-04-14 03:36:05.124431: I tensorflow/tsl/framework/bfc_allocator.cc:1095] InUse at 78dc3974cf00 of size 256 next 439\n",
      "2024-04-14 03:36:05.124433: I tensorflow/tsl/framework/bfc_allocator.cc:1095] InUse at 78dc3974d000 of size 256 next 440\n",
      "2024-04-14 03:36:05.124436: I tensorflow/tsl/framework/bfc_allocator.cc:1095] InUse at 78dc3974d100 of size 256 next 441\n",
      "2024-04-14 03:36:05.124438: I tensorflow/tsl/framework/bfc_allocator.cc:1095] InUse at 78dc3974d200 of size 256 next 442\n",
      "2024-04-14 03:36:05.124441: I tensorflow/tsl/framework/bfc_allocator.cc:1095] InUse at 78dc3974d300 of size 256 next 443\n",
      "2024-04-14 03:36:05.124444: I tensorflow/tsl/framework/bfc_allocator.cc:1095] InUse at 78dc3974d400 of size 256 next 444\n",
      "2024-04-14 03:36:05.124446: I tensorflow/tsl/framework/bfc_allocator.cc:1095] InUse at 78dc3974d500 of size 256 next 445\n",
      "2024-04-14 03:36:05.124449: I tensorflow/tsl/framework/bfc_allocator.cc:1095] InUse at 78dc3974d600 of size 256 next 446\n",
      "2024-04-14 03:36:05.124452: I tensorflow/tsl/framework/bfc_allocator.cc:1095] InUse at 78dc3974d700 of size 256 next 447\n",
      "2024-04-14 03:36:05.124455: I tensorflow/tsl/framework/bfc_allocator.cc:1095] InUse at 78dc3974d800 of size 256 next 448\n",
      "2024-04-14 03:36:05.124458: I tensorflow/tsl/framework/bfc_allocator.cc:1095] InUse at 78dc3974d900 of size 256 next 462\n",
      "2024-04-14 03:36:05.124461: I tensorflow/tsl/framework/bfc_allocator.cc:1095] InUse at 78dc3974da00 of size 256 next 450\n",
      "2024-04-14 03:36:05.124464: I tensorflow/tsl/framework/bfc_allocator.cc:1095] InUse at 78dc3974db00 of size 256 next 461\n",
      "2024-04-14 03:36:05.124466: I tensorflow/tsl/framework/bfc_allocator.cc:1095] InUse at 78dc3974dc00 of size 256 next 451\n",
      "2024-04-14 03:36:05.124469: I tensorflow/tsl/framework/bfc_allocator.cc:1095] InUse at 78dc3974dd00 of size 256 next 465\n",
      "2024-04-14 03:36:05.124472: I tensorflow/tsl/framework/bfc_allocator.cc:1095] InUse at 78dc3974de00 of size 256 next 457\n",
      "2024-04-14 03:36:05.124475: I tensorflow/tsl/framework/bfc_allocator.cc:1095] InUse at 78dc3974df00 of size 256 next 467\n",
      "2024-04-14 03:36:05.124478: I tensorflow/tsl/framework/bfc_allocator.cc:1095] InUse at 78dc3974e000 of size 256 next 468\n",
      "2024-04-14 03:36:05.124481: I tensorflow/tsl/framework/bfc_allocator.cc:1095] InUse at 78dc3974e100 of size 256 next 466\n",
      "2024-04-14 03:36:05.124484: I tensorflow/tsl/framework/bfc_allocator.cc:1095] InUse at 78dc3974e200 of size 768 next 459\n",
      "2024-04-14 03:36:05.124486: I tensorflow/tsl/framework/bfc_allocator.cc:1095] InUse at 78dc3974e500 of size 256 next 453\n",
      "2024-04-14 03:36:05.124489: I tensorflow/tsl/framework/bfc_allocator.cc:1095] InUse at 78dc3974e600 of size 512 next 470\n",
      "2024-04-14 03:36:05.124492: I tensorflow/tsl/framework/bfc_allocator.cc:1095] InUse at 78dc3974e800 of size 512 next 454\n",
      "2024-04-14 03:36:05.124494: I tensorflow/tsl/framework/bfc_allocator.cc:1095] InUse at 78dc3974ea00 of size 512 next 455\n",
      "2024-04-14 03:36:05.124497: I tensorflow/tsl/framework/bfc_allocator.cc:1095] InUse at 78dc3974ec00 of size 512 next 471\n",
      "2024-04-14 03:36:05.124500: I tensorflow/tsl/framework/bfc_allocator.cc:1095] InUse at 78dc3974ee00 of size 512 next 456\n",
      "2024-04-14 03:36:05.124502: I tensorflow/tsl/framework/bfc_allocator.cc:1095] InUse at 78dc3974f000 of size 256 next 464\n",
      "2024-04-14 03:36:05.124505: I tensorflow/tsl/framework/bfc_allocator.cc:1095] InUse at 78dc3974f100 of size 256 next 452\n",
      "2024-04-14 03:36:05.124508: I tensorflow/tsl/framework/bfc_allocator.cc:1095] InUse at 78dc3974f200 of size 256 next 463\n",
      "2024-04-14 03:36:05.124511: I tensorflow/tsl/framework/bfc_allocator.cc:1095] InUse at 78dc3974f300 of size 256 next 473\n",
      "2024-04-14 03:36:05.124514: I tensorflow/tsl/framework/bfc_allocator.cc:1095] InUse at 78dc3974f400 of size 256 next 474\n",
      "2024-04-14 03:36:05.124517: I tensorflow/tsl/framework/bfc_allocator.cc:1095] InUse at 78dc3974f500 of size 256 next 475\n",
      "2024-04-14 03:36:05.124520: I tensorflow/tsl/framework/bfc_allocator.cc:1095] InUse at 78dc3974f600 of size 256 next 476\n",
      "2024-04-14 03:36:05.124524: I tensorflow/tsl/framework/bfc_allocator.cc:1095] InUse at 78dc3974f700 of size 256 next 478\n",
      "2024-04-14 03:36:05.124526: I tensorflow/tsl/framework/bfc_allocator.cc:1095] InUse at 78dc3974f800 of size 256 next 477\n",
      "2024-04-14 03:36:05.124529: I tensorflow/tsl/framework/bfc_allocator.cc:1095] InUse at 78dc3974f900 of size 256 next 479\n",
      "2024-04-14 03:36:05.124531: I tensorflow/tsl/framework/bfc_allocator.cc:1095] InUse at 78dc3974fa00 of size 256 next 480\n",
      "2024-04-14 03:36:05.124534: I tensorflow/tsl/framework/bfc_allocator.cc:1095] InUse at 78dc3974fb00 of size 256 next 481\n",
      "2024-04-14 03:36:05.124537: I tensorflow/tsl/framework/bfc_allocator.cc:1095] InUse at 78dc3974fc00 of size 256 next 482\n",
      "2024-04-14 03:36:05.124539: I tensorflow/tsl/framework/bfc_allocator.cc:1095] InUse at 78dc3974fd00 of size 1024 next 449\n",
      "2024-04-14 03:36:05.124542: I tensorflow/tsl/framework/bfc_allocator.cc:1095] InUse at 78dc39750100 of size 3584 next 458\n",
      "2024-04-14 03:36:05.124544: I tensorflow/tsl/framework/bfc_allocator.cc:1095] InUse at 78dc39750f00 of size 256 next 483\n",
      "2024-04-14 03:36:05.124547: I tensorflow/tsl/framework/bfc_allocator.cc:1095] InUse at 78dc39751000 of size 256 next 484\n",
      "2024-04-14 03:36:05.124550: I tensorflow/tsl/framework/bfc_allocator.cc:1095] InUse at 78dc39751100 of size 256 next 485\n",
      "2024-04-14 03:36:05.124552: I tensorflow/tsl/framework/bfc_allocator.cc:1095] InUse at 78dc39751200 of size 3584 next 486\n",
      "2024-04-14 03:36:05.124555: I tensorflow/tsl/framework/bfc_allocator.cc:1095] InUse at 78dc39752000 of size 256 next 487\n",
      "2024-04-14 03:36:05.124558: I tensorflow/tsl/framework/bfc_allocator.cc:1095] InUse at 78dc39752100 of size 256 next 488\n",
      "2024-04-14 03:36:05.124561: I tensorflow/tsl/framework/bfc_allocator.cc:1095] InUse at 78dc39752200 of size 256 next 489\n",
      "2024-04-14 03:36:05.124564: I tensorflow/tsl/framework/bfc_allocator.cc:1095] InUse at 78dc39752300 of size 512 next 491\n",
      "2024-04-14 03:36:05.124567: I tensorflow/tsl/framework/bfc_allocator.cc:1095] InUse at 78dc39752500 of size 512 next 492\n",
      "2024-04-14 03:36:05.124570: I tensorflow/tsl/framework/bfc_allocator.cc:1095] InUse at 78dc39752700 of size 512 next 493\n",
      "2024-04-14 03:36:05.124574: I tensorflow/tsl/framework/bfc_allocator.cc:1095] InUse at 78dc39752900 of size 9728 next 472\n",
      "2024-04-14 03:36:05.124576: I tensorflow/tsl/framework/bfc_allocator.cc:1095] InUse at 78dc39754f00 of size 8192 next 460\n",
      "2024-04-14 03:36:05.124579: I tensorflow/tsl/framework/bfc_allocator.cc:1095] InUse at 78dc39756f00 of size 256 next 494\n",
      "2024-04-14 03:36:05.124582: I tensorflow/tsl/framework/bfc_allocator.cc:1095] InUse at 78dc39757000 of size 256 next 495\n",
      "2024-04-14 03:36:05.124584: I tensorflow/tsl/framework/bfc_allocator.cc:1095] InUse at 78dc39757100 of size 256 next 496\n",
      "2024-04-14 03:36:05.124587: I tensorflow/tsl/framework/bfc_allocator.cc:1095] InUse at 78dc39757200 of size 256 next 497\n",
      "2024-04-14 03:36:05.124589: I tensorflow/tsl/framework/bfc_allocator.cc:1095] InUse at 78dc39757300 of size 256 next 498\n",
      "2024-04-14 03:36:05.124592: I tensorflow/tsl/framework/bfc_allocator.cc:1095] InUse at 78dc39757400 of size 768 next 499\n",
      "2024-04-14 03:36:05.124595: I tensorflow/tsl/framework/bfc_allocator.cc:1095] InUse at 78dc39757700 of size 256 next 500\n",
      "2024-04-14 03:36:05.124598: I tensorflow/tsl/framework/bfc_allocator.cc:1095] InUse at 78dc39757800 of size 256 next 501\n",
      "2024-04-14 03:36:05.124601: I tensorflow/tsl/framework/bfc_allocator.cc:1095] InUse at 78dc39757900 of size 256 next 502\n",
      "2024-04-14 03:36:05.124604: I tensorflow/tsl/framework/bfc_allocator.cc:1095] InUse at 78dc39757a00 of size 3584 next 503\n",
      "2024-04-14 03:36:05.124607: I tensorflow/tsl/framework/bfc_allocator.cc:1095] InUse at 78dc39758800 of size 256 next 504\n",
      "2024-04-14 03:36:05.124610: I tensorflow/tsl/framework/bfc_allocator.cc:1095] InUse at 78dc39758900 of size 256 next 505\n",
      "2024-04-14 03:36:05.124613: I tensorflow/tsl/framework/bfc_allocator.cc:1095] InUse at 78dc39758a00 of size 256 next 506\n",
      "2024-04-14 03:36:05.124616: I tensorflow/tsl/framework/bfc_allocator.cc:1095] InUse at 78dc39758b00 of size 512 next 507\n",
      "2024-04-14 03:36:05.124619: I tensorflow/tsl/framework/bfc_allocator.cc:1095] InUse at 78dc39758d00 of size 512 next 508\n",
      "2024-04-14 03:36:05.124622: I tensorflow/tsl/framework/bfc_allocator.cc:1095] InUse at 78dc39758f00 of size 512 next 509\n",
      "2024-04-14 03:36:05.124624: I tensorflow/tsl/framework/bfc_allocator.cc:1095] InUse at 78dc39759100 of size 8192 next 510\n",
      "2024-04-14 03:36:05.124627: I tensorflow/tsl/framework/bfc_allocator.cc:1095] InUse at 78dc3975b100 of size 256 next 511\n",
      "2024-04-14 03:36:05.124630: I tensorflow/tsl/framework/bfc_allocator.cc:1095] InUse at 78dc3975b200 of size 256 next 512\n",
      "2024-04-14 03:36:05.124632: I tensorflow/tsl/framework/bfc_allocator.cc:1095] InUse at 78dc3975b300 of size 256 next 513\n",
      "2024-04-14 03:36:05.124635: I tensorflow/tsl/framework/bfc_allocator.cc:1095] InUse at 78dc3975b400 of size 256 next 514\n",
      "2024-04-14 03:36:05.124637: I tensorflow/tsl/framework/bfc_allocator.cc:1095] InUse at 78dc3975b500 of size 256 next 515\n",
      "2024-04-14 03:36:05.124640: I tensorflow/tsl/framework/bfc_allocator.cc:1095] InUse at 78dc3975b600 of size 256 next 516\n",
      "2024-04-14 03:36:05.124642: I tensorflow/tsl/framework/bfc_allocator.cc:1095] InUse at 78dc3975b700 of size 256 next 517\n",
      "2024-04-14 03:36:05.124645: I tensorflow/tsl/framework/bfc_allocator.cc:1095] InUse at 78dc3975b800 of size 256 next 518\n",
      "2024-04-14 03:36:05.124647: I tensorflow/tsl/framework/bfc_allocator.cc:1095] InUse at 78dc3975b900 of size 256 next 519\n",
      "2024-04-14 03:36:05.124650: I tensorflow/tsl/framework/bfc_allocator.cc:1095] InUse at 78dc3975ba00 of size 256 next 520\n",
      "2024-04-14 03:36:05.124653: I tensorflow/tsl/framework/bfc_allocator.cc:1095] InUse at 78dc3975bb00 of size 256 next 521\n",
      "2024-04-14 03:36:05.124655: I tensorflow/tsl/framework/bfc_allocator.cc:1095] InUse at 78dc3975bc00 of size 256 next 522\n",
      "2024-04-14 03:36:05.124658: I tensorflow/tsl/framework/bfc_allocator.cc:1095] InUse at 78dc3975bd00 of size 256 next 523\n",
      "2024-04-14 03:36:05.124660: I tensorflow/tsl/framework/bfc_allocator.cc:1095] InUse at 78dc3975be00 of size 256 next 524\n",
      "2024-04-14 03:36:05.124663: I tensorflow/tsl/framework/bfc_allocator.cc:1095] InUse at 78dc3975bf00 of size 256 next 525\n",
      "2024-04-14 03:36:05.124666: I tensorflow/tsl/framework/bfc_allocator.cc:1095] InUse at 78dc3975c000 of size 256 next 526\n",
      "2024-04-14 03:36:05.124669: I tensorflow/tsl/framework/bfc_allocator.cc:1095] InUse at 78dc3975c100 of size 256 next 527\n",
      "2024-04-14 03:36:05.124672: I tensorflow/tsl/framework/bfc_allocator.cc:1095] InUse at 78dc3975c200 of size 256 next 528\n",
      "2024-04-14 03:36:05.124675: I tensorflow/tsl/framework/bfc_allocator.cc:1095] InUse at 78dc3975c300 of size 256 next 529\n",
      "2024-04-14 03:36:05.124678: I tensorflow/tsl/framework/bfc_allocator.cc:1095] InUse at 78dc3975c400 of size 256 next 530\n",
      "2024-04-14 03:36:05.124681: I tensorflow/tsl/framework/bfc_allocator.cc:1095] InUse at 78dc3975c500 of size 256 next 531\n",
      "2024-04-14 03:36:05.124684: I tensorflow/tsl/framework/bfc_allocator.cc:1095] InUse at 78dc3975c600 of size 256 next 532\n",
      "2024-04-14 03:36:05.124687: I tensorflow/tsl/framework/bfc_allocator.cc:1095] InUse at 78dc3975c700 of size 256 next 533\n",
      "2024-04-14 03:36:05.124690: I tensorflow/tsl/framework/bfc_allocator.cc:1095] InUse at 78dc3975c800 of size 256 next 534\n",
      "2024-04-14 03:36:05.124693: I tensorflow/tsl/framework/bfc_allocator.cc:1095] InUse at 78dc3975c900 of size 768 next 535\n",
      "2024-04-14 03:36:05.124696: I tensorflow/tsl/framework/bfc_allocator.cc:1095] InUse at 78dc3975cc00 of size 256 next 536\n",
      "2024-04-14 03:36:05.124699: I tensorflow/tsl/framework/bfc_allocator.cc:1095] InUse at 78dc3975cd00 of size 8192 next 537\n",
      "2024-04-14 03:36:05.124702: I tensorflow/tsl/framework/bfc_allocator.cc:1095] InUse at 78dc3975ed00 of size 256 next 538\n",
      "2024-04-14 03:36:05.124705: I tensorflow/tsl/framework/bfc_allocator.cc:1095] InUse at 78dc3975ee00 of size 3584 next 539\n",
      "2024-04-14 03:36:05.124707: I tensorflow/tsl/framework/bfc_allocator.cc:1095] InUse at 78dc3975fc00 of size 256 next 540\n",
      "2024-04-14 03:36:05.124710: I tensorflow/tsl/framework/bfc_allocator.cc:1095] InUse at 78dc3975fd00 of size 256 next 542\n",
      "2024-04-14 03:36:05.124712: I tensorflow/tsl/framework/bfc_allocator.cc:1095] InUse at 78dc3975fe00 of size 256 next 543\n",
      "2024-04-14 03:36:05.124715: I tensorflow/tsl/framework/bfc_allocator.cc:1095] InUse at 78dc3975ff00 of size 256 next 548\n",
      "2024-04-14 03:36:05.124718: I tensorflow/tsl/framework/bfc_allocator.cc:1095] InUse at 78dc39760000 of size 256 next 549\n",
      "2024-04-14 03:36:05.124720: I tensorflow/tsl/framework/bfc_allocator.cc:1095] InUse at 78dc39760100 of size 512 next 545\n",
      "2024-04-14 03:36:05.124723: I tensorflow/tsl/framework/bfc_allocator.cc:1095] InUse at 78dc39760300 of size 512 next 546\n",
      "2024-04-14 03:36:05.124725: I tensorflow/tsl/framework/bfc_allocator.cc:1095] Free  at 78dc39760500 of size 256 next 547\n",
      "2024-04-14 03:36:05.124729: I tensorflow/tsl/framework/bfc_allocator.cc:1095] InUse at 78dc39760600 of size 512 next 550\n",
      "2024-04-14 03:36:05.124733: I tensorflow/tsl/framework/bfc_allocator.cc:1095] InUse at 78dc39760800 of size 256 next 551\n",
      "2024-04-14 03:36:05.124736: I tensorflow/tsl/framework/bfc_allocator.cc:1095] InUse at 78dc39760900 of size 256 next 552\n",
      "2024-04-14 03:36:05.124740: I tensorflow/tsl/framework/bfc_allocator.cc:1095] InUse at 78dc39760a00 of size 256 next 553\n",
      "2024-04-14 03:36:05.124744: I tensorflow/tsl/framework/bfc_allocator.cc:1095] Free  at 78dc39760b00 of size 96000 next 74\n",
      "2024-04-14 03:36:05.124748: I tensorflow/tsl/framework/bfc_allocator.cc:1095] InUse at 78dc39778200 of size 400128 next 75\n",
      "2024-04-14 03:36:05.124752: I tensorflow/tsl/framework/bfc_allocator.cc:1095] InUse at 78dc397d9d00 of size 6195200 next 147\n",
      "2024-04-14 03:36:05.124756: I tensorflow/tsl/framework/bfc_allocator.cc:1095] InUse at 78dc39dc2500 of size 6195200 next 117\n",
      "2024-04-14 03:36:05.124760: I tensorflow/tsl/framework/bfc_allocator.cc:1095] InUse at 78dc3a3aad00 of size 6195200 next 116\n",
      "2024-04-14 03:36:05.124764: I tensorflow/tsl/framework/bfc_allocator.cc:1095] InUse at 78dc3a993500 of size 24780800 next 234\n",
      "2024-04-14 03:36:05.124768: I tensorflow/tsl/framework/bfc_allocator.cc:1095] InUse at 78dc3c135500 of size 24780800 next 196\n",
      "2024-04-14 03:36:05.124772: I tensorflow/tsl/framework/bfc_allocator.cc:1095] InUse at 78dc3d8d7500 of size 24780800 next 211\n",
      "2024-04-14 03:36:05.124776: I tensorflow/tsl/framework/bfc_allocator.cc:1095] InUse at 78dc3f079500 of size 3097600 next 321\n",
      "2024-04-14 03:36:05.124780: I tensorflow/tsl/framework/bfc_allocator.cc:1095] InUse at 78dc3f36d900 of size 3097600 next 283\n",
      "2024-04-14 03:36:05.124785: I tensorflow/tsl/framework/bfc_allocator.cc:1095] InUse at 78dc3f661d00 of size 3097600 next 294\n",
      "2024-04-14 03:36:05.124790: I tensorflow/tsl/framework/bfc_allocator.cc:1095] InUse at 78dc3f956100 of size 3097600 next 405\n",
      "2024-04-14 03:36:05.124794: I tensorflow/tsl/framework/bfc_allocator.cc:1095] InUse at 78dc3fc4a500 of size 3097600 next 381\n",
      "2024-04-14 03:36:05.124797: I tensorflow/tsl/framework/bfc_allocator.cc:1095] InUse at 78dc3ff3e900 of size 3097600 next 385\n",
      "2024-04-14 03:36:05.124802: I tensorflow/tsl/framework/bfc_allocator.cc:1095] InUse at 78dc40232d00 of size 24780800 next 490\n",
      "2024-04-14 03:36:05.124806: I tensorflow/tsl/framework/bfc_allocator.cc:1095] InUse at 78dc419d4d00 of size 24780800 next 469\n",
      "2024-04-14 03:36:05.124810: I tensorflow/tsl/framework/bfc_allocator.cc:1095] InUse at 78dc43176d00 of size 34706176 next 18446744073709551615\n",
      "2024-04-14 03:36:05.124814: I tensorflow/tsl/framework/bfc_allocator.cc:1100]      Summary of in-use Chunks by size: \n",
      "2024-04-14 03:36:05.124820: I tensorflow/tsl/framework/bfc_allocator.cc:1103] 408 Chunks of size 256 totalling 102.0KiB\n",
      "2024-04-14 03:36:05.124827: I tensorflow/tsl/framework/bfc_allocator.cc:1103] 58 Chunks of size 512 totalling 29.0KiB\n",
      "2024-04-14 03:36:05.124832: I tensorflow/tsl/framework/bfc_allocator.cc:1103] 17 Chunks of size 768 totalling 12.8KiB\n",
      "2024-04-14 03:36:05.124836: I tensorflow/tsl/framework/bfc_allocator.cc:1103] 6 Chunks of size 1024 totalling 6.0KiB\n",
      "2024-04-14 03:36:05.124841: I tensorflow/tsl/framework/bfc_allocator.cc:1103] 1 Chunks of size 1280 totalling 1.2KiB\n",
      "2024-04-14 03:36:05.124845: I tensorflow/tsl/framework/bfc_allocator.cc:1103] 3 Chunks of size 2048 totalling 6.0KiB\n",
      "2024-04-14 03:36:05.124850: I tensorflow/tsl/framework/bfc_allocator.cc:1103] 17 Chunks of size 3584 totalling 59.5KiB\n",
      "2024-04-14 03:36:05.124854: I tensorflow/tsl/framework/bfc_allocator.cc:1103] 5 Chunks of size 4096 totalling 20.0KiB\n",
      "2024-04-14 03:36:05.124859: I tensorflow/tsl/framework/bfc_allocator.cc:1103] 1 Chunks of size 4608 totalling 4.5KiB\n",
      "2024-04-14 03:36:05.124864: I tensorflow/tsl/framework/bfc_allocator.cc:1103] 5 Chunks of size 8192 totalling 40.0KiB\n",
      "2024-04-14 03:36:05.124869: I tensorflow/tsl/framework/bfc_allocator.cc:1103] 1 Chunks of size 9728 totalling 9.5KiB\n",
      "2024-04-14 03:36:05.124873: I tensorflow/tsl/framework/bfc_allocator.cc:1103] 1 Chunks of size 9984 totalling 9.8KiB\n",
      "2024-04-14 03:36:05.124878: I tensorflow/tsl/framework/bfc_allocator.cc:1103] 3 Chunks of size 16384 totalling 48.0KiB\n",
      "2024-04-14 03:36:05.124882: I tensorflow/tsl/framework/bfc_allocator.cc:1103] 1 Chunks of size 24064 totalling 23.5KiB\n",
      "2024-04-14 03:36:05.124887: I tensorflow/tsl/framework/bfc_allocator.cc:1103] 1 Chunks of size 24832 totalling 24.2KiB\n",
      "2024-04-14 03:36:05.124891: I tensorflow/tsl/framework/bfc_allocator.cc:1103] 1 Chunks of size 25856 totalling 25.2KiB\n",
      "2024-04-14 03:36:05.124896: I tensorflow/tsl/framework/bfc_allocator.cc:1103] 2 Chunks of size 32000 totalling 62.5KiB\n",
      "2024-04-14 03:36:05.124900: I tensorflow/tsl/framework/bfc_allocator.cc:1103] 1 Chunks of size 400128 totalling 390.8KiB\n",
      "2024-04-14 03:36:05.124905: I tensorflow/tsl/framework/bfc_allocator.cc:1103] 6 Chunks of size 3097600 totalling 17.72MiB\n",
      "2024-04-14 03:36:05.124909: I tensorflow/tsl/framework/bfc_allocator.cc:1103] 3 Chunks of size 6195200 totalling 17.72MiB\n",
      "2024-04-14 03:36:05.124913: I tensorflow/tsl/framework/bfc_allocator.cc:1103] 6 Chunks of size 24780800 totalling 141.80MiB\n",
      "2024-04-14 03:36:05.124916: I tensorflow/tsl/framework/bfc_allocator.cc:1103] 1 Chunks of size 34706176 totalling 33.10MiB\n",
      "2024-04-14 03:36:05.124919: I tensorflow/tsl/framework/bfc_allocator.cc:1103] 1 Chunks of size 77070336 totalling 73.50MiB\n",
      "2024-04-14 03:36:05.124922: I tensorflow/tsl/framework/bfc_allocator.cc:1103] 1 Chunks of size 186624000 totalling 177.98MiB\n",
      "2024-04-14 03:36:05.124925: I tensorflow/tsl/framework/bfc_allocator.cc:1103] 1 Chunks of size 271998976 totalling 259.40MiB\n",
      "2024-04-14 03:36:05.124928: I tensorflow/tsl/framework/bfc_allocator.cc:1107] Sum Total of in-use chunks: 722.08MiB\n",
      "2024-04-14 03:36:05.124931: I tensorflow/tsl/framework/bfc_allocator.cc:1109] Total bytes in pool: 757661696 memory_limit_: 757661696 available bytes: 0 curr_region_allocation_bytes_: 1515323392\n",
      "2024-04-14 03:36:05.124938: I tensorflow/tsl/framework/bfc_allocator.cc:1114] Stats: \n",
      "Limit:                       757661696\n",
      "InUse:                       757150976\n",
      "MaxInUse:                    757151232\n",
      "NumAllocs:                        2082\n",
      "MaxAllocSize:                271998976\n",
      "Reserved:                            0\n",
      "PeakReserved:                        0\n",
      "LargestFreeBlock:                    0\n",
      "\n",
      "2024-04-14 03:36:05.124947: W tensorflow/tsl/framework/bfc_allocator.cc:497] **********************************xxxxxxxxxxxxxxx**************************************************x\n",
      "2024-04-14 03:36:05.124968: W tensorflow/core/framework/op_kernel.cc:1828] OP_REQUIRES failed at conv_ops_fused_impl.h:452 : RESOURCE_EXHAUSTED: OOM when allocating tensor with shape[128,3,224,224] and type float on /job:localhost/replica:0/task:0/device:GPU:0 by allocator GPU_0_bfc\n"
     ]
    },
    {
     "data": {
      "application/vnd.jupyter.widget-view+json": {
       "model_id": "486f9061f3dd442e984e1beef5a4f753",
       "version_major": 2,
       "version_minor": 0
      },
      "text/plain": [
       "VBox(children=(Label(value='0.003 MB of 0.003 MB uploaded\\r'), FloatProgress(value=1.0, max=1.0)))"
      ]
     },
     "metadata": {},
     "output_type": "display_data"
    },
    {
     "data": {
      "text/html": [
       " View run <strong style=\"color:#cdcd00\">visionary-sweep-5</strong> at: <a href='https://wandb.ai/kervin5/Malaria-Detection/runs/hr3iyxvg' target=\"_blank\">https://wandb.ai/kervin5/Malaria-Detection/runs/hr3iyxvg</a><br/> View project at: <a href='https://wandb.ai/kervin5/Malaria-Detection' target=\"_blank\">https://wandb.ai/kervin5/Malaria-Detection</a><br/>Synced 6 W&B file(s), 0 media file(s), 0 artifact file(s) and 0 other file(s)"
      ],
      "text/plain": [
       "<IPython.core.display.HTML object>"
      ]
     },
     "metadata": {},
     "output_type": "display_data"
    },
    {
     "data": {
      "text/html": [
       "Find logs at: <code>./wandb/run-20240414_033550-hr3iyxvg/logs</code>"
      ],
      "text/plain": [
       "<IPython.core.display.HTML object>"
      ]
     },
     "metadata": {},
     "output_type": "display_data"
    },
    {
     "name": "stderr",
     "output_type": "stream",
     "text": [
      "Run hr3iyxvg errored:\n",
      "Traceback (most recent call last):\n",
      "  File \"/home/kervin/miniforge3/envs/tf/lib/python3.9/site-packages/wandb/agents/pyagent.py\", line 308, in _run_job\n",
      "    self._function()\n",
      "  File \"/tmp/ipykernel_19536/3935950760.py\", line 9, in train\n",
      "    model.fit(val_dataset, epochs=config.n_epochs, callbacks=[WandbCallback()])\n",
      "  File \"/home/kervin/miniforge3/envs/tf/lib/python3.9/site-packages/keras/src/utils/traceback_utils.py\", line 70, in error_handler\n",
      "    raise e.with_traceback(filtered_tb) from None\n",
      "  File \"/home/kervin/miniforge3/envs/tf/lib/python3.9/site-packages/tensorflow/python/eager/execute.py\", line 53, in quick_execute\n",
      "    tensors = pywrap_tfe.TFE_Py_Execute(ctx._handle, device_name, op_name,\n",
      "tensorflow.python.framework.errors_impl.ResourceExhaustedError: Graph execution error:\n",
      "\n",
      "Detected at node 'sequential/conv2d/Relu' defined at (most recent call last):\n",
      "    File \"/home/kervin/miniforge3/envs/tf/lib/python3.9/threading.py\", line 937, in _bootstrap\n",
      "      self._bootstrap_inner()\n",
      "    File \"/home/kervin/miniforge3/envs/tf/lib/python3.9/threading.py\", line 980, in _bootstrap_inner\n",
      "      self.run()\n",
      "    File \"/home/kervin/miniforge3/envs/tf/lib/python3.9/site-packages/ipykernel/ipkernel.py\", line 761, in run_closure\n",
      "      _threading_Thread_run(self)\n",
      "    File \"/home/kervin/miniforge3/envs/tf/lib/python3.9/threading.py\", line 917, in run\n",
      "      self._target(*self._args, **self._kwargs)\n",
      "    File \"/home/kervin/miniforge3/envs/tf/lib/python3.9/site-packages/wandb/agents/pyagent.py\", line 308, in _run_job\n",
      "      self._function()\n",
      "    File \"/tmp/ipykernel_19536/3935950760.py\", line 9, in train\n",
      "      model.fit(val_dataset, epochs=config.n_epochs, callbacks=[WandbCallback()])\n",
      "    File \"/home/kervin/miniforge3/envs/tf/lib/python3.9/site-packages/keras/src/utils/traceback_utils.py\", line 65, in error_handler\n",
      "      return fn(*args, **kwargs)\n",
      "    File \"/home/kervin/miniforge3/envs/tf/lib/python3.9/site-packages/keras/src/engine/training.py\", line 1742, in fit\n",
      "      tmp_logs = self.train_function(iterator)\n",
      "    File \"/home/kervin/miniforge3/envs/tf/lib/python3.9/site-packages/keras/src/engine/training.py\", line 1338, in train_function\n",
      "      return step_function(self, iterator)\n",
      "    File \"/home/kervin/miniforge3/envs/tf/lib/python3.9/site-packages/keras/src/engine/training.py\", line 1322, in step_function\n",
      "      outputs = model.distribute_strategy.run(run_step, args=(data,))\n",
      "    File \"/home/kervin/miniforge3/envs/tf/lib/python3.9/site-packages/keras/src/engine/training.py\", line 1303, in run_step\n",
      "      outputs = model.train_step(data)\n",
      "    File \"/home/kervin/miniforge3/envs/tf/lib/python3.9/site-packages/keras/src/engine/training.py\", line 1080, in train_step\n",
      "      y_pred = self(x, training=True)\n",
      "    File \"/home/kervin/miniforge3/envs/tf/lib/python3.9/site-packages/keras/src/utils/traceback_utils.py\", line 65, in error_handler\n",
      "      return fn(*args, **kwargs)\n",
      "    File \"/home/kervin/miniforge3/envs/tf/lib/python3.9/site-packages/keras/src/engine/training.py\", line 569, in __call__\n",
      "      return super().__call__(*args, **kwargs)\n",
      "    File \"/home/kervin/miniforge3/envs/tf/lib/python3.9/site-packages/keras/src/utils/traceback_utils.py\", line 65, in error_handler\n",
      "      return fn(*args, **kwargs)\n",
      "    File \"/home/kervin/miniforge3/envs/tf/lib/python3.9/site-packages/keras/src/engine/base_layer.py\", line 1150, in __call__\n",
      "      outputs = call_fn(inputs, *args, **kwargs)\n",
      "    File \"/home/kervin/miniforge3/envs/tf/lib/python3.9/site-packages/keras/src/utils/traceback_utils.py\", line 96, in error_handler\n",
      "      return fn(*args, **kwargs)\n",
      "    File \"/home/kervin/miniforge3/envs/tf/lib/python3.9/site-packages/keras/src/engine/sequential.py\", line 405, in call\n",
      "      return super().call(inputs, training=training, mask=mask)\n",
      "    File \"/home/kervin/miniforge3/envs/tf/lib/python3.9/site-packages/keras/src/engine/functional.py\", line 512, in call\n",
      "      return self._run_internal_graph(inputs, training=training, mask=mask)\n",
      "    File \"/home/kervin/miniforge3/envs/tf/lib/python3.9/site-packages/keras/src/engine/functional.py\", line 669, in _run_internal_graph\n",
      "      outputs = node.layer(*args, **kwargs)\n",
      "    File \"/home/kervin/miniforge3/envs/tf/lib/python3.9/site-packages/keras/src/utils/traceback_utils.py\", line 65, in error_handler\n",
      "      return fn(*args, **kwargs)\n",
      "    File \"/home/kervin/miniforge3/envs/tf/lib/python3.9/site-packages/keras/src/engine/base_layer.py\", line 1150, in __call__\n",
      "      outputs = call_fn(inputs, *args, **kwargs)\n",
      "    File \"/home/kervin/miniforge3/envs/tf/lib/python3.9/site-packages/keras/src/utils/traceback_utils.py\", line 96, in error_handler\n",
      "      return fn(*args, **kwargs)\n",
      "    File \"/home/kervin/miniforge3/envs/tf/lib/python3.9/site-packages/keras/src/layers/convolutional/base_conv.py\", line 321, in call\n",
      "      return self.activation(outputs)\n",
      "    File \"/home/kervin/miniforge3/envs/tf/lib/python3.9/site-packages/keras/src/activations.py\", line 321, in relu\n",
      "      return backend.relu(\n",
      "    File \"/home/kervin/miniforge3/envs/tf/lib/python3.9/site-packages/keras/src/backend.py\", line 5397, in relu\n",
      "      x = tf.nn.relu(x)\n",
      "Node: 'sequential/conv2d/Relu'\n",
      "OOM when allocating tensor with shape[128,3,224,224] and type float on /job:localhost/replica:0/task:0/device:GPU:0 by allocator GPU_0_bfc\n",
      "\t [[{{node sequential/conv2d/Relu}}]]\n",
      "Hint: If you want to see a list of allocated tensors when OOM happens, add report_tensor_allocations_upon_oom to RunOptions for current allocation info. This isn't available when running in Eager mode.\n",
      " [Op:__inference_train_function_71777]\n",
      "\n",
      "\u001b[34m\u001b[1mwandb\u001b[0m: \u001b[32m\u001b[41mERROR\u001b[0m Run hr3iyxvg errored:\n",
      "\u001b[34m\u001b[1mwandb\u001b[0m: \u001b[32m\u001b[41mERROR\u001b[0m Traceback (most recent call last):\n",
      "\u001b[34m\u001b[1mwandb\u001b[0m: \u001b[32m\u001b[41mERROR\u001b[0m   File \"/home/kervin/miniforge3/envs/tf/lib/python3.9/site-packages/wandb/agents/pyagent.py\", line 308, in _run_job\n",
      "\u001b[34m\u001b[1mwandb\u001b[0m: \u001b[32m\u001b[41mERROR\u001b[0m     self._function()\n",
      "\u001b[34m\u001b[1mwandb\u001b[0m: \u001b[32m\u001b[41mERROR\u001b[0m   File \"/tmp/ipykernel_19536/3935950760.py\", line 9, in train\n",
      "\u001b[34m\u001b[1mwandb\u001b[0m: \u001b[32m\u001b[41mERROR\u001b[0m     model.fit(val_dataset, epochs=config.n_epochs, callbacks=[WandbCallback()])\n",
      "\u001b[34m\u001b[1mwandb\u001b[0m: \u001b[32m\u001b[41mERROR\u001b[0m   File \"/home/kervin/miniforge3/envs/tf/lib/python3.9/site-packages/keras/src/utils/traceback_utils.py\", line 70, in error_handler\n",
      "\u001b[34m\u001b[1mwandb\u001b[0m: \u001b[32m\u001b[41mERROR\u001b[0m     raise e.with_traceback(filtered_tb) from None\n",
      "\u001b[34m\u001b[1mwandb\u001b[0m: \u001b[32m\u001b[41mERROR\u001b[0m   File \"/home/kervin/miniforge3/envs/tf/lib/python3.9/site-packages/tensorflow/python/eager/execute.py\", line 53, in quick_execute\n",
      "\u001b[34m\u001b[1mwandb\u001b[0m: \u001b[32m\u001b[41mERROR\u001b[0m     tensors = pywrap_tfe.TFE_Py_Execute(ctx._handle, device_name, op_name,\n",
      "\u001b[34m\u001b[1mwandb\u001b[0m: \u001b[32m\u001b[41mERROR\u001b[0m tensorflow.python.framework.errors_impl.ResourceExhaustedError: Graph execution error:\n",
      "\u001b[34m\u001b[1mwandb\u001b[0m: \u001b[32m\u001b[41mERROR\u001b[0m \n",
      "\u001b[34m\u001b[1mwandb\u001b[0m: \u001b[32m\u001b[41mERROR\u001b[0m Detected at node 'sequential/conv2d/Relu' defined at (most recent call last):\n",
      "\u001b[34m\u001b[1mwandb\u001b[0m: \u001b[32m\u001b[41mERROR\u001b[0m     File \"/home/kervin/miniforge3/envs/tf/lib/python3.9/threading.py\", line 937, in _bootstrap\n",
      "\u001b[34m\u001b[1mwandb\u001b[0m: \u001b[32m\u001b[41mERROR\u001b[0m       self._bootstrap_inner()\n",
      "\u001b[34m\u001b[1mwandb\u001b[0m: \u001b[32m\u001b[41mERROR\u001b[0m     File \"/home/kervin/miniforge3/envs/tf/lib/python3.9/threading.py\", line 980, in _bootstrap_inner\n",
      "\u001b[34m\u001b[1mwandb\u001b[0m: \u001b[32m\u001b[41mERROR\u001b[0m       self.run()\n",
      "\u001b[34m\u001b[1mwandb\u001b[0m: \u001b[32m\u001b[41mERROR\u001b[0m     File \"/home/kervin/miniforge3/envs/tf/lib/python3.9/site-packages/ipykernel/ipkernel.py\", line 761, in run_closure\n",
      "\u001b[34m\u001b[1mwandb\u001b[0m: \u001b[32m\u001b[41mERROR\u001b[0m       _threading_Thread_run(self)\n",
      "\u001b[34m\u001b[1mwandb\u001b[0m: \u001b[32m\u001b[41mERROR\u001b[0m     File \"/home/kervin/miniforge3/envs/tf/lib/python3.9/threading.py\", line 917, in run\n",
      "\u001b[34m\u001b[1mwandb\u001b[0m: \u001b[32m\u001b[41mERROR\u001b[0m       self._target(*self._args, **self._kwargs)\n",
      "\u001b[34m\u001b[1mwandb\u001b[0m: \u001b[32m\u001b[41mERROR\u001b[0m     File \"/home/kervin/miniforge3/envs/tf/lib/python3.9/site-packages/wandb/agents/pyagent.py\", line 308, in _run_job\n",
      "\u001b[34m\u001b[1mwandb\u001b[0m: \u001b[32m\u001b[41mERROR\u001b[0m       self._function()\n",
      "\u001b[34m\u001b[1mwandb\u001b[0m: \u001b[32m\u001b[41mERROR\u001b[0m     File \"/tmp/ipykernel_19536/3935950760.py\", line 9, in train\n",
      "\u001b[34m\u001b[1mwandb\u001b[0m: \u001b[32m\u001b[41mERROR\u001b[0m       model.fit(val_dataset, epochs=config.n_epochs, callbacks=[WandbCallback()])\n",
      "\u001b[34m\u001b[1mwandb\u001b[0m: \u001b[32m\u001b[41mERROR\u001b[0m     File \"/home/kervin/miniforge3/envs/tf/lib/python3.9/site-packages/keras/src/utils/traceback_utils.py\", line 65, in error_handler\n",
      "\u001b[34m\u001b[1mwandb\u001b[0m: \u001b[32m\u001b[41mERROR\u001b[0m       return fn(*args, **kwargs)\n",
      "\u001b[34m\u001b[1mwandb\u001b[0m: \u001b[32m\u001b[41mERROR\u001b[0m     File \"/home/kervin/miniforge3/envs/tf/lib/python3.9/site-packages/keras/src/engine/training.py\", line 1742, in fit\n",
      "\u001b[34m\u001b[1mwandb\u001b[0m: \u001b[32m\u001b[41mERROR\u001b[0m       tmp_logs = self.train_function(iterator)\n",
      "\u001b[34m\u001b[1mwandb\u001b[0m: \u001b[32m\u001b[41mERROR\u001b[0m     File \"/home/kervin/miniforge3/envs/tf/lib/python3.9/site-packages/keras/src/engine/training.py\", line 1338, in train_function\n",
      "\u001b[34m\u001b[1mwandb\u001b[0m: \u001b[32m\u001b[41mERROR\u001b[0m       return step_function(self, iterator)\n",
      "\u001b[34m\u001b[1mwandb\u001b[0m: \u001b[32m\u001b[41mERROR\u001b[0m     File \"/home/kervin/miniforge3/envs/tf/lib/python3.9/site-packages/keras/src/engine/training.py\", line 1322, in step_function\n",
      "\u001b[34m\u001b[1mwandb\u001b[0m: \u001b[32m\u001b[41mERROR\u001b[0m       outputs = model.distribute_strategy.run(run_step, args=(data,))\n",
      "\u001b[34m\u001b[1mwandb\u001b[0m: \u001b[32m\u001b[41mERROR\u001b[0m     File \"/home/kervin/miniforge3/envs/tf/lib/python3.9/site-packages/keras/src/engine/training.py\", line 1303, in run_step\n",
      "\u001b[34m\u001b[1mwandb\u001b[0m: \u001b[32m\u001b[41mERROR\u001b[0m       outputs = model.train_step(data)\n",
      "\u001b[34m\u001b[1mwandb\u001b[0m: \u001b[32m\u001b[41mERROR\u001b[0m     File \"/home/kervin/miniforge3/envs/tf/lib/python3.9/site-packages/keras/src/engine/training.py\", line 1080, in train_step\n",
      "\u001b[34m\u001b[1mwandb\u001b[0m: \u001b[32m\u001b[41mERROR\u001b[0m       y_pred = self(x, training=True)\n",
      "\u001b[34m\u001b[1mwandb\u001b[0m: \u001b[32m\u001b[41mERROR\u001b[0m     File \"/home/kervin/miniforge3/envs/tf/lib/python3.9/site-packages/keras/src/utils/traceback_utils.py\", line 65, in error_handler\n",
      "\u001b[34m\u001b[1mwandb\u001b[0m: \u001b[32m\u001b[41mERROR\u001b[0m       return fn(*args, **kwargs)\n",
      "\u001b[34m\u001b[1mwandb\u001b[0m: \u001b[32m\u001b[41mERROR\u001b[0m     File \"/home/kervin/miniforge3/envs/tf/lib/python3.9/site-packages/keras/src/engine/training.py\", line 569, in __call__\n",
      "\u001b[34m\u001b[1mwandb\u001b[0m: \u001b[32m\u001b[41mERROR\u001b[0m       return super().__call__(*args, **kwargs)\n",
      "\u001b[34m\u001b[1mwandb\u001b[0m: \u001b[32m\u001b[41mERROR\u001b[0m     File \"/home/kervin/miniforge3/envs/tf/lib/python3.9/site-packages/keras/src/utils/traceback_utils.py\", line 65, in error_handler\n",
      "\u001b[34m\u001b[1mwandb\u001b[0m: \u001b[32m\u001b[41mERROR\u001b[0m       return fn(*args, **kwargs)\n",
      "\u001b[34m\u001b[1mwandb\u001b[0m: \u001b[32m\u001b[41mERROR\u001b[0m     File \"/home/kervin/miniforge3/envs/tf/lib/python3.9/site-packages/keras/src/engine/base_layer.py\", line 1150, in __call__\n",
      "\u001b[34m\u001b[1mwandb\u001b[0m: \u001b[32m\u001b[41mERROR\u001b[0m       outputs = call_fn(inputs, *args, **kwargs)\n",
      "\u001b[34m\u001b[1mwandb\u001b[0m: \u001b[32m\u001b[41mERROR\u001b[0m     File \"/home/kervin/miniforge3/envs/tf/lib/python3.9/site-packages/keras/src/utils/traceback_utils.py\", line 96, in error_handler\n",
      "\u001b[34m\u001b[1mwandb\u001b[0m: \u001b[32m\u001b[41mERROR\u001b[0m       return fn(*args, **kwargs)\n",
      "\u001b[34m\u001b[1mwandb\u001b[0m: \u001b[32m\u001b[41mERROR\u001b[0m     File \"/home/kervin/miniforge3/envs/tf/lib/python3.9/site-packages/keras/src/engine/sequential.py\", line 405, in call\n",
      "\u001b[34m\u001b[1mwandb\u001b[0m: \u001b[32m\u001b[41mERROR\u001b[0m       return super().call(inputs, training=training, mask=mask)\n",
      "\u001b[34m\u001b[1mwandb\u001b[0m: \u001b[32m\u001b[41mERROR\u001b[0m     File \"/home/kervin/miniforge3/envs/tf/lib/python3.9/site-packages/keras/src/engine/functional.py\", line 512, in call\n",
      "\u001b[34m\u001b[1mwandb\u001b[0m: \u001b[32m\u001b[41mERROR\u001b[0m       return self._run_internal_graph(inputs, training=training, mask=mask)\n",
      "\u001b[34m\u001b[1mwandb\u001b[0m: \u001b[32m\u001b[41mERROR\u001b[0m     File \"/home/kervin/miniforge3/envs/tf/lib/python3.9/site-packages/keras/src/engine/functional.py\", line 669, in _run_internal_graph\n",
      "\u001b[34m\u001b[1mwandb\u001b[0m: \u001b[32m\u001b[41mERROR\u001b[0m       outputs = node.layer(*args, **kwargs)\n",
      "\u001b[34m\u001b[1mwandb\u001b[0m: \u001b[32m\u001b[41mERROR\u001b[0m     File \"/home/kervin/miniforge3/envs/tf/lib/python3.9/site-packages/keras/src/utils/traceback_utils.py\", line 65, in error_handler\n",
      "\u001b[34m\u001b[1mwandb\u001b[0m: \u001b[32m\u001b[41mERROR\u001b[0m       return fn(*args, **kwargs)\n",
      "\u001b[34m\u001b[1mwandb\u001b[0m: \u001b[32m\u001b[41mERROR\u001b[0m     File \"/home/kervin/miniforge3/envs/tf/lib/python3.9/site-packages/keras/src/engine/base_layer.py\", line 1150, in __call__\n",
      "\u001b[34m\u001b[1mwandb\u001b[0m: \u001b[32m\u001b[41mERROR\u001b[0m       outputs = call_fn(inputs, *args, **kwargs)\n",
      "\u001b[34m\u001b[1mwandb\u001b[0m: \u001b[32m\u001b[41mERROR\u001b[0m     File \"/home/kervin/miniforge3/envs/tf/lib/python3.9/site-packages/keras/src/utils/traceback_utils.py\", line 96, in error_handler\n",
      "\u001b[34m\u001b[1mwandb\u001b[0m: \u001b[32m\u001b[41mERROR\u001b[0m       return fn(*args, **kwargs)\n",
      "\u001b[34m\u001b[1mwandb\u001b[0m: \u001b[32m\u001b[41mERROR\u001b[0m     File \"/home/kervin/miniforge3/envs/tf/lib/python3.9/site-packages/keras/src/layers/convolutional/base_conv.py\", line 321, in call\n",
      "\u001b[34m\u001b[1mwandb\u001b[0m: \u001b[32m\u001b[41mERROR\u001b[0m       return self.activation(outputs)\n",
      "\u001b[34m\u001b[1mwandb\u001b[0m: \u001b[32m\u001b[41mERROR\u001b[0m     File \"/home/kervin/miniforge3/envs/tf/lib/python3.9/site-packages/keras/src/activations.py\", line 321, in relu\n",
      "\u001b[34m\u001b[1mwandb\u001b[0m: \u001b[32m\u001b[41mERROR\u001b[0m       return backend.relu(\n",
      "\u001b[34m\u001b[1mwandb\u001b[0m: \u001b[32m\u001b[41mERROR\u001b[0m     File \"/home/kervin/miniforge3/envs/tf/lib/python3.9/site-packages/keras/src/backend.py\", line 5397, in relu\n",
      "\u001b[34m\u001b[1mwandb\u001b[0m: \u001b[32m\u001b[41mERROR\u001b[0m       x = tf.nn.relu(x)\n",
      "\u001b[34m\u001b[1mwandb\u001b[0m: \u001b[32m\u001b[41mERROR\u001b[0m Node: 'sequential/conv2d/Relu'\n",
      "\u001b[34m\u001b[1mwandb\u001b[0m: \u001b[32m\u001b[41mERROR\u001b[0m OOM when allocating tensor with shape[128,3,224,224] and type float on /job:localhost/replica:0/task:0/device:GPU:0 by allocator GPU_0_bfc\n",
      "\u001b[34m\u001b[1mwandb\u001b[0m: \u001b[32m\u001b[41mERROR\u001b[0m \t [[{{node sequential/conv2d/Relu}}]]\n",
      "\u001b[34m\u001b[1mwandb\u001b[0m: \u001b[32m\u001b[41mERROR\u001b[0m Hint: If you want to see a list of allocated tensors when OOM happens, add report_tensor_allocations_upon_oom to RunOptions for current allocation info. This isn't available when running in Eager mode.\n",
      "\u001b[34m\u001b[1mwandb\u001b[0m: \u001b[32m\u001b[41mERROR\u001b[0m  [Op:__inference_train_function_71777]\n",
      "\u001b[34m\u001b[1mwandb\u001b[0m: \u001b[32m\u001b[41mERROR\u001b[0m \n"
     ]
    }
   ],
   "source": [
    "def train():\n",
    "    with wandb.init(project=\"Malaria-Detection\", entity=\"kervin5\", config=CONFIGURATION) as run:\n",
    "        config = run.config\n",
    "        model = model_tune(config)\n",
    "        model.compile(optimizer=tf.optimizers.legacy.Adam(learning_rate=config.learning_rate),\n",
    "              loss=tf.keras.losses.binary_crossentropy,\n",
    "              metrics=metrics)\n",
    "        \n",
    "        model.fit(val_dataset, epochs=config.n_epochs, callbacks=[WandbCallback()])\n",
    "\n",
    "count = 5\n",
    "wandb.agent(sweep_id, function=train, count=count, project=\"Malaria-Detection\", entity=\"kervin5\")"
   ]
  },
  {
   "cell_type": "code",
   "execution_count": 57,
   "metadata": {},
   "outputs": [
    {
     "data": {
      "text/html": [
       "Changes to your `wandb` environment variables will be ignored because your `wandb` session has already started. For more information on how to modify your settings with `wandb.init()` arguments, please refer to <a href='https://wandb.me/wandb-init' target=\"_blank\">the W&B docs</a>."
      ],
      "text/plain": [
       "<IPython.core.display.HTML object>"
      ]
     },
     "metadata": {},
     "output_type": "display_data"
    },
    {
     "name": "stderr",
     "output_type": "stream",
     "text": [
      "\u001b[34m\u001b[1mwandb\u001b[0m: \u001b[33mWARNING\u001b[0m Ignored wandb.init() arg project when running a sweep.\n",
      "\u001b[34m\u001b[1mwandb\u001b[0m: \u001b[33mWARNING\u001b[0m Ignored wandb.init() arg entity when running a sweep.\n"
     ]
    },
    {
     "data": {
      "application/vnd.jupyter.widget-view+json": {
       "model_id": "1757c469d9a64799a70a2a4c8a64b3dc",
       "version_major": 2,
       "version_minor": 0
      },
      "text/plain": [
       "VBox(children=(Label(value='Waiting for wandb.init()...\\r'), FloatProgress(value=0.011112139955548628, max=1.0…"
      ]
     },
     "metadata": {},
     "output_type": "display_data"
    },
    {
     "data": {
      "text/html": [
       "Tracking run with wandb version 0.16.6"
      ],
      "text/plain": [
       "<IPython.core.display.HTML object>"
      ]
     },
     "metadata": {},
     "output_type": "display_data"
    },
    {
     "data": {
      "text/html": [
       "Run data is saved locally in <code>/home/kervin/Coding/machine_learning/20_tensorflow_projects/wandb/run-20240414_033612-hr3iyxvg</code>"
      ],
      "text/plain": [
       "<IPython.core.display.HTML object>"
      ]
     },
     "metadata": {},
     "output_type": "display_data"
    },
    {
     "data": {
      "text/html": [
       "Syncing run <strong><a href='https://wandb.ai/kervin5/Malaria-Detection/runs/hr3iyxvg' target=\"_blank\">visionary-sweep-5</a></strong> to <a href='https://wandb.ai/kervin5/Malaria-Detection' target=\"_blank\">Weights & Biases</a> (<a href='https://wandb.me/run' target=\"_blank\">docs</a>)<br/>Sweep page: <a href='https://wandb.ai/kervin5/Malaria-Detection/sweeps/do7b6bjx' target=\"_blank\">https://wandb.ai/kervin5/Malaria-Detection/sweeps/do7b6bjx</a>"
      ],
      "text/plain": [
       "<IPython.core.display.HTML object>"
      ]
     },
     "metadata": {},
     "output_type": "display_data"
    },
    {
     "data": {
      "text/html": [
       " View project at <a href='https://wandb.ai/kervin5/Malaria-Detection' target=\"_blank\">https://wandb.ai/kervin5/Malaria-Detection</a>"
      ],
      "text/plain": [
       "<IPython.core.display.HTML object>"
      ]
     },
     "metadata": {},
     "output_type": "display_data"
    },
    {
     "data": {
      "text/html": [
       " View sweep at <a href='https://wandb.ai/kervin5/Malaria-Detection/sweeps/do7b6bjx' target=\"_blank\">https://wandb.ai/kervin5/Malaria-Detection/sweeps/do7b6bjx</a>"
      ],
      "text/plain": [
       "<IPython.core.display.HTML object>"
      ]
     },
     "metadata": {},
     "output_type": "display_data"
    },
    {
     "data": {
      "text/html": [
       " View run at <a href='https://wandb.ai/kervin5/Malaria-Detection/runs/hr3iyxvg' target=\"_blank\">https://wandb.ai/kervin5/Malaria-Detection/runs/hr3iyxvg</a>"
      ],
      "text/plain": [
       "<IPython.core.display.HTML object>"
      ]
     },
     "metadata": {},
     "output_type": "display_data"
    },
    {
     "data": {
      "text/html": [
       "<button onClick=\"this.nextSibling.style.display='block';this.style.display='none';\">Display W&B run</button><iframe src='https://wandb.ai/kervin5/Malaria-Detection/runs/hr3iyxvg?jupyter=true' style='border:none;width:100%;height:420px;display:none;'></iframe>"
      ],
      "text/plain": [
       "<wandb.sdk.wandb_run.Run at 0x78dfa00bcfa0>"
      ]
     },
     "execution_count": 57,
     "metadata": {},
     "output_type": "execute_result"
    }
   ],
   "source": [
    "wandb.finish()\n",
    "wandb.init(project=\"Malaria-Detection\", entity=\"kervin5\")\n"
   ]
  },
  {
   "cell_type": "markdown",
   "metadata": {},
   "source": [
    "### Executing training"
   ]
  },
  {
   "cell_type": "code",
   "execution_count": 59,
   "metadata": {},
   "outputs": [
    {
     "name": "stdout",
     "output_type": "stream",
     "text": [
      "Epoch 1/3\n"
     ]
    },
    {
     "ename": "TypeError",
     "evalue": "'NoneType' object is not callable",
     "output_type": "error",
     "traceback": [
      "\u001b[0;31m---------------------------------------------------------------------------\u001b[0m",
      "\u001b[0;31mTypeError\u001b[0m                                 Traceback (most recent call last)",
      "Cell \u001b[0;32mIn[59], line 12\u001b[0m\n\u001b[1;32m      1\u001b[0m \u001b[38;5;66;03m# history = model.fit(train_dataset, validation_data=val_dataset, epochs=3, verbose=1, callbacks=[csv_callback, early_stopping_callback])\u001b[39;00m\n\u001b[1;32m      2\u001b[0m \u001b[38;5;66;03m# history = model.fit(train_dataset, validation_data=val_dataset, epochs=3, verbose=1, callbacks=[lr_scheduler_callback])\u001b[39;00m\n\u001b[1;32m      3\u001b[0m \u001b[38;5;66;03m# history = model.fit(train_dataset, validation_data=val_dataset, epochs=3, verbose=0, callbacks=[checkpoint_callback])\u001b[39;00m\n\u001b[0;32m   (...)\u001b[0m\n\u001b[1;32m      6\u001b[0m \u001b[38;5;66;03m# WE need a generator for the dataset prefetched to pass it to the wandb callback.\u001b[39;00m\n\u001b[1;32m      7\u001b[0m \u001b[38;5;66;03m# (generator) a generator that returns validation data for wandb to visualize. This generator should return tuples (X,y). Either validate_data or generator should be set for wandb to visualize specific data examples. In case you are working with image data, please also set input_type and output_type in order to log correctly.\u001b[39;00m\n\u001b[0;32m---> 12\u001b[0m history \u001b[38;5;241m=\u001b[39m \u001b[43mmodel\u001b[49m\u001b[38;5;241;43m.\u001b[39;49m\u001b[43mfit\u001b[49m\u001b[43m(\u001b[49m\u001b[43mtrain_dataset\u001b[49m\u001b[43m,\u001b[49m\u001b[43m \u001b[49m\n\u001b[1;32m     13\u001b[0m \u001b[43m                    \u001b[49m\u001b[43mvalidation_data\u001b[49m\u001b[38;5;241;43m=\u001b[39;49m\u001b[43mval_dataset\u001b[49m\u001b[43m,\u001b[49m\u001b[43m \u001b[49m\n\u001b[1;32m     14\u001b[0m \u001b[43m                    \u001b[49m\u001b[43mepochs\u001b[49m\u001b[38;5;241;43m=\u001b[39;49m\u001b[43mCONFIGURATION\u001b[49m\u001b[43m[\u001b[49m\u001b[38;5;124;43m'\u001b[39;49m\u001b[38;5;124;43mepochs\u001b[39;49m\u001b[38;5;124;43m'\u001b[39;49m\u001b[43m]\u001b[49m\u001b[43m,\u001b[49m\u001b[43m \u001b[49m\n\u001b[1;32m     15\u001b[0m \u001b[43m                    \u001b[49m\u001b[43mverbose\u001b[49m\u001b[38;5;241;43m=\u001b[39;49m\u001b[38;5;241;43m1\u001b[39;49m\u001b[43m,\u001b[49m\u001b[43m \u001b[49m\n\u001b[1;32m     16\u001b[0m \u001b[43m                    \u001b[49m\u001b[43mcallbacks\u001b[49m\u001b[38;5;241;43m=\u001b[39;49m\u001b[43m[\u001b[49m\u001b[43mWandbCallback\u001b[49m\u001b[43m(\u001b[49m\n\u001b[1;32m     17\u001b[0m \u001b[43m                        \u001b[49m\u001b[43mvalidation_data\u001b[49m\u001b[38;5;241;43m=\u001b[39;49m\u001b[43mval_dataset\u001b[49m\u001b[43m,\u001b[49m\n\u001b[1;32m     18\u001b[0m \u001b[43m                        \u001b[49m\u001b[43mlabels\u001b[49m\u001b[38;5;241;43m=\u001b[39;49m\u001b[43mLABELS\u001b[49m\u001b[43m,\u001b[49m\n\u001b[1;32m     19\u001b[0m \u001b[43m                        \u001b[49m\u001b[43minput_type\u001b[49m\u001b[38;5;241;43m=\u001b[39;49m\u001b[38;5;124;43m'\u001b[39;49m\u001b[38;5;124;43mimage\u001b[39;49m\u001b[38;5;124;43m'\u001b[39;49m\u001b[43m,\u001b[49m\n\u001b[1;32m     20\u001b[0m \u001b[43m                        \u001b[49m\u001b[43moutput_type\u001b[49m\u001b[38;5;241;43m=\u001b[39;49m\u001b[38;5;124;43m'\u001b[39;49m\u001b[38;5;124;43mlabel\u001b[39;49m\u001b[38;5;124;43m'\u001b[39;49m\u001b[43m,\u001b[49m\n\u001b[1;32m     21\u001b[0m \u001b[43m                        \u001b[49m\u001b[43mgenerator\u001b[49m\u001b[38;5;241;43m=\u001b[39;49m\u001b[43mgenerator\u001b[49m\u001b[43m(\u001b[49m\u001b[43mval_dataset\u001b[49m\u001b[43m)\u001b[49m\n\u001b[1;32m     22\u001b[0m \u001b[43m                    \u001b[49m\u001b[43m)\u001b[49m\u001b[43m]\u001b[49m\u001b[43m)\u001b[49m\n",
      "File \u001b[0;32m~/miniforge3/envs/tf/lib/python3.9/site-packages/keras/src/utils/traceback_utils.py:70\u001b[0m, in \u001b[0;36mfilter_traceback.<locals>.error_handler\u001b[0;34m(*args, **kwargs)\u001b[0m\n\u001b[1;32m     67\u001b[0m     filtered_tb \u001b[38;5;241m=\u001b[39m _process_traceback_frames(e\u001b[38;5;241m.\u001b[39m__traceback__)\n\u001b[1;32m     68\u001b[0m     \u001b[38;5;66;03m# To get the full stack trace, call:\u001b[39;00m\n\u001b[1;32m     69\u001b[0m     \u001b[38;5;66;03m# `tf.debugging.disable_traceback_filtering()`\u001b[39;00m\n\u001b[0;32m---> 70\u001b[0m     \u001b[38;5;28;01mraise\u001b[39;00m e\u001b[38;5;241m.\u001b[39mwith_traceback(filtered_tb) \u001b[38;5;28;01mfrom\u001b[39;00m \u001b[38;5;28;01mNone\u001b[39;00m\n\u001b[1;32m     71\u001b[0m \u001b[38;5;28;01mfinally\u001b[39;00m:\n\u001b[1;32m     72\u001b[0m     \u001b[38;5;28;01mdel\u001b[39;00m filtered_tb\n",
      "File \u001b[0;32m~/miniforge3/envs/tf/lib/python3.9/site-packages/tensorflow/python/eager/polymorphic_function/polymorphic_function.py:857\u001b[0m, in \u001b[0;36mFunction._call\u001b[0;34m(self, *args, **kwds)\u001b[0m\n\u001b[1;32m    854\u001b[0m   \u001b[38;5;28mself\u001b[39m\u001b[38;5;241m.\u001b[39m_lock\u001b[38;5;241m.\u001b[39mrelease()\n\u001b[1;32m    855\u001b[0m   \u001b[38;5;66;03m# In this case we have created variables on the first call, so we run the\u001b[39;00m\n\u001b[1;32m    856\u001b[0m   \u001b[38;5;66;03m# defunned version which is guaranteed to never create variables.\u001b[39;00m\n\u001b[0;32m--> 857\u001b[0m   \u001b[38;5;28;01mreturn\u001b[39;00m \u001b[38;5;28;43mself\u001b[39;49m\u001b[38;5;241;43m.\u001b[39;49m\u001b[43m_no_variable_creation_fn\u001b[49m\u001b[43m(\u001b[49m\u001b[38;5;241;43m*\u001b[39;49m\u001b[43margs\u001b[49m\u001b[43m,\u001b[49m\u001b[43m \u001b[49m\u001b[38;5;241;43m*\u001b[39;49m\u001b[38;5;241;43m*\u001b[39;49m\u001b[43mkwds\u001b[49m\u001b[43m)\u001b[49m  \u001b[38;5;66;03m# pylint: disable=not-callable\u001b[39;00m\n\u001b[1;32m    858\u001b[0m \u001b[38;5;28;01melif\u001b[39;00m \u001b[38;5;28mself\u001b[39m\u001b[38;5;241m.\u001b[39m_variable_creation_fn \u001b[38;5;129;01mis\u001b[39;00m \u001b[38;5;129;01mnot\u001b[39;00m \u001b[38;5;28;01mNone\u001b[39;00m:\n\u001b[1;32m    859\u001b[0m   \u001b[38;5;66;03m# Release the lock early so that multiple threads can perform the call\u001b[39;00m\n\u001b[1;32m    860\u001b[0m   \u001b[38;5;66;03m# in parallel.\u001b[39;00m\n\u001b[1;32m    861\u001b[0m   \u001b[38;5;28mself\u001b[39m\u001b[38;5;241m.\u001b[39m_lock\u001b[38;5;241m.\u001b[39mrelease()\n",
      "\u001b[0;31mTypeError\u001b[0m: 'NoneType' object is not callable"
     ]
    }
   ],
   "source": [
    "# history = model.fit(train_dataset, validation_data=val_dataset, epochs=3, verbose=1, callbacks=[csv_callback, early_stopping_callback])\n",
    "# history = model.fit(train_dataset, validation_data=val_dataset, epochs=3, verbose=1, callbacks=[lr_scheduler_callback])\n",
    "# history = model.fit(train_dataset, validation_data=val_dataset, epochs=3, verbose=0, callbacks=[checkpoint_callback])\n",
    "# history = model.fit(train_dataset, validation_data=val_dataset, epochs=3, verbose=1, callbacks=[plateau_callback])\n",
    "\n",
    "# WE need a generator for the dataset prefetched to pass it to the wandb callback.\n",
    "# (generator) a generator that returns validation data for wandb to visualize. This generator should return tuples (X,y). Either validate_data or generator should be set for wandb to visualize specific data examples. In case you are working with image data, please also set input_type and output_type in order to log correctly.\n",
    "\n",
    "\n",
    "\n",
    "\n",
    "history = model.fit(train_dataset, \n",
    "                    validation_data=val_dataset, \n",
    "                    epochs=CONFIGURATION['epochs'], \n",
    "                    verbose=1, \n",
    "                    callbacks=[WandbCallback(\n",
    "                        validation_data=val_dataset,\n",
    "                        labels=LABELS,\n",
    "                        input_type='image',\n",
    "                        output_type='label',\n",
    "                        generator=generator(val_dataset)\n",
    "                    )])"
   ]
  },
  {
   "cell_type": "markdown",
   "metadata": {},
   "source": [
    "## Model Evaluation and Testing"
   ]
  },
  {
   "cell_type": "code",
   "execution_count": null,
   "metadata": {},
   "outputs": [],
   "source": [
    "test_dataset = test_dataset.batch(1)"
   ]
  },
  {
   "cell_type": "markdown",
   "metadata": {},
   "source": [
    "model.evaluate(test_dataset)"
   ]
  },
  {
   "cell_type": "code",
   "execution_count": null,
   "metadata": {},
   "outputs": [
    {
     "name": "stdout",
     "output_type": "stream",
     "text": [
      "1/1 [==============================] - 1s 1s/step\n"
     ]
    },
    {
     "data": {
      "text/plain": [
       "0.96565795"
      ]
     },
     "execution_count": 47,
     "metadata": {},
     "output_type": "execute_result"
    }
   ],
   "source": [
    "model.predict(test_dataset.take(1))[0][0]"
   ]
  },
  {
   "cell_type": "code",
   "execution_count": null,
   "metadata": {},
   "outputs": [],
   "source": [
    "def parasite_or_not(probability):\n",
    "    if probability > 0.5:\n",
    "        return 'P'\n",
    "    else:\n",
    "        return 'U'"
   ]
  },
  {
   "cell_type": "code",
   "execution_count": null,
   "metadata": {},
   "outputs": [
    {
     "name": "stdout",
     "output_type": "stream",
     "text": [
      "1/1 [==============================] - 1s 1s/step\n"
     ]
    },
    {
     "data": {
      "text/plain": [
       "'P'"
      ]
     },
     "execution_count": 49,
     "metadata": {},
     "output_type": "execute_result"
    }
   ],
   "source": [
    "parasite_or_not(model.predict(test_dataset.take(1))[0][0])"
   ]
  },
  {
   "cell_type": "code",
   "execution_count": null,
   "metadata": {},
   "outputs": [
    {
     "name": "stdout",
     "output_type": "stream",
     "text": [
      "1/1 [==============================] - 1s 1s/step\n",
      "1/1 [==============================] - 1s 1s/step\n",
      "1/1 [==============================] - 1s 1s/step\n",
      "1/1 [==============================] - 1s 1s/step\n",
      "1/1 [==============================] - 1s 1s/step\n",
      "1/1 [==============================] - 1s 1s/step\n",
      "1/1 [==============================] - 1s 1s/step\n",
      "1/1 [==============================] - 1s 1s/step\n",
      "1/1 [==============================] - 1s 1s/step\n"
     ]
    },
    {
     "data": {
      "image/png": "[encoded data removed]",
      "text/plain": [
       "<Figure size 640x480 with 9 Axes>"
      ]
     },
     "metadata": {},
     "output_type": "display_data"
    }
   ],
   "source": [
    "for i, (image, label) in enumerate(test_dataset.take(9)):\n",
    "    ax = plt.subplot(3, 3, i + 1)\n",
    "    plt.imshow(image[0])\n",
    "    plt.title(parasite_or_not(label.numpy()[0]) + ':' + parasite_or_not(model.predict(test_dataset.take(1))[0][0]))\n",
    "    plt.axis('off')"
   ]
  },
  {
   "cell_type": "markdown",
   "metadata": {},
   "source": [
    "## Visualize Confusion Matrix"
   ]
  },
  {
   "cell_type": "code",
   "execution_count": null,
   "metadata": {},
   "outputs": [
    {
     "name": "stdout",
     "output_type": "stream",
     "text": [
      "(2755, 1, 224, 224, 3) (2755,)\n"
     ]
    }
   ],
   "source": [
    "labels = []\n",
    "inp = []\n",
    "\n",
    "for x, y in test_dataset.as_numpy_iterator():\n",
    "    labels.append(y) \n",
    "    inp.append(x)\n",
    "\n",
    "\n",
    "labels = np.array([i[0] for i in labels])\n",
    "print(np.array(inp).shape, labels.shape)"
   ]
  },
  {
   "cell_type": "code",
   "execution_count": null,
   "metadata": {},
   "outputs": [
    {
     "name": "stdout",
     "output_type": "stream",
     "text": [
      "87/87 [==============================] - 2s 18ms/step\n",
      "[0.97533673 0.97064596 0.9316219  ... 0.91433537 0.959271   0.93163383]\n"
     ]
    }
   ],
   "source": [
    "predicted = model.predict(np.array(inp)[:, 0, ...])\n",
    "print(predicted[:, 0])\n"
   ]
  },
  {
   "cell_type": "code",
   "execution_count": null,
   "metadata": {},
   "outputs": [
    {
     "name": "stdout",
     "output_type": "stream",
     "text": [
      "[[  64 1330]\n",
      " [   2 1359]]\n"
     ]
    },
    {
     "data": {
      "text/plain": [
       "Text(0.5, 58.7222222222222, 'Predicted')"
      ]
     },
     "execution_count": 53,
     "metadata": {},
     "output_type": "execute_result"
    },
    {
     "data": {
      "image/png": "[encoded data removed]",
      "text/plain": [
       "<Figure size 800x800 with 2 Axes>"
      ]
     },
     "metadata": {},
     "output_type": "display_data"
    }
   ],
   "source": [
    "threshold = 0.5\n",
    "\n",
    "cm = confusion_matrix(labels, predicted > threshold)\n",
    "print(cm)\n",
    "plt.figure(figsize=(8, 8))\n",
    "\n",
    "sns.heatmap(cm, annot=True,)\n",
    "plt.title('Confusion Matrix - {}'.format(threshold))\n",
    "plt.ylabel('Actual')\n",
    "plt.xlabel('Predicted')\n"
   ]
  },
  {
   "cell_type": "code",
   "execution_count": null,
   "metadata": {},
   "outputs": [],
   "source": [
    "# log the confusion matrix with wandb\n",
    "pred = []\n",
    "\n",
    "for i in range(len(predicted)):\n",
    "    if predicted[i][0] < 0.5:\n",
    "        pred.append([1,0])\n",
    "    else:\n",
    "        pred.append([0,1])\n"
   ]
  },
  {
   "cell_type": "code",
   "execution_count": null,
   "metadata": {},
   "outputs": [
    {
     "name": "stdout",
     "output_type": "stream",
     "text": [
      "[[0, 1], [0, 1], [0, 1], [0, 1], [0, 1], [0, 1], [0, 1], [0, 1], [0, 1], [0, 1], [0, 1], [0, 1], [0, 1], [0, 1], [0, 1], [0, 1], [0, 1], [0, 1], [0, 1], [0, 1], [0, 1], [0, 1], [0, 1], [0, 1], [0, 1], [0, 1], [0, 1], [0, 1], [0, 1], [0, 1], [0, 1], [0, 1], [0, 1], [0, 1], [0, 1], [0, 1], [1, 0], [0, 1], [0, 1], [0, 1], [0, 1], [0, 1], [0, 1], [0, 1], [0, 1], [0, 1], [0, 1], [0, 1], [0, 1], [0, 1], [0, 1], [0, 1], [1, 0], [0, 1], [0, 1], [0, 1], [0, 1], [0, 1], [0, 1], [0, 1], [0, 1], [0, 1], [0, 1], [0, 1], [0, 1], [0, 1], [0, 1], [0, 1], [0, 1], [0, 1], [0, 1], [0, 1], [0, 1], [0, 1], [0, 1], [0, 1], [0, 1], [0, 1], [0, 1], [0, 1], [0, 1], [0, 1], [0, 1], [0, 1], [0, 1], [0, 1], [1, 0], [0, 1], [0, 1], [1, 0], [0, 1], [0, 1], [0, 1], [0, 1], [0, 1], [0, 1], [0, 1], [0, 1], [0, 1], [0, 1], [0, 1], [0, 1], [0, 1], [0, 1], [0, 1], [0, 1], [0, 1], [0, 1], [0, 1], [0, 1], [0, 1], [0, 1], [0, 1], [0, 1], [0, 1], [0, 1], [0, 1], [0, 1], [0, 1], [0, 1], [0, 1], [0, 1], [0, 1], [0, 1], [0, 1], [0, 1], [0, 1], [0, 1], [0, 1], [0, 1], [0, 1], [0, 1], [0, 1], [0, 1], [0, 1], [0, 1], [0, 1], [0, 1], [0, 1], [0, 1], [0, 1], [0, 1], [0, 1], [0, 1], [0, 1], [0, 1], [0, 1], [0, 1], [0, 1], [0, 1], [0, 1], [0, 1], [0, 1], [0, 1], [0, 1], [0, 1], [0, 1], [0, 1], [1, 0], [0, 1], [0, 1], [0, 1], [0, 1], [0, 1], [0, 1], [0, 1], [0, 1], [0, 1], [0, 1], [0, 1], [0, 1], [0, 1], [0, 1], [0, 1], [0, 1], [0, 1], [0, 1], [0, 1], [0, 1], [0, 1], [0, 1], [0, 1], [0, 1], [0, 1], [0, 1], [0, 1], [0, 1], [0, 1], [0, 1], [0, 1], [0, 1], [0, 1], [0, 1], [1, 0], [0, 1], [0, 1], [0, 1], [0, 1], [0, 1], [0, 1], [1, 0], [0, 1], [0, 1], [0, 1], [0, 1], [0, 1], [0, 1], [1, 0], [0, 1], [0, 1], [0, 1], [0, 1], [0, 1], [0, 1], [0, 1], [0, 1], [0, 1], [0, 1], [0, 1], [0, 1], [0, 1], [0, 1], [0, 1], [0, 1], [0, 1], [0, 1], [0, 1], [0, 1], [0, 1], [0, 1], [0, 1], [0, 1], [0, 1], [0, 1], [0, 1], [0, 1], [1, 0], [0, 1], [0, 1], [0, 1], [0, 1], [0, 1], [0, 1], [0, 1], [0, 1], [0, 1], [0, 1], [0, 1], [0, 1], [0, 1], [0, 1], [0, 1], [0, 1], [0, 1], [0, 1], [0, 1], [0, 1], [0, 1], [0, 1], [0, 1], [0, 1], [0, 1], [0, 1], [0, 1], [0, 1], [0, 1], [0, 1], [0, 1], [0, 1], [0, 1], [0, 1], [0, 1], [1, 0], [0, 1], [0, 1], [0, 1], [0, 1], [0, 1], [0, 1], [0, 1], [0, 1], [0, 1], [0, 1], [0, 1], [0, 1], [0, 1], [0, 1], [0, 1], [0, 1], [0, 1], [0, 1], [0, 1], [0, 1], [0, 1], [0, 1], [0, 1], [0, 1], [0, 1], [0, 1], [0, 1], [0, 1], [0, 1], [0, 1], [0, 1], [0, 1], [0, 1], [0, 1], [0, 1], [0, 1], [0, 1], [0, 1], [0, 1], [0, 1], [0, 1], [0, 1], [0, 1], [0, 1], [0, 1], [0, 1], [0, 1], [0, 1], [0, 1], [0, 1], [0, 1], [0, 1], [0, 1], [0, 1], [0, 1], [0, 1], [0, 1], [0, 1], [0, 1], [0, 1], [0, 1], [0, 1], [0, 1], [0, 1], [0, 1], [0, 1], [0, 1], [0, 1], [0, 1], [0, 1], [0, 1], [0, 1], [0, 1], [0, 1], [0, 1], [0, 1], [0, 1], [0, 1], [0, 1], [0, 1], [0, 1], [0, 1], [0, 1], [0, 1], [0, 1], [0, 1], [0, 1], [0, 1], [0, 1], [0, 1], [0, 1], [0, 1], [0, 1], [0, 1], [0, 1], [0, 1], [0, 1], [0, 1], [0, 1], [0, 1], [0, 1], [0, 1], [0, 1], [0, 1], [0, 1], [0, 1], [1, 0], [0, 1], [0, 1], [0, 1], [0, 1], [0, 1], [0, 1], [0, 1], [0, 1], [0, 1], [0, 1], [0, 1], [0, 1], [0, 1], [0, 1], [0, 1], [0, 1], [0, 1], [0, 1], [0, 1], [0, 1], [0, 1], [0, 1], [0, 1], [0, 1], [0, 1], [0, 1], [0, 1], [0, 1], [0, 1], [0, 1], [0, 1], [0, 1], [0, 1], [0, 1], [0, 1], [0, 1], [0, 1], [0, 1], [0, 1], [0, 1], [0, 1], [1, 0], [0, 1], [0, 1], [0, 1], [0, 1], [0, 1], [0, 1], [0, 1], [0, 1], [0, 1], [0, 1], [0, 1], [0, 1], [0, 1], [0, 1], [0, 1], [0, 1], [0, 1], [0, 1], [0, 1], [0, 1], [0, 1], [0, 1], [0, 1], [0, 1], [0, 1], [0, 1], [0, 1], [0, 1], [0, 1], [0, 1], [0, 1], [0, 1], [0, 1], [0, 1], [0, 1], [0, 1], [0, 1], [0, 1], [0, 1], [0, 1], [0, 1], [0, 1], [0, 1], [0, 1], [0, 1], [0, 1], [0, 1], [0, 1], [0, 1], [0, 1], [0, 1], [0, 1], [0, 1], [0, 1], [0, 1], [0, 1], [0, 1], [0, 1], [0, 1], [0, 1], [0, 1], [0, 1], [0, 1], [0, 1], [0, 1], [0, 1], [0, 1], [0, 1], [0, 1], [0, 1], [0, 1], [0, 1], [0, 1], [0, 1], [0, 1], [0, 1], [0, 1], [0, 1], [0, 1], [0, 1], [0, 1], [0, 1], [0, 1], [0, 1], [0, 1], [0, 1], [0, 1], [0, 1], [0, 1], [0, 1], [0, 1], [0, 1], [0, 1], [0, 1], [0, 1], [0, 1], [0, 1], [0, 1], [0, 1], [0, 1], [0, 1], [0, 1], [0, 1], [0, 1], [0, 1], [0, 1], [0, 1], [0, 1], [0, 1], [0, 1], [0, 1], [0, 1], [0, 1], [0, 1], [0, 1], [0, 1], [0, 1], [0, 1], [0, 1], [0, 1], [0, 1], [0, 1], [0, 1], [0, 1], [0, 1], [0, 1], [0, 1], [0, 1], [0, 1], [0, 1], [0, 1], [0, 1], [0, 1], [0, 1], [0, 1], [0, 1], [0, 1], [0, 1], [0, 1], [0, 1], [0, 1], [0, 1], [0, 1], [0, 1], [0, 1], [0, 1], [0, 1], [0, 1], [0, 1], [0, 1], [0, 1], [0, 1], [0, 1], [0, 1], [0, 1], [0, 1], [0, 1], [0, 1], [0, 1], [0, 1], [0, 1], [0, 1], [0, 1], [0, 1], [0, 1], [0, 1], [0, 1], [0, 1], [0, 1], [0, 1], [0, 1], [0, 1], [0, 1], [0, 1], [0, 1], [0, 1], [0, 1], [0, 1], [0, 1], [0, 1], [0, 1], [0, 1], [0, 1], [0, 1], [0, 1], [0, 1], [0, 1], [0, 1], [0, 1], [0, 1], [0, 1], [0, 1], [0, 1], [0, 1], [0, 1], [0, 1], [0, 1], [0, 1], [0, 1], [0, 1], [0, 1], [0, 1], [0, 1], [0, 1], [0, 1], [0, 1], [0, 1], [0, 1], [0, 1], [0, 1], [0, 1], [0, 1], [0, 1], [0, 1], [0, 1], [0, 1], [0, 1], [0, 1], [0, 1], [0, 1], [0, 1], [0, 1], [0, 1], [0, 1], [0, 1], [0, 1], [0, 1], [0, 1], [0, 1], [0, 1], [0, 1], [0, 1], [0, 1], [0, 1], [0, 1], [0, 1], [0, 1], [0, 1], [0, 1], [0, 1], [0, 1], [0, 1], [0, 1], [0, 1], [0, 1], [0, 1], [0, 1], [0, 1], [0, 1], [0, 1], [0, 1], [0, 1], [0, 1], [0, 1], [0, 1], [0, 1], [0, 1], [0, 1], [0, 1], [0, 1], [0, 1], [0, 1], [0, 1], [0, 1], [0, 1], [0, 1], [0, 1], [0, 1], [0, 1], [0, 1], [0, 1], [0, 1], [0, 1], [0, 1], [0, 1], [0, 1], [0, 1], [0, 1], [0, 1], [0, 1], [0, 1], [0, 1], [0, 1], [0, 1], [0, 1], [0, 1], [0, 1], [0, 1], [0, 1], [0, 1], [0, 1], [0, 1], [0, 1], [0, 1], [0, 1], [0, 1], [0, 1], [0, 1], [0, 1], [0, 1], [0, 1], [0, 1], [0, 1], [0, 1], [0, 1], [0, 1], [0, 1], [0, 1], [0, 1], [0, 1], [1, 0], [0, 1], [0, 1], [0, 1], [0, 1], [0, 1], [0, 1], [0, 1], [0, 1], [0, 1], [0, 1], [0, 1], [0, 1], [0, 1], [0, 1], [0, 1], [0, 1], [0, 1], [0, 1], [0, 1], [0, 1], [0, 1], [0, 1], [0, 1], [0, 1], [0, 1], [0, 1], [0, 1], [0, 1], [0, 1], [0, 1], [0, 1], [0, 1], [0, 1], [0, 1], [0, 1], [0, 1], [0, 1], [0, 1], [0, 1], [0, 1], [0, 1], [0, 1], [0, 1], [0, 1], [0, 1], [1, 0], [0, 1], [0, 1], [0, 1], [0, 1], [0, 1], [0, 1], [0, 1], [0, 1], [0, 1], [0, 1], [0, 1], [0, 1], [0, 1], [0, 1], [0, 1], [0, 1], [0, 1], [0, 1], [0, 1], [0, 1], [0, 1], [0, 1], [0, 1], [0, 1], [0, 1], [0, 1], [0, 1], [0, 1], [0, 1], [0, 1], [0, 1], [0, 1], [0, 1], [0, 1], [0, 1], [0, 1], [0, 1], [0, 1], [0, 1], [0, 1], [0, 1], [1, 0], [0, 1], [0, 1], [0, 1], [0, 1], [0, 1], [0, 1], [0, 1], [0, 1], [0, 1], [0, 1], [0, 1], [0, 1], [0, 1], [0, 1], [0, 1], [0, 1], [0, 1], [0, 1], [0, 1], [0, 1], [0, 1], [0, 1], [0, 1], [0, 1], [0, 1], [0, 1], [0, 1], [0, 1], [0, 1], [0, 1], [0, 1], [0, 1], [0, 1], [0, 1], [0, 1], [0, 1], [0, 1], [0, 1], [0, 1], [0, 1], [0, 1], [0, 1], [0, 1], [0, 1], [0, 1], [0, 1], [0, 1], [0, 1], [0, 1], [0, 1], [0, 1], [0, 1], [0, 1], [0, 1], [0, 1], [0, 1], [0, 1], [0, 1], [0, 1], [0, 1], [0, 1], [0, 1], [0, 1], [0, 1], [1, 0], [1, 0], [0, 1], [0, 1], [0, 1], [0, 1], [0, 1], [0, 1], [0, 1], [0, 1], [0, 1], [0, 1], [0, 1], [0, 1], [0, 1], [0, 1], [0, 1], [0, 1], [0, 1], [0, 1], [0, 1], [0, 1], [0, 1], [0, 1], [0, 1], [0, 1], [0, 1], [0, 1], [0, 1], [0, 1], [0, 1], [0, 1], [0, 1], [0, 1], [0, 1], [0, 1], [0, 1], [0, 1], [0, 1], [0, 1], [0, 1], [0, 1], [0, 1], [0, 1], [0, 1], [0, 1], [0, 1], [0, 1], [0, 1], [0, 1], [0, 1], [0, 1], [0, 1], [0, 1], [0, 1], [0, 1], [0, 1], [0, 1], [0, 1], [0, 1], [0, 1], [0, 1], [0, 1], [0, 1], [0, 1], [0, 1], [0, 1], [0, 1], [0, 1], [0, 1], [0, 1], [0, 1], [0, 1], [0, 1], [0, 1], [0, 1], [0, 1], [0, 1], [0, 1], [0, 1], [0, 1], [0, 1], [0, 1], [0, 1], [0, 1], [0, 1], [0, 1], [0, 1], [0, 1], [0, 1], [0, 1], [0, 1], [0, 1], [0, 1], [0, 1], [0, 1], [0, 1], [0, 1], [0, 1], [0, 1], [0, 1], [0, 1], [0, 1], [0, 1], [0, 1], [0, 1], [0, 1], [0, 1], [0, 1], [0, 1], [0, 1], [0, 1], [0, 1], [0, 1], [0, 1], [0, 1], [0, 1], [0, 1], [0, 1], [0, 1], [0, 1], [0, 1], [0, 1], [0, 1], [0, 1], [0, 1], [0, 1], [0, 1], [0, 1], [0, 1], [0, 1], [0, 1], [0, 1], [0, 1], [0, 1], [0, 1], [0, 1], [0, 1], [0, 1], [0, 1], [0, 1], [0, 1], [0, 1], [0, 1], [0, 1], [0, 1], [0, 1], [0, 1], [0, 1], [0, 1], [0, 1], [0, 1], [0, 1], [0, 1], [1, 0], [0, 1], [0, 1], [0, 1], [0, 1], [0, 1], [0, 1], [0, 1], [0, 1], [0, 1], [0, 1], [1, 0], [0, 1], [0, 1], [0, 1], [0, 1], [0, 1], [0, 1], [0, 1], [0, 1], [1, 0], [0, 1], [0, 1], [0, 1], [0, 1], [0, 1], [0, 1], [0, 1], [0, 1], [0, 1], [0, 1], [0, 1], [0, 1], [0, 1], [0, 1], [0, 1], [0, 1], [0, 1], [0, 1], [0, 1], [0, 1], [0, 1], [0, 1], [0, 1], [0, 1], [0, 1], [0, 1], [0, 1], [0, 1], [0, 1], [0, 1], [0, 1], [0, 1], [0, 1], [0, 1], [0, 1], [0, 1], [0, 1], [0, 1], [0, 1], [0, 1], [0, 1], [0, 1], [0, 1], [0, 1], [1, 0], [0, 1], [0, 1], [0, 1], [0, 1], [1, 0], [0, 1], [1, 0], [0, 1], [0, 1], [0, 1], [0, 1], [0, 1], [0, 1], [0, 1], [0, 1], [0, 1], [0, 1], [0, 1], [0, 1], [0, 1], [0, 1], [0, 1], [0, 1], [0, 1], [0, 1], [0, 1], [0, 1], [0, 1], [0, 1], [0, 1], [0, 1], [0, 1], [0, 1], [0, 1], [0, 1], [0, 1], [0, 1], [0, 1], [0, 1], [0, 1], [0, 1], [0, 1], [0, 1], [0, 1], [0, 1], [0, 1], [0, 1], [0, 1], [0, 1], [0, 1], [0, 1], [0, 1], [0, 1], [0, 1], [0, 1], [0, 1], [0, 1], [0, 1], [0, 1], [0, 1], [0, 1], [0, 1], [0, 1], [0, 1], [0, 1], [0, 1], [0, 1], [0, 1], [0, 1], [0, 1], [0, 1], [0, 1], [0, 1], [0, 1], [0, 1], [0, 1], [0, 1], [0, 1], [0, 1], [0, 1], [1, 0], [0, 1], [0, 1], [0, 1], [0, 1], [0, 1], [0, 1], [0, 1], [0, 1], [0, 1], [1, 0], [0, 1], [0, 1], [0, 1], [0, 1], [0, 1], [0, 1], [0, 1], [0, 1], [0, 1], [0, 1], [0, 1], [0, 1], [0, 1], [0, 1], [0, 1], [0, 1], [0, 1], [0, 1], [1, 0], [0, 1], [0, 1], [0, 1], [0, 1], [0, 1], [0, 1], [0, 1], [0, 1], [0, 1], [0, 1], [0, 1], [0, 1], [0, 1], [0, 1], [1, 0], [0, 1], [0, 1], [0, 1], [0, 1], [0, 1], [0, 1], [0, 1], [0, 1], [0, 1], [0, 1], [0, 1], [0, 1], [0, 1], [0, 1], [0, 1], [0, 1], [0, 1], [0, 1], [0, 1], [0, 1], [0, 1], [0, 1], [0, 1], [0, 1], [0, 1], [0, 1], [0, 1], [0, 1], [0, 1], [0, 1], [0, 1], [0, 1], [0, 1], [0, 1], [0, 1], [0, 1], [0, 1], [0, 1], [0, 1], [0, 1], [0, 1], [0, 1], [0, 1], [0, 1], [0, 1], [0, 1], [0, 1], [0, 1], [0, 1], [0, 1], [0, 1], [0, 1], [0, 1], [1, 0], [0, 1], [0, 1], [0, 1], [0, 1], [0, 1], [0, 1], [0, 1], [0, 1], [0, 1], [0, 1], [0, 1], [0, 1], [0, 1], [0, 1], [0, 1], [0, 1], [0, 1], [0, 1], [0, 1], [0, 1], [0, 1], [0, 1], [0, 1], [0, 1], [0, 1], [0, 1], [0, 1], [0, 1], [0, 1], [0, 1], [0, 1], [0, 1], [0, 1], [0, 1], [0, 1], [0, 1], [0, 1], [0, 1], [1, 0], [0, 1], [0, 1], [0, 1], [0, 1], [0, 1], [0, 1], [0, 1], [0, 1], [0, 1], [0, 1], [0, 1], [0, 1], [0, 1], [0, 1], [0, 1], [0, 1], [0, 1], [0, 1], [0, 1], [0, 1], [0, 1], [0, 1], [0, 1], [0, 1], [0, 1], [0, 1], [1, 0], [0, 1], [0, 1], [0, 1], [0, 1], [0, 1], [0, 1], [0, 1], [0, 1], [0, 1], [0, 1], [0, 1], [0, 1], [0, 1], [0, 1], [0, 1], [0, 1], [0, 1], [0, 1], [0, 1], [0, 1], [0, 1], [0, 1], [0, 1], [0, 1], [0, 1], [0, 1], [0, 1], [0, 1], [0, 1], [0, 1], [0, 1], [0, 1], [0, 1], [0, 1], [0, 1], [0, 1], [1, 0], [0, 1], [0, 1], [0, 1], [0, 1], [0, 1], [0, 1], [0, 1], [0, 1], [0, 1], [0, 1], [0, 1], [0, 1], [0, 1], [0, 1], [0, 1], [0, 1], [0, 1], [0, 1], [1, 0], [0, 1], [0, 1], [0, 1], [0, 1], [0, 1], [0, 1], [0, 1], [0, 1], [0, 1], [0, 1], [0, 1], [0, 1], [0, 1], [0, 1], [0, 1], [0, 1], [0, 1], [0, 1], [0, 1], [0, 1], [0, 1], [0, 1], [0, 1], [0, 1], [0, 1], [0, 1], [0, 1], [0, 1], [0, 1], [0, 1], [0, 1], [0, 1], [0, 1], [0, 1], [0, 1], [0, 1], [0, 1], [1, 0], [0, 1], [0, 1], [0, 1], [0, 1], [0, 1], [0, 1], [0, 1], [0, 1], [0, 1], [0, 1], [0, 1], [0, 1], [0, 1], [0, 1], [0, 1], [0, 1], [0, 1], [1, 0], [0, 1], [1, 0], [0, 1], [0, 1], [0, 1], [0, 1], [0, 1], [0, 1], [0, 1], [0, 1], [0, 1], [0, 1], [0, 1], [0, 1], [0, 1], [0, 1], [0, 1], [0, 1], [0, 1], [0, 1], [0, 1], [0, 1], [0, 1], [0, 1], [0, 1], [0, 1], [0, 1], [0, 1], [0, 1], [0, 1], [0, 1], [0, 1], [0, 1], [0, 1], [0, 1], [0, 1], [0, 1], [0, 1], [0, 1], [0, 1], [0, 1], [0, 1], [0, 1], [0, 1], [0, 1], [0, 1], [0, 1], [0, 1], [0, 1], [0, 1], [0, 1], [0, 1], [0, 1], [0, 1], [0, 1], [0, 1], [0, 1], [0, 1], [0, 1], [0, 1], [0, 1], [0, 1], [0, 1], [0, 1], [0, 1], [0, 1], [0, 1], [0, 1], [0, 1], [0, 1], [0, 1], [0, 1], [0, 1], [0, 1], [0, 1], [0, 1], [0, 1], [0, 1], [0, 1], [0, 1], [0, 1], [0, 1], [0, 1], [0, 1], [0, 1], [0, 1], [0, 1], [0, 1], [0, 1], [0, 1], [0, 1], [0, 1], [0, 1], [0, 1], [0, 1], [0, 1], [0, 1], [0, 1], [0, 1], [0, 1], [0, 1], [0, 1], [0, 1], [0, 1], [0, 1], [0, 1], [0, 1], [0, 1], [0, 1], [1, 0], [0, 1], [0, 1], [0, 1], [0, 1], [0, 1], [0, 1], [0, 1], [0, 1], [0, 1], [1, 0], [0, 1], [0, 1], [0, 1], [0, 1], [0, 1], [0, 1], [0, 1], [0, 1], [0, 1], [0, 1], [1, 0], [0, 1], [0, 1], [0, 1], [0, 1], [0, 1], [0, 1], [0, 1], [0, 1], [0, 1], [0, 1], [0, 1], [0, 1], [0, 1], [0, 1], [0, 1], [0, 1], [0, 1], [0, 1], [0, 1], [0, 1], [0, 1], [0, 1], [1, 0], [0, 1], [0, 1], [0, 1], [0, 1], [0, 1], [0, 1], [0, 1], [0, 1], [0, 1], [0, 1], [0, 1], [0, 1], [0, 1], [0, 1], [0, 1], [0, 1], [0, 1], [0, 1], [0, 1], [0, 1], [0, 1], [0, 1], [0, 1], [0, 1], [0, 1], [0, 1], [0, 1], [0, 1], [0, 1], [0, 1], [0, 1], [0, 1], [0, 1], [0, 1], [0, 1], [0, 1], [0, 1], [0, 1], [0, 1], [0, 1], [0, 1], [0, 1], [1, 0], [0, 1], [0, 1], [0, 1], [0, 1], [0, 1], [0, 1], [0, 1], [0, 1], [0, 1], [0, 1], [0, 1], [0, 1], [0, 1], [0, 1], [0, 1], [0, 1], [0, 1], [0, 1], [0, 1], [0, 1], [1, 0], [0, 1], [0, 1], [0, 1], [0, 1], [0, 1], [0, 1], [0, 1], [0, 1], [0, 1], [0, 1], [0, 1], [0, 1], [0, 1], [0, 1], [0, 1], [0, 1], [0, 1], [0, 1], [0, 1], [0, 1], [0, 1], [0, 1], [0, 1], [0, 1], [0, 1], [0, 1], [0, 1], [0, 1], [0, 1], [0, 1], [0, 1], [0, 1], [0, 1], [0, 1], [0, 1], [0, 1], [0, 1], [0, 1], [0, 1], [0, 1], [0, 1], [0, 1], [0, 1], [0, 1], [0, 1], [0, 1], [0, 1], [0, 1], [0, 1], [0, 1], [0, 1], [0, 1], [0, 1], [0, 1], [0, 1], [0, 1], [0, 1], [0, 1], [0, 1], [0, 1], [0, 1], [0, 1], [0, 1], [0, 1], [0, 1], [0, 1], [0, 1], [0, 1], [0, 1], [0, 1], [1, 0], [0, 1], [0, 1], [0, 1], [0, 1], [0, 1], [0, 1], [0, 1], [0, 1], [0, 1], [0, 1], [0, 1], [0, 1], [0, 1], [0, 1], [0, 1], [0, 1], [0, 1], [0, 1], [0, 1], [0, 1], [0, 1], [0, 1], [0, 1], [0, 1], [0, 1], [0, 1], [0, 1], [0, 1], [0, 1], [0, 1], [0, 1], [0, 1], [0, 1], [0, 1], [0, 1], [0, 1], [1, 0], [0, 1], [0, 1], [0, 1], [0, 1], [0, 1], [0, 1], [0, 1], [0, 1], [0, 1], [0, 1], [0, 1], [0, 1], [0, 1], [0, 1], [0, 1], [0, 1], [0, 1], [0, 1], [0, 1], [0, 1], [0, 1], [0, 1], [0, 1], [0, 1], [1, 0], [0, 1], [0, 1], [0, 1], [0, 1], [0, 1], [0, 1], [1, 0], [0, 1], [0, 1], [0, 1], [0, 1], [0, 1], [0, 1], [0, 1], [0, 1], [0, 1], [0, 1], [0, 1], [0, 1], [0, 1], [0, 1], [0, 1], [0, 1], [0, 1], [0, 1], [0, 1], [0, 1], [0, 1], [0, 1], [0, 1], [0, 1], [0, 1], [0, 1], [0, 1], [0, 1], [0, 1], [0, 1], [0, 1], [0, 1], [0, 1], [0, 1], [0, 1], [0, 1], [0, 1], [0, 1], [0, 1], [0, 1], [0, 1], [0, 1], [0, 1], [0, 1], [0, 1], [0, 1], [0, 1], [0, 1], [0, 1], [0, 1], [0, 1], [0, 1], [0, 1], [0, 1], [0, 1], [0, 1], [0, 1], [0, 1], [0, 1], [0, 1], [0, 1], [0, 1], [0, 1], [0, 1], [0, 1], [0, 1], [0, 1], [0, 1], [0, 1], [0, 1], [0, 1], [0, 1], [0, 1], [0, 1], [0, 1], [0, 1], [0, 1], [0, 1], [0, 1], [0, 1], [0, 1], [0, 1], [0, 1], [0, 1], [0, 1], [0, 1], [0, 1], [0, 1], [0, 1], [0, 1], [0, 1], [0, 1], [0, 1], [0, 1], [0, 1], [0, 1], [0, 1], [0, 1], [0, 1], [0, 1], [0, 1], [0, 1], [0, 1], [0, 1], [0, 1], [0, 1], [0, 1], [1, 0], [0, 1], [0, 1], [0, 1], [0, 1], [0, 1], [0, 1], [0, 1], [0, 1], [0, 1], [0, 1], [0, 1], [0, 1], [0, 1], [0, 1], [1, 0], [0, 1], [0, 1], [0, 1], [0, 1], [0, 1], [0, 1], [0, 1], [0, 1], [0, 1], [0, 1], [0, 1], [0, 1], [0, 1], [0, 1], [0, 1], [0, 1], [0, 1], [0, 1], [0, 1], [0, 1], [0, 1], [0, 1], [0, 1], [0, 1], [0, 1], [0, 1], [0, 1], [0, 1], [0, 1], [0, 1], [0, 1], [0, 1], [0, 1], [0, 1], [0, 1], [0, 1], [0, 1], [0, 1], [0, 1], [0, 1], [0, 1], [0, 1], [0, 1], [0, 1], [0, 1], [0, 1], [0, 1], [0, 1], [0, 1], [0, 1], [0, 1], [0, 1], [0, 1], [0, 1], [0, 1], [0, 1], [0, 1], [0, 1], [0, 1], [0, 1], [0, 1], [0, 1], [0, 1], [0, 1], [0, 1], [0, 1], [0, 1], [0, 1], [0, 1], [0, 1], [0, 1], [0, 1], [0, 1], [0, 1], [0, 1], [0, 1], [0, 1], [0, 1], [0, 1], [0, 1], [0, 1], [0, 1], [0, 1], [0, 1], [0, 1], [0, 1], [0, 1], [0, 1], [0, 1], [0, 1], [0, 1], [0, 1], [0, 1], [0, 1], [0, 1], [0, 1], [0, 1], [0, 1], [0, 1], [0, 1], [0, 1], [0, 1], [0, 1], [0, 1], [0, 1], [0, 1], [0, 1], [0, 1], [0, 1], [0, 1], [0, 1], [0, 1], [0, 1], [0, 1], [0, 1], [0, 1], [0, 1], [0, 1], [0, 1], [0, 1], [0, 1], [0, 1], [0, 1], [0, 1], [1, 0], [0, 1], [0, 1], [0, 1], [0, 1], [0, 1], [0, 1], [0, 1], [0, 1], [0, 1], [0, 1], [0, 1], [0, 1], [0, 1], [0, 1], [0, 1], [0, 1], [0, 1], [0, 1], [0, 1], [0, 1], [0, 1], [0, 1], [0, 1], [0, 1], [0, 1], [0, 1], [0, 1], [0, 1], [0, 1], [0, 1], [0, 1], [0, 1], [0, 1], [0, 1], [0, 1], [0, 1], [0, 1], [0, 1], [0, 1], [0, 1], [0, 1], [0, 1], [1, 0], [0, 1], [0, 1], [0, 1], [0, 1], [0, 1], [0, 1], [0, 1], [0, 1], [0, 1], [0, 1], [0, 1], [0, 1], [0, 1], [0, 1], [0, 1], [0, 1], [0, 1], [0, 1], [0, 1], [0, 1], [0, 1], [0, 1], [0, 1], [0, 1], [0, 1], [1, 0], [0, 1], [0, 1], [0, 1], [0, 1], [0, 1], [0, 1], [0, 1], [0, 1], [0, 1], [0, 1], [0, 1], [0, 1], [0, 1], [0, 1], [0, 1], [0, 1], [0, 1], [0, 1], [0, 1], [0, 1], [0, 1], [0, 1], [0, 1], [0, 1], [0, 1], [0, 1], [0, 1], [0, 1], [0, 1], [0, 1], [0, 1], [0, 1], [1, 0], [0, 1], [0, 1], [0, 1], [0, 1], [1, 0], [0, 1], [0, 1], [0, 1], [0, 1], [0, 1], [0, 1], [0, 1], [0, 1], [0, 1], [0, 1], [0, 1], [0, 1], [0, 1], [0, 1], [0, 1], [0, 1], [0, 1], [0, 1], [0, 1], [0, 1], [0, 1], [0, 1], [0, 1], [0, 1], [0, 1], [0, 1], [0, 1], [0, 1], [0, 1], [0, 1], [0, 1], [0, 1], [0, 1], [0, 1], [0, 1], [0, 1], [0, 1], [0, 1], [0, 1], [0, 1], [0, 1], [0, 1], [0, 1], [0, 1], [0, 1], [0, 1], [0, 1], [0, 1], [0, 1], [0, 1], [0, 1], [0, 1], [0, 1], [0, 1], [0, 1], [1, 0], [0, 1], [0, 1], [0, 1], [0, 1], [0, 1], [0, 1], [0, 1], [0, 1], [0, 1], [0, 1], [0, 1], [0, 1], [0, 1], [0, 1], [0, 1], [0, 1], [0, 1], [0, 1], [0, 1], [0, 1], [0, 1], [0, 1], [0, 1], [1, 0], [0, 1], [0, 1], [0, 1], [0, 1], [0, 1], [0, 1], [1, 0], [0, 1], [0, 1], [0, 1], [0, 1], [0, 1], [0, 1], [0, 1], [0, 1], [0, 1], [0, 1], [0, 1], [0, 1], [0, 1], [0, 1], [0, 1], [0, 1], [0, 1], [0, 1], [0, 1], [0, 1], [0, 1], [0, 1], [0, 1], [0, 1], [0, 1], [0, 1], [0, 1], [0, 1], [0, 1], [0, 1], [0, 1], [0, 1], [0, 1], [0, 1], [0, 1], [0, 1], [0, 1], [0, 1], [0, 1], [0, 1], [0, 1], [0, 1], [0, 1], [0, 1], [0, 1], [0, 1], [0, 1], [0, 1], [0, 1], [0, 1], [0, 1], [0, 1], [0, 1], [0, 1], [0, 1], [0, 1], [0, 1], [0, 1], [0, 1], [0, 1], [0, 1], [0, 1], [0, 1], [0, 1], [0, 1], [0, 1], [0, 1], [0, 1], [0, 1], [0, 1], [0, 1], [0, 1], [0, 1], [0, 1], [0, 1], [0, 1], [0, 1], [0, 1], [0, 1], [0, 1], [0, 1], [0, 1], [0, 1], [0, 1], [0, 1], [0, 1], [0, 1], [1, 0], [0, 1], [0, 1], [0, 1], [0, 1], [0, 1], [0, 1], [0, 1], [0, 1], [0, 1], [0, 1], [0, 1], [0, 1], [0, 1], [0, 1], [0, 1], [0, 1], [0, 1], [0, 1], [0, 1], [0, 1], [0, 1], [1, 0], [0, 1], [1, 0], [0, 1], [0, 1], [0, 1], [0, 1], [0, 1], [0, 1], [0, 1], [0, 1], [0, 1], [0, 1], [0, 1], [0, 1], [0, 1], [0, 1], [0, 1], [0, 1], [0, 1], [0, 1], [0, 1], [0, 1], [0, 1], [0, 1], [0, 1], [0, 1], [0, 1], [0, 1], [0, 1], [0, 1], [0, 1], [0, 1], [0, 1], [0, 1], [0, 1], [0, 1], [0, 1], [0, 1], [0, 1], [0, 1], [0, 1], [0, 1], [0, 1], [0, 1], [0, 1], [0, 1], [0, 1], [0, 1], [0, 1], [0, 1], [0, 1], [0, 1], [0, 1], [0, 1], [0, 1], [0, 1], [0, 1], [0, 1], [1, 0], [0, 1], [0, 1], [0, 1], [0, 1], [0, 1], [0, 1], [0, 1], [0, 1], [0, 1], [0, 1], [0, 1], [0, 1], [0, 1], [0, 1], [0, 1], [0, 1], [0, 1], [0, 1], [0, 1], [0, 1], [0, 1], [0, 1], [0, 1], [0, 1], [0, 1], [0, 1], [0, 1], [0, 1], [0, 1], [0, 1], [0, 1], [0, 1], [0, 1], [0, 1], [0, 1], [0, 1], [0, 1], [0, 1], [0, 1], [0, 1], [0, 1], [0, 1], [0, 1], [0, 1], [0, 1], [0, 1], [0, 1], [0, 1], [0, 1], [0, 1], [0, 1], [0, 1], [0, 1], [0, 1], [0, 1], [0, 1], [0, 1], [0, 1], [0, 1], [0, 1], [0, 1], [1, 0], [0, 1], [0, 1], [0, 1], [0, 1], [0, 1], [0, 1], [0, 1], [0, 1], [0, 1], [0, 1], [0, 1], [0, 1], [0, 1], [0, 1], [0, 1], [0, 1], [0, 1], [0, 1], [0, 1], [0, 1], [0, 1], [0, 1], [0, 1], [0, 1], [0, 1], [0, 1], [0, 1], [0, 1], [0, 1], [0, 1], [0, 1], [0, 1], [0, 1], [0, 1], [0, 1], [0, 1], [0, 1], [0, 1], [0, 1], [0, 1], [0, 1], [0, 1], [0, 1], [0, 1], [0, 1], [0, 1], [0, 1], [1, 0], [0, 1], [0, 1], [0, 1], [0, 1], [0, 1], [0, 1], [0, 1], [0, 1], [0, 1], [0, 1], [0, 1], [0, 1], [0, 1], [0, 1], [0, 1], [0, 1], [1, 0], [0, 1], [0, 1], [0, 1], [0, 1], [1, 0], [0, 1], [0, 1], [0, 1], [0, 1], [0, 1], [0, 1], [0, 1], [0, 1], [0, 1], [0, 1], [0, 1], [0, 1], [0, 1], [0, 1], [1, 0], [0, 1], [0, 1], [0, 1], [0, 1], [0, 1], [0, 1], [0, 1], [0, 1], [0, 1], [0, 1], [0, 1], [0, 1], [0, 1], [0, 1], [0, 1], [0, 1], [0, 1], [0, 1], [0, 1], [0, 1], [0, 1], [0, 1], [0, 1], [0, 1], [0, 1], [0, 1], [0, 1], [0, 1], [0, 1], [0, 1], [0, 1], [0, 1], [0, 1], [0, 1], [0, 1], [0, 1], [0, 1], [0, 1], [0, 1], [0, 1], [0, 1], [0, 1], [1, 0], [0, 1], [0, 1], [0, 1], [0, 1], [0, 1], [0, 1], [0, 1], [0, 1], [0, 1], [0, 1], [0, 1], [0, 1], [0, 1], [0, 1], [0, 1], [0, 1], [0, 1], [0, 1], [0, 1], [0, 1], [0, 1], [0, 1], [0, 1], [0, 1], [0, 1], [0, 1], [0, 1], [0, 1], [0, 1], [0, 1], [0, 1], [0, 1], [0, 1], [0, 1], [0, 1], [0, 1], [0, 1], [0, 1], [0, 1], [0, 1], [0, 1], [0, 1], [0, 1], [0, 1], [0, 1], [0, 1], [0, 1], [0, 1], [0, 1], [0, 1], [0, 1], [0, 1], [0, 1], [0, 1], [0, 1], [0, 1], [0, 1], [0, 1], [0, 1], [0, 1], [0, 1], [0, 1], [0, 1], [0, 1], [0, 1], [0, 1], [0, 1], [0, 1], [0, 1], [0, 1], [0, 1], [0, 1], [0, 1], [0, 1], [0, 1], [1, 0], [0, 1], [0, 1], [0, 1], [0, 1], [0, 1], [0, 1], [0, 1], [0, 1], [0, 1], [0, 1], [0, 1], [0, 1], [0, 1], [0, 1], [0, 1], [0, 1], [0, 1], [0, 1], [0, 1], [0, 1], [0, 1], [0, 1], [0, 1], [0, 1], [0, 1], [0, 1], [0, 1], [0, 1], [0, 1], [0, 1], [0, 1], [0, 1], [0, 1], [0, 1], [0, 1], [0, 1], [0, 1], [0, 1], [0, 1], [0, 1], [0, 1], [0, 1], [0, 1], [0, 1], [0, 1], [0, 1], [0, 1], [0, 1], [0, 1], [0, 1], [0, 1], [0, 1], [0, 1], [0, 1], [0, 1], [0, 1], [0, 1], [0, 1]]\n"
     ]
    }
   ],
   "source": [
    "print(pred)"
   ]
  },
  {
   "cell_type": "code",
   "execution_count": null,
   "metadata": {},
   "outputs": [],
   "source": [
    "\n",
    "\n",
    "pred = np.array(pred)\n",
    "wandb.log({'confusion_matrix': wandb.plot.confusion_matrix(probs=pred,\n",
    "                                                           y_true=labels,\n",
    "                                                           class_names=['Parasitized', 'Uninfected'])})\n",
    "\n",
    "wandb.log({'roc': wandb.plot.roc_curve(y_true=labels, y_probas=pred, labels=['Parasitized', 'Uninfected'])})"
   ]
  },
  {
   "cell_type": "markdown",
   "metadata": {},
   "source": [
    "## ROC Plots"
   ]
  },
  {
   "cell_type": "code",
   "execution_count": null,
   "metadata": {},
   "outputs": [
    {
     "data": {
      "image/png": "[encoded data removed]",
      "text/plain": [
       "<Figure size 640x480 with 1 Axes>"
      ]
     },
     "metadata": {},
     "output_type": "display_data"
    }
   ],
   "source": [
    "fp, tp, thresholds = roc_curve(labels, predicted)\n",
    "\n",
    "plt.plot(fp, tp, label='ROC')\n",
    "plt.xlabel('False Positive Rate')\n",
    "plt.ylabel('True Positive Rate')\n",
    "\n",
    "plt.grid()\n",
    "\n",
    "skip = 50\n",
    "\n",
    "for i in range(0, len(thresholds), skip):\n",
    "    plt.text(fp[i], tp[i], thresholds[i])\n",
    "\n",
    "\n",
    "plt.show()\n",
    "\n"
   ]
  },
  {
   "cell_type": "markdown",
   "metadata": {},
   "source": [
    "## Loading and Saving the Model"
   ]
  },
  {
   "cell_type": "code",
   "execution_count": null,
   "metadata": {},
   "outputs": [],
   "source": [
    "# model.save('malaria_detection')"
   ]
  },
  {
   "cell_type": "code",
   "execution_count": null,
   "metadata": {},
   "outputs": [],
   "source": [
    "loaded_model = tf.keras.models.load_model('malaria_detection')"
   ]
  },
  {
   "cell_type": "code",
   "execution_count": null,
   "metadata": {},
   "outputs": [
    {
     "name": "stdout",
     "output_type": "stream",
     "text": [
      "Model: \"sequential_3\"\n",
      "_________________________________________________________________\n",
      " Layer (type)                Output Shape              Param #   \n",
      "=================================================================\n",
      " conv2d_6 (Conv2D)           (None, 222, 222, 6)       168       \n",
      "                                                                 \n",
      " batch_normalization_4 (Bat  (None, 222, 222, 6)       24        \n",
      " chNormalization)                                                \n",
      "                                                                 \n",
      " max_pooling2d_6 (MaxPoolin  (None, 111, 111, 6)       0         \n",
      " g2D)                                                            \n",
      "                                                                 \n",
      " conv2d_7 (Conv2D)           (None, 109, 109, 16)      880       \n",
      "                                                                 \n",
      " batch_normalization_5 (Bat  (None, 109, 109, 16)      64        \n",
      " chNormalization)                                                \n",
      "                                                                 \n",
      " max_pooling2d_7 (MaxPoolin  (None, 54, 54, 16)        0         \n",
      " g2D)                                                            \n",
      "                                                                 \n",
      " flatten_3 (Flatten)         (None, 46656)             0         \n",
      "                                                                 \n",
      " dense_9 (Dense)             (None, 1000)              46657000  \n",
      "                                                                 \n",
      " batch_normalization_6 (Bat  (None, 1000)              4000      \n",
      " chNormalization)                                                \n",
      "                                                                 \n",
      " dense_10 (Dense)            (None, 100)               100100    \n",
      "                                                                 \n",
      " batch_normalization_7 (Bat  (None, 100)               400       \n",
      " chNormalization)                                                \n",
      "                                                                 \n",
      " dense_11 (Dense)            (None, 1)                 101       \n",
      "                                                                 \n",
      "=================================================================\n",
      "Total params: 46762737 (178.39 MB)\n",
      "Trainable params: 46760493 (178.38 MB)\n",
      "Non-trainable params: 2244 (8.77 KB)\n",
      "_________________________________________________________________\n"
     ]
    },
    {
     "name": "stderr",
     "output_type": "stream",
     "text": [
      "wandb: Network error (TransientError), entering retry loop.\n"
     ]
    }
   ],
   "source": [
    "loaded_model.summary()"
   ]
  },
  {
   "cell_type": "markdown",
   "metadata": {},
   "source": []
  }
 ],
 "metadata": {
  "kernelspec": {
   "display_name": "tensorflow",
   "language": "python",
   "name": "python3"
  },
  "language_info": {
   "codemirror_mode": {
    "name": "ipython",
    "version": 3
   },
   "file_extension": ".py",
   "mimetype": "text/x-python",
   "name": "python",
   "nbconvert_exporter": "python",
   "pygments_lexer": "ipython3",
   "version": "3.9.19"
  }
 },
 "nbformat": 4,
 "nbformat_minor": 2
}
